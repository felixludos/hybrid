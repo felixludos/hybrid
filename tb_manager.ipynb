{
 "cells": [
  {
   "cell_type": "code",
   "execution_count": 1,
   "metadata": {
    "pycharm": {
     "is_executing": false
    }
   },
   "outputs": [],
   "source": [
    "import sys, os, time\n",
    "# %load_ext autoreload\n",
    "# %autoreload 2\n",
    "os.environ['FOUNDATION_RUN_MODE'] = 'jupyter'\n",
    "os.environ['FOUNDATION_SAVE_DIR'] = '/is/ei/fleeb/workspace/chome/trained_nets'\n",
    "os.environ['FOUNDATION_DATA_DIR'] = '/is/ei/fleeb/workspace/local_data'\n",
    "# from IPython.core.interactiveshell import InteractiveShell\n",
    "# InteractiveShell.ast_node_interactivity = \"all\"\n",
    "from IPython import display\n",
    "import torch\n",
    "import torch.nn as nn\n",
    "import torch.nn.functional as F\n",
    "import torch.distributions as distrib\n",
    "import torch.multiprocessing as mp\n",
    "import torchvision.models\n",
    "import torchvision\n",
    "from torch.utils.data import Dataset, DataLoader, TensorDataset\n",
    "import gym\n",
    "import numpy as np\n",
    "%matplotlib notebook\n",
    "# %matplotlib tk\n",
    "import matplotlib.pyplot as plt\n",
    "import imageio\n",
    "import seaborn as sns\n",
    "#plt.switch_backend('Qt5Agg') #('Qt5Agg')\n",
    "import foundation as fd\n",
    "from foundation import models\n",
    "from foundation import util\n",
    "from foundation import train\n",
    "#from foundation.util import replicate, Cloner\n",
    "\n",
    "from hybrid import get_model, get_data\n",
    "\n",
    "np.set_printoptions(linewidth=120, suppress=True)"
   ]
  },
  {
   "cell_type": "code",
   "execution_count": 2,
   "metadata": {
    "pycharm": {
     "is_executing": false
    }
   },
   "outputs": [
    {
     "name": "stdout",
     "output_type": "stream",
     "text": [
      "/is/ei/fleeb/workspace/trained_nets/managed is available to view runs on tensorboard\n"
     ]
    },
    {
     "name": "stderr",
     "output_type": "stream",
     "text": [
      "/is/ei/fleeb/workspace/foundation/foundation/train/config.py:58: YAMLLoadWarning: calling yaml.load() without Loader=... is deprecated, as the default Loader is unsafe. Please read https://msg.pyyaml.org/load for full details.\n",
      "  data = yaml.load(f)\n"
     ]
    },
    {
     "name": "stdout",
     "output_type": "stream",
     "text": [
      "Found 137 runs\n",
      "Tensorboard started: http://localhost:6006/\n"
     ]
    }
   ],
   "source": [
    "M = train.Run_Manager(tbout='/is/ei/fleeb/workspace/trained_nets/managed')\n",
    "M.clear_links()\n",
    "M.start_tb()"
   ]
  },
  {
   "cell_type": "code",
   "execution_count": 3,
   "metadata": {
    "pycharm": {
     "is_executing": false
    },
    "scrolled": true
   },
   "outputs": [
    {
     "name": "stdout",
     "output_type": "stream",
     "text": [
      "  0 - 3dshapes-dvae_0077-5920872-45_191213-201528\n",
      "  1 - 3dshapes-dvae_0087-5930025-01_191219-182417\n",
      "  2 - 3dshapes-dwae_0077-5920872-43_191213-201526\n",
      "  3 - 3dshapes-dwae_0087-5930025-00_191219-182415\n",
      "  4 - 3dshapes-fdvae_0077-5920872-50_191213-201526\n",
      "  5 - 3dshapes-fdvae_0082-5923472-13_191218-100112\n",
      "  6 - 3dshapes-fdwae_0077-5920872-46_191213-201528\n",
      "  7 - 3dshapes-fdwae_0077-5920872-48_191213-201525\n",
      "  8 - 3dshapes-fdwae_0082-5923472-12_191218-100112\n",
      "  9 - 3dshapes-fvae_0077-5920872-37_191213-201524\n",
      " 10 - 3dshapes-fvae_0077-5920872-40_191213-201528\n",
      " 11 - 3dshapes-fwae_0077-5920872-33_191213-201527\n",
      " 12 - 3dshapes-fwae_0088-5943512-01_191224-232233\n",
      " 13 - 3dshapes-vae_0077-5920872-21_191213-201539\n",
      " 14 - 3dshapes-vae_0077-5920872-23_191213-201527\n",
      " 15 - 3dshapes-wae_0077-5920872-10_191213-201528\n",
      " 16 - 3dshapes-wgan_0080-5920891-2_191214-090739\n",
      " 17 - 3dshapes-wgan_0085-5925596-08_191218-171727\n",
      " 18 - 3dshapes-wgan_0085-5925596-09_191218-171726\n",
      " 19 - 3dshapes-wpp_0077-5920872-24_191213-201524\n",
      " 20 - 3dshapes-wpp_0077-5920872-25_191213-201526\n",
      " 21 - 3dshapes-wpp_0077-5920872-26_191213-201525\n"
     ]
    }
   ],
   "source": [
    "#M.show()\n",
    "M.clear_filters().select(model=None, dataset='3dshapes').filter(lambda r: not 'test' in r.name)\n",
    "# M.filter(lambda r: '191224' in r.name)\n",
    "# M.filter(lambda r: '191218' in r.name)\n",
    "\n",
    "M.filter_idx(7, 5, 27, 23, 34, 16, 15, 13, 30, 28, 10, 12, 18, 21, 0, 1, 72, 73, 74, 67, 66, 57)\n",
    "\n",
    "\n",
    "M.show()"
   ]
  },
  {
   "cell_type": "code",
   "execution_count": 4,
   "metadata": {
    "pycharm": {
     "is_executing": false
    },
    "scrolled": true
   },
   "outputs": [
    {
     "name": "stdout",
     "output_type": "stream",
     "text": [
      "0) 3dshapes-dvae_0077-5920872-45_191213-201528\n",
      "\tmodel.disc_steps - 1 (5)\n",
      "\n",
      "1) 3dshapes-dvae_0087-5930025-01_191219-182417\n",
      "\tmodel.prob - 0.5 (1)\n",
      "\n",
      "2) 3dshapes-dwae_0077-5920872-43_191213-201526\n",
      "\tmodel.disc_steps - 1 (5)\n",
      "\n",
      "3) 3dshapes-dwae_0087-5930025-00_191219-182415\n",
      "\tmodel.prob - 0.5 (1)\n",
      "\n",
      "4) 3dshapes-fdvae_0077-5920872-50_191213-201526\n",
      "\tmodel.disc_steps - 1 (5)\n",
      "\tmodel.gan_wt - 0.001 (0.0001)\n",
      "\n",
      "5) 3dshapes-fdvae_0082-5923472-13_191218-100112\n",
      "\tmodel.disc_steps - 1 (5)\n",
      "\tmodel.prob - 0.5 (1)\n",
      "\n",
      "6) 3dshapes-fdwae_0077-5920872-46_191213-201528\n",
      "\tmodel.disc_steps - 1 (5)\n",
      "\n",
      "7) 3dshapes-fdwae_0077-5920872-48_191213-201525\n",
      "\tmodel.disc_steps - 1 (5)\n",
      "\tmodel.gan_warm_start - 20 (_)\n",
      "\n",
      "8) 3dshapes-fdwae_0082-5923472-12_191218-100112\n",
      "\tmodel.disc_steps - 1 (5)\n",
      "\tmodel.prob - 0.5 (1)\n",
      "\n",
      "9) 3dshapes-fvae_0077-5920872-37_191213-201524\n",
      "\tmodel.disc_steps - 1 (5)\n",
      "\n",
      "10) 3dshapes-fvae_0077-5920872-40_191213-201528\n",
      "\tmodel.disc_steps - 1 (5)\n",
      "\tmodel.gan_wt - 0.0001 (0)\n",
      "\n",
      "11) 3dshapes-fwae_0077-5920872-33_191213-201527\n",
      "\tmodel.disc_steps - 1 (5)\n",
      "\n",
      "12) 3dshapes-fwae_0088-5943512-01_191224-232233\n",
      "\tmodel.up_type - nearest (bilinear)\n",
      "\n",
      "13) 3dshapes-vae_0077-5920872-21_191213-201539\n",
      "\tmodel.disc_steps - 1 (5)\n",
      "\n",
      "14) 3dshapes-vae_0077-5920872-23_191213-201527\n",
      "\tmodel.latent_reg_wt - 0.25 (1)\n",
      "\tmodel.disc_steps - 1 (5)\n",
      "\n",
      "15) 3dshapes-wae_0077-5920872-10_191213-201528\n",
      "\tmodel.disc_steps - 1 (5)\n",
      "\tmodel.up_type - nearest (bilinear)\n",
      "\n",
      "16) 3dshapes-wgan_0080-5920891-2_191214-090739\n",
      "\n",
      "17) 3dshapes-wgan_0085-5925596-08_191218-171727\n",
      "\n",
      "18) 3dshapes-wgan_0085-5925596-09_191218-171726\n",
      "\n",
      "19) 3dshapes-wpp_0077-5920872-24_191213-201524\n",
      "\tmodel.disc_steps - 1 (5)\n",
      "\n",
      "20) 3dshapes-wpp_0077-5920872-25_191213-201526\n",
      "\tmodel.disc_steps - 1 (5)\n",
      "\tmodel.gan_wt - 1e-05 (0.0001)\n",
      "\n",
      "21) 3dshapes-wpp_0077-5920872-26_191213-201525\n",
      "\tmodel.disc_steps - 1 (5)\n",
      "\tmodel.gan_wt - 0.001 (0.0001)\n",
      "\n"
     ]
    }
   ],
   "source": [
    "ignore = None\n",
    "# ignore = ['disc_steps']\n",
    "M.show_unique(ignore)"
   ]
  },
  {
   "cell_type": "code",
   "execution_count": 5,
   "metadata": {
    "pycharm": {
     "is_executing": false
    }
   },
   "outputs": [],
   "source": [
    "M.link('{idx}__{model}__{unique}')"
   ]
  },
  {
   "cell_type": "code",
   "execution_count": 6,
   "metadata": {
    "pycharm": {
     "is_executing": false
    }
   },
   "outputs": [],
   "source": [
    "# M.link('{name}__{unique}')"
   ]
  },
  {
   "cell_type": "code",
   "execution_count": 6,
   "metadata": {},
   "outputs": [],
   "source": [
    "# os.listdir(M.tbout)"
   ]
  },
  {
   "cell_type": "code",
   "execution_count": 9,
   "metadata": {
    "pycharm": {
     "is_executing": false
    }
   },
   "outputs": [],
   "source": [
    "M.clear_links()"
   ]
  },
  {
   "cell_type": "code",
   "execution_count": 8,
   "metadata": {
    "pycharm": {
     "is_executing": false
    }
   },
   "outputs": [
    {
     "data": {
      "text/plain": [
       "'/is/ei/fleeb/workspace/trained_nets/managed'"
      ]
     },
     "execution_count": 8,
     "metadata": {},
     "output_type": "execute_result"
    }
   ],
   "source": [
    "M.tbout"
   ]
  },
  {
   "cell_type": "code",
   "execution_count": null,
   "metadata": {
    "pycharm": {
     "is_executing": false
    }
   },
   "outputs": [],
   "source": []
  },
  {
   "cell_type": "code",
   "execution_count": 18,
   "metadata": {},
   "outputs": [],
   "source": [
    "import json"
   ]
  },
  {
   "cell_type": "code",
   "execution_count": 19,
   "metadata": {},
   "outputs": [
    {
     "data": {
      "text/plain": [
       "[10, 2, 3]"
      ]
     },
     "execution_count": 19,
     "metadata": {},
     "output_type": "execute_result"
    }
   ],
   "source": [
    "json.loads('[10,2,3]')"
   ]
  },
  {
   "cell_type": "code",
   "execution_count": null,
   "metadata": {},
   "outputs": [],
   "source": []
  },
  {
   "cell_type": "code",
   "execution_count": null,
   "metadata": {
    "pycharm": {
     "is_executing": false
    }
   },
   "outputs": [],
   "source": []
  },
  {
   "cell_type": "code",
   "execution_count": null,
   "metadata": {
    "pycharm": {
     "is_executing": false
    }
   },
   "outputs": [],
   "source": [
    "saveroot = os.environ['FOUNDATION_SAVE_DIR']\n",
    "saveroot"
   ]
  },
  {
   "cell_type": "code",
   "execution_count": null,
   "metadata": {
    "pycharm": {
     "is_executing": false
    }
   },
   "outputs": [],
   "source": [
    "for name in os.listdir(saveroot):\n",
    "    path = os.path.join(saveroot, name)\n",
    "    if 'config.yml' in os.listdir(path):\n",
    "        print(name,end=' ')\n",
    "        with open(os.path.join(path, 'config.yml'), 'r') as f:\n",
    "            data = yaml.load(f)\n",
    "        break\n",
    "#         if 'parents' in data:\n",
    "#             del data['parents']\n",
    "#             with open(os.path.join(path, 'config.yml'), 'w') as f:\n",
    "#                 yaml.dump(data, f)\n",
    "#             print('fixed')\n",
    "#         else:\n",
    "#             print()"
   ]
  },
  {
   "cell_type": "code",
   "execution_count": null,
   "metadata": {
    "pycharm": {
     "is_executing": false
    }
   },
   "outputs": [],
   "source": [
    "data['parents']"
   ]
  },
  {
   "cell_type": "code",
   "execution_count": null,
   "metadata": {
    "pycharm": {
     "is_executing": false
    }
   },
   "outputs": [],
   "source": []
  }
 ],
 "metadata": {
  "kernelspec": {
   "display_name": "Python 3",
   "language": "python",
   "name": "python3"
  },
  "language_info": {
   "codemirror_mode": {
    "name": "ipython",
    "version": 3
   },
   "file_extension": ".py",
   "mimetype": "text/x-python",
   "name": "python",
   "nbconvert_exporter": "python",
   "pygments_lexer": "ipython3",
   "version": "3.7.3"
  },
  "pycharm": {
   "stem_cell": {
    "cell_type": "raw",
    "metadata": {
     "collapsed": false
    },
    "source": []
   }
  }
 },
 "nbformat": 4,
 "nbformat_minor": 2
}
