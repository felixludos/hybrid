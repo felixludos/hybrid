{
 "cells": [
  {
   "cell_type": "code",
   "execution_count": 1,
   "metadata": {
    "pycharm": {
     "is_executing": false
    }
   },
   "outputs": [],
   "source": [
    "import sys, os, time\n",
    "# %load_ext autoreload\n",
    "# %autoreload 2\n",
    "os.environ['FOUNDATION_RUN_MODE'] = 'jupyter'\n",
    "os.environ['FOUNDATION_SAVE_DIR'] = '/is/ei/fleeb/workspace/chome/trained_nets'\n",
    "os.environ['FOUNDATION_DATA_DIR'] = '/is/ei/fleeb/workspace/local_data'\n",
    "# from IPython.core.interactiveshell import InteractiveShell\n",
    "# InteractiveShell.ast_node_interactivity = \"all\"\n",
    "from IPython import display\n",
    "import torch\n",
    "import torch.nn as nn\n",
    "import torch.nn.functional as F\n",
    "import torch.distributions as distrib\n",
    "import torch.multiprocessing as mp\n",
    "import torchvision.models\n",
    "import torchvision\n",
    "from torch.utils.data import Dataset, DataLoader, TensorDataset\n",
    "import gym\n",
    "import numpy as np\n",
    "%matplotlib notebook\n",
    "# %matplotlib tk\n",
    "import matplotlib.pyplot as plt\n",
    "import imageio\n",
    "import seaborn as sns\n",
    "#plt.switch_backend('Qt5Agg') #('Qt5Agg')\n",
    "import foundation as fd\n",
    "from foundation import models\n",
    "from foundation import util\n",
    "from foundation import train\n",
    "#from foundation.util import replicate, Cloner\n",
    "\n",
    "from hybrid import get_model, get_data\n",
    "\n",
    "np.set_printoptions(linewidth=120, suppress=True)"
   ]
  },
  {
   "cell_type": "code",
   "execution_count": 2,
   "metadata": {
    "pycharm": {
     "is_executing": false
    }
   },
   "outputs": [
    {
     "name": "stdout",
     "output_type": "stream",
     "text": [
      "/is/ei/fleeb/workspace/trained_nets/managed is available to view runs on tensorboard\n"
     ]
    },
    {
     "name": "stderr",
     "output_type": "stream",
     "text": [
      "/is/ei/fleeb/workspace/foundation/foundation/train/config.py:58: YAMLLoadWarning: calling yaml.load() without Loader=... is deprecated, as the default Loader is unsafe. Please read https://msg.pyyaml.org/load for full details.\n",
      "  data = yaml.load(f)\n"
     ]
    },
    {
     "name": "stdout",
     "output_type": "stream",
     "text": [
      "Found 130 runs\n",
      "Tensorboard started: http://localhost:6006/\n"
     ]
    }
   ],
   "source": [
    "M = train.Run_Manager(tbout='/is/ei/fleeb/workspace/trained_nets/managed')\n",
    "M.clear_links()\n",
    "M.start_tb()"
   ]
  },
  {
   "cell_type": "code",
   "execution_count": 3,
   "metadata": {
    "pycharm": {
     "is_executing": false
    }
   },
   "outputs": [
    {
     "name": "stdout",
     "output_type": "stream",
     "text": [
      "  0 - 3dscr-dvae_0078-5920873-7_191213-202209\n",
      "  1 - 3dscr-dvae_0082-5923472-07_191218-100110\n",
      "  2 - 3dscr-dwae_0078-5920873-6_191213-202209\n",
      "  3 - 3dscr-dwae_0082-5923472-06_191218-100109\n",
      "  4 - 3dscr-fdvae_0078-5920873-9_191213-202210\n",
      "  5 - 3dscr-fdvae_0082-5923472-09_191218-100109\n",
      "  6 - 3dscr-fdvae_0082-5923472-11_191218-100110\n",
      "  7 - 3dscr-fdwae_0078-5920873-8_191213-202213\n",
      "  8 - 3dscr-fdwae_0082-5923472-08_191218-100110\n",
      "  9 - 3dscr-fdwae_0082-5923472-10_191218-100109\n",
      " 10 - 3dscr-fvae_0078-5920873-3_191213-202212\n",
      " 11 - 3dscr-fvae_0082-5923472-03_191218-100108\n",
      " 12 - 3dscr-fwae_0078-5920873-2_191213-202209\n",
      " 13 - 3dscr-fwae_0082-5923472-02_191218-100114\n",
      " 14 - 3dscr-vae_0078-5920873-1_191213-202211\n",
      " 15 - 3dscr-vae_0082-5923472-01_191218-100110\n",
      " 16 - 3dscr-wae_0078-5920873-0_191213-202222\n",
      " 17 - 3dscr-wae_0082-5923472-00_191218-100123\n",
      " 18 - 3dscr-wgan_0078-5920873-4_191213-202211\n",
      " 19 - 3dscr-wgan_0080-5920891-0_191214-090741\n",
      " 20 - 3dscr-wgan_0080-5920891-1_191214-090742\n",
      " 21 - 3dscr-wgan_0082-5923472-04_191218-100113\n",
      " 22 - 3dscr-wgan_0085-5925596-01_191218-171730\n",
      " 23 - 3dscr-wpp_0078-5920873-5_191213-202209\n",
      " 24 - 3dscr-wpp_0082-5923472-05_191218-100110\n"
     ]
    }
   ],
   "source": [
    "#M.show()\n",
    "M.clear_filters().select(model=None, dataset='3dscr')\n",
    "M.show()"
   ]
  },
  {
   "cell_type": "code",
   "execution_count": 4,
   "metadata": {
    "pycharm": {
     "is_executing": false
    },
    "scrolled": false
   },
   "outputs": [
    {
     "name": "stdout",
     "output_type": "stream",
     "text": [
      "0) 3dscr-dvae_0078-5920873-7_191213-202209\n",
      "\tmodel.disc_steps - 1 (5)\n",
      "\n",
      "1) 3dscr-dvae_0082-5923472-07_191218-100110\n",
      "\tmodel.disc_steps - 1 (5)\n",
      "\n",
      "2) 3dscr-dwae_0078-5920873-6_191213-202209\n",
      "\tmodel.disc_steps - 1 (5)\n",
      "\n",
      "3) 3dscr-dwae_0082-5923472-06_191218-100109\n",
      "\tmodel.disc_steps - 1 (5)\n",
      "\n",
      "4) 3dscr-fdvae_0078-5920873-9_191213-202210\n",
      "\tmodel.disc_steps - 1 (5)\n",
      "\n",
      "5) 3dscr-fdvae_0082-5923472-09_191218-100109\n",
      "\tmodel.disc_steps - 1 (5)\n",
      "\n",
      "6) 3dscr-fdvae_0082-5923472-11_191218-100110\n",
      "\tmodel.disc_steps - 1 (5)\n",
      "\tmodel.prob - 0.5 (1)\n",
      "\n",
      "7) 3dscr-fdwae_0078-5920873-8_191213-202213\n",
      "\tmodel.disc_steps - 1 (5)\n",
      "\n",
      "8) 3dscr-fdwae_0082-5923472-08_191218-100110\n",
      "\tmodel.disc_steps - 1 (5)\n",
      "\n",
      "9) 3dscr-fdwae_0082-5923472-10_191218-100109\n",
      "\tmodel.disc_steps - 1 (5)\n",
      "\tmodel.prob - 0.5 (1)\n",
      "\n",
      "10) 3dscr-fvae_0078-5920873-3_191213-202212\n",
      "\tmodel.disc_steps - 1 (5)\n",
      "\n",
      "11) 3dscr-fvae_0082-5923472-03_191218-100108\n",
      "\tmodel.disc_steps - 1 (5)\n",
      "\n",
      "12) 3dscr-fwae_0078-5920873-2_191213-202209\n",
      "\tmodel.disc_steps - 1 (5)\n",
      "\n",
      "13) 3dscr-fwae_0082-5923472-02_191218-100114\n",
      "\tmodel.disc_steps - 1 (5)\n",
      "\n",
      "14) 3dscr-vae_0078-5920873-1_191213-202211\n",
      "\tmodel.disc_steps - 1 (5)\n",
      "\n",
      "15) 3dscr-vae_0082-5923472-01_191218-100110\n",
      "\tmodel.disc_steps - 1 (5)\n",
      "\n",
      "16) 3dscr-wae_0078-5920873-0_191213-202222\n",
      "\tmodel.disc_steps - 1 (5)\n",
      "\n",
      "17) 3dscr-wae_0082-5923472-00_191218-100123\n",
      "\tmodel.disc_steps - 1 (5)\n",
      "\n",
      "18) 3dscr-wgan_0078-5920873-4_191213-202211\n",
      "\tmodel.disc_steps - 1 (5)\n",
      "\n",
      "19) 3dscr-wgan_0080-5920891-0_191214-090741\n",
      "\tmodel.disc_steps - 4 (5)\n",
      "\n",
      "20) 3dscr-wgan_0080-5920891-1_191214-090742\n",
      "\tmodel.disc_steps - 4 (5)\n",
      "\tmodel.lr - 0.0002 (0.001)\n",
      "\n",
      "21) 3dscr-wgan_0082-5923472-04_191218-100113\n",
      "\tmodel.disc_steps - 1 (5)\n",
      "\n",
      "22) 3dscr-wgan_0085-5925596-01_191218-171730\n",
      "\n",
      "23) 3dscr-wpp_0078-5920873-5_191213-202209\n",
      "\tmodel.disc_steps - 1 (5)\n",
      "\n",
      "24) 3dscr-wpp_0082-5923472-05_191218-100110\n",
      "\tmodel.disc_steps - 1 (5)\n",
      "\n"
     ]
    }
   ],
   "source": [
    "ignore = None\n",
    "# ignore = ['disc_steps']\n",
    "M.show_unique(ignore)"
   ]
  },
  {
   "cell_type": "code",
   "execution_count": 5,
   "metadata": {
    "pycharm": {
     "is_executing": false
    }
   },
   "outputs": [],
   "source": [
    "M.link('{idx}__{model}__{unique}')"
   ]
  },
  {
   "cell_type": "code",
   "execution_count": 6,
   "metadata": {
    "pycharm": {
     "is_executing": false
    }
   },
   "outputs": [],
   "source": [
    "# M.link('{name}__{unique}')"
   ]
  },
  {
   "cell_type": "code",
   "execution_count": 6,
   "metadata": {},
   "outputs": [],
   "source": [
    "# os.listdir(M.tbout)"
   ]
  },
  {
   "cell_type": "code",
   "execution_count": 9,
   "metadata": {
    "pycharm": {
     "is_executing": false
    }
   },
   "outputs": [],
   "source": [
    "M.clear_links()"
   ]
  },
  {
   "cell_type": "code",
   "execution_count": 8,
   "metadata": {
    "pycharm": {
     "is_executing": false
    }
   },
   "outputs": [
    {
     "data": {
      "text/plain": [
       "'/is/ei/fleeb/workspace/trained_nets/managed'"
      ]
     },
     "execution_count": 8,
     "metadata": {},
     "output_type": "execute_result"
    }
   ],
   "source": [
    "M.tbout"
   ]
  },
  {
   "cell_type": "code",
   "execution_count": null,
   "metadata": {
    "pycharm": {
     "is_executing": false
    }
   },
   "outputs": [],
   "source": []
  },
  {
   "cell_type": "code",
   "execution_count": 18,
   "metadata": {},
   "outputs": [],
   "source": [
    "import json"
   ]
  },
  {
   "cell_type": "code",
   "execution_count": 19,
   "metadata": {},
   "outputs": [
    {
     "data": {
      "text/plain": [
       "[10, 2, 3]"
      ]
     },
     "execution_count": 19,
     "metadata": {},
     "output_type": "execute_result"
    }
   ],
   "source": [
    "json.loads('[10,2,3]')"
   ]
  },
  {
   "cell_type": "code",
   "execution_count": null,
   "metadata": {},
   "outputs": [],
   "source": []
  },
  {
   "cell_type": "code",
   "execution_count": null,
   "metadata": {
    "pycharm": {
     "is_executing": false
    }
   },
   "outputs": [],
   "source": []
  },
  {
   "cell_type": "code",
   "execution_count": null,
   "metadata": {
    "pycharm": {
     "is_executing": false
    }
   },
   "outputs": [],
   "source": [
    "saveroot = os.environ['FOUNDATION_SAVE_DIR']\n",
    "saveroot"
   ]
  },
  {
   "cell_type": "code",
   "execution_count": null,
   "metadata": {
    "pycharm": {
     "is_executing": false
    }
   },
   "outputs": [],
   "source": [
    "for name in os.listdir(saveroot):\n",
    "    path = os.path.join(saveroot, name)\n",
    "    if 'config.yml' in os.listdir(path):\n",
    "        print(name,end=' ')\n",
    "        with open(os.path.join(path, 'config.yml'), 'r') as f:\n",
    "            data = yaml.load(f)\n",
    "        break\n",
    "#         if 'parents' in data:\n",
    "#             del data['parents']\n",
    "#             with open(os.path.join(path, 'config.yml'), 'w') as f:\n",
    "#                 yaml.dump(data, f)\n",
    "#             print('fixed')\n",
    "#         else:\n",
    "#             print()"
   ]
  },
  {
   "cell_type": "code",
   "execution_count": null,
   "metadata": {
    "pycharm": {
     "is_executing": false
    }
   },
   "outputs": [],
   "source": [
    "data['parents']"
   ]
  },
  {
   "cell_type": "code",
   "execution_count": null,
   "metadata": {
    "pycharm": {
     "is_executing": false
    }
   },
   "outputs": [],
   "source": []
  }
 ],
 "metadata": {
  "kernelspec": {
   "display_name": "Python 3",
   "language": "python",
   "name": "python3"
  },
  "language_info": {
   "codemirror_mode": {
    "name": "ipython",
    "version": 3
   },
   "file_extension": ".py",
   "mimetype": "text/x-python",
   "name": "python",
   "nbconvert_exporter": "python",
   "pygments_lexer": "ipython3",
   "version": "3.7.3"
  },
  "pycharm": {
   "stem_cell": {
    "cell_type": "raw",
    "metadata": {
     "collapsed": false
    },
    "source": []
   }
  }
 },
 "nbformat": 4,
 "nbformat_minor": 2
}
