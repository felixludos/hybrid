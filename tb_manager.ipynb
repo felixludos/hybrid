{
 "cells": [
  {
   "cell_type": "code",
   "execution_count": 6,
   "metadata": {
    "pycharm": {
     "is_executing": false
    }
   },
   "outputs": [],
   "source": [
    "import sys, os, time\n",
    "# %load_ext autoreload\n",
    "# %autoreload 2\n",
    "os.environ['FOUNDATION_RUN_MODE'] = 'jupyter'\n",
    "os.environ['FOUNDATION_SAVE_DIR'] = '/is/ei/fleeb/workspace/chome/trained_nets'\n",
    "os.environ['FOUNDATION_DATA_DIR'] = '/is/ei/fleeb/workspace/local_data'\n",
    "# from IPython.core.interactiveshell import InteractiveShell\n",
    "# InteractiveShell.ast_node_interactivity = \"all\"\n",
    "from IPython import display\n",
    "import torch\n",
    "import torch.nn as nn\n",
    "import torch.nn.functional as F\n",
    "import torch.distributions as distrib\n",
    "import torch.multiprocessing as mp\n",
    "import torchvision.models\n",
    "import torchvision\n",
    "from torch.utils.data import Dataset, DataLoader, TensorDataset\n",
    "import gym\n",
    "import numpy as np\n",
    "%matplotlib notebook\n",
    "# %matplotlib tk\n",
    "import matplotlib.pyplot as plt\n",
    "import imageio\n",
    "import seaborn as sns\n",
    "#plt.switch_backend('Qt5Agg') #('Qt5Agg')\n",
    "import foundation as fd\n",
    "from foundation import models\n",
    "from foundation import util\n",
    "from foundation import train\n",
    "#from foundation.util import replicate, Cloner\n",
    "\n",
    "from hybrid import get_model, get_data\n",
    "\n",
    "np.set_printoptions(linewidth=120, suppress=True)"
   ]
  },
  {
   "cell_type": "code",
   "execution_count": 7,
   "metadata": {
    "pycharm": {
     "is_executing": false
    }
   },
   "outputs": [
    {
     "name": "stdout",
     "output_type": "stream",
     "text": [
      "/is/ei/fleeb/workspace/trained_nets/managed is available to view runs on tensorboard\n",
      "Found 110 runs\n"
     ]
    }
   ],
   "source": [
    "M = train.Run_Manager(tbout='/is/ei/fleeb/workspace/trained_nets/managed')\n",
    "M.clear_links()"
   ]
  },
  {
   "cell_type": "code",
   "execution_count": 8,
   "metadata": {
    "pycharm": {
     "is_executing": false
    }
   },
   "outputs": [
    {
     "name": "stdout",
     "output_type": "stream",
     "text": [
      "Tensorboard started: http://localhost:6009/\n"
     ]
    }
   ],
   "source": [
    "M.start_tb()"
   ]
  },
  {
   "cell_type": "code",
   "execution_count": 12,
   "metadata": {
    "pycharm": {
     "is_executing": false
    }
   },
   "outputs": [
    {
     "name": "stdout",
     "output_type": "stream",
     "text": [
      "  0 - 3dshapes-wgan_0077-5920872-0_191213-201539\n",
      "  1 - 3dshapes-wgan_0077-5920872-1_191213-201524\n",
      "  2 - 3dshapes-wgan_0077-5920872-2_191213-201527\n",
      "  3 - 3dshapes-wgan_0077-5920872-3_191213-201524\n",
      "  4 - 3dshapes-wgan_0077-5920872-4_191213-201526\n",
      "  5 - 3dshapes-wgan_0077-5920872-5_191213-201525\n",
      "  6 - 3dshapes-wgan_0077-5920872-6_191213-201524\n",
      "  7 - 3dshapes-wgan_0080-5920891-2_191214-090739\n",
      "  8 - 3dshapes-wgan_0080-5920891-3_191214-090740\n",
      "  9 - 3dshapes-wgan_0080-5920891-4_191214-090801\n"
     ]
    }
   ],
   "source": [
    "#M.show()\n",
    "M.clear_filters().select(model='wgan', dataset='3dshapes')\n",
    "M.show()"
   ]
  },
  {
   "cell_type": "code",
   "execution_count": 16,
   "metadata": {
    "pycharm": {
     "is_executing": false
    },
    "scrolled": false
   },
   "outputs": [
    {
     "name": "stdout",
     "output_type": "stream",
     "text": [
      "0) 3dshapes-wgan_0077-5920872-0_191213-201539\n",
      "\tmodel.disc_steps - 1 (5)\n",
      "1) 3dshapes-wgan_0077-5920872-1_191213-201524\n",
      "\tmodel.disc_steps - 1 (5)\n",
      "\tmodel.discriminator.beta1 - 0 (0.5)\n",
      "\tmodel.lr - 0.0002 (0.001)\n",
      "2) 3dshapes-wgan_0077-5920872-2_191213-201527\n",
      "\tmodel.disc_steps - 4 (5)\n",
      "3) 3dshapes-wgan_0077-5920872-3_191213-201524\n",
      "\tmodel.disc_steps - 4 (5)\n",
      "\tmodel.optim_type - rmsprop (adam)\n",
      "4) 3dshapes-wgan_0077-5920872-4_191213-201526\n",
      "\tmodel.disc_steps - 4 (5)\n",
      "\tmodel.optim_type - rmsprop (adam)\n",
      "\tmodel.lr - 0.0002 (0.001)\n",
      "5) 3dshapes-wgan_0077-5920872-5_191213-201525\n",
      "\tmodel.disc_steps - 4 (5)\n",
      "6) 3dshapes-wgan_0077-5920872-6_191213-201524\n",
      "\tmodel.disc_steps - 4 (5)\n",
      "\tmodel.lr - 0.0002 (0.001)\n",
      "7) 3dshapes-wgan_0080-5920891-2_191214-090739\n",
      "8) 3dshapes-wgan_0080-5920891-3_191214-090740\n",
      "\tmodel.disc_steps - 4 (5)\n",
      "9) 3dshapes-wgan_0080-5920891-4_191214-090801\n",
      "\tmodel.disc_steps - 4 (5)\n"
     ]
    }
   ],
   "source": [
    "M.show_unique()"
   ]
  },
  {
   "cell_type": "code",
   "execution_count": 17,
   "metadata": {
    "pycharm": {
     "is_executing": false
    }
   },
   "outputs": [],
   "source": [
    "M.link('{idx}__{unique}')"
   ]
  },
  {
   "cell_type": "code",
   "execution_count": 6,
   "metadata": {
    "pycharm": {
     "is_executing": false
    }
   },
   "outputs": [],
   "source": [
    "# M.link('{name}__{unique}')"
   ]
  },
  {
   "cell_type": "code",
   "execution_count": null,
   "metadata": {},
   "outputs": [],
   "source": [
    "os.listdir(M.tbout)"
   ]
  },
  {
   "cell_type": "code",
   "execution_count": 15,
   "metadata": {
    "pycharm": {
     "is_executing": false
    }
   },
   "outputs": [
    {
     "name": "stderr",
     "output_type": "stream",
     "text": [
      "Deleting accumulator '5__disc_steps=4__discriminator.lr=0p001'\n",
      "Deleting accumulator '8__disc_steps=4__discriminator.lr=0p001'\n",
      "Deleting accumulator '1__discriminator.lr=0p001__discriminator.beta1=0__lr=0p0002'\n",
      "Deleting accumulator '7__disc_steps=5__discriminator.lr=0p001'\n",
      "Deleting accumulator '4__disc_steps=4__discriminator.lr=0p0002__optim_type=rmsprop__lr=0p0002'\n",
      "Deleting accumulator '3__disc_steps=4__discriminator.lr=0p001__optim_type=rmsprop'\n",
      "Deleting accumulator '2__disc_steps=4__discriminator.lr=0p001'\n",
      "Deleting accumulator '9__disc_steps=4__discriminator.lr=0p001'\n",
      "Deleting accumulator '6__disc_steps=4__discriminator.lr=0p0002__lr=0p0002'\n",
      "Deleting accumulator '0__default'\n",
      "Deleting accumulator '5__disc_steps=4__discriminator.lr=0p001'\n",
      "Deleting accumulator '8__disc_steps=4__discriminator.lr=0p001'\n",
      "Deleting accumulator '1__discriminator.lr=0p001__discriminator.beta1=0__lr=0p0002'\n",
      "Deleting accumulator '7__disc_steps=5__discriminator.lr=0p001'\n",
      "Deleting accumulator '4__disc_steps=4__discriminator.lr=0p0002__optim_type=rmsprop__lr=0p0002'\n",
      "Deleting accumulator '3__disc_steps=4__discriminator.lr=0p001__optim_type=rmsprop'\n",
      "Deleting accumulator '2__disc_steps=4__discriminator.lr=0p001'\n",
      "Deleting accumulator '9__disc_steps=4__discriminator.lr=0p001'\n",
      "Deleting accumulator '6__disc_steps=4__discriminator.lr=0p0002__lr=0p0002'\n",
      "Deleting accumulator '0__default'\n"
     ]
    }
   ],
   "source": [
    "M.clear_links()"
   ]
  },
  {
   "cell_type": "code",
   "execution_count": 8,
   "metadata": {
    "pycharm": {
     "is_executing": false
    }
   },
   "outputs": [
    {
     "data": {
      "text/plain": [
       "'/is/ei/fleeb/workspace/trained_nets/managed'"
      ]
     },
     "execution_count": 8,
     "metadata": {},
     "output_type": "execute_result"
    }
   ],
   "source": [
    "M.tbout"
   ]
  },
  {
   "cell_type": "code",
   "execution_count": null,
   "metadata": {
    "pycharm": {
     "is_executing": false
    }
   },
   "outputs": [],
   "source": []
  },
  {
   "cell_type": "code",
   "execution_count": 18,
   "metadata": {},
   "outputs": [],
   "source": [
    "import json"
   ]
  },
  {
   "cell_type": "code",
   "execution_count": 19,
   "metadata": {},
   "outputs": [
    {
     "data": {
      "text/plain": [
       "[10, 2, 3]"
      ]
     },
     "execution_count": 19,
     "metadata": {},
     "output_type": "execute_result"
    }
   ],
   "source": [
    "json.loads('[10,2,3]')"
   ]
  },
  {
   "cell_type": "code",
   "execution_count": null,
   "metadata": {},
   "outputs": [],
   "source": []
  },
  {
   "cell_type": "code",
   "execution_count": null,
   "metadata": {
    "pycharm": {
     "is_executing": false
    }
   },
   "outputs": [],
   "source": []
  },
  {
   "cell_type": "code",
   "execution_count": null,
   "metadata": {
    "pycharm": {
     "is_executing": false
    }
   },
   "outputs": [],
   "source": [
    "saveroot = os.environ['FOUNDATION_SAVE_DIR']\n",
    "saveroot"
   ]
  },
  {
   "cell_type": "code",
   "execution_count": null,
   "metadata": {
    "pycharm": {
     "is_executing": false
    }
   },
   "outputs": [],
   "source": [
    "for name in os.listdir(saveroot):\n",
    "    path = os.path.join(saveroot, name)\n",
    "    if 'config.yml' in os.listdir(path):\n",
    "        print(name,end=' ')\n",
    "        with open(os.path.join(path, 'config.yml'), 'r') as f:\n",
    "            data = yaml.load(f)\n",
    "        break\n",
    "#         if 'parents' in data:\n",
    "#             del data['parents']\n",
    "#             with open(os.path.join(path, 'config.yml'), 'w') as f:\n",
    "#                 yaml.dump(data, f)\n",
    "#             print('fixed')\n",
    "#         else:\n",
    "#             print()"
   ]
  },
  {
   "cell_type": "code",
   "execution_count": null,
   "metadata": {
    "pycharm": {
     "is_executing": false
    }
   },
   "outputs": [],
   "source": [
    "data['parents']"
   ]
  },
  {
   "cell_type": "code",
   "execution_count": null,
   "metadata": {
    "pycharm": {
     "is_executing": false
    }
   },
   "outputs": [],
   "source": []
  }
 ],
 "metadata": {
  "kernelspec": {
   "display_name": "Python 3",
   "language": "python",
   "name": "python3"
  },
  "language_info": {
   "codemirror_mode": {
    "name": "ipython",
    "version": 3
   },
   "file_extension": ".py",
   "mimetype": "text/x-python",
   "name": "python",
   "nbconvert_exporter": "python",
   "pygments_lexer": "ipython3",
   "version": "3.7.3"
  },
  "pycharm": {
   "stem_cell": {
    "cell_type": "raw",
    "metadata": {
     "collapsed": false
    },
    "source": []
   }
  }
 },
 "nbformat": 4,
 "nbformat_minor": 2
}
