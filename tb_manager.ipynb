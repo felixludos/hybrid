{
 "cells": [
  {
   "cell_type": "code",
   "execution_count": 1,
   "metadata": {
    "pycharm": {
     "is_executing": false
    }
   },
   "outputs": [],
   "source": [
    "import sys, os, time\n",
    "# %load_ext autoreload\n",
    "# %autoreload 2\n",
    "os.environ['FOUNDATION_RUN_MODE'] = 'jupyter'\n",
    "os.environ['FOUNDATION_SAVE_DIR'] = '/is/ei/fleeb/workspace/chome/trained_nets'\n",
    "os.environ['FOUNDATION_DATA_DIR'] = '/is/ei/fleeb/workspace/local_data'\n",
    "# from IPython.core.interactiveshell import InteractiveShell\n",
    "# InteractiveShell.ast_node_interactivity = \"all\"\n",
    "from IPython import display\n",
    "import torch\n",
    "import torch.nn as nn\n",
    "import torch.nn.functional as F\n",
    "import torch.distributions as distrib\n",
    "import torch.multiprocessing as mp\n",
    "import torchvision.models\n",
    "import torchvision\n",
    "from torch.utils.data import Dataset, DataLoader, TensorDataset\n",
    "import gym\n",
    "import numpy as np\n",
    "%matplotlib notebook\n",
    "# %matplotlib tk\n",
    "import matplotlib.pyplot as plt\n",
    "import imageio\n",
    "import seaborn as sns\n",
    "#plt.switch_backend('Qt5Agg') #('Qt5Agg')\n",
    "import foundation as fd\n",
    "from foundation import models\n",
    "from foundation import util\n",
    "from foundation import train\n",
    "#from foundation.util import replicate, Cloner\n",
    "\n",
    "from hybrid import get_model, get_data\n",
    "\n",
    "np.set_printoptions(linewidth=120, suppress=True)"
   ]
  },
  {
   "cell_type": "code",
   "execution_count": 2,
   "metadata": {
    "pycharm": {
     "is_executing": false
    }
   },
   "outputs": [
    {
     "name": "stdout",
     "output_type": "stream",
     "text": [
      "/is/ei/fleeb/workspace/trained_nets/managed is available to view runs on tensorboard\n"
     ]
    },
    {
     "name": "stderr",
     "output_type": "stream",
     "text": [
      "/is/ei/fleeb/workspace/foundation/foundation/train/config.py:58: YAMLLoadWarning: calling yaml.load() without Loader=... is deprecated, as the default Loader is unsafe. Please read https://msg.pyyaml.org/load for full details.\n",
      "  data = yaml.load(f)\n"
     ]
    },
    {
     "name": "stdout",
     "output_type": "stream",
     "text": [
      "Found 127 runs\n",
      "Tensorboard started: http://localhost:6006/\n"
     ]
    }
   ],
   "source": [
    "M = train.Run_Manager(tbout='/is/ei/fleeb/workspace/trained_nets/managed')\n",
    "M.clear_links()\n",
    "M.start_tb()"
   ]
  },
  {
   "cell_type": "code",
   "execution_count": 3,
   "metadata": {
    "pycharm": {
     "is_executing": false
    }
   },
   "outputs": [
    {
     "name": "stdout",
     "output_type": "stream",
     "text": [
      "  0 - 3dscr-dvae_0078-5920873-7_191213-202209\n",
      "  1 - 3dscr-dvae_0082-5923472-07_191218-100110\n",
      "  2 - 3dscr-dwae_0078-5920873-6_191213-202209\n",
      "  3 - 3dscr-dwae_0082-5923472-06_191218-100109\n",
      "  4 - 3dscr-fdvae_0078-5920873-9_191213-202210\n",
      "  5 - 3dscr-fdvae_0082-5923472-09_191218-100109\n",
      "  6 - 3dscr-fdvae_0082-5923472-11_191218-100110\n",
      "  7 - 3dscr-fdwae_0078-5920873-8_191213-202213\n",
      "  8 - 3dscr-fdwae_0082-5923472-08_191218-100110\n",
      "  9 - 3dscr-fdwae_0082-5923472-10_191218-100109\n",
      " 10 - 3dscr-fvae_0078-5920873-3_191213-202212\n",
      " 11 - 3dscr-fvae_0082-5923472-03_191218-100108\n",
      " 12 - 3dscr-fwae_0078-5920873-2_191213-202209\n",
      " 13 - 3dscr-fwae_0082-5923472-02_191218-100114\n",
      " 14 - 3dscr-vae_0078-5920873-1_191213-202211\n",
      " 15 - 3dscr-vae_0082-5923472-01_191218-100110\n",
      " 16 - 3dscr-wae_0078-5920873-0_191213-202222\n",
      " 17 - 3dscr-wae_0082-5923472-00_191218-100123\n",
      " 18 - 3dscr-wgan_0078-5920873-4_191213-202211\n",
      " 19 - 3dscr-wgan_0080-5920891-0_191214-090741\n",
      " 20 - 3dscr-wgan_0080-5920891-1_191214-090742\n",
      " 21 - 3dscr-wgan_0082-5923472-04_191218-100113\n",
      " 22 - 3dscr-wgan_0085-5925596-01_191218-171730\n",
      " 23 - 3dscr-wpp_0078-5920873-5_191213-202209\n",
      " 24 - 3dscr-wpp_0082-5923472-05_191218-100110\n",
      " 25 - 3dshapes-dvae_0077-5920872-45_191213-201528\n",
      " 26 - 3dshapes-dvae_0087-5930025-01_191219-182417\n",
      " 27 - 3dshapes-dwae_0077-5920872-41_191213-201527\n",
      " 28 - 3dshapes-dwae_0077-5920872-42_191213-201526\n",
      " 29 - 3dshapes-dwae_0077-5920872-43_191213-201526\n",
      " 30 - 3dshapes-dwae_0077-5920872-44_191213-201529\n",
      " 31 - 3dshapes-dwae_0087-5930025-00_191219-182415\n",
      " 32 - 3dshapes-fdvae_0077-5920872-49_191213-201526\n",
      " 33 - 3dshapes-fdvae_0077-5920872-50_191213-201526\n",
      " 34 - 3dshapes-fdvae_0077-5920872-51_191213-201525\n",
      " 35 - 3dshapes-fdvae_0082-5923472-13_191218-100112\n",
      " 36 - 3dshapes-fdwae_0077-5920872-46_191213-201528\n",
      " 37 - 3dshapes-fdwae_0077-5920872-47_191213-201540\n",
      " 38 - 3dshapes-fdwae_0077-5920872-48_191213-201525\n",
      " 39 - 3dshapes-fdwae_0082-5923472-12_191218-100112\n",
      " 40 - 3dshapes-fvae_0077-5920872-37_191213-201524\n",
      " 41 - 3dshapes-fvae_0077-5920872-38_191213-201526\n",
      " 42 - 3dshapes-fvae_0077-5920872-39_191213-201528\n",
      " 43 - 3dshapes-fvae_0077-5920872-40_191213-201528\n",
      " 44 - 3dshapes-fwae_0077-5920872-33_191213-201527\n",
      " 45 - 3dshapes-fwae_0077-5920872-34_191213-201528\n",
      " 46 - 3dshapes-fwae_0077-5920872-35_191213-201548\n",
      " 47 - 3dshapes-fwae_0077-5920872-36_191213-201528\n",
      " 48 - 3dshapes-vae_0077-5920872-21_191213-201539\n",
      " 49 - 3dshapes-vae_0077-5920872-22_191213-201525\n",
      " 50 - 3dshapes-vae_0077-5920872-23_191213-201527\n",
      " 51 - 3dshapes-wae_0077-5920872-10_191213-201528\n",
      " 52 - 3dshapes-wae_0077-5920872-11_191213-201525\n",
      " 53 - 3dshapes-wae_0077-5920872-12_191213-201527\n",
      " 54 - 3dshapes-wae_0077-5920872-13_191213-201528\n",
      " 55 - 3dshapes-wae_0077-5920872-14_191213-201548\n",
      " 56 - 3dshapes-wae_0077-5920872-15_191213-201528\n",
      " 57 - 3dshapes-wae_0077-5920872-16_191213-201523\n",
      " 58 - 3dshapes-wae_0077-5920872-17_191213-201526\n",
      " 59 - 3dshapes-wae_0077-5920872-18_191213-201528\n",
      " 60 - 3dshapes-wae_0077-5920872-19_191213-201528\n",
      " 61 - 3dshapes-wae_0077-5920872-20_191213-201527\n",
      " 62 - 3dshapes-wae_0077-5920872-7_191213-201526\n",
      " 63 - 3dshapes-wae_0077-5920872-8_191213-201526\n",
      " 64 - 3dshapes-wae_0077-5920872-9_191213-201526\n",
      " 65 - 3dshapes-wae_0086-5925609-00_191218-171832\n",
      " 66 - 3dshapes-wae_0086-5925609-01_191218-171829\n",
      " 67 - 3dshapes-wgan_0077-5920872-0_191213-201539\n",
      " 68 - 3dshapes-wgan_0077-5920872-1_191213-201524\n",
      " 69 - 3dshapes-wgan_0077-5920872-2_191213-201527\n",
      " 70 - 3dshapes-wgan_0077-5920872-3_191213-201524\n",
      " 71 - 3dshapes-wgan_0077-5920872-4_191213-201526\n",
      " 72 - 3dshapes-wgan_0077-5920872-5_191213-201525\n",
      " 73 - 3dshapes-wgan_0077-5920872-6_191213-201524\n",
      " 74 - 3dshapes-wgan_0080-5920891-2_191214-090739\n",
      " 75 - 3dshapes-wgan_0080-5920891-3_191214-090740\n",
      " 76 - 3dshapes-wgan_0080-5920891-4_191214-090801\n",
      " 77 - 3dshapes-wgan_0085-5925596-02_191218-171729\n",
      " 78 - 3dshapes-wgan_0085-5925596-03_191218-171727\n",
      " 79 - 3dshapes-wgan_0085-5925596-04_191218-171728\n",
      " 80 - 3dshapes-wgan_0085-5925596-05_191218-171726\n",
      " 81 - 3dshapes-wgan_0085-5925596-06_191218-171728\n",
      " 82 - 3dshapes-wgan_0085-5925596-07_191218-171727\n",
      " 83 - 3dshapes-wgan_0085-5925596-08_191218-171727\n",
      " 84 - 3dshapes-wgan_0085-5925596-09_191218-171726\n",
      " 85 - 3dshapes-wgan_0085-5925596-10_191218-171727\n",
      " 86 - 3dshapes-wgan_0085-5925596-11_191218-171726\n",
      " 87 - 3dshapes-wgan_0085-5925596-12_191218-171727\n",
      " 88 - 3dshapes-wpp_0077-5920872-24_191213-201524\n",
      " 89 - 3dshapes-wpp_0077-5920872-25_191213-201526\n",
      " 90 - 3dshapes-wpp_0077-5920872-26_191213-201525\n",
      " 91 - 3dshapes-wpp_0077-5920872-27_191213-201524\n",
      " 92 - 3dshapes-wpp_0077-5920872-28_191213-201526\n",
      " 93 - 3dshapes-wpp_0077-5920872-29_191213-201526\n",
      " 94 - 3dshapes-wpp_0077-5920872-30_191213-201526\n",
      " 95 - 3dshapes-wpp_0077-5920872-31_191213-201529\n",
      " 96 - 3dshapes-wpp_0077-5920872-32_191213-201525\n",
      " 97 - celeba-dvae_0076-5920870-7_191213-201050\n",
      " 98 - celeba-dwae_0076-5920870-6_191213-201051\n",
      " 99 - celeba-fdvae_0076-5920870-9_191213-201051\n",
      "100 - celeba-fdwae_0076-5920870-8_191213-201050\n",
      "101 - celeba-fvae_0076-5920870-3_191213-201050\n",
      "102 - celeba-fwae_0076-5920870-2_191213-201050\n",
      "103 - celeba-vae_0076-5920870-1_191213-201049\n",
      "104 - celeba-wae_0076-5920870-0_191213-201050\n",
      "105 - celeba-wgan_0076-5920870-4_191213-201050\n",
      "106 - celeba-wpp_0076-5920870-5_191213-201049\n",
      "107 - zceleba-dvae_0084-5923854-07_191218-135331\n",
      "108 - zceleba-dwae_0084-5923854-06_191218-135335\n",
      "109 - zceleba-fdvae_0084-5923854-09_191218-135331\n",
      "110 - zceleba-fdvae_0084-5923854-11_191218-135331\n",
      "111 - zceleba-fdwae_0084-5923854-08_191218-135333\n",
      "112 - zceleba-fdwae_0084-5923854-10_191218-135331\n",
      "113 - zceleba-fvae_0084-5923854-03_191218-135331\n",
      "114 - zceleba-fwae_0084-5923854-02_191218-135330\n",
      "115 - zceleba-vae_0084-5923854-01_191218-135332\n",
      "116 - zceleba-wae_0084-5923854-00_191218-135333\n",
      "117 - zceleba-wgan_0084-5923854-04_191218-135334\n",
      "118 - zceleba-wgan_0085-5925596-00_191218-171725\n",
      "119 - zceleba-wpp_0084-5923854-05_191218-135332\n"
     ]
    }
   ],
   "source": [
    "#M.show()\n",
    "M.clear_filters().select(model=None, dataset=None).filter(lambda r: not 'test' in r.name)\n",
    "# M.filter(lambda r: '191218' in r.name)\n",
    "M.show()"
   ]
  },
  {
   "cell_type": "code",
   "execution_count": 4,
   "metadata": {
    "pycharm": {
     "is_executing": false
    },
    "scrolled": false
   },
   "outputs": [
    {
     "name": "stdout",
     "output_type": "stream",
     "text": [
      "0) 3dscr-dvae_0078-5920873-7_191213-202209\n",
      "\tmodel.disc_steps - 1 (5)\n",
      "\n",
      "1) 3dscr-dvae_0082-5923472-07_191218-100110\n",
      "\tmodel.disc_steps - 1 (5)\n",
      "\n",
      "2) 3dscr-dwae_0078-5920873-6_191213-202209\n",
      "\tmodel.disc_steps - 1 (5)\n",
      "\n",
      "3) 3dscr-dwae_0082-5923472-06_191218-100109\n",
      "\tmodel.disc_steps - 1 (5)\n",
      "\n",
      "4) 3dscr-fdvae_0078-5920873-9_191213-202210\n",
      "\tmodel.disc_steps - 1 (5)\n",
      "\n",
      "5) 3dscr-fdvae_0082-5923472-09_191218-100109\n",
      "\tmodel.disc_steps - 1 (5)\n",
      "\n",
      "6) 3dscr-fdvae_0082-5923472-11_191218-100110\n",
      "\tmodel.disc_steps - 1 (5)\n",
      "\tmodel.prob - 0.5 (1)\n",
      "\n",
      "7) 3dscr-fdwae_0078-5920873-8_191213-202213\n",
      "\tmodel.disc_steps - 1 (5)\n",
      "\n",
      "8) 3dscr-fdwae_0082-5923472-08_191218-100110\n",
      "\tmodel.disc_steps - 1 (5)\n",
      "\n",
      "9) 3dscr-fdwae_0082-5923472-10_191218-100109\n",
      "\tmodel.disc_steps - 1 (5)\n",
      "\tmodel.prob - 0.5 (1)\n",
      "\n",
      "10) 3dscr-fvae_0078-5920873-3_191213-202212\n",
      "\tmodel.disc_steps - 1 (5)\n",
      "\n",
      "11) 3dscr-fvae_0082-5923472-03_191218-100108\n",
      "\tmodel.disc_steps - 1 (5)\n",
      "\n",
      "12) 3dscr-fwae_0078-5920873-2_191213-202209\n",
      "\tmodel.disc_steps - 1 (5)\n",
      "\n",
      "13) 3dscr-fwae_0082-5923472-02_191218-100114\n",
      "\tmodel.disc_steps - 1 (5)\n",
      "\n",
      "14) 3dscr-vae_0078-5920873-1_191213-202211\n",
      "\tmodel.disc_steps - 1 (5)\n",
      "\n",
      "15) 3dscr-vae_0082-5923472-01_191218-100110\n",
      "\tmodel.disc_steps - 1 (5)\n",
      "\n",
      "16) 3dscr-wae_0078-5920873-0_191213-202222\n",
      "\tmodel.disc_steps - 1 (5)\n",
      "\n",
      "17) 3dscr-wae_0082-5923472-00_191218-100123\n",
      "\tmodel.disc_steps - 1 (5)\n",
      "\n",
      "18) 3dscr-wgan_0078-5920873-4_191213-202211\n",
      "\tmodel.disc_steps - 1 (5)\n",
      "\n",
      "19) 3dscr-wgan_0080-5920891-0_191214-090741\n",
      "\tmodel.disc_steps - 4 (5)\n",
      "\n",
      "20) 3dscr-wgan_0080-5920891-1_191214-090742\n",
      "\tmodel.disc_steps - 4 (5)\n",
      "\tmodel.lr - 0.0002 (0.001)\n",
      "\n",
      "21) 3dscr-wgan_0082-5923472-04_191218-100113\n",
      "\tmodel.disc_steps - 1 (5)\n",
      "\n",
      "22) 3dscr-wgan_0085-5925596-01_191218-171730\n",
      "\n",
      "23) 3dscr-wpp_0078-5920873-5_191213-202209\n",
      "\tmodel.disc_steps - 1 (5)\n",
      "\n",
      "24) 3dscr-wpp_0082-5923472-05_191218-100110\n",
      "\tmodel.disc_steps - 1 (5)\n",
      "\n",
      "25) 3dshapes-dvae_0077-5920872-45_191213-201528\n",
      "\tmodel.disc_steps - 1 (5)\n",
      "\n",
      "26) 3dshapes-dvae_0087-5930025-01_191219-182417\n",
      "\tmodel.prob - 0.5 (1)\n",
      "\n",
      "27) 3dshapes-dwae_0077-5920872-41_191213-201527\n",
      "\tmodel.disc_steps - 1 (5)\n",
      "\n",
      "28) 3dshapes-dwae_0077-5920872-42_191213-201526\n",
      "\tmodel.disc_steps - 1 (5)\n",
      "\tmodel.gan_wt - 0.001 (0.0001)\n",
      "\n",
      "29) 3dshapes-dwae_0077-5920872-43_191213-201526\n",
      "\tmodel.disc_steps - 1 (5)\n",
      "\n",
      "30) 3dshapes-dwae_0077-5920872-44_191213-201529\n",
      "\tmodel.disc_steps - 1 (5)\n",
      "\tmodel.gan_warm_start - 20 (_)\n",
      "\n",
      "31) 3dshapes-dwae_0087-5930025-00_191219-182415\n",
      "\tmodel.prob - 0.5 (1)\n",
      "\n",
      "32) 3dshapes-fdvae_0077-5920872-49_191213-201526\n",
      "\tmodel.disc_steps - 1 (5)\n",
      "\n",
      "33) 3dshapes-fdvae_0077-5920872-50_191213-201526\n",
      "\tmodel.disc_steps - 1 (5)\n",
      "\tmodel.gan_wt - 0.001 (0.0001)\n",
      "\n",
      "34) 3dshapes-fdvae_0077-5920872-51_191213-201525\n",
      "\tmodel.disc_steps - 1 (5)\n",
      "\tmodel.gan_warm_start - 20 (_)\n",
      "\n",
      "35) 3dshapes-fdvae_0082-5923472-13_191218-100112\n",
      "\tmodel.disc_steps - 1 (5)\n",
      "\tmodel.prob - 0.5 (1)\n",
      "\n",
      "36) 3dshapes-fdwae_0077-5920872-46_191213-201528\n",
      "\tmodel.disc_steps - 1 (5)\n",
      "\n",
      "37) 3dshapes-fdwae_0077-5920872-47_191213-201540\n",
      "\tmodel.disc_steps - 1 (5)\n",
      "\tmodel.gan_wt - 0.001 (0.0001)\n",
      "\n",
      "38) 3dshapes-fdwae_0077-5920872-48_191213-201525\n",
      "\tmodel.disc_steps - 1 (5)\n",
      "\tmodel.gan_warm_start - 20 (_)\n",
      "\n",
      "39) 3dshapes-fdwae_0082-5923472-12_191218-100112\n",
      "\tmodel.disc_steps - 1 (5)\n",
      "\tmodel.prob - 0.5 (1)\n",
      "\n",
      "40) 3dshapes-fvae_0077-5920872-37_191213-201524\n",
      "\tmodel.disc_steps - 1 (5)\n",
      "\n",
      "41) 3dshapes-fvae_0077-5920872-38_191213-201526\n",
      "\tmodel.disc_steps - 1 (5)\n",
      "\tmodel.reg_prior - 0.2 (0.5)\n",
      "\n",
      "42) 3dshapes-fvae_0077-5920872-39_191213-201528\n",
      "\tmodel.disc_steps - 1 (5)\n",
      "\tmodel.reg_prior - 0.1 (0.5)\n",
      "\n",
      "43) 3dshapes-fvae_0077-5920872-40_191213-201528\n",
      "\tmodel.disc_steps - 1 (5)\n",
      "\tmodel.gan_wt - 0.0001 (0)\n",
      "\n",
      "44) 3dshapes-fwae_0077-5920872-33_191213-201527\n",
      "\tmodel.disc_steps - 1 (5)\n",
      "\n",
      "45) 3dshapes-fwae_0077-5920872-34_191213-201528\n",
      "\tmodel.disc_steps - 1 (5)\n",
      "\tmodel.reg_prior - 0.2 (0.5)\n",
      "\n",
      "46) 3dshapes-fwae_0077-5920872-35_191213-201548\n",
      "\tmodel.disc_steps - 1 (5)\n",
      "\tmodel.reg_prior - 0.1 (0.5)\n",
      "\n",
      "47) 3dshapes-fwae_0077-5920872-36_191213-201528\n",
      "\tmodel.disc_steps - 1 (5)\n",
      "\tmodel.gan_wt - 0.0001 (0)\n",
      "\n",
      "48) 3dshapes-vae_0077-5920872-21_191213-201539\n",
      "\tmodel.disc_steps - 1 (5)\n",
      "\n",
      "49) 3dshapes-vae_0077-5920872-22_191213-201525\n",
      "\tmodel.latent_reg_wt - 4 (1)\n",
      "\tmodel.disc_steps - 1 (5)\n",
      "\n",
      "50) 3dshapes-vae_0077-5920872-23_191213-201527\n",
      "\tmodel.latent_reg_wt - 0.25 (1)\n",
      "\tmodel.disc_steps - 1 (5)\n",
      "\n",
      "51) 3dshapes-wae_0077-5920872-10_191213-201528\n",
      "\tmodel.disc_steps - 1 (5)\n",
      "\tmodel.up_type - nearest (bilinear)\n",
      "\n",
      "52) 3dshapes-wae_0077-5920872-11_191213-201525\n",
      "\tmodel.disc_steps - 1 (5)\n",
      "\tmodel.down_type - conv (max)\n",
      "\n",
      "53) 3dshapes-wae_0077-5920872-12_191213-201527\n",
      "\tmodel.disc_steps - 1 (5)\n",
      "\tmodel.down_type - conv (max)\n",
      "\tmodel.up_type - conv (bilinear)\n",
      "\n",
      "54) 3dshapes-wae_0077-5920872-13_191213-201528\n",
      "\tmodel.norm_type - batch (instance)\n",
      "\tmodel.disc_steps - 1 (5)\n",
      "\n",
      "55) 3dshapes-wae_0077-5920872-14_191213-201548\n",
      "\tmodel.disc_steps - 1 (5)\n",
      "\tmodel.lr - 0.0005 (0.001)\n",
      "\n",
      "56) 3dshapes-wae_0077-5920872-15_191213-201528\n",
      "\tmodel.disc_steps - 1 (5)\n",
      "\tmodel.beta1 - 0.5 (0.9)\n",
      "\tmodel.beta2 - 0.9 (0.999)\n",
      "\n",
      "57) 3dshapes-wae_0077-5920872-16_191213-201523\n",
      "\tmodel.disc_steps - 1 (5)\n",
      "\tmodel.beta1 - 0 (0.9)\n",
      "\tmodel.beta2 - 0.9 (0.999)\n",
      "\n",
      "58) 3dshapes-wae_0077-5920872-17_191213-201526\n",
      "\tmodel.disc_steps - 1 (5)\n",
      "\tmodel.weight_decay - 0.001 (0)\n",
      "\n",
      "59) 3dshapes-wae_0077-5920872-18_191213-201528\n",
      "\tmodel.disc_steps - 1 (5)\n",
      "\tmodel.weight_decay - 0.0001 (0)\n",
      "\n",
      "60) 3dshapes-wae_0077-5920872-19_191213-201528\n",
      "\tmodel.disc_steps - 1 (5)\n",
      "\tmodel.weight_decay - 1e-05 (0)\n",
      "\n",
      "61) 3dshapes-wae_0077-5920872-20_191213-201527\n",
      "\tmodel.disc_steps - 1 (5)\n",
      "\tmodel.weight_decay - 1e-06 (0)\n",
      "\n",
      "62) 3dshapes-wae_0077-5920872-7_191213-201526\n",
      "\tmodel.disc_steps - 1 (5)\n",
      "\n",
      "63) 3dshapes-wae_0077-5920872-8_191213-201526\n",
      "\tmodel.nonlin - prelu (elu)\n",
      "\tmodel.disc_steps - 1 (5)\n",
      "\n",
      "64) 3dshapes-wae_0077-5920872-9_191213-201526\n",
      "\tmodel.nonlin - relu (elu)\n",
      "\tmodel.disc_steps - 1 (5)\n",
      "\n",
      "65) 3dshapes-wae_0086-5925609-00_191218-171832\n",
      "\tmodel.generator.internal_channels - [512, 512, 256, 256, 256] (_)\n",
      "\tmodel.generator.squeeze - True (_)\n",
      "\n",
      "66) 3dshapes-wae_0086-5925609-01_191218-171829\n",
      "\tmodel.generator.internal_channels - [512, 512, 256, 256, 256] (_)\n",
      "\tmodel.internal_channels - [256, 256, 256, 512, 512] (_)\n",
      "\tmodel.squeeze - True (_)\n",
      "\n",
      "67) 3dshapes-wgan_0077-5920872-0_191213-201539\n",
      "\tmodel.disc_steps - 1 (5)\n",
      "\n",
      "68) 3dshapes-wgan_0077-5920872-1_191213-201524\n",
      "\tmodel.disc_steps - 1 (5)\n",
      "\tmodel.discriminator.beta1 - 0 (0.5)\n",
      "\tmodel.lr - 0.0002 (0.001)\n",
      "\n",
      "69) 3dshapes-wgan_0077-5920872-2_191213-201527\n",
      "\tmodel.disc_steps - 4 (5)\n",
      "\n",
      "70) 3dshapes-wgan_0077-5920872-3_191213-201524\n",
      "\tmodel.disc_steps - 4 (5)\n",
      "\tmodel.optim_type - rmsprop (adam)\n",
      "\n",
      "71) 3dshapes-wgan_0077-5920872-4_191213-201526\n",
      "\tmodel.disc_steps - 4 (5)\n",
      "\tmodel.optim_type - rmsprop (adam)\n",
      "\tmodel.lr - 0.0002 (0.001)\n",
      "\n",
      "72) 3dshapes-wgan_0077-5920872-5_191213-201525\n",
      "\tmodel.disc_steps - 4 (5)\n",
      "\n",
      "73) 3dshapes-wgan_0077-5920872-6_191213-201524\n",
      "\tmodel.disc_steps - 4 (5)\n",
      "\tmodel.lr - 0.0002 (0.001)\n",
      "\n",
      "74) 3dshapes-wgan_0080-5920891-2_191214-090739\n",
      "\n",
      "75) 3dshapes-wgan_0080-5920891-3_191214-090740\n",
      "\tmodel.disc_steps - 4 (5)\n",
      "\n",
      "76) 3dshapes-wgan_0080-5920891-4_191214-090801\n",
      "\tmodel.disc_steps - 4 (5)\n",
      "\n",
      "77) 3dshapes-wgan_0085-5925596-02_191218-171729\n",
      "\n",
      "78) 3dshapes-wgan_0085-5925596-03_191218-171727\n",
      "\tmodel.disc_steps - 8 (5)\n",
      "\n",
      "79) 3dshapes-wgan_0085-5925596-04_191218-171728\n",
      "\tmodel.scheduler_step - 80 (40)\n",
      "\tmodel.scheduler_type - step (_)\n",
      "\n",
      "80) 3dshapes-wgan_0085-5925596-05_191218-171726\n",
      "\tmodel.latent_dim - 32 (16)\n",
      "\n",
      "81) 3dshapes-wgan_0085-5925596-06_191218-171728\n",
      "\tmodel.up_type - nearest (bilinear)\n",
      "\n",
      "82) 3dshapes-wgan_0085-5925596-07_191218-171727\n",
      "\tmodel.down_type - conv (max)\n",
      "\tmodel.up_type - conv (bilinear)\n",
      "\n",
      "83) 3dshapes-wgan_0085-5925596-08_191218-171727\n",
      "\n",
      "84) 3dshapes-wgan_0085-5925596-09_191218-171726\n",
      "\n",
      "85) 3dshapes-wgan_0085-5925596-10_191218-171727\n",
      "\tmodel.generator.internal_channels - [512, 512, 256, 256, 256] (_)\n",
      "\tmodel.generator.squeeze - True (_)\n",
      "\n",
      "86) 3dshapes-wgan_0085-5925596-11_191218-171726\n",
      "\tmodel.generator.internal_channels - [512, 512, 256, 256, 256] (_)\n",
      "\tmodel.generator.squeeze - True (_)\n",
      "\n",
      "87) 3dshapes-wgan_0085-5925596-12_191218-171727\n",
      "\tmodel.residual - True (_)\n",
      "\n",
      "88) 3dshapes-wpp_0077-5920872-24_191213-201524\n",
      "\tmodel.disc_steps - 1 (5)\n",
      "\n",
      "89) 3dshapes-wpp_0077-5920872-25_191213-201526\n",
      "\tmodel.disc_steps - 1 (5)\n",
      "\tmodel.gan_wt - 1e-05 (0.0001)\n",
      "\n",
      "90) 3dshapes-wpp_0077-5920872-26_191213-201525\n",
      "\tmodel.disc_steps - 1 (5)\n",
      "\tmodel.gan_wt - 0.001 (0.0001)\n",
      "\n",
      "91) 3dshapes-wpp_0077-5920872-27_191213-201524\n",
      "\tmodel.disc_steps - 1 (5)\n",
      "\n",
      "92) 3dshapes-wpp_0077-5920872-28_191213-201526\n",
      "\tmodel.disc_steps - 1 (5)\n",
      "\n",
      "93) 3dshapes-wpp_0077-5920872-29_191213-201526\n",
      "\tmodel.disc_steps - 1 (5)\n",
      "\tmodel.gan_warm_start - 20 (_)\n",
      "\n",
      "94) 3dshapes-wpp_0077-5920872-30_191213-201526\n"
     ]
    },
    {
     "name": "stdout",
     "output_type": "stream",
     "text": [
      "\tmodel.disc_steps - 1 (5)\n",
      "\tmodel.gan_warm_start - 40 (_)\n",
      "\n",
      "95) 3dshapes-wpp_0077-5920872-31_191213-201529\n",
      "\tmodel.disc_steps - 1 (5)\n",
      "\tmodel.gan_warm_start - 20 (_)\n",
      "\n",
      "96) 3dshapes-wpp_0077-5920872-32_191213-201525\n",
      "\tmodel.disc_steps - 1 (5)\n",
      "\tmodel.gan_warm_start - 10 (_)\n",
      "\n",
      "97) celeba-dvae_0076-5920870-7_191213-201050\n",
      "\tmodel.channels - [64, 64, 64, 128, 128, 128, 256] ([64, 64, 128, 128, 128, 256])\n",
      "\tmodel.disc_steps - 1 (5)\n",
      "\tmodel.generator.channels - [256, 128, 128, 128, 64, 64, 64] ([256, 128, 128, 128, 64, 64])\n",
      "\n",
      "98) celeba-dwae_0076-5920870-6_191213-201051\n",
      "\tmodel.channels - [64, 64, 64, 128, 128, 128, 256] ([64, 64, 128, 128, 128, 256])\n",
      "\tmodel.disc_steps - 1 (5)\n",
      "\tmodel.generator.channels - [256, 128, 128, 128, 64, 64, 64] ([256, 128, 128, 128, 64, 64])\n",
      "\n",
      "99) celeba-fdvae_0076-5920870-9_191213-201051\n",
      "\tmodel.channels - [64, 64, 64, 128, 128, 128, 256] ([64, 64, 128, 128, 128, 256])\n",
      "\tmodel.disc_steps - 1 (5)\n",
      "\tmodel.generator.channels - [256, 128, 128, 128, 64, 64, 64] ([256, 128, 128, 128, 64, 64])\n",
      "\n",
      "100) celeba-fdwae_0076-5920870-8_191213-201050\n",
      "\tmodel.channels - [64, 64, 64, 128, 128, 128, 256] ([64, 64, 128, 128, 128, 256])\n",
      "\tmodel.disc_steps - 1 (5)\n",
      "\tmodel.generator.channels - [256, 128, 128, 128, 64, 64, 64] ([256, 128, 128, 128, 64, 64])\n",
      "\n",
      "101) celeba-fvae_0076-5920870-3_191213-201050\n",
      "\tmodel.channels - [64, 64, 64, 128, 128, 128, 256] ([64, 64, 128, 128, 128, 256])\n",
      "\tmodel.disc_steps - 1 (5)\n",
      "\tmodel.generator.channels - [256, 128, 128, 128, 64, 64, 64] ([256, 128, 128, 128, 64, 64])\n",
      "\n",
      "102) celeba-fwae_0076-5920870-2_191213-201050\n",
      "\tmodel.channels - [64, 64, 64, 128, 128, 128, 256] ([64, 64, 128, 128, 128, 256])\n",
      "\tmodel.disc_steps - 1 (5)\n",
      "\tmodel.generator.channels - [256, 128, 128, 128, 64, 64, 64] ([256, 128, 128, 128, 64, 64])\n",
      "\n",
      "103) celeba-vae_0076-5920870-1_191213-201049\n",
      "\tmodel.channels - [64, 64, 64, 128, 128, 128, 256] ([64, 64, 128, 128, 128, 256])\n",
      "\tmodel.disc_steps - 1 (5)\n",
      "\tmodel.generator.channels - [256, 128, 128, 128, 64, 64, 64] ([256, 128, 128, 128, 64, 64])\n",
      "\n",
      "104) celeba-wae_0076-5920870-0_191213-201050\n",
      "\tmodel.channels - [64, 64, 64, 128, 128, 128, 256] ([64, 64, 128, 128, 128, 256])\n",
      "\tmodel.disc_steps - 1 (5)\n",
      "\tmodel.generator.channels - [256, 128, 128, 128, 64, 64, 64] ([256, 128, 128, 128, 64, 64])\n",
      "\n",
      "105) celeba-wgan_0076-5920870-4_191213-201050\n",
      "\tmodel.channels - [64, 64, 64, 128, 128, 128, 256] ([64, 64, 128, 128, 128, 256])\n",
      "\tmodel.disc_steps - 1 (5)\n",
      "\tmodel.generator.channels - [256, 128, 128, 128, 64, 64, 64] ([256, 128, 128, 128, 64, 64])\n",
      "\n",
      "106) celeba-wpp_0076-5920870-5_191213-201049\n",
      "\tmodel.channels - [64, 64, 64, 128, 128, 128, 256] ([64, 64, 128, 128, 128, 256])\n",
      "\tmodel.disc_steps - 1 (5)\n",
      "\tmodel.generator.channels - [256, 128, 128, 128, 64, 64, 64] ([256, 128, 128, 128, 64, 64])\n",
      "\n",
      "107) zceleba-dvae_0084-5923854-07_191218-135331\n",
      "\tmodel.disc_steps - 1 (5)\n",
      "\n",
      "108) zceleba-dwae_0084-5923854-06_191218-135335\n",
      "\tmodel.disc_steps - 1 (5)\n",
      "\n",
      "109) zceleba-fdvae_0084-5923854-09_191218-135331\n",
      "\tmodel.disc_steps - 1 (5)\n",
      "\n",
      "110) zceleba-fdvae_0084-5923854-11_191218-135331\n",
      "\tmodel.disc_steps - 1 (5)\n",
      "\tmodel.prob - 0.5 (1)\n",
      "\n",
      "111) zceleba-fdwae_0084-5923854-08_191218-135333\n",
      "\tmodel.disc_steps - 1 (5)\n",
      "\n",
      "112) zceleba-fdwae_0084-5923854-10_191218-135331\n",
      "\tmodel.disc_steps - 1 (5)\n",
      "\tmodel.prob - 0.5 (1)\n",
      "\n",
      "113) zceleba-fvae_0084-5923854-03_191218-135331\n",
      "\tmodel.disc_steps - 1 (5)\n",
      "\n",
      "114) zceleba-fwae_0084-5923854-02_191218-135330\n",
      "\tmodel.disc_steps - 1 (5)\n",
      "\n",
      "115) zceleba-vae_0084-5923854-01_191218-135332\n",
      "\tmodel.disc_steps - 1 (5)\n",
      "\n",
      "116) zceleba-wae_0084-5923854-00_191218-135333\n",
      "\tmodel.disc_steps - 1 (5)\n",
      "\n",
      "117) zceleba-wgan_0084-5923854-04_191218-135334\n",
      "\tmodel.disc_steps - 1 (5)\n",
      "\n",
      "118) zceleba-wgan_0085-5925596-00_191218-171725\n",
      "\n",
      "119) zceleba-wpp_0084-5923854-05_191218-135332\n",
      "\tmodel.disc_steps - 1 (5)\n",
      "\n"
     ]
    }
   ],
   "source": [
    "ignore = None\n",
    "# ignore = ['disc_steps']\n",
    "M.show_unique(ignore)"
   ]
  },
  {
   "cell_type": "code",
   "execution_count": 5,
   "metadata": {
    "pycharm": {
     "is_executing": false
    }
   },
   "outputs": [
    {
     "name": "stderr",
     "output_type": "stream",
     "text": [
      "Unable to get first event timestamp for run 33__3dshapes__fdvae__disc_steps=1__gan_wt=0p001: No event timestamp could be found\n",
      "Unable to get first event timestamp for run 43__3dshapes__fvae__disc_steps=1__gan_wt=0p0001: No event timestamp could be found\n"
     ]
    }
   ],
   "source": [
    "M.link('{idx}__{dataset}__{model}__{unique}')"
   ]
  },
  {
   "cell_type": "code",
   "execution_count": 6,
   "metadata": {
    "pycharm": {
     "is_executing": false
    }
   },
   "outputs": [],
   "source": [
    "# M.link('{name}__{unique}')"
   ]
  },
  {
   "cell_type": "code",
   "execution_count": 6,
   "metadata": {},
   "outputs": [],
   "source": [
    "# os.listdir(M.tbout)"
   ]
  },
  {
   "cell_type": "code",
   "execution_count": 9,
   "metadata": {
    "pycharm": {
     "is_executing": false
    }
   },
   "outputs": [],
   "source": [
    "M.clear_links()"
   ]
  },
  {
   "cell_type": "code",
   "execution_count": 8,
   "metadata": {
    "pycharm": {
     "is_executing": false
    }
   },
   "outputs": [
    {
     "data": {
      "text/plain": [
       "'/is/ei/fleeb/workspace/trained_nets/managed'"
      ]
     },
     "execution_count": 8,
     "metadata": {},
     "output_type": "execute_result"
    }
   ],
   "source": [
    "M.tbout"
   ]
  },
  {
   "cell_type": "code",
   "execution_count": null,
   "metadata": {
    "pycharm": {
     "is_executing": false
    }
   },
   "outputs": [],
   "source": []
  },
  {
   "cell_type": "code",
   "execution_count": 18,
   "metadata": {},
   "outputs": [],
   "source": [
    "import json"
   ]
  },
  {
   "cell_type": "code",
   "execution_count": 19,
   "metadata": {},
   "outputs": [
    {
     "data": {
      "text/plain": [
       "[10, 2, 3]"
      ]
     },
     "execution_count": 19,
     "metadata": {},
     "output_type": "execute_result"
    }
   ],
   "source": [
    "json.loads('[10,2,3]')"
   ]
  },
  {
   "cell_type": "code",
   "execution_count": null,
   "metadata": {},
   "outputs": [],
   "source": []
  },
  {
   "cell_type": "code",
   "execution_count": null,
   "metadata": {
    "pycharm": {
     "is_executing": false
    }
   },
   "outputs": [],
   "source": []
  },
  {
   "cell_type": "code",
   "execution_count": null,
   "metadata": {
    "pycharm": {
     "is_executing": false
    }
   },
   "outputs": [],
   "source": [
    "saveroot = os.environ['FOUNDATION_SAVE_DIR']\n",
    "saveroot"
   ]
  },
  {
   "cell_type": "code",
   "execution_count": null,
   "metadata": {
    "pycharm": {
     "is_executing": false
    }
   },
   "outputs": [],
   "source": [
    "for name in os.listdir(saveroot):\n",
    "    path = os.path.join(saveroot, name)\n",
    "    if 'config.yml' in os.listdir(path):\n",
    "        print(name,end=' ')\n",
    "        with open(os.path.join(path, 'config.yml'), 'r') as f:\n",
    "            data = yaml.load(f)\n",
    "        break\n",
    "#         if 'parents' in data:\n",
    "#             del data['parents']\n",
    "#             with open(os.path.join(path, 'config.yml'), 'w') as f:\n",
    "#                 yaml.dump(data, f)\n",
    "#             print('fixed')\n",
    "#         else:\n",
    "#             print()"
   ]
  },
  {
   "cell_type": "code",
   "execution_count": null,
   "metadata": {
    "pycharm": {
     "is_executing": false
    }
   },
   "outputs": [],
   "source": [
    "data['parents']"
   ]
  },
  {
   "cell_type": "code",
   "execution_count": null,
   "metadata": {
    "pycharm": {
     "is_executing": false
    }
   },
   "outputs": [],
   "source": []
  }
 ],
 "metadata": {
  "kernelspec": {
   "display_name": "Python 3",
   "language": "python",
   "name": "python3"
  },
  "language_info": {
   "codemirror_mode": {
    "name": "ipython",
    "version": 3
   },
   "file_extension": ".py",
   "mimetype": "text/x-python",
   "name": "python",
   "nbconvert_exporter": "python",
   "pygments_lexer": "ipython3",
   "version": "3.7.3"
  },
  "pycharm": {
   "stem_cell": {
    "cell_type": "raw",
    "metadata": {
     "collapsed": false
    },
    "source": []
   }
  }
 },
 "nbformat": 4,
 "nbformat_minor": 2
}
