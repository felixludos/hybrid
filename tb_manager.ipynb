{
 "cells": [
  {
   "cell_type": "code",
   "execution_count": 1,
   "metadata": {
    "pycharm": {
     "is_executing": false
    }
   },
   "outputs": [],
   "source": [
    "import sys, os, time\n",
    "# %load_ext autoreload\n",
    "# %autoreload 2\n",
    "os.environ['FOUNDATION_RUN_MODE'] = 'jupyter'\n",
    "os.environ['FOUNDATION_SAVE_DIR'] = '/is/ei/fleeb/workspace/chome/trained_nets'\n",
    "os.environ['FOUNDATION_DATA_DIR'] = '/is/ei/fleeb/workspace/local_data'\n",
    "# from IPython.core.interactiveshell import InteractiveShell\n",
    "# InteractiveShell.ast_node_interactivity = \"all\"\n",
    "from IPython import display\n",
    "import torch\n",
    "import torch.nn as nn\n",
    "import torch.nn.functional as F\n",
    "import torch.distributions as distrib\n",
    "import torch.multiprocessing as mp\n",
    "import torchvision.models\n",
    "import torchvision\n",
    "from torch.utils.data import Dataset, DataLoader, TensorDataset\n",
    "import gym\n",
    "import numpy as np\n",
    "%matplotlib notebook\n",
    "# %matplotlib tk\n",
    "import matplotlib.pyplot as plt\n",
    "import imageio\n",
    "import seaborn as sns\n",
    "#plt.switch_backend('Qt5Agg') #('Qt5Agg')\n",
    "import foundation as fd\n",
    "from foundation import models\n",
    "from foundation import util\n",
    "from foundation import train\n",
    "#from foundation.util import replicate, Cloner\n",
    "\n",
    "from hybrid import get_model, get_data\n",
    "\n",
    "np.set_printoptions(linewidth=120, suppress=True)"
   ]
  },
  {
   "cell_type": "code",
   "execution_count": 2,
   "metadata": {
    "pycharm": {
     "is_executing": false
    }
   },
   "outputs": [
    {
     "name": "stdout",
     "output_type": "stream",
     "text": [
      "/is/ei/fleeb/workspace/trained_nets/managed is available to view runs on tensorboard\n"
     ]
    },
    {
     "name": "stderr",
     "output_type": "stream",
     "text": [
      "/is/ei/fleeb/workspace/foundation/foundation/train/config.py:58: YAMLLoadWarning: calling yaml.load() without Loader=... is deprecated, as the default Loader is unsafe. Please read https://msg.pyyaml.org/load for full details.\n",
      "  data = yaml.load(f)\n"
     ]
    },
    {
     "name": "stdout",
     "output_type": "stream",
     "text": [
      "Found 173 runs\n",
      "Tensorboard started: http://localhost:6006/\n"
     ]
    }
   ],
   "source": [
    "M = train.Run_Manager(tbout='/is/ei/fleeb/workspace/trained_nets/managed')\n",
    "M.clear_links()\n",
    "M.start_tb()"
   ]
  },
  {
   "cell_type": "code",
   "execution_count": 3,
   "metadata": {
    "pycharm": {
     "is_executing": false
    },
    "scrolled": true
   },
   "outputs": [
    {
     "name": "stdout",
     "output_type": "stream",
     "text": [
      "  0 - atari-fdwae_0144-5988348-03_200116-145417\n",
      "  1 - atari-fdwae_0145-5988349-04_200116-145444\n",
      "  2 - atari-fdwae_0160-5988664-03_200116-190055\n",
      "  3 - atari-fdwae_0161-5988667-04_200116-190600\n",
      "  4 - atari-fvae_0144-5988348-02_200116-145418\n",
      "  5 - atari-fvae_0145-5988349-03_200116-145443\n",
      "  6 - atari-fvae_0160-5988664-02_200116-190055\n",
      "  7 - atari-fvae_0161-5988667-03_200116-190600\n",
      "  8 - atari-vae_0144-5988348-01_200116-145450\n",
      "  9 - atari-vae_0145-5988349-02_200116-145444\n",
      " 10 - atari-vae_0160-5988664-01_200116-190056\n",
      " 11 - atari-vae_0161-5988667-02_200116-190600\n",
      " 12 - atari-wae_0144-5988348-00_200116-145418\n",
      " 13 - atari-wae_0145-5988349-00_200116-145444\n",
      " 14 - atari-wae_0145-5988349-01_200116-145523\n",
      " 15 - atari-wae_0160-5988664-00_200116-190055\n",
      " 16 - atari-wae_0161-5988667-00_200116-190600\n",
      " 17 - atari-wae_0161-5988667-01_200116-190600\n",
      " 18 - atari-wgan_0145-5988349-05_200116-145443\n",
      " 19 - atari-wgan_0161-5988667-05_200116-190600\n"
     ]
    }
   ],
   "source": [
    "#M.show()\n",
    "M.clear_filters().select(model=None, dataset='atari').filter(lambda r: not 'test' in r.name)\n",
    "# M.filter(lambda r: '200108' in r.name or '200109' in r.name or '200110' in r.name)\n",
    "# M.filter(lambda r: '191218' in r.name)\n",
    "\n",
    "# M.filter_idx(7, 5, 27, 23, 34, 16, 15, 13, 30, 28, 10, 12, 18, 21, 0, 1, 72, 73, 74, 67, 66, 57)\n",
    "\n",
    "\n",
    "M.show()"
   ]
  },
  {
   "cell_type": "code",
   "execution_count": 4,
   "metadata": {
    "pycharm": {
     "is_executing": false
    },
    "scrolled": true
   },
   "outputs": [
    {
     "name": "stdout",
     "output_type": "stream",
     "text": [
      "0) atari-fdwae_0144-5988348-03_200116-145417\n",
      "\tmodel.nonlin - elu (prelu)\n",
      "\tmodel.scheduler_type - plateau (step)\n",
      "\tmodel.prob - 0.5 (1)\n",
      "\tmodel.down_type - max (_)\n",
      "\tmodel.up_type - bilinear (_)\n",
      "\tgame - asterix (_)\n",
      "\n",
      "1) atari-fdwae_0145-5988349-04_200116-145444\n",
      "\tmodel.nonlin - elu (prelu)\n",
      "\tmodel.scheduler_type - plateau (step)\n",
      "\tmodel.prob - 0.5 (1)\n",
      "\tmodel.down_type - max (_)\n",
      "\tmodel.up_type - bilinear (_)\n",
      "\tgame - pacman (_)\n",
      "\n",
      "2) atari-fdwae_0160-5988664-03_200116-190055\n",
      "\ttraining.epochs - 60 (100)\n",
      "\tdataset.batch_size - 64 (32)\n",
      "\tmodel.prob - 0.5 (1)\n",
      "\tgame - asterix (_)\n",
      "\tscheduler_patience - 4 (_)\n",
      "\n",
      "3) atari-fdwae_0161-5988667-04_200116-190600\n",
      "\ttraining.epochs - 60 (100)\n",
      "\tdataset.batch_size - 64 (32)\n",
      "\tmodel.prob - 0.5 (1)\n",
      "\tgame - pacman (_)\n",
      "\tscheduler_patience - 4 (_)\n",
      "\n",
      "4) atari-fvae_0144-5988348-02_200116-145418\n",
      "\tmodel.nonlin - elu (prelu)\n",
      "\tmodel.scheduler_type - plateau (step)\n",
      "\tmodel.down_type - max (_)\n",
      "\tmodel.up_type - bilinear (_)\n",
      "\tgame - asterix (_)\n",
      "\n",
      "5) atari-fvae_0145-5988349-03_200116-145443\n",
      "\tmodel.nonlin - elu (prelu)\n",
      "\tmodel.scheduler_type - plateau (step)\n",
      "\tmodel.down_type - max (_)\n",
      "\tmodel.up_type - bilinear (_)\n",
      "\tgame - pacman (_)\n",
      "\n",
      "6) atari-fvae_0160-5988664-02_200116-190055\n",
      "\ttraining.epochs - 60 (100)\n",
      "\tdataset.batch_size - 64 (32)\n",
      "\tgame - asterix (_)\n",
      "\tscheduler_patience - 4 (_)\n",
      "\n",
      "7) atari-fvae_0161-5988667-03_200116-190600\n",
      "\ttraining.epochs - 60 (100)\n",
      "\tdataset.batch_size - 64 (32)\n",
      "\tgame - pacman (_)\n",
      "\tscheduler_patience - 4 (_)\n",
      "\n",
      "8) atari-vae_0144-5988348-01_200116-145450\n",
      "\tmodel.nonlin - elu (prelu)\n",
      "\tmodel.scheduler_type - plateau (step)\n",
      "\tmodel.down_type - max (_)\n",
      "\tmodel.up_type - bilinear (_)\n",
      "\tgame - asterix (_)\n",
      "\n",
      "9) atari-vae_0145-5988349-02_200116-145444\n",
      "\tmodel.nonlin - elu (prelu)\n",
      "\tmodel.scheduler_type - plateau (step)\n",
      "\tmodel.down_type - max (_)\n",
      "\tmodel.up_type - bilinear (_)\n",
      "\tgame - pacman (_)\n",
      "\n",
      "10) atari-vae_0160-5988664-01_200116-190056\n",
      "\ttraining.epochs - 60 (100)\n",
      "\tdataset.batch_size - 64 (32)\n",
      "\tgame - asterix (_)\n",
      "\tscheduler_patience - 4 (_)\n",
      "\n",
      "11) atari-vae_0161-5988667-02_200116-190600\n",
      "\ttraining.epochs - 60 (100)\n",
      "\tdataset.batch_size - 64 (32)\n",
      "\tgame - pacman (_)\n",
      "\tscheduler_patience - 4 (_)\n",
      "\n",
      "12) atari-wae_0144-5988348-00_200116-145418\n",
      "\tmodel.nonlin - elu (prelu)\n",
      "\tmodel.scheduler_type - plateau (step)\n",
      "\tmodel.down_type - max (_)\n",
      "\tmodel.up_type - bilinear (_)\n",
      "\tgame - asterix (_)\n",
      "\n",
      "13) atari-wae_0145-5988349-00_200116-145444\n",
      "\tgame - pacman (_)\n",
      "\n",
      "14) atari-wae_0145-5988349-01_200116-145523\n",
      "\tmodel.nonlin - elu (prelu)\n",
      "\tmodel.scheduler_type - plateau (step)\n",
      "\tmodel.down_type - max (_)\n",
      "\tmodel.up_type - bilinear (_)\n",
      "\tgame - pacman (_)\n",
      "\n",
      "15) atari-wae_0160-5988664-00_200116-190055\n",
      "\ttraining.epochs - 60 (100)\n",
      "\tdataset.batch_size - 64 (32)\n",
      "\tgame - asterix (_)\n",
      "\tscheduler_patience - 4 (_)\n",
      "\n",
      "16) atari-wae_0161-5988667-00_200116-190600\n",
      "\ttraining.epochs - 60 (100)\n",
      "\tdataset.batch_size - 64 (32)\n",
      "\tgame - pacman (_)\n",
      "\tscheduler_patience - 4 (_)\n",
      "\n",
      "17) atari-wae_0161-5988667-01_200116-190600\n",
      "\ttraining.epochs - 60 (100)\n",
      "\tdataset.batch_size - 64 (32)\n",
      "\tgame - pacman (_)\n",
      "\tscheduler_patience - 4 (_)\n",
      "\n",
      "18) atari-wgan_0145-5988349-05_200116-145443\n",
      "\tmodel.nonlin - elu (prelu)\n",
      "\tmodel.down_type - max (_)\n",
      "\tmodel.up_type - bilinear (_)\n",
      "\tgame - pacman (_)\n",
      "\n",
      "19) atari-wgan_0161-5988667-05_200116-190600\n",
      "\ttraining.epochs - 60 (100)\n",
      "\tdataset.batch_size - 64 (32)\n",
      "\tgame - pacman (_)\n",
      "\tscheduler_patience - 4 (_)\n",
      "\n"
     ]
    }
   ],
   "source": [
    "ignore = None\n",
    "ignore = ['disc_steps']\n",
    "M.show_unique(ignore)"
   ]
  },
  {
   "cell_type": "code",
   "execution_count": 8,
   "metadata": {
    "pycharm": {
     "is_executing": false
    }
   },
   "outputs": [
    {
     "name": "stderr",
     "output_type": "stream",
     "text": [
      "Unable to get first event timestamp for run 0102-5966133-06__dwae__generator.splits=4__generator.adain_latent_dim=16__generator.full_latent_dim=16__prob=0p5: No event timestamp could be found\n"
     ]
    }
   ],
   "source": [
    "# M.link('{idx}__{model}__{unique}')\n",
    "M.link('{job}__{model}__{unique}')"
   ]
  },
  {
   "cell_type": "code",
   "execution_count": 6,
   "metadata": {
    "pycharm": {
     "is_executing": false
    }
   },
   "outputs": [],
   "source": [
    "# M.link('{name}__{unique}')"
   ]
  },
  {
   "cell_type": "code",
   "execution_count": 6,
   "metadata": {},
   "outputs": [],
   "source": [
    "# os.listdir(M.tbout)"
   ]
  },
  {
   "cell_type": "code",
   "execution_count": 9,
   "metadata": {
    "pycharm": {
     "is_executing": false
    }
   },
   "outputs": [],
   "source": [
    "M.clear_links()"
   ]
  },
  {
   "cell_type": "code",
   "execution_count": 8,
   "metadata": {
    "pycharm": {
     "is_executing": false
    }
   },
   "outputs": [
    {
     "data": {
      "text/plain": [
       "'/is/ei/fleeb/workspace/trained_nets/managed'"
      ]
     },
     "execution_count": 8,
     "metadata": {},
     "output_type": "execute_result"
    }
   ],
   "source": [
    "M.tbout"
   ]
  },
  {
   "cell_type": "code",
   "execution_count": 9,
   "metadata": {
    "pycharm": {
     "is_executing": false
    }
   },
   "outputs": [
    {
     "data": {
      "text/plain": [
       "odict_keys(['name', 'path', 'ckpt_path', 'config', 'base', 'diffs'])"
      ]
     },
     "execution_count": 9,
     "metadata": {},
     "output_type": "execute_result"
    }
   ],
   "source": [
    "M.active[0].keys()"
   ]
  },
  {
   "cell_type": "code",
   "execution_count": 10,
   "metadata": {},
   "outputs": [
    {
     "data": {
      "text/plain": [
       "{{'ID':'5966131', 'num':'100', 'ps':'7', '_ipython_canary_method_should_not_exist_':{{}}}}"
      ]
     },
     "execution_count": 10,
     "metadata": {},
     "output_type": "execute_result"
    }
   ],
   "source": [
    "M.active[0].config.info.job"
   ]
  },
  {
   "cell_type": "code",
   "execution_count": 15,
   "metadata": {},
   "outputs": [
    {
     "data": {
      "text/plain": [
       "'0100-5966131-07'"
      ]
     },
     "execution_count": 15,
     "metadata": {},
     "output_type": "execute_result"
    }
   ],
   "source": [
    "M.active[0].config.name.split('_')[-1]"
   ]
  },
  {
   "cell_type": "code",
   "execution_count": null,
   "metadata": {},
   "outputs": [],
   "source": []
  },
  {
   "cell_type": "code",
   "execution_count": 7,
   "metadata": {},
   "outputs": [
    {
     "data": {
      "text/plain": [
       "'/is/ei/fleeb/workspace/chome/trained_nets'"
      ]
     },
     "execution_count": 7,
     "metadata": {},
     "output_type": "execute_result"
    }
   ],
   "source": [
    "root = os.environ['FOUNDATION_SAVE_DIR']\n",
    "root"
   ]
  },
  {
   "cell_type": "code",
   "execution_count": 8,
   "metadata": {
    "scrolled": true
   },
   "outputs": [
    {
     "name": "stdout",
     "output_type": "stream",
     "text": [
      "3dshapes-dvae_0100-5966131-07_200109-133026 : 113\n",
      "3dshapes-dvae_0101-5966132-01_200109-133045 : 114\n",
      "3dshapes-dvae_0101-5966132-02_200109-133053 : 113\n",
      "3dshapes-dvae_0102-5966133-07_200109-133118 : 113\n",
      "3dshapes-dvae_0102-5966133-08_200109-133107 : 113\n",
      "3dshapes-dvae_0122-5969012-01_200110-140610 : 113\n",
      "3dshapes-dvae_0122-5969012-02_200110-140616 : 113\n",
      "3dshapes-dwae_0094-5966044-04_200108-175514 : 113\n",
      "3dshapes-dwae_0095-5966045-04_200108-175850 : 113\n",
      "3dshapes-dwae_0096-5966047-04_200108-175913 : 113\n",
      "3dshapes-dwae_0097-5966051-04_200108-181233 : 113\n",
      "3dshapes-dwae_0100-5966131-05_200109-133027 : 113\n",
      "3dshapes-dwae_0100-5966131-06_200109-133124 : 113\n",
      "3dshapes-dwae_0101-5966132-00_200109-133044 : 113\n",
      "3dshapes-dwae_0102-5966133-05_200109-133202 : 113\n",
      "3dshapes-dwae_0102-5966133-06_200109-133106 : 113\n",
      "3dshapes-dwae_0122-5969012-00_200110-140613 : 113\n",
      "3dshapes-fdwae_0094-5966044-05_200108-175529 : 113\n",
      "3dshapes-fdwae_0095-5966045-05_200108-175832 : 113\n",
      "3dshapes-fdwae_0096-5966047-05_200108-175918 : 113\n",
      "3dshapes-fdwae_0097-5966051-05_200108-181229 : 113\n",
      "3dshapes-fdwae_0100-5966131-09_200109-133028 : 113\n",
      "3dshapes-fdwae_0100-5966131-10_200109-133027 : 113\n",
      "3dshapes-fdwae_0101-5966132-03_200109-133045 : 113\n",
      "3dshapes-fdwae_0102-5966133-09_200109-133120 : 113\n",
      "3dshapes-fdwae_0102-5966133-10_200109-133109 : 113\n",
      "3dshapes-fdwae_0122-5969012-03_200110-140612 : 113\n",
      "3dshapes-fvae_0094-5966044-02_200108-175515 : 113\n",
      "3dshapes-fvae_0095-5966045-02_200108-175831 : 113\n",
      "3dshapes-fvae_0096-5966047-02_200108-175932 : 113\n",
      "3dshapes-fvae_0097-5966051-02_200108-181229 : 113\n",
      "3dshapes-fvae_0100-5966131-03_200109-133036 : 113\n",
      "3dshapes-fvae_0102-5966133-03_200109-133107 : 113\n",
      "3dshapes-fwae_0094-5966044-01_200108-175506 : 113\n",
      "3dshapes-fwae_0095-5966045-01_200108-175843 : 113\n",
      "3dshapes-fwae_0096-5966047-01_200108-175918 : 113\n",
      "3dshapes-fwae_0097-5966051-01_200108-181248 : 113\n",
      "3dshapes-fwae_0100-5966131-02_200109-133028 : 113\n",
      "3dshapes-fwae_0102-5966133-02_200109-133116 : 116\n",
      "3dshapes-vae_0094-5966044-00_200108-175528 : 113\n",
      "3dshapes-vae_0095-5966045-00_200108-175855 : 113\n",
      "3dshapes-vae_0096-5966047-00_200108-175918 : 113\n",
      "3dshapes-vae_0097-5966051-00_200108-181230 : 113\n",
      "3dshapes-vae_0100-5966131-01_200109-133046 : 113\n",
      "3dshapes-vae_0102-5966133-01_200109-133106 : 113\n",
      "3dshapes-wae_0100-5966131-00_200109-133025 : 113\n",
      "3dshapes-wae_0102-5966133-00_200109-133106 : 113\n",
      "3dshapes-wae_0104-5966143-00_200109-141333 : 113\n",
      "3dshapes-wgan_0094-5966044-06_200108-175507 : 113\n",
      "3dshapes-wgan_0095-5966045-06_200108-175835 : 113\n",
      "3dshapes-wgan_0096-5966047-06_200108-175919 : 113\n",
      "3dshapes-wgan_0097-5966051-06_200108-181229 : 113\n",
      "3dshapes-wgan_0100-5966131-11_200109-133028 : 113\n",
      "3dshapes-wgan_0103-5966136-00_200109-133811 : 113\n",
      "3dshapes-wpp_0094-5966044-03_200108-175513 : 113\n",
      "3dshapes-wpp_0095-5966045-03_200108-175832 : 113\n",
      "3dshapes-wpp_0097-5966051-03_200108-181238 : 113\n",
      "3dshapes-wpp_0100-5966131-04_200109-133027 : 113\n",
      "3dshapes-wpp_0102-5966133-04_200109-133106 : 113\n"
     ]
    }
   ],
   "source": [
    "for r in M.active:\n",
    "    n = r.name\n",
    "    num = len(os.listdir(os.path.join(root, n)))\n",
    "    if num > 100:\n",
    "        print('{} : {}'.format(n, num))"
   ]
  },
  {
   "cell_type": "code",
   "execution_count": null,
   "metadata": {},
   "outputs": [],
   "source": []
  },
  {
   "cell_type": "code",
   "execution_count": 18,
   "metadata": {},
   "outputs": [],
   "source": [
    "import json"
   ]
  },
  {
   "cell_type": "code",
   "execution_count": 19,
   "metadata": {},
   "outputs": [
    {
     "data": {
      "text/plain": [
       "[10, 2, 3]"
      ]
     },
     "execution_count": 19,
     "metadata": {},
     "output_type": "execute_result"
    }
   ],
   "source": [
    "json.loads('[10,2,3]')"
   ]
  },
  {
   "cell_type": "code",
   "execution_count": null,
   "metadata": {},
   "outputs": [],
   "source": []
  },
  {
   "cell_type": "code",
   "execution_count": 18,
   "metadata": {
    "pycharm": {
     "is_executing": false
    }
   },
   "outputs": [
    {
     "data": {
      "text/plain": [
       "'/is/ei/fleeb/workspace/chome/trained_nets'"
      ]
     },
     "execution_count": 18,
     "metadata": {},
     "output_type": "execute_result"
    }
   ],
   "source": [
    "saveroot = os.environ['FOUNDATION_SAVE_DIR']\n",
    "saveroot"
   ]
  },
  {
   "cell_type": "code",
   "execution_count": 19,
   "metadata": {},
   "outputs": [
    {
     "name": "stdout",
     "output_type": "stream",
     "text": [
      "3dshapes-vae_0090-5965922-00_200108-160038\n",
      "3dshapes-fwae_0090-5965922-01_200108-160043\n",
      "3dshapes-dwae_0090-5965922-04_200108-160125\n",
      "3dshapes-fdwae_0090-5965922-05_200108-160042\n",
      "3dshapes-wgan_0090-5965922-06_200108-160031\n",
      "3dshapes-vae_0092-5966021-00_200108-171843\n",
      "3dshapes-fwae_0092-5966021-01_200108-171821\n",
      "3dshapes-fvae_0092-5966021-02_200108-171821\n",
      "3dshapes-wpp_0092-5966021-03_200108-171825\n",
      "3dshapes-dwae_0092-5966021-04_200108-171824\n",
      "3dshapes-fdwae_0092-5966021-05_200108-171822\n",
      "3dshapes-wgan_0093-5966029-00_200108-172349\n",
      "3dshapes-wpp_0098-5966052-00_200108-181326\n",
      "3dshapes-wae_0099-5966123-00_200109-125342\n",
      "3dshapes-dvae_0100-5966131-08_200109-133040\n",
      "3dshapes-fvae_0106-5966166-00_200109-154555\n",
      "redball-wpp_0132-5971295-04_200113-165212\n",
      "redball-dwae_0132-5971295-05_200113-165215\n",
      "redball-fdwae_0132-5971295-07_200113-165209\n",
      "redball-fdwae_0132-5971295-08_200113-165209\n",
      "redball-wae_0133-5971579-00_200114-120657\n",
      "redball-vae_0133-5971579-01_200114-120657\n",
      "redball-fwae_0133-5971579-02_200114-120657\n",
      "redball-fvae_0133-5971579-03_200114-120656\n",
      "redball-wpp_0133-5971579-04_200114-120701\n",
      "redball-dwae_0133-5971579-05_200114-120701\n",
      "redball-dvae_0133-5971579-06_200114-120657\n",
      "redball-fdwae_0133-5971579-07_200114-120700\n",
      "redball-fdwae_0133-5971579-08_200114-120700\n",
      "redball-wgan_0133-5971579-09_200114-120657\n",
      "redball-wae_0134-5971580-00_200114-120742\n",
      "redball-vae_0134-5971580-01_200114-120743\n",
      "redball-fwae_0134-5971580-02_200114-120742\n",
      "redball-fvae_0134-5971580-03_200114-120741\n",
      "redball-wpp_0134-5971580-04_200114-120742\n",
      "redball-dwae_0134-5971580-05_200114-120742\n",
      "redball-dvae_0134-5971580-06_200114-120742\n",
      "redball-fdwae_0134-5971580-07_200114-120742\n",
      "redball-fdwae_0134-5971580-08_200114-120742\n",
      "redball-wgan_0134-5971580-09_200114-120742\n",
      "atari-wae_0144-5988348-00_200116-145418\n",
      "atari-vae_0144-5988348-01_200116-145450\n",
      "atari-fvae_0144-5988348-02_200116-145418\n",
      "atari-fdwae_0144-5988348-03_200116-145417\n",
      "atari-wae_0145-5988349-00_200116-145444\n",
      "atari-wae_0145-5988349-01_200116-145523\n",
      "atari-vae_0145-5988349-02_200116-145444\n",
      "atari-fvae_0145-5988349-03_200116-145443\n",
      "atari-fdwae_0145-5988349-04_200116-145444\n",
      "atari-wgan_0145-5988349-05_200116-145443\n",
      "3dshapes-dwae_0157-5988475-00_200116-175620\n",
      "3dshapes-fdwae_0158-5988518-00_200116-182106\n",
      "atari-wae_0160-5988664-00_200116-190055\n",
      "atari-vae_0160-5988664-01_200116-190056\n",
      "atari-fvae_0160-5988664-02_200116-190055\n",
      "atari-fdwae_0160-5988664-03_200116-190055\n",
      "atari-wae_0161-5988667-00_200116-190600\n",
      "atari-wae_0161-5988667-01_200116-190600\n",
      "atari-vae_0161-5988667-02_200116-190600\n",
      "atari-fvae_0161-5988667-03_200116-190600\n",
      "atari-fdwae_0161-5988667-04_200116-190600\n",
      "atari-wgan_0161-5988667-05_200116-190600\n",
      "test-pycharm_200109-170328\n",
      "test-pycharm_200116-124428\n",
      "test-pycharm_200116-124746\n",
      "test-pycharm_200116-124838\n",
      "test-pycharm_200116-124935\n",
      "test-pycharm_200116-124945\n",
      "test-pycharm_200116-125113\n",
      "test-pycharm_200116-125210\n",
      "test-pycharm_200116-130142\n",
      "test-pycharm_200116-130202\n",
      "test-pycharm_200116-130427\n",
      "test-cmd_200116-174823\n",
      "test-cmd_200116-175650\n",
      "test-cmd_200116-184315\n",
      "test-cmd_200116-190000\n",
      "test-cmd_200116-190020\n"
     ]
    }
   ],
   "source": [
    "for name in sorted(os.listdir(saveroot), key=lambda x: x.split('_')[1]):\n",
    "    try:\n",
    "        if 'checkpoint_100.pth.tar' not in os.listdir(os.path.join(saveroot, name)):\n",
    "            print(name)\n",
    "    except (FileNotFoundError, NotADirectoryError):\n",
    "#         print('ERROR: {}'.format(name))\n",
    "        pass"
   ]
  },
  {
   "cell_type": "code",
   "execution_count": null,
   "metadata": {},
   "outputs": [],
   "source": []
  },
  {
   "cell_type": "code",
   "execution_count": null,
   "metadata": {},
   "outputs": [],
   "source": []
  },
  {
   "cell_type": "code",
   "execution_count": null,
   "metadata": {},
   "outputs": [],
   "source": []
  },
  {
   "cell_type": "code",
   "execution_count": null,
   "metadata": {
    "pycharm": {
     "is_executing": false
    }
   },
   "outputs": [],
   "source": [
    "for name in os.listdir(saveroot):\n",
    "    path = os.path.join(saveroot, name)\n",
    "    if 'config.yml' in os.listdir(path):\n",
    "        print(name,end=' ')\n",
    "        with open(os.path.join(path, 'config.yml'), 'r') as f:\n",
    "            data = yaml.load(f)\n",
    "        break\n",
    "#         if 'parents' in data:\n",
    "#             del data['parents']\n",
    "#             with open(os.path.join(path, 'config.yml'), 'w') as f:\n",
    "#                 yaml.dump(data, f)\n",
    "#             print('fixed')\n",
    "#         else:\n",
    "#             print()"
   ]
  },
  {
   "cell_type": "code",
   "execution_count": null,
   "metadata": {
    "pycharm": {
     "is_executing": false
    }
   },
   "outputs": [],
   "source": [
    "data['parents']"
   ]
  },
  {
   "cell_type": "code",
   "execution_count": null,
   "metadata": {
    "pycharm": {
     "is_executing": false
    }
   },
   "outputs": [],
   "source": []
  }
 ],
 "metadata": {
  "kernelspec": {
   "display_name": "Python 3",
   "language": "python",
   "name": "python3"
  },
  "language_info": {
   "codemirror_mode": {
    "name": "ipython",
    "version": 3
   },
   "file_extension": ".py",
   "mimetype": "text/x-python",
   "name": "python",
   "nbconvert_exporter": "python",
   "pygments_lexer": "ipython3",
   "version": "3.7.3"
  },
  "pycharm": {
   "stem_cell": {
    "cell_type": "raw",
    "metadata": {
     "collapsed": false
    },
    "source": []
   }
  }
 },
 "nbformat": 4,
 "nbformat_minor": 2
}
