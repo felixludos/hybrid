{
 "cells": [
  {
   "cell_type": "code",
   "execution_count": 1,
   "metadata": {
    "pycharm": {
     "is_executing": false
    }
   },
   "outputs": [],
   "source": [
    "import sys, os, time\n",
    "# %load_ext autoreload\n",
    "# %autoreload 2\n",
    "os.environ['FOUNDATION_RUN_MODE'] = 'jupyter'\n",
    "os.environ['FOUNDATION_SAVE_DIR'] = '/is/ei/fleeb/workspace/chome/trained_nets'\n",
    "os.environ['FOUNDATION_DATA_DIR'] = '/is/ei/fleeb/workspace/local_data'\n",
    "# from IPython.core.interactiveshell import InteractiveShell\n",
    "# InteractiveShell.ast_node_interactivity = \"all\"\n",
    "from IPython import display\n",
    "import torch\n",
    "import torch.nn as nn\n",
    "import torch.nn.functional as F\n",
    "import torch.distributions as distrib\n",
    "import torch.multiprocessing as mp\n",
    "import torchvision.models\n",
    "import torchvision\n",
    "from torch.utils.data import Dataset, DataLoader, TensorDataset\n",
    "import gym\n",
    "import numpy as np\n",
    "%matplotlib notebook\n",
    "# %matplotlib tk\n",
    "import matplotlib.pyplot as plt\n",
    "import imageio\n",
    "import seaborn as sns\n",
    "#plt.switch_backend('Qt5Agg') #('Qt5Agg')\n",
    "import foundation as fd\n",
    "from foundation import models\n",
    "from foundation import util\n",
    "from foundation import train\n",
    "#from foundation.util import replicate, Cloner\n",
    "\n",
    "from hybrid import get_model, get_data\n",
    "\n",
    "np.set_printoptions(linewidth=120, suppress=True)"
   ]
  },
  {
   "cell_type": "code",
   "execution_count": 2,
   "metadata": {
    "pycharm": {
     "is_executing": false
    }
   },
   "outputs": [
    {
     "name": "stdout",
     "output_type": "stream",
     "text": [
      "/is/ei/fleeb/workspace/trained_nets/managed is available to view runs on tensorboard\n"
     ]
    },
    {
     "name": "stderr",
     "output_type": "stream",
     "text": [
      "/is/ei/fleeb/workspace/foundation/foundation/train/config.py:58: YAMLLoadWarning: calling yaml.load() without Loader=... is deprecated, as the default Loader is unsafe. Please read https://msg.pyyaml.org/load for full details.\n",
      "  data = yaml.load(f)\n"
     ]
    },
    {
     "name": "stdout",
     "output_type": "stream",
     "text": [
      "Found 206 runs\n",
      "Tensorboard started: http://localhost:6006/\n"
     ]
    }
   ],
   "source": [
    "M = train.Run_Manager(tbout='/is/ei/fleeb/workspace/trained_nets/managed')\n",
    "M.clear_links()\n",
    "M.start_tb()"
   ]
  },
  {
   "cell_type": "code",
   "execution_count": 5,
   "metadata": {
    "pycharm": {
     "is_executing": false
    },
    "scrolled": true
   },
   "outputs": [
    {
     "name": "stdout",
     "output_type": "stream",
     "text": [
      "  0 - 3dshapes-dvae_0100-5966131-07_200109-133026\n",
      "  1 - 3dshapes-dvae_0100-5966131-08_200109-133040\n",
      "  2 - 3dshapes-dvae_0101-5966132-01_200109-133045\n",
      "  3 - 3dshapes-dvae_0101-5966132-02_200109-133053\n",
      "  4 - 3dshapes-dvae_0102-5966133-07_200109-133118\n",
      "  5 - 3dshapes-dvae_0102-5966133-08_200109-133107\n",
      "  6 - 3dshapes-dvae_0122-5969012-01_200110-140610\n",
      "  7 - 3dshapes-dvae_0122-5969012-02_200110-140616\n",
      "  8 - 3dshapes-dwae_0090-5965922-04_200108-160125\n",
      "  9 - 3dshapes-dwae_0092-5966021-04_200108-171824\n",
      " 10 - 3dshapes-dwae_0094-5966044-04_200108-175514\n",
      " 11 - 3dshapes-dwae_0095-5966045-04_200108-175850\n",
      " 12 - 3dshapes-dwae_0096-5966047-04_200108-175913\n",
      " 13 - 3dshapes-dwae_0097-5966051-04_200108-181233\n",
      " 14 - 3dshapes-dwae_0100-5966131-05_200109-133027\n",
      " 15 - 3dshapes-dwae_0100-5966131-06_200109-133124\n",
      " 16 - 3dshapes-dwae_0101-5966132-00_200109-133044\n",
      " 17 - 3dshapes-dwae_0102-5966133-05_200109-133202\n",
      " 18 - 3dshapes-dwae_0102-5966133-06_200109-133106\n",
      " 19 - 3dshapes-dwae_0122-5969012-00_200110-140613\n",
      " 20 - 3dshapes-fdwae_0090-5965922-05_200108-160042\n",
      " 21 - 3dshapes-fdwae_0092-5966021-05_200108-171822\n",
      " 22 - 3dshapes-fdwae_0094-5966044-05_200108-175529\n",
      " 23 - 3dshapes-fdwae_0095-5966045-05_200108-175832\n",
      " 24 - 3dshapes-fdwae_0096-5966047-05_200108-175918\n",
      " 25 - 3dshapes-fdwae_0097-5966051-05_200108-181229\n",
      " 26 - 3dshapes-fdwae_0100-5966131-09_200109-133028\n",
      " 27 - 3dshapes-fdwae_0100-5966131-10_200109-133027\n",
      " 28 - 3dshapes-fdwae_0101-5966132-03_200109-133045\n",
      " 29 - 3dshapes-fdwae_0102-5966133-09_200109-133120\n",
      " 30 - 3dshapes-fdwae_0102-5966133-10_200109-133109\n",
      " 31 - 3dshapes-fdwae_0122-5969012-03_200110-140612\n",
      " 32 - 3dshapes-fvae_0092-5966021-02_200108-171821\n",
      " 33 - 3dshapes-fvae_0094-5966044-02_200108-175515\n",
      " 34 - 3dshapes-fvae_0095-5966045-02_200108-175831\n",
      " 35 - 3dshapes-fvae_0096-5966047-02_200108-175932\n",
      " 36 - 3dshapes-fvae_0097-5966051-02_200108-181229\n",
      " 37 - 3dshapes-fvae_0100-5966131-03_200109-133036\n",
      " 38 - 3dshapes-fvae_0102-5966133-03_200109-133107\n",
      " 39 - 3dshapes-fvae_0106-5966166-00_200109-154555\n",
      " 40 - 3dshapes-fwae_0090-5965922-01_200108-160043\n",
      " 41 - 3dshapes-fwae_0092-5966021-01_200108-171821\n",
      " 42 - 3dshapes-fwae_0094-5966044-01_200108-175506\n",
      " 43 - 3dshapes-fwae_0095-5966045-01_200108-175843\n",
      " 44 - 3dshapes-fwae_0096-5966047-01_200108-175918\n",
      " 45 - 3dshapes-fwae_0097-5966051-01_200108-181248\n",
      " 46 - 3dshapes-fwae_0100-5966131-02_200109-133028\n",
      " 47 - 3dshapes-fwae_0102-5966133-02_200109-133116\n",
      " 48 - 3dshapes-vae_0090-5965922-00_200108-160038\n",
      " 49 - 3dshapes-vae_0092-5966021-00_200108-171843\n",
      " 50 - 3dshapes-vae_0094-5966044-00_200108-175528\n",
      " 51 - 3dshapes-vae_0095-5966045-00_200108-175855\n",
      " 52 - 3dshapes-vae_0096-5966047-00_200108-175918\n",
      " 53 - 3dshapes-vae_0097-5966051-00_200108-181230\n",
      " 54 - 3dshapes-vae_0100-5966131-01_200109-133046\n",
      " 55 - 3dshapes-vae_0102-5966133-01_200109-133106\n",
      " 56 - 3dshapes-wae_0099-5966123-00_200109-125342\n",
      " 57 - 3dshapes-wae_0100-5966131-00_200109-133025\n",
      " 58 - 3dshapes-wae_0102-5966133-00_200109-133106\n",
      " 59 - 3dshapes-wae_0104-5966143-00_200109-141333\n",
      " 60 - 3dshapes-wgan_0090-5965922-06_200108-160031\n",
      " 61 - 3dshapes-wgan_0093-5966029-00_200108-172349\n",
      " 62 - 3dshapes-wgan_0094-5966044-06_200108-175507\n",
      " 63 - 3dshapes-wgan_0095-5966045-06_200108-175835\n",
      " 64 - 3dshapes-wgan_0096-5966047-06_200108-175919\n",
      " 65 - 3dshapes-wgan_0097-5966051-06_200108-181229\n",
      " 66 - 3dshapes-wgan_0100-5966131-11_200109-133028\n",
      " 67 - 3dshapes-wgan_0103-5966136-00_200109-133811\n",
      " 68 - 3dshapes-wpp_0092-5966021-03_200108-171825\n",
      " 69 - 3dshapes-wpp_0094-5966044-03_200108-175513\n",
      " 70 - 3dshapes-wpp_0095-5966045-03_200108-175832\n",
      " 71 - 3dshapes-wpp_0097-5966051-03_200108-181238\n",
      " 72 - 3dshapes-wpp_0098-5966052-00_200108-181326\n",
      " 73 - 3dshapes-wpp_0100-5966131-04_200109-133027\n",
      " 74 - 3dshapes-wpp_0102-5966133-04_200109-133106\n"
     ]
    }
   ],
   "source": [
    "#M.show()\n",
    "M.clear_filters().select(model=None, dataset='3dshapes').filter(lambda r: not 'test' in r.name)\n",
    "M.filter(lambda r: '200108' in r.name or '200109' in r.name or '200110' in r.name)\n",
    "# M.filter(lambda r: '191218' in r.name)\n",
    "\n",
    "# M.filter_idx(7, 5, 27, 23, 34, 16, 15, 13, 30, 28, 10, 12, 18, 21, 0, 1, 72, 73, 74, 67, 66, 57)\n",
    "\n",
    "\n",
    "M.show()"
   ]
  },
  {
   "cell_type": "code",
   "execution_count": 5,
   "metadata": {
    "pycharm": {
     "is_executing": false
    },
    "scrolled": true
   },
   "outputs": [
    {
     "name": "stdout",
     "output_type": "stream",
     "text": [
      "0) 3dshapes-vae_0077-5920872-21_191213-201539\n",
      "\tmodel.up_type - bilinear (nearest)\n",
      "\n",
      "1) 3dshapes-vae_0077-5920872-22_191213-201525\n",
      "\tmodel.latent_reg_wt - 4 (1)\n",
      "\tmodel.up_type - bilinear (nearest)\n",
      "\n",
      "2) 3dshapes-vae_0077-5920872-23_191213-201527\n",
      "\tmodel.latent_reg_wt - 0.25 (1)\n",
      "\tmodel.up_type - bilinear (nearest)\n",
      "\n",
      "3) 3dshapes-vae_0088-5943512-00_191224-232237\n",
      "\n",
      "4) 3dshapes-vae_0089-5943513-01_191224-232610\n",
      "\tmodel.latent_reg_wt - 4 (1)\n",
      "\n",
      "5) 3dshapes-vae_0089-5943513-02_191224-232610\n",
      "\tmodel.latent_reg_wt - 8 (1)\n",
      "\n",
      "6) 3dshapes-vae_0090-5965922-00_200108-160038\n",
      "\tmodel.generator.full_latent_dim - 16 (_)\n",
      "\n",
      "7) 3dshapes-vae_0092-5966021-00_200108-171843\n",
      "\tmodel.generator.full_latent_dim - 16 (_)\n",
      "\n",
      "8) 3dshapes-vae_0094-5966044-00_200108-175528\n",
      "\n",
      "9) 3dshapes-vae_0095-5966045-00_200108-175855\n",
      "\tmodel.latent_dim - 8 (16)\n",
      "\n",
      "10) 3dshapes-vae_0096-5966047-00_200108-175918\n",
      "\tmodel.latent_dim - 32 (16)\n",
      "\n",
      "11) 3dshapes-vae_0097-5966051-00_200108-181230\n",
      "\tmodel.generator.full_latent_dim - 16 (_)\n",
      "\n",
      "12) 3dshapes-vae_0100-5966131-01_200109-133046\n",
      "\tmodel.latent_dim - 8 (16)\n",
      "\tmodel.generator.full_latent_dim - 8 (_)\n",
      "\n",
      "13) 3dshapes-vae_0102-5966133-01_200109-133106\n",
      "\tmodel.generator.splits - 4 (2)\n",
      "\tmodel.generator.adain_latent_dim - 16 (8)\n",
      "\tmodel.generator.full_latent_dim - 16 (_)\n",
      "\n"
     ]
    }
   ],
   "source": [
    "ignore = None\n",
    "ignore = ['disc_steps', '_type']\n",
    "M.show_unique(ignore)"
   ]
  },
  {
   "cell_type": "code",
   "execution_count": 9,
   "metadata": {
    "pycharm": {
     "is_executing": false
    }
   },
   "outputs": [
    {
     "name": "stderr",
     "output_type": "stream",
     "text": [
      "/is/ei/fleeb/workspace/foundation/foundation/train/config.py:58: YAMLLoadWarning: calling yaml.load() without Loader=... is deprecated, as the default Loader is unsafe. Please read https://msg.pyyaml.org/load for full details.\n",
      "  data = yaml.load(f)\n",
      "Unable to get first event timestamp for run 200108-175855__vae__latent_dim=8: No event timestamp could be found\n",
      "Unable to get first event timestamp for run 200108-175918__vae__latent_dim=32: No event timestamp could be found\n"
     ]
    }
   ],
   "source": [
    "# M.link('{idx}__{model}__{unique}')\n",
    "M.link('{date}__{model}__{unique}')"
   ]
  },
  {
   "cell_type": "code",
   "execution_count": 6,
   "metadata": {
    "pycharm": {
     "is_executing": false
    }
   },
   "outputs": [],
   "source": [
    "# M.link('{name}__{unique}')"
   ]
  },
  {
   "cell_type": "code",
   "execution_count": 6,
   "metadata": {},
   "outputs": [],
   "source": [
    "# os.listdir(M.tbout)"
   ]
  },
  {
   "cell_type": "code",
   "execution_count": 9,
   "metadata": {
    "pycharm": {
     "is_executing": false
    }
   },
   "outputs": [],
   "source": [
    "M.clear_links()"
   ]
  },
  {
   "cell_type": "code",
   "execution_count": 8,
   "metadata": {
    "pycharm": {
     "is_executing": false
    }
   },
   "outputs": [
    {
     "data": {
      "text/plain": [
       "'/is/ei/fleeb/workspace/trained_nets/managed'"
      ]
     },
     "execution_count": 8,
     "metadata": {},
     "output_type": "execute_result"
    }
   ],
   "source": [
    "M.tbout"
   ]
  },
  {
   "cell_type": "code",
   "execution_count": 9,
   "metadata": {
    "pycharm": {
     "is_executing": false
    }
   },
   "outputs": [
    {
     "data": {
      "text/plain": [
       "odict_keys(['name', 'path', 'ckpt_path', 'config', 'base', 'diffs'])"
      ]
     },
     "execution_count": 9,
     "metadata": {},
     "output_type": "execute_result"
    }
   ],
   "source": [
    "M.active[0].keys()"
   ]
  },
  {
   "cell_type": "code",
   "execution_count": null,
   "metadata": {},
   "outputs": [],
   "source": [
    "M.active[0].keys()"
   ]
  },
  {
   "cell_type": "code",
   "execution_count": null,
   "metadata": {},
   "outputs": [],
   "source": []
  },
  {
   "cell_type": "code",
   "execution_count": 7,
   "metadata": {},
   "outputs": [
    {
     "data": {
      "text/plain": [
       "'/is/ei/fleeb/workspace/chome/trained_nets'"
      ]
     },
     "execution_count": 7,
     "metadata": {},
     "output_type": "execute_result"
    }
   ],
   "source": [
    "root = os.environ['FOUNDATION_SAVE_DIR']\n",
    "root"
   ]
  },
  {
   "cell_type": "code",
   "execution_count": 8,
   "metadata": {
    "scrolled": true
   },
   "outputs": [
    {
     "name": "stdout",
     "output_type": "stream",
     "text": [
      "3dshapes-dvae_0100-5966131-07_200109-133026 : 113\n",
      "3dshapes-dvae_0101-5966132-01_200109-133045 : 114\n",
      "3dshapes-dvae_0101-5966132-02_200109-133053 : 113\n",
      "3dshapes-dvae_0102-5966133-07_200109-133118 : 113\n",
      "3dshapes-dvae_0102-5966133-08_200109-133107 : 113\n",
      "3dshapes-dvae_0122-5969012-01_200110-140610 : 113\n",
      "3dshapes-dvae_0122-5969012-02_200110-140616 : 113\n",
      "3dshapes-dwae_0094-5966044-04_200108-175514 : 113\n",
      "3dshapes-dwae_0095-5966045-04_200108-175850 : 113\n",
      "3dshapes-dwae_0096-5966047-04_200108-175913 : 113\n",
      "3dshapes-dwae_0097-5966051-04_200108-181233 : 113\n",
      "3dshapes-dwae_0100-5966131-05_200109-133027 : 113\n",
      "3dshapes-dwae_0100-5966131-06_200109-133124 : 113\n",
      "3dshapes-dwae_0101-5966132-00_200109-133044 : 113\n",
      "3dshapes-dwae_0102-5966133-05_200109-133202 : 113\n",
      "3dshapes-dwae_0102-5966133-06_200109-133106 : 113\n",
      "3dshapes-dwae_0122-5969012-00_200110-140613 : 113\n",
      "3dshapes-fdwae_0094-5966044-05_200108-175529 : 113\n",
      "3dshapes-fdwae_0095-5966045-05_200108-175832 : 113\n",
      "3dshapes-fdwae_0096-5966047-05_200108-175918 : 113\n",
      "3dshapes-fdwae_0097-5966051-05_200108-181229 : 113\n",
      "3dshapes-fdwae_0100-5966131-09_200109-133028 : 113\n",
      "3dshapes-fdwae_0100-5966131-10_200109-133027 : 113\n",
      "3dshapes-fdwae_0101-5966132-03_200109-133045 : 113\n",
      "3dshapes-fdwae_0102-5966133-09_200109-133120 : 113\n",
      "3dshapes-fdwae_0102-5966133-10_200109-133109 : 113\n",
      "3dshapes-fdwae_0122-5969012-03_200110-140612 : 113\n",
      "3dshapes-fvae_0094-5966044-02_200108-175515 : 113\n",
      "3dshapes-fvae_0095-5966045-02_200108-175831 : 113\n",
      "3dshapes-fvae_0096-5966047-02_200108-175932 : 113\n",
      "3dshapes-fvae_0097-5966051-02_200108-181229 : 113\n",
      "3dshapes-fvae_0100-5966131-03_200109-133036 : 113\n",
      "3dshapes-fvae_0102-5966133-03_200109-133107 : 113\n",
      "3dshapes-fwae_0094-5966044-01_200108-175506 : 113\n",
      "3dshapes-fwae_0095-5966045-01_200108-175843 : 113\n",
      "3dshapes-fwae_0096-5966047-01_200108-175918 : 113\n",
      "3dshapes-fwae_0097-5966051-01_200108-181248 : 113\n",
      "3dshapes-fwae_0100-5966131-02_200109-133028 : 113\n",
      "3dshapes-fwae_0102-5966133-02_200109-133116 : 116\n",
      "3dshapes-vae_0094-5966044-00_200108-175528 : 113\n",
      "3dshapes-vae_0095-5966045-00_200108-175855 : 113\n",
      "3dshapes-vae_0096-5966047-00_200108-175918 : 113\n",
      "3dshapes-vae_0097-5966051-00_200108-181230 : 113\n",
      "3dshapes-vae_0100-5966131-01_200109-133046 : 113\n",
      "3dshapes-vae_0102-5966133-01_200109-133106 : 113\n",
      "3dshapes-wae_0100-5966131-00_200109-133025 : 113\n",
      "3dshapes-wae_0102-5966133-00_200109-133106 : 113\n",
      "3dshapes-wae_0104-5966143-00_200109-141333 : 113\n",
      "3dshapes-wgan_0094-5966044-06_200108-175507 : 113\n",
      "3dshapes-wgan_0095-5966045-06_200108-175835 : 113\n",
      "3dshapes-wgan_0096-5966047-06_200108-175919 : 113\n",
      "3dshapes-wgan_0097-5966051-06_200108-181229 : 113\n",
      "3dshapes-wgan_0100-5966131-11_200109-133028 : 113\n",
      "3dshapes-wgan_0103-5966136-00_200109-133811 : 113\n",
      "3dshapes-wpp_0094-5966044-03_200108-175513 : 113\n",
      "3dshapes-wpp_0095-5966045-03_200108-175832 : 113\n",
      "3dshapes-wpp_0097-5966051-03_200108-181238 : 113\n",
      "3dshapes-wpp_0100-5966131-04_200109-133027 : 113\n",
      "3dshapes-wpp_0102-5966133-04_200109-133106 : 113\n"
     ]
    }
   ],
   "source": [
    "for r in M.active:\n",
    "    n = r.name\n",
    "    num = len(os.listdir(os.path.join(root, n)))\n",
    "    if num > 100:\n",
    "        print('{} : {}'.format(n, num))"
   ]
  },
  {
   "cell_type": "code",
   "execution_count": null,
   "metadata": {},
   "outputs": [],
   "source": []
  },
  {
   "cell_type": "code",
   "execution_count": 18,
   "metadata": {},
   "outputs": [],
   "source": [
    "import json"
   ]
  },
  {
   "cell_type": "code",
   "execution_count": 19,
   "metadata": {},
   "outputs": [
    {
     "data": {
      "text/plain": [
       "[10, 2, 3]"
      ]
     },
     "execution_count": 19,
     "metadata": {},
     "output_type": "execute_result"
    }
   ],
   "source": [
    "json.loads('[10,2,3]')"
   ]
  },
  {
   "cell_type": "code",
   "execution_count": null,
   "metadata": {},
   "outputs": [],
   "source": []
  },
  {
   "cell_type": "code",
   "execution_count": null,
   "metadata": {
    "pycharm": {
     "is_executing": false
    }
   },
   "outputs": [],
   "source": []
  },
  {
   "cell_type": "code",
   "execution_count": null,
   "metadata": {
    "pycharm": {
     "is_executing": false
    }
   },
   "outputs": [],
   "source": [
    "saveroot = os.environ['FOUNDATION_SAVE_DIR']\n",
    "saveroot"
   ]
  },
  {
   "cell_type": "code",
   "execution_count": null,
   "metadata": {
    "pycharm": {
     "is_executing": false
    }
   },
   "outputs": [],
   "source": [
    "for name in os.listdir(saveroot):\n",
    "    path = os.path.join(saveroot, name)\n",
    "    if 'config.yml' in os.listdir(path):\n",
    "        print(name,end=' ')\n",
    "        with open(os.path.join(path, 'config.yml'), 'r') as f:\n",
    "            data = yaml.load(f)\n",
    "        break\n",
    "#         if 'parents' in data:\n",
    "#             del data['parents']\n",
    "#             with open(os.path.join(path, 'config.yml'), 'w') as f:\n",
    "#                 yaml.dump(data, f)\n",
    "#             print('fixed')\n",
    "#         else:\n",
    "#             print()"
   ]
  },
  {
   "cell_type": "code",
   "execution_count": null,
   "metadata": {
    "pycharm": {
     "is_executing": false
    }
   },
   "outputs": [],
   "source": [
    "data['parents']"
   ]
  },
  {
   "cell_type": "code",
   "execution_count": null,
   "metadata": {
    "pycharm": {
     "is_executing": false
    }
   },
   "outputs": [],
   "source": []
  }
 ],
 "metadata": {
  "kernelspec": {
   "display_name": "Python 3",
   "language": "python",
   "name": "python3"
  },
  "language_info": {
   "codemirror_mode": {
    "name": "ipython",
    "version": 3
   },
   "file_extension": ".py",
   "mimetype": "text/x-python",
   "name": "python",
   "nbconvert_exporter": "python",
   "pygments_lexer": "ipython3",
   "version": "3.7.3"
  },
  "pycharm": {
   "stem_cell": {
    "cell_type": "raw",
    "metadata": {
     "collapsed": false
    },
    "source": []
   }
  }
 },
 "nbformat": 4,
 "nbformat_minor": 2
}
