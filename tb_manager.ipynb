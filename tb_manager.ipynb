{
 "cells": [
  {
   "cell_type": "code",
   "execution_count": 1,
   "metadata": {},
   "outputs": [],
   "source": [
    "import sys, os, time\n",
    "# %load_ext autoreload\n",
    "# %autoreload 2\n",
    "os.environ['FOUNDATION_RUN_MODE'] = 'jupyter'\n",
    "os.environ['FOUNDATION_SAVE_DIR'] = '/is/ei/fleeb/workspace/chome/trained_nets'\n",
    "os.environ['FOUNDATION_DATA_DIR'] = '/is/ei/fleeb/workspace/local_data'\n",
    "# from IPython.core.interactiveshell import InteractiveShell\n",
    "# InteractiveShell.ast_node_interactivity = \"all\"\n",
    "from IPython import display\n",
    "import torch\n",
    "import torch.nn as nn\n",
    "import torch.nn.functional as F\n",
    "import torch.distributions as distrib\n",
    "import torch.multiprocessing as mp\n",
    "import torchvision.models\n",
    "import torchvision\n",
    "from torch.utils.data import Dataset, DataLoader, TensorDataset\n",
    "import gym\n",
    "import numpy as np\n",
    "%matplotlib notebook\n",
    "# %matplotlib tk\n",
    "import matplotlib.pyplot as plt\n",
    "import imageio\n",
    "import seaborn as sns\n",
    "#plt.switch_backend('Qt5Agg') #('Qt5Agg')\n",
    "import foundation as fd\n",
    "from foundation import models\n",
    "from foundation import util\n",
    "from foundation import train\n",
    "#from foundation.util import replicate, Cloner\n",
    "\n",
    "from hybrid import get_model, get_data\n",
    "\n",
    "np.set_printoptions(linewidth=120, suppress=True)"
   ]
  },
  {
   "cell_type": "code",
   "execution_count": 2,
   "metadata": {},
   "outputs": [
    {
     "name": "stdout",
     "output_type": "stream",
     "text": [
      "/is/ei/fleeb/workspace/trained_nets/managed is available to view runs on tensorboard\n"
     ]
    },
    {
     "name": "stderr",
     "output_type": "stream",
     "text": [
      "/is/ei/fleeb/workspace/foundation/foundation/train/config.py:58: YAMLLoadWarning: calling yaml.load() without Loader=... is deprecated, as the default Loader is unsafe. Please read https://msg.pyyaml.org/load for full details.\n",
      "  data = yaml.load(f)\n"
     ]
    },
    {
     "name": "stdout",
     "output_type": "stream",
     "text": [
      "Found 82 runs\n"
     ]
    }
   ],
   "source": [
    "M = train.Run_Manager(tbout='/is/ei/fleeb/workspace/trained_nets/managed')"
   ]
  },
  {
   "cell_type": "code",
   "execution_count": 3,
   "metadata": {},
   "outputs": [
    {
     "name": "stdout",
     "output_type": "stream",
     "text": [
      "Tensorboard started: http://localhost:6006/\n"
     ]
    }
   ],
   "source": [
    "M.start_tb()"
   ]
  },
  {
   "cell_type": "code",
   "execution_count": 7,
   "metadata": {},
   "outputs": [
    {
     "name": "stdout",
     "output_type": "stream",
     "text": [
      "  0 - 3dshapes-wgan_0077-5920872-0_191213-201539\n",
      "  1 - 3dshapes-wgan_0077-5920872-1_191213-201524\n",
      "  2 - 3dshapes-wgan_0077-5920872-2_191213-201527\n",
      "  3 - 3dshapes-wgan_0077-5920872-3_191213-201524\n",
      "  4 - 3dshapes-wgan_0077-5920872-4_191213-201526\n",
      "  5 - 3dshapes-wgan_0077-5920872-5_191213-201525\n",
      "  6 - 3dshapes-wgan_0077-5920872-6_191213-201524\n",
      "  7 - 3dshapes-wgan_0080-5920891-2_191214-090739\n",
      "  8 - 3dshapes-wgan_0080-5920891-3_191214-090740\n",
      "  9 - 3dshapes-wgan_0080-5920891-4_191214-090801\n"
     ]
    }
   ],
   "source": [
    "#M.show()\n",
    "M.clear_filters().select(model='wgan', dataset='3dshapes').show()"
   ]
  },
  {
   "cell_type": "code",
   "execution_count": 8,
   "metadata": {
    "scrolled": false
   },
   "outputs": [
    {
     "name": "stdout",
     "output_type": "stream",
     "text": [
      "0) 3dshapes-wgan_0077-5920872-0_191213-201539\n",
      "1) 3dshapes-wgan_0077-5920872-1_191213-201524\n",
      "\tmodel.discriminator.lr - 0.001\n",
      "\tmodel.discriminator.beta1 - 0\n",
      "\tmodel.discriminator.lr - 0.001\n",
      "2) 3dshapes-wgan_0077-5920872-2_191213-201527\n",
      "\tmodel.disc_steps - 4\n",
      "\tmodel.discriminator.lr - __removed__\n",
      "3) 3dshapes-wgan_0077-5920872-3_191213-201524\n",
      "\tmodel.disc_steps - 4\n",
      "\tmodel.discriminator.lr - __removed__\n",
      "\tmodel.discriminator.optim_type - {{}}\n",
      "4) 3dshapes-wgan_0077-5920872-4_191213-201526\n",
      "\tmodel.disc_steps - 4\n",
      "\tmodel.discriminator.lr - __removed__\n",
      "\tmodel.discriminator.optim_type - {{}}\n",
      "\tmodel.discriminator.lr - __removed__\n",
      "5) 3dshapes-wgan_0077-5920872-5_191213-201525\n",
      "\tmodel.disc_steps - 4\n",
      "\tmodel.discriminator.lr - __removed__\n",
      "6) 3dshapes-wgan_0077-5920872-6_191213-201524\n",
      "\tmodel.disc_steps - 4\n",
      "\tmodel.discriminator.lr - __removed__\n",
      "\tmodel.discriminator.lr - __removed__\n",
      "7) 3dshapes-wgan_0080-5920891-2_191214-090739\n",
      "\tmodel.disc_steps - 5\n",
      "\tmodel.discriminator.lr - __removed__\n",
      "8) 3dshapes-wgan_0080-5920891-3_191214-090740\n",
      "\tmodel.disc_steps - 4\n",
      "\tmodel.discriminator.lr - __removed__\n",
      "9) 3dshapes-wgan_0080-5920891-4_191214-090801\n",
      "\tmodel.disc_steps - 4\n",
      "\tmodel.discriminator.lr - __removed__\n"
     ]
    }
   ],
   "source": [
    "M.show_unique()"
   ]
  },
  {
   "cell_type": "code",
   "execution_count": null,
   "metadata": {},
   "outputs": [],
   "source": []
  },
  {
   "cell_type": "code",
   "execution_count": 10,
   "metadata": {},
   "outputs": [],
   "source": [
    "M.link('{name}__{unique}')"
   ]
  },
  {
   "cell_type": "code",
   "execution_count": 9,
   "metadata": {},
   "outputs": [
    {
     "name": "stderr",
     "output_type": "stream",
     "text": [
      "Deleting accumulator '3dshapes-wae_0077-5920872-10_191213-201528__up_type:nearest'\n",
      "Deleting accumulator '3dshapes-wae_0077-5920872-12_191213-201527__down_type:conv_up_type:conv'\n",
      "Deleting accumulator '3dshapes-wae_0077-5920872-19_191213-201528__weight_decay:1e-05'\n",
      "Deleting accumulator '3dshapes-wae_0077-5920872-17_191213-201526__weight_decay:0p001'\n",
      "Deleting accumulator '3dshapes-wae_0077-5920872-20_191213-201527__weight_decay:1e-06'\n",
      "Deleting accumulator '3dshapes-wae_0077-5920872-7_191213-201526__'\n",
      "Deleting accumulator '3dshapes-wae_0077-5920872-14_191213-201548__lr:0p0005'\n",
      "Deleting accumulator '3dshapes-wae_0077-5920872-9_191213-201526__nonlin:relu'\n",
      "Deleting accumulator '3dshapes-wae_0077-5920872-18_191213-201528__weight_decay:0p0001'\n",
      "Deleting accumulator '3dshapes-wae_0077-5920872-11_191213-201525__down_type:conv'\n",
      "Deleting accumulator '3dshapes-wae_0077-5920872-15_191213-201528__beta1:0p5_beta2:0p9'\n",
      "Deleting accumulator '3dshapes-wae_0077-5920872-16_191213-201523__beta1:0_beta2:0p9'\n",
      "Deleting accumulator '3dshapes-wae_0077-5920872-8_191213-201526__nonlin:prelu'\n",
      "Deleting accumulator '3dshapes-wae_0077-5920872-13_191213-201528__norm_type:batch'\n"
     ]
    }
   ],
   "source": [
    "M.clear_links()"
   ]
  },
  {
   "cell_type": "code",
   "execution_count": 9,
   "metadata": {},
   "outputs": [
    {
     "data": {
      "text/plain": [
       "[]"
      ]
     },
     "execution_count": 9,
     "metadata": {},
     "output_type": "execute_result"
    }
   ],
   "source": [
    "os.listdir(M.tbout)"
   ]
  },
  {
   "cell_type": "code",
   "execution_count": null,
   "metadata": {},
   "outputs": [],
   "source": []
  },
  {
   "cell_type": "code",
   "execution_count": null,
   "metadata": {},
   "outputs": [],
   "source": []
  },
  {
   "cell_type": "code",
   "execution_count": null,
   "metadata": {},
   "outputs": [],
   "source": []
  },
  {
   "cell_type": "code",
   "execution_count": null,
   "metadata": {},
   "outputs": [],
   "source": [
    "saveroot = os.environ['FOUNDATION_SAVE_DIR']\n",
    "saveroot"
   ]
  },
  {
   "cell_type": "code",
   "execution_count": 15,
   "metadata": {},
   "outputs": [
    {
     "name": "stdout",
     "output_type": "stream",
     "text": [
      "3dshapes-fdvae_0077-5920872-49_191213-201526 fixed\n",
      "3dshapes-wae_0077-5920872-11_191213-201525 fixed\n",
      "3dscr-dvae_0078-5920873-7_191213-202209 fixed\n",
      "3dscr-fdvae_0078-5920873-9_191213-202210 fixed\n",
      "gan_0070-5920322-14_191213-093204 "
     ]
    },
    {
     "name": "stderr",
     "output_type": "stream",
     "text": [
      "/is/ei/fleeb/anaconda3/lib/python3.7/site-packages/ipykernel_launcher.py:6: YAMLLoadWarning: calling yaml.load() without Loader=... is deprecated, as the default Loader is unsafe. Please read https://msg.pyyaml.org/load for full details.\n",
      "  \n"
     ]
    },
    {
     "name": "stdout",
     "output_type": "stream",
     "text": [
      "fixed\n",
      "3dshapes-fvae_0077-5920872-38_191213-201526 fixed\n",
      "3dshapes-fdwae_0077-5920872-46_191213-201528 fixed\n",
      "fwae-celeba_0072-5920866-2_191213-200021 fixed\n",
      "gan_0070-5920322-13_191213-093204 fixed\n",
      "3dshapes-wgan_0080-5920891-3_191214-090740 fixed\n",
      "3dshapes-wpp_0077-5920872-24_191213-201524 fixed\n",
      "vae-celeba_0072-5920866-1_191213-200022 fixed\n",
      "fvae-celeba_0072-5920866-3_191213-200021 fixed\n",
      "3dshapes-fdwae_0077-5920872-48_191213-201525 fixed\n",
      "fdwae-celeba_0072-5920866-8_191213-200021 fixed\n",
      "fdvae-celeba_0074-5920868-4_191213-200516 fixed\n",
      "celeba-dwae_0076-5920870-6_191213-201051 fixed\n",
      "3dshapes-wgan_0077-5920872-0_191213-201539 fixed\n",
      "3dshapes-wgan_0080-5920891-2_191214-090739 fixed\n",
      "3dshapes-wpp_0077-5920872-31_191213-201529 fixed\n",
      "3dshapes-fvae_0077-5920872-39_191213-201528 fixed\n",
      "3dshapes-vae_0077-5920872-22_191213-201525 fixed\n",
      "3dscr-fvae_0078-5920873-3_191213-202212 fixed\n",
      "celeba-wae_0076-5920870-0_191213-201050 fixed\n",
      "3dshapes-wae_0077-5920872-14_191213-201548 fixed\n",
      "dvae-celeba_0073-5920867-2_191213-200417 fixed\n",
      "test-pycharm_191213-084225 fixed\n",
      "3dshapes-wgan_0077-5920872-2_191213-201527 fixed\n",
      "gan_0070-5920322-11_191213-093202 fixed\n",
      "3dshapes-fwae_0077-5920872-34_191213-201528 fixed\n",
      "gan_0070-5920322-16_191213-093202 fixed\n",
      "celeba-wgan_0076-5920870-4_191213-201050 fixed\n",
      "3dshapes-wpp_0077-5920872-27_191213-201524 fixed\n",
      "3dshapes-dwae_0077-5920872-44_191213-201529 fixed\n",
      "3dscr-vae_0078-5920873-1_191213-202211 fixed\n",
      "3dscr-fwae_0078-5920873-2_191213-202209 fixed\n",
      "3dshapes-wae_0077-5920872-16_191213-201523 fixed\n",
      "celeba-fvae_0076-5920870-3_191213-201050 fixed\n",
      "3dshapes-vae_0077-5920872-23_191213-201527 fixed\n",
      "celeba-fdvae_0076-5920870-9_191213-201051 fixed\n",
      "dvae-celeba_0072-5920866-7_191213-200020 fixed\n",
      "celeba-dvae_0076-5920870-7_191213-201050 fixed\n",
      "3dscr-wgan_0080-5920891-0_191214-090741 fixed\n",
      "3dshapes-wgan_0077-5920872-6_191213-201524 fixed\n",
      "3dshapes-wae_0077-5920872-9_191213-201526 fixed\n",
      "dwae-celeba_0074-5920868-1_191213-200516 fixed\n",
      "3dshapes-wgan_0077-5920872-4_191213-201526 fixed\n",
      "test-pycharm_191212-162402 fixed\n",
      "3dshapes-wpp_0077-5920872-28_191213-201526 fixed\n",
      "3dscr-wae_0078-5920873-0_191213-202222 fixed\n",
      "3dscr-dwae_0078-5920873-6_191213-202209 fixed\n",
      "3dshapes-wae_0077-5920872-13_191213-201528 fixed\n",
      "test-pycharm_191213-185946 fixed\n",
      "3dshapes-wae_0077-5920872-8_191213-201526 fixed\n",
      "3dscr-wgan_0078-5920873-4_191213-202211 fixed\n",
      "3dshapes-fwae_0077-5920872-33_191213-201527 fixed\n",
      "3dshapes-dvae_0077-5920872-45_191213-201528 fixed\n",
      "3dshapes-fwae_0077-5920872-36_191213-201528 fixed\n",
      "3dshapes-dwae_0077-5920872-42_191213-201526 fixed\n",
      "gan_0070-5920322-12_191213-093222 fixed\n",
      "fdvae-celeba_0072-5920866-9_191213-200022 fixed\n",
      "3dshapes-wpp_0077-5920872-29_191213-201526 fixed\n",
      "3dshapes-wae_0077-5920872-20_191213-201527 fixed\n",
      "3dshapes-wae_0077-5920872-19_191213-201528 fixed\n",
      "celeba-fdwae_0076-5920870-8_191213-201050 fixed\n",
      "3dshapes-fdwae_0077-5920872-47_191213-201540 fixed\n",
      "3dshapes-fvae_0077-5920872-37_191213-201524 fixed\n",
      "fdwae-celeba_0074-5920868-3_191213-200518 fixed\n",
      "vae_0070-5920322-6_191213-093201 fixed\n",
      "dvae-celeba_0074-5920868-2_191213-200518 fixed\n",
      "fdvae-celeba_0073-5920867-4_191213-200416 fixed\n",
      "3dscr-wgan_0080-5920891-1_191214-090742 fixed\n",
      "3dshapes-wpp_0077-5920872-26_191213-201525 fixed\n",
      "dwae-celeba_0073-5920867-1_191213-200416 fixed\n",
      "3dscr-wpp_0078-5920873-5_191213-202209 fixed\n",
      "wgan-celeba_0072-5920866-5_191213-200021 fixed\n",
      "gan_0070-5920322-15_191213-093203 fixed\n",
      "vae_0070-5920322-5_191213-093204 fixed\n",
      "3dshapes-wpp_0077-5920872-25_191213-201526 fixed\n",
      "3dshapes-fdvae_0077-5920872-50_191213-201526 fixed\n",
      "3dshapes-dwae_0077-5920872-43_191213-201526 fixed\n",
      "3dshapes-dwae_0077-5920872-41_191213-201527 fixed\n",
      "3dshapes-wae_0077-5920872-18_191213-201528 fixed\n",
      "3dshapes-wpp_0077-5920872-32_191213-201525 fixed\n",
      "celeba-wpp_0076-5920870-5_191213-201049 fixed\n",
      "fdwae-celeba_0073-5920867-3_191213-200416 fixed\n",
      "celeba-fwae_0076-5920870-2_191213-201050 fixed\n",
      "3dshapes-wgan_0077-5920872-3_191213-201524 fixed\n",
      "celeba-vae_0076-5920870-1_191213-201049 fixed\n",
      "3dshapes-fdvae_0077-5920872-51_191213-201525 fixed\n",
      "3dshapes-wae_0077-5920872-15_191213-201528 fixed\n",
      "3dshapes-wpp_0077-5920872-30_191213-201526 fixed\n",
      "3dshapes-wae_0077-5920872-17_191213-201526 fixed\n",
      "dwae-celeba_0072-5920866-6_191213-200022 fixed\n",
      "3dscr-fdwae_0078-5920873-8_191213-202213 fixed\n",
      "3dshapes-fwae_0077-5920872-35_191213-201548 fixed\n",
      "3dshapes-wgan_0077-5920872-5_191213-201525 fixed\n",
      "vae_0070-5920322-7_191213-093200 fixed\n",
      "3dshapes-wgan_0077-5920872-1_191213-201524 fixed\n",
      "3dshapes-wae_0077-5920872-7_191213-201526 fixed\n",
      "3dshapes-fvae_0077-5920872-40_191213-201528 fixed\n",
      "3dshapes-vae_0077-5920872-21_191213-201539 fixed\n",
      "3dshapes-wae_0077-5920872-12_191213-201527 fixed\n",
      "fvae_0071-5920324-0_191213-093451 fixed\n",
      "fwae_0070-5920322-8_191213-093202 fixed\n",
      "3dshapes-wae_0077-5920872-10_191213-201528 fixed\n",
      "3dshapes-wgan_0080-5920891-4_191214-090801 fixed\n"
     ]
    }
   ],
   "source": [
    "for name in os.listdir(saveroot):\n",
    "    path = os.path.join(saveroot, name)\n",
    "    if 'config.yml' in os.listdir(path):\n",
    "        print(name,end=' ')\n",
    "        with open(os.path.join(path, 'config.yml'), 'r') as f:\n",
    "            data = yaml.load(f)\n",
    "        break\n",
    "#         if 'parents' in data:\n",
    "#             del data['parents']\n",
    "#             with open(os.path.join(path, 'config.yml'), 'w') as f:\n",
    "#                 yaml.dump(data, f)\n",
    "#             print('fixed')\n",
    "#         else:\n",
    "#             print()"
   ]
  },
  {
   "cell_type": "code",
   "execution_count": 16,
   "metadata": {},
   "outputs": [
    {
     "ename": "KeyError",
     "evalue": "'parents'",
     "output_type": "error",
     "traceback": [
      "\u001b[0;31m---------------------------------------------------\u001b[0m",
      "\u001b[0;31mKeyError\u001b[0m          Traceback (most recent call last)",
      "\u001b[0;32m<ipython-input-16-934abed2436b>\u001b[0m in \u001b[0;36m<module>\u001b[0;34m\u001b[0m\n\u001b[0;32m----> 1\u001b[0;31m \u001b[0mdata\u001b[0m\u001b[0;34m[\u001b[0m\u001b[0;34m'parents'\u001b[0m\u001b[0;34m]\u001b[0m\u001b[0;34m\u001b[0m\u001b[0;34m\u001b[0m\u001b[0m\n\u001b[0m",
      "\u001b[0;31mKeyError\u001b[0m: 'parents'"
     ]
    }
   ],
   "source": [
    "data['parents']"
   ]
  },
  {
   "cell_type": "code",
   "execution_count": null,
   "metadata": {},
   "outputs": [],
   "source": []
  }
 ],
 "metadata": {
  "kernelspec": {
   "display_name": "Python 3",
   "language": "python",
   "name": "python3"
  },
  "language_info": {
   "codemirror_mode": {
    "name": "ipython",
    "version": 3
   },
   "file_extension": ".py",
   "mimetype": "text/x-python",
   "name": "python",
   "nbconvert_exporter": "python",
   "pygments_lexer": "ipython3",
   "version": "3.7.3"
  }
 },
 "nbformat": 4,
 "nbformat_minor": 2
}
