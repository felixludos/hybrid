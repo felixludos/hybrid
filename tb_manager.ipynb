{
 "cells": [
  {
   "cell_type": "code",
   "execution_count": 1,
   "metadata": {},
   "outputs": [],
   "source": [
    "import sys, os, time\n",
    "# %load_ext autoreload\n",
    "# %autoreload 2\n",
    "os.environ['FOUNDATION_RUN_MODE'] = 'jupyter'\n",
    "os.environ['FOUNDATION_SAVE_DIR'] = '/is/ei/fleeb/workspace/chome/trained_nets'\n",
    "os.environ['FOUNDATION_DATA_DIR'] = '/is/ei/fleeb/workspace/local_data'\n",
    "# from IPython.core.interactiveshell import InteractiveShell\n",
    "# InteractiveShell.ast_node_interactivity = \"all\"\n",
    "from IPython import display\n",
    "import torch\n",
    "import torch.nn as nn\n",
    "import torch.nn.functional as F\n",
    "import torch.distributions as distrib\n",
    "import torch.multiprocessing as mp\n",
    "import torchvision.models\n",
    "import torchvision\n",
    "from torch.utils.data import Dataset, DataLoader, TensorDataset\n",
    "import gym\n",
    "import numpy as np\n",
    "%matplotlib notebook\n",
    "# %matplotlib tk\n",
    "import matplotlib.pyplot as plt\n",
    "import imageio\n",
    "import seaborn as sns\n",
    "#plt.switch_backend('Qt5Agg') #('Qt5Agg')\n",
    "import foundation as fd\n",
    "from foundation import models\n",
    "from foundation import util\n",
    "from foundation import train\n",
    "#from foundation.util import replicate, Cloner\n",
    "\n",
    "from hybrid import get_model, get_data\n",
    "\n",
    "np.set_printoptions(linewidth=120, suppress=True)"
   ]
  },
  {
   "cell_type": "code",
   "execution_count": null,
   "metadata": {},
   "outputs": [],
   "source": []
  },
  {
   "cell_type": "code",
   "execution_count": 2,
   "metadata": {},
   "outputs": [
    {
     "name": "stderr",
     "output_type": "stream",
     "text": [
      "/is/ei/fleeb/workspace/foundation/foundation/train/config.py:58: YAMLLoadWarning: calling yaml.load() without Loader=... is deprecated, as the default Loader is unsafe. Please read https://msg.pyyaml.org/load for full details.\n",
      "  data = yaml.load(f)\n"
     ]
    },
    {
     "name": "stdout",
     "output_type": "stream",
     "text": [
      "Found 107 runs\n"
     ]
    }
   ],
   "source": [
    "M = train.Run_Manager()"
   ]
  },
  {
   "cell_type": "code",
   "execution_count": 3,
   "metadata": {},
   "outputs": [
    {
     "name": "stdout",
     "output_type": "stream",
     "text": [
      "  0 - 3dshapes-fdvae_0077-5920872-49_191213-201526\n",
      "  1 - 3dshapes-wae_0077-5920872-11_191213-201525\n",
      "  2 - 3dscr-dvae_0078-5920873-7_191213-202209\n",
      "  3 - 3dscr-fdvae_0078-5920873-9_191213-202210\n",
      "  4 - gan_0070-5920322-14_191213-093204\n",
      "  5 - 3dshapes-fvae_0077-5920872-38_191213-201526\n",
      "  6 - 3dshapes-fdwae_0077-5920872-46_191213-201528\n",
      "  7 - fwae-celeba_0072-5920866-2_191213-200021\n",
      "  8 - gan_0070-5920322-13_191213-093204\n",
      "  9 - 3dshapes-wgan_0080-5920891-3_191214-090740\n",
      " 10 - 3dshapes-wpp_0077-5920872-24_191213-201524\n",
      " 11 - vae-celeba_0072-5920866-1_191213-200022\n",
      " 12 - fvae-celeba_0072-5920866-3_191213-200021\n",
      " 13 - 3dshapes-fdwae_0077-5920872-48_191213-201525\n",
      " 14 - fdwae-celeba_0072-5920866-8_191213-200021\n",
      " 15 - fdvae-celeba_0074-5920868-4_191213-200516\n",
      " 16 - celeba-dwae_0076-5920870-6_191213-201051\n",
      " 17 - 3dshapes-wgan_0077-5920872-0_191213-201539\n",
      " 18 - 3dshapes-wgan_0080-5920891-2_191214-090739\n",
      " 19 - 3dshapes-wpp_0077-5920872-31_191213-201529\n",
      " 20 - 3dshapes-fvae_0077-5920872-39_191213-201528\n",
      " 21 - 3dshapes-vae_0077-5920872-22_191213-201525\n",
      " 22 - 3dscr-fvae_0078-5920873-3_191213-202212\n",
      " 23 - celeba-wae_0076-5920870-0_191213-201050\n",
      " 24 - 3dshapes-wae_0077-5920872-14_191213-201548\n",
      " 25 - dvae-celeba_0073-5920867-2_191213-200417\n",
      " 26 - test-pycharm_191213-084225\n",
      " 27 - 3dshapes-wgan_0077-5920872-2_191213-201527\n",
      " 28 - gan_0070-5920322-11_191213-093202\n",
      " 29 - 3dshapes-fwae_0077-5920872-34_191213-201528\n",
      " 30 - gan_0070-5920322-16_191213-093202\n",
      " 31 - celeba-wgan_0076-5920870-4_191213-201050\n",
      " 32 - 3dshapes-wpp_0077-5920872-27_191213-201524\n",
      " 33 - 3dshapes-dwae_0077-5920872-44_191213-201529\n",
      " 34 - 3dscr-vae_0078-5920873-1_191213-202211\n",
      " 35 - 3dscr-fwae_0078-5920873-2_191213-202209\n",
      " 36 - 3dshapes-wae_0077-5920872-16_191213-201523\n",
      " 37 - celeba-fvae_0076-5920870-3_191213-201050\n",
      " 38 - 3dshapes-vae_0077-5920872-23_191213-201527\n",
      " 39 - celeba-fdvae_0076-5920870-9_191213-201051\n",
      " 40 - dvae-celeba_0072-5920866-7_191213-200020\n",
      " 41 - celeba-dvae_0076-5920870-7_191213-201050\n",
      " 42 - 3dscr-wgan_0080-5920891-0_191214-090741\n",
      " 43 - 3dshapes-wgan_0077-5920872-6_191213-201524\n",
      " 44 - 3dshapes-wae_0077-5920872-9_191213-201526\n",
      " 45 - dwae-celeba_0074-5920868-1_191213-200516\n",
      " 46 - 3dshapes-wgan_0077-5920872-4_191213-201526\n",
      " 47 - test-pycharm_191212-162402\n",
      " 48 - 3dshapes-wpp_0077-5920872-28_191213-201526\n",
      " 49 - 3dscr-wae_0078-5920873-0_191213-202222\n",
      " 50 - 3dscr-dwae_0078-5920873-6_191213-202209\n",
      " 51 - 3dshapes-wae_0077-5920872-13_191213-201528\n",
      " 52 - test-pycharm_191213-185946\n",
      " 53 - 3dshapes-wae_0077-5920872-8_191213-201526\n",
      " 54 - 3dscr-wgan_0078-5920873-4_191213-202211\n",
      " 55 - 3dshapes-fwae_0077-5920872-33_191213-201527\n",
      " 56 - 3dshapes-dvae_0077-5920872-45_191213-201528\n",
      " 57 - 3dshapes-fwae_0077-5920872-36_191213-201528\n",
      " 58 - 3dshapes-dwae_0077-5920872-42_191213-201526\n",
      " 59 - gan_0070-5920322-12_191213-093222\n",
      " 60 - fdvae-celeba_0072-5920866-9_191213-200022\n",
      " 61 - 3dshapes-wpp_0077-5920872-29_191213-201526\n",
      " 62 - 3dshapes-wae_0077-5920872-20_191213-201527\n",
      " 63 - 3dshapes-wae_0077-5920872-19_191213-201528\n",
      " 64 - celeba-fdwae_0076-5920870-8_191213-201050\n",
      " 65 - 3dshapes-fdwae_0077-5920872-47_191213-201540\n",
      " 66 - 3dshapes-fvae_0077-5920872-37_191213-201524\n",
      " 67 - fdwae-celeba_0074-5920868-3_191213-200518\n",
      " 68 - vae_0070-5920322-6_191213-093201\n",
      " 69 - dvae-celeba_0074-5920868-2_191213-200518\n",
      " 70 - fdvae-celeba_0073-5920867-4_191213-200416\n",
      " 71 - 3dscr-wgan_0080-5920891-1_191214-090742\n",
      " 72 - 3dshapes-wpp_0077-5920872-26_191213-201525\n",
      " 73 - dwae-celeba_0073-5920867-1_191213-200416\n",
      " 74 - 3dscr-wpp_0078-5920873-5_191213-202209\n",
      " 75 - wgan-celeba_0072-5920866-5_191213-200021\n",
      " 76 - gan_0070-5920322-15_191213-093203\n",
      " 77 - vae_0070-5920322-5_191213-093204\n",
      " 78 - 3dshapes-wpp_0077-5920872-25_191213-201526\n",
      " 79 - 3dshapes-fdvae_0077-5920872-50_191213-201526\n",
      " 80 - 3dshapes-dwae_0077-5920872-43_191213-201526\n",
      " 81 - 3dshapes-dwae_0077-5920872-41_191213-201527\n",
      " 82 - 3dshapes-wae_0077-5920872-18_191213-201528\n",
      " 83 - 3dshapes-wpp_0077-5920872-32_191213-201525\n",
      " 84 - celeba-wpp_0076-5920870-5_191213-201049\n",
      " 85 - fdwae-celeba_0073-5920867-3_191213-200416\n",
      " 86 - celeba-fwae_0076-5920870-2_191213-201050\n",
      " 87 - 3dshapes-wgan_0077-5920872-3_191213-201524\n",
      " 88 - celeba-vae_0076-5920870-1_191213-201049\n",
      " 89 - 3dshapes-fdvae_0077-5920872-51_191213-201525\n",
      " 90 - 3dshapes-wae_0077-5920872-15_191213-201528\n",
      " 91 - 3dshapes-wpp_0077-5920872-30_191213-201526\n",
      " 92 - 3dshapes-wae_0077-5920872-17_191213-201526\n",
      " 93 - dwae-celeba_0072-5920866-6_191213-200022\n",
      " 94 - 3dscr-fdwae_0078-5920873-8_191213-202213\n",
      " 95 - 3dshapes-fwae_0077-5920872-35_191213-201548\n",
      " 96 - 3dshapes-wgan_0077-5920872-5_191213-201525\n",
      " 97 - vae_0070-5920322-7_191213-093200\n",
      " 98 - 3dshapes-wgan_0077-5920872-1_191213-201524\n",
      " 99 - 3dshapes-wae_0077-5920872-7_191213-201526\n",
      "100 - 3dshapes-fvae_0077-5920872-40_191213-201528\n",
      "101 - 3dshapes-vae_0077-5920872-21_191213-201539\n",
      "102 - 3dshapes-wae_0077-5920872-12_191213-201527\n",
      "103 - fvae_0071-5920324-0_191213-093451\n",
      "104 - fwae_0070-5920322-8_191213-093202\n",
      "105 - 3dshapes-wae_0077-5920872-10_191213-201528\n",
      "106 - 3dshapes-wgan_0080-5920891-4_191214-090801\n"
     ]
    }
   ],
   "source": [
    "M.show()"
   ]
  },
  {
   "cell_type": "code",
   "execution_count": null,
   "metadata": {},
   "outputs": [],
   "source": []
  },
  {
   "cell_type": "code",
   "execution_count": 4,
   "metadata": {},
   "outputs": [
    {
     "data": {
      "text/plain": [
       "odict_keys(['name', 'path', 'ckpt_path', 'config'])"
      ]
     },
     "execution_count": 4,
     "metadata": {},
     "output_type": "execute_result"
    }
   ],
   "source": [
    "run = M[21]\n",
    "run.keys()"
   ]
  },
  {
   "cell_type": "code",
   "execution_count": 5,
   "metadata": {
    "scrolled": true
   },
   "outputs": [
    {
     "data": {
      "text/html": [
       "<div id=\"87d15945-7af5-40d8-8724-a65d6b757b8a\" style=\"height: 600px; width:100%;\"></div>"
      ]
     },
     "metadata": {},
     "output_type": "display_data"
    },
    {
     "data": {
      "application/javascript": [
       "\n",
       "\t\trequire([\"https://rawgit.com/caldwell/renderjson/master/renderjson.js\"], function() {\n",
       "\t\t  renderjson.set_show_to_level(1)\n",
       "\t\t  document.getElementById('87d15945-7af5-40d8-8724-a65d6b757b8a').appendChild(renderjson({'auto_name': 'True', 'dataroot': '/home/fleeb/local_data/', 'dataset': {'batch_size': '128', 'drop_last': 'False', 'name': '3dshapes', 'shuffle': 'True', 'val_split': '0.1'}, 'device': 'cuda', 'din': ['3', '64', '64'], 'dout': ['3', '64', '64'], 'info': {'dataset_type': '3dshapes', 'history': ['vae', 'double', '3dshapes', 'basics', 'base'], 'model_type': 'vae'}, 'model': {'_type': 'vpp', 'beta1': '0.9', 'beta2': '0.999', 'channels': ['64', '64', '64', '128', '128'], 'criterion': {'name': 'bce', 'reduction': 'sum'}, 'disc_steps': '1', 'discriminator': {'_type': 'double-enc', 'beta1': '0.5', 'beta2': '0.9', 'dout': '1', 'fc': ['256', '128', '64'], 'latent_dim': '1', 'lr': '0.005', 'tail': {'_type': 'mlp', 'din': ['128', '2', '2'], 'dout': '1', 'hidden_dims': ['256', '128', '64']}}, 'down_type': 'max', 'downsampling': 'max', 'encoder': {'_mod': 'normal', '_type': 'double-enc', 'dout': '16', 'latent_dim': '16', 'tail': {'_type': 'mlp', 'din': ['128', '2', '2'], 'dout': '32', 'hidden_dims': ['256', '128']}}, 'factors': '2', 'fc': ['256', '128'], 'gan_reg_wt': '10', 'gan_wt': '0', 'generator': {'_type': 'double-dec', 'channels': ['128', '128', '64', '64', '64'], 'factors': '2', 'fc': ['128', '128', '128', '256'], 'head': {'_type': 'mlp', 'din': '16', 'dout': ['128', '2', '2'], 'hidden_dims': ['128', '128', '128', '256'], 'output_nonlin': 'elu'}, 'output_nonlin': 'sigmoid', 'strides': '1', 'upsampling': 'bilinear'}, 'kernels': '3', 'latent_dim': '16', 'latent_reg_wt': '4', 'lr': '0.001', 'momentum': '0', 'nonlin': 'elu', 'norm_type': 'instance', 'optim_type': 'adam', 'scheduler_decay': '0.2', 'scheduler_min_lr': '1e-06', 'scheduler_patience': '5', 'scheduler_step': '40', 'scheduler_type': 'plateau', 'strides': '2', 'up_type': 'bilinear', 'upsampling': 'bilinear', 'viz_force_gen': 'True', 'weight_decay': '0'}, 'name': '3dshapes-vae_0077-5920872-22', 'num_workers': '0', 'optim': {'beta1': '0.9', 'beta2': '0.999', 'lr': '0.001', 'momentum': '0', 'type': 'adam', 'weight_decay': '0'}, 'output': {'_logged_date': 'True', 'logdate': 'True', 'name': '3dshapes-vae_0077-5920872-22_191213-201525', 'print_freq': '100', 'save_dir': '/home/fleeb/trained_nets/3dshapes-vae_0077-5920872-22_191213-201525', 'save_freq': '1', 'tblog': 'True', 'txtlog': 'False'}, 'run_mode': 'cluster', 'saveroot': '/home/fleeb/trained_nets/', 'seed': '0', 'training': {'epochs': '100', 'no_test': 'True', 'start': '0', 'track_best': 'True'}}))\n",
       "\t\t});\n",
       "\t\t"
      ]
     },
     "metadata": {},
     "output_type": "display_data"
    }
   ],
   "source": [
    "train.render_dict(run.config)"
   ]
  },
  {
   "cell_type": "code",
   "execution_count": null,
   "metadata": {},
   "outputs": [],
   "source": []
  },
  {
   "cell_type": "code",
   "execution_count": 6,
   "metadata": {
    "scrolled": true
   },
   "outputs": [
    {
     "data": {
      "text/html": [
       "<div id=\"d109d15f-755e-4a23-bc4b-71a8585425f1\" style=\"height: 600px; width:100%;\"></div>"
      ]
     },
     "metadata": {},
     "output_type": "display_data"
    },
    {
     "data": {
      "application/javascript": [
       "\n",
       "\t\trequire([\"https://rawgit.com/caldwell/renderjson/master/renderjson.js\"], function() {\n",
       "\t\t  renderjson.set_show_to_level(1)\n",
       "\t\t  document.getElementById('d109d15f-755e-4a23-bc4b-71a8585425f1').appendChild(renderjson({'model': {'disc_steps': '5', 'discriminator': {'lr': '__removed__'}}}))\n",
       "\t\t});\n",
       "\t\t"
      ]
     },
     "metadata": {},
     "output_type": "display_data"
    }
   ],
   "source": [
    "d, ad = M.compare(17, 18, bi=True)\n",
    "train.render_dict(d)"
   ]
  },
  {
   "cell_type": "code",
   "execution_count": 7,
   "metadata": {
    "scrolled": true
   },
   "outputs": [
    {
     "data": {
      "text/html": [
       "<div id=\"8ccb536d-7a94-4c63-854d-99c5b89566db\" style=\"height: 600px; width:100%;\"></div>"
      ]
     },
     "metadata": {},
     "output_type": "display_data"
    },
    {
     "data": {
      "application/javascript": [
       "\n",
       "\t\trequire([\"https://rawgit.com/caldwell/renderjson/master/renderjson.js\"], function() {\n",
       "\t\t  renderjson.set_show_to_level(1)\n",
       "\t\t  document.getElementById('8ccb536d-7a94-4c63-854d-99c5b89566db').appendChild(renderjson({'model': {'disc_steps': '1', 'discriminator': {'lr': '0.005'}}}))\n",
       "\t\t});\n",
       "\t\t"
      ]
     },
     "metadata": {},
     "output_type": "display_data"
    }
   ],
   "source": [
    "train.render_dict(ad)"
   ]
  },
  {
   "cell_type": "code",
   "execution_count": null,
   "metadata": {},
   "outputs": [],
   "source": []
  },
  {
   "cell_type": "code",
   "execution_count": 8,
   "metadata": {},
   "outputs": [
    {
     "data": {
      "text/plain": [
       "1"
      ]
     },
     "execution_count": 8,
     "metadata": {},
     "output_type": "execute_result"
    }
   ],
   "source": [
    "M[17].config['model.disc_steps']"
   ]
  },
  {
   "cell_type": "code",
   "execution_count": 9,
   "metadata": {},
   "outputs": [
    {
     "data": {
      "text/plain": [
       "1"
      ]
     },
     "execution_count": 9,
     "metadata": {},
     "output_type": "execute_result"
    }
   ],
   "source": [
    "M[17].config['model','disc_steps']"
   ]
  },
  {
   "cell_type": "code",
   "execution_count": null,
   "metadata": {},
   "outputs": [],
   "source": []
  },
  {
   "cell_type": "code",
   "execution_count": null,
   "metadata": {},
   "outputs": [],
   "source": []
  },
  {
   "cell_type": "code",
   "execution_count": null,
   "metadata": {},
   "outputs": [],
   "source": []
  },
  {
   "cell_type": "code",
   "execution_count": null,
   "metadata": {},
   "outputs": [],
   "source": []
  },
  {
   "cell_type": "code",
   "execution_count": null,
   "metadata": {},
   "outputs": [],
   "source": []
  },
  {
   "cell_type": "code",
   "execution_count": 11,
   "metadata": {},
   "outputs": [],
   "source": [
    "import yaml"
   ]
  },
  {
   "cell_type": "code",
   "execution_count": null,
   "metadata": {},
   "outputs": [],
   "source": []
  },
  {
   "cell_type": "code",
   "execution_count": 12,
   "metadata": {},
   "outputs": [
    {
     "data": {
      "text/plain": [
       "'/is/ei/fleeb/workspace/chome/trained_nets'"
      ]
     },
     "execution_count": 12,
     "metadata": {},
     "output_type": "execute_result"
    }
   ],
   "source": [
    "saveroot = os.environ['FOUNDATION_SAVE_DIR']\n",
    "saveroot"
   ]
  },
  {
   "cell_type": "code",
   "execution_count": 15,
   "metadata": {},
   "outputs": [
    {
     "name": "stdout",
     "output_type": "stream",
     "text": [
      "3dshapes-fdvae_0077-5920872-49_191213-201526 fixed\n",
      "3dshapes-wae_0077-5920872-11_191213-201525 fixed\n",
      "3dscr-dvae_0078-5920873-7_191213-202209 fixed\n",
      "3dscr-fdvae_0078-5920873-9_191213-202210 fixed\n",
      "gan_0070-5920322-14_191213-093204 "
     ]
    },
    {
     "name": "stderr",
     "output_type": "stream",
     "text": [
      "/is/ei/fleeb/anaconda3/lib/python3.7/site-packages/ipykernel_launcher.py:6: YAMLLoadWarning: calling yaml.load() without Loader=... is deprecated, as the default Loader is unsafe. Please read https://msg.pyyaml.org/load for full details.\n",
      "  \n"
     ]
    },
    {
     "name": "stdout",
     "output_type": "stream",
     "text": [
      "fixed\n",
      "3dshapes-fvae_0077-5920872-38_191213-201526 fixed\n",
      "3dshapes-fdwae_0077-5920872-46_191213-201528 fixed\n",
      "fwae-celeba_0072-5920866-2_191213-200021 fixed\n",
      "gan_0070-5920322-13_191213-093204 fixed\n",
      "3dshapes-wgan_0080-5920891-3_191214-090740 fixed\n",
      "3dshapes-wpp_0077-5920872-24_191213-201524 fixed\n",
      "vae-celeba_0072-5920866-1_191213-200022 fixed\n",
      "fvae-celeba_0072-5920866-3_191213-200021 fixed\n",
      "3dshapes-fdwae_0077-5920872-48_191213-201525 fixed\n",
      "fdwae-celeba_0072-5920866-8_191213-200021 fixed\n",
      "fdvae-celeba_0074-5920868-4_191213-200516 fixed\n",
      "celeba-dwae_0076-5920870-6_191213-201051 fixed\n",
      "3dshapes-wgan_0077-5920872-0_191213-201539 fixed\n",
      "3dshapes-wgan_0080-5920891-2_191214-090739 fixed\n",
      "3dshapes-wpp_0077-5920872-31_191213-201529 fixed\n",
      "3dshapes-fvae_0077-5920872-39_191213-201528 fixed\n",
      "3dshapes-vae_0077-5920872-22_191213-201525 fixed\n",
      "3dscr-fvae_0078-5920873-3_191213-202212 fixed\n",
      "celeba-wae_0076-5920870-0_191213-201050 fixed\n",
      "3dshapes-wae_0077-5920872-14_191213-201548 fixed\n",
      "dvae-celeba_0073-5920867-2_191213-200417 fixed\n",
      "test-pycharm_191213-084225 fixed\n",
      "3dshapes-wgan_0077-5920872-2_191213-201527 fixed\n",
      "gan_0070-5920322-11_191213-093202 fixed\n",
      "3dshapes-fwae_0077-5920872-34_191213-201528 fixed\n",
      "gan_0070-5920322-16_191213-093202 fixed\n",
      "celeba-wgan_0076-5920870-4_191213-201050 fixed\n",
      "3dshapes-wpp_0077-5920872-27_191213-201524 fixed\n",
      "3dshapes-dwae_0077-5920872-44_191213-201529 fixed\n",
      "3dscr-vae_0078-5920873-1_191213-202211 fixed\n",
      "3dscr-fwae_0078-5920873-2_191213-202209 fixed\n",
      "3dshapes-wae_0077-5920872-16_191213-201523 fixed\n",
      "celeba-fvae_0076-5920870-3_191213-201050 fixed\n",
      "3dshapes-vae_0077-5920872-23_191213-201527 fixed\n",
      "celeba-fdvae_0076-5920870-9_191213-201051 fixed\n",
      "dvae-celeba_0072-5920866-7_191213-200020 fixed\n",
      "celeba-dvae_0076-5920870-7_191213-201050 fixed\n",
      "3dscr-wgan_0080-5920891-0_191214-090741 fixed\n",
      "3dshapes-wgan_0077-5920872-6_191213-201524 fixed\n",
      "3dshapes-wae_0077-5920872-9_191213-201526 fixed\n",
      "dwae-celeba_0074-5920868-1_191213-200516 fixed\n",
      "3dshapes-wgan_0077-5920872-4_191213-201526 fixed\n",
      "test-pycharm_191212-162402 fixed\n",
      "3dshapes-wpp_0077-5920872-28_191213-201526 fixed\n",
      "3dscr-wae_0078-5920873-0_191213-202222 fixed\n",
      "3dscr-dwae_0078-5920873-6_191213-202209 fixed\n",
      "3dshapes-wae_0077-5920872-13_191213-201528 fixed\n",
      "test-pycharm_191213-185946 fixed\n",
      "3dshapes-wae_0077-5920872-8_191213-201526 fixed\n",
      "3dscr-wgan_0078-5920873-4_191213-202211 fixed\n",
      "3dshapes-fwae_0077-5920872-33_191213-201527 fixed\n",
      "3dshapes-dvae_0077-5920872-45_191213-201528 fixed\n",
      "3dshapes-fwae_0077-5920872-36_191213-201528 fixed\n",
      "3dshapes-dwae_0077-5920872-42_191213-201526 fixed\n",
      "gan_0070-5920322-12_191213-093222 fixed\n",
      "fdvae-celeba_0072-5920866-9_191213-200022 fixed\n",
      "3dshapes-wpp_0077-5920872-29_191213-201526 fixed\n",
      "3dshapes-wae_0077-5920872-20_191213-201527 fixed\n",
      "3dshapes-wae_0077-5920872-19_191213-201528 fixed\n",
      "celeba-fdwae_0076-5920870-8_191213-201050 fixed\n",
      "3dshapes-fdwae_0077-5920872-47_191213-201540 fixed\n",
      "3dshapes-fvae_0077-5920872-37_191213-201524 fixed\n",
      "fdwae-celeba_0074-5920868-3_191213-200518 fixed\n",
      "vae_0070-5920322-6_191213-093201 fixed\n",
      "dvae-celeba_0074-5920868-2_191213-200518 fixed\n",
      "fdvae-celeba_0073-5920867-4_191213-200416 fixed\n",
      "3dscr-wgan_0080-5920891-1_191214-090742 fixed\n",
      "3dshapes-wpp_0077-5920872-26_191213-201525 fixed\n",
      "dwae-celeba_0073-5920867-1_191213-200416 fixed\n",
      "3dscr-wpp_0078-5920873-5_191213-202209 fixed\n",
      "wgan-celeba_0072-5920866-5_191213-200021 fixed\n",
      "gan_0070-5920322-15_191213-093203 fixed\n",
      "vae_0070-5920322-5_191213-093204 fixed\n",
      "3dshapes-wpp_0077-5920872-25_191213-201526 fixed\n",
      "3dshapes-fdvae_0077-5920872-50_191213-201526 fixed\n",
      "3dshapes-dwae_0077-5920872-43_191213-201526 fixed\n",
      "3dshapes-dwae_0077-5920872-41_191213-201527 fixed\n",
      "3dshapes-wae_0077-5920872-18_191213-201528 fixed\n",
      "3dshapes-wpp_0077-5920872-32_191213-201525 fixed\n",
      "celeba-wpp_0076-5920870-5_191213-201049 fixed\n",
      "fdwae-celeba_0073-5920867-3_191213-200416 fixed\n",
      "celeba-fwae_0076-5920870-2_191213-201050 fixed\n",
      "3dshapes-wgan_0077-5920872-3_191213-201524 fixed\n",
      "celeba-vae_0076-5920870-1_191213-201049 fixed\n",
      "3dshapes-fdvae_0077-5920872-51_191213-201525 fixed\n",
      "3dshapes-wae_0077-5920872-15_191213-201528 fixed\n",
      "3dshapes-wpp_0077-5920872-30_191213-201526 fixed\n",
      "3dshapes-wae_0077-5920872-17_191213-201526 fixed\n",
      "dwae-celeba_0072-5920866-6_191213-200022 fixed\n",
      "3dscr-fdwae_0078-5920873-8_191213-202213 fixed\n",
      "3dshapes-fwae_0077-5920872-35_191213-201548 fixed\n",
      "3dshapes-wgan_0077-5920872-5_191213-201525 fixed\n",
      "vae_0070-5920322-7_191213-093200 fixed\n",
      "3dshapes-wgan_0077-5920872-1_191213-201524 fixed\n",
      "3dshapes-wae_0077-5920872-7_191213-201526 fixed\n",
      "3dshapes-fvae_0077-5920872-40_191213-201528 fixed\n",
      "3dshapes-vae_0077-5920872-21_191213-201539 fixed\n",
      "3dshapes-wae_0077-5920872-12_191213-201527 fixed\n",
      "fvae_0071-5920324-0_191213-093451 fixed\n",
      "fwae_0070-5920322-8_191213-093202 fixed\n",
      "3dshapes-wae_0077-5920872-10_191213-201528 fixed\n",
      "3dshapes-wgan_0080-5920891-4_191214-090801 fixed\n"
     ]
    }
   ],
   "source": [
    "for name in os.listdir(saveroot):\n",
    "    path = os.path.join(saveroot, name)\n",
    "    if 'config.yml' in os.listdir(path):\n",
    "        print(name,end=' ')\n",
    "        with open(os.path.join(path, 'config.yml'), 'r') as f:\n",
    "            data = yaml.load(f)\n",
    "        break\n",
    "#         if 'parents' in data:\n",
    "#             del data['parents']\n",
    "#             with open(os.path.join(path, 'config.yml'), 'w') as f:\n",
    "#                 yaml.dump(data, f)\n",
    "#             print('fixed')\n",
    "#         else:\n",
    "#             print()"
   ]
  },
  {
   "cell_type": "code",
   "execution_count": 16,
   "metadata": {},
   "outputs": [
    {
     "ename": "KeyError",
     "evalue": "'parents'",
     "output_type": "error",
     "traceback": [
      "\u001b[0;31m---------------------------------------------------\u001b[0m",
      "\u001b[0;31mKeyError\u001b[0m          Traceback (most recent call last)",
      "\u001b[0;32m<ipython-input-16-934abed2436b>\u001b[0m in \u001b[0;36m<module>\u001b[0;34m\u001b[0m\n\u001b[0;32m----> 1\u001b[0;31m \u001b[0mdata\u001b[0m\u001b[0;34m[\u001b[0m\u001b[0;34m'parents'\u001b[0m\u001b[0;34m]\u001b[0m\u001b[0;34m\u001b[0m\u001b[0;34m\u001b[0m\u001b[0m\n\u001b[0m",
      "\u001b[0;31mKeyError\u001b[0m: 'parents'"
     ]
    }
   ],
   "source": [
    "data['parents']"
   ]
  },
  {
   "cell_type": "code",
   "execution_count": null,
   "metadata": {},
   "outputs": [],
   "source": []
  }
 ],
 "metadata": {
  "kernelspec": {
   "display_name": "Python 3",
   "language": "python",
   "name": "python3"
  },
  "language_info": {
   "codemirror_mode": {
    "name": "ipython",
    "version": 3
   },
   "file_extension": ".py",
   "mimetype": "text/x-python",
   "name": "python",
   "nbconvert_exporter": "python",
   "pygments_lexer": "ipython3",
   "version": "3.7.3"
  }
 },
 "nbformat": 4,
 "nbformat_minor": 2
}
