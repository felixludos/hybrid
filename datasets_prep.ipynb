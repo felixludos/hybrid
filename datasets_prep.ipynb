{
 "cells": [
  {
   "cell_type": "code",
   "execution_count": 1,
   "metadata": {},
   "outputs": [],
   "source": [
    "import sys, os, time\n",
    "# %load_ext autoreload\n",
    "# %autoreload 2\n",
    "os.environ['FOUNDATION_RUN_MODE'] = 'jupyter'\n",
    "os.environ['FOUNDATION_SAVE_DIR'] = '/is/ei/fleeb/workspace/chome/trained_nets'\n",
    "os.environ['FOUNDATION_DATA_DIR'] = '/is/ei/fleeb/workspace/local_data'\n",
    "# from IPython.core.interactiveshell import InteractiveShell\n",
    "# InteractiveShell.ast_node_interactivity = \"all\"\n",
    "from IPython import display\n",
    "import torch\n",
    "import torch.nn as nn\n",
    "import torch.nn.functional as F\n",
    "import torch.distributions as distrib\n",
    "import torch.multiprocessing as mp\n",
    "import torchvision.models\n",
    "import torchvision\n",
    "from torch.utils.data import Dataset, DataLoader, TensorDataset\n",
    "import gym\n",
    "import numpy as np\n",
    "%matplotlib notebook\n",
    "# %matplotlib tk\n",
    "import matplotlib.pyplot as plt\n",
    "import imageio\n",
    "import seaborn as sns\n",
    "#plt.switch_backend('Qt5Agg') #('Qt5Agg')\n",
    "import foundation as fd\n",
    "from foundation import models\n",
    "from foundation import util\n",
    "from foundation import train as trn\n",
    "#from foundation.util import replicate, Cloner\n",
    "\n",
    "from hybrid import get_model, get_data\n",
    "\n",
    "np.set_printoptions(linewidth=120, suppress=True)"
   ]
  },
  {
   "cell_type": "code",
   "execution_count": 2,
   "metadata": {},
   "outputs": [],
   "source": [
    "# dataset = train.get_dataset('cr-3dshapes', dataroot=os.environ['FOUNDATION_DATA_DIR'], train=True)\n",
    "# len(dataset)"
   ]
  },
  {
   "cell_type": "code",
   "execution_count": 8,
   "metadata": {
    "scrolled": true
   },
   "outputs": [
    {
     "name": "stdout",
     "output_type": "stream",
     "text": [
      "Loading dataset: 3dshapes\n",
      "dataroot: /is/ei/fleeb/workspace/local_data\n",
      "load_memory: True (by default)\n",
      "train: True (by default)\n",
      "labeled: True\n",
      "noise: None (by default)\n",
      "din: (3, 64, 64) (by default)\n",
      "dout: 6 (by default)\n"
     ]
    },
    {
     "data": {
      "text/plain": [
       "384000"
      ]
     },
     "execution_count": 8,
     "metadata": {},
     "output_type": "execute_result"
    }
   ],
   "source": [
    "dataset = trn.get_dataset('3dshapes', labeled=True)\n",
    "len(dataset)"
   ]
  },
  {
   "cell_type": "code",
   "execution_count": 9,
   "metadata": {},
   "outputs": [
    {
     "data": {
      "text/plain": [
       "384000"
      ]
     },
     "execution_count": 9,
     "metadata": {},
     "output_type": "execute_result"
    }
   ],
   "source": [
    "# dataset = train.get_dataset('nocap-3dshapes', dataroot=os.environ['FOUNDATION_DATA_DIR'], negative=True)\n",
    "len(dataset)"
   ]
  },
  {
   "cell_type": "code",
   "execution_count": 10,
   "metadata": {},
   "outputs": [
    {
     "data": {
      "text/plain": [
       "['floor_hue', 'wall_hue', 'object_hue', 'scale', 'shape', 'orientation']"
      ]
     },
     "execution_count": 10,
     "metadata": {},
     "output_type": "execute_result"
    }
   ],
   "source": [
    "dataset.factor_order"
   ]
  },
  {
   "cell_type": "code",
   "execution_count": 11,
   "metadata": {},
   "outputs": [],
   "source": [
    "# i = -1"
   ]
  },
  {
   "cell_type": "code",
   "execution_count": 15,
   "metadata": {},
   "outputs": [
    {
     "name": "stdout",
     "output_type": "stream",
     "text": [
      "6628\n",
      "tensor([0.0000, 0.1000, 0.7000, 0.8214, 1.0000, 0.0000])\n"
     ]
    },
    {
     "data": {
      "application/javascript": [
       "/* Put everything inside the global mpl namespace */\n",
       "window.mpl = {};\n",
       "\n",
       "\n",
       "mpl.get_websocket_type = function() {\n",
       "    if (typeof(WebSocket) !== 'undefined') {\n",
       "        return WebSocket;\n",
       "    } else if (typeof(MozWebSocket) !== 'undefined') {\n",
       "        return MozWebSocket;\n",
       "    } else {\n",
       "        alert('Your browser does not have WebSocket support.' +\n",
       "              'Please try Chrome, Safari or Firefox ≥ 6. ' +\n",
       "              'Firefox 4 and 5 are also supported but you ' +\n",
       "              'have to enable WebSockets in about:config.');\n",
       "    };\n",
       "}\n",
       "\n",
       "mpl.figure = function(figure_id, websocket, ondownload, parent_element) {\n",
       "    this.id = figure_id;\n",
       "\n",
       "    this.ws = websocket;\n",
       "\n",
       "    this.supports_binary = (this.ws.binaryType != undefined);\n",
       "\n",
       "    if (!this.supports_binary) {\n",
       "        var warnings = document.getElementById(\"mpl-warnings\");\n",
       "        if (warnings) {\n",
       "            warnings.style.display = 'block';\n",
       "            warnings.textContent = (\n",
       "                \"This browser does not support binary websocket messages. \" +\n",
       "                    \"Performance may be slow.\");\n",
       "        }\n",
       "    }\n",
       "\n",
       "    this.imageObj = new Image();\n",
       "\n",
       "    this.context = undefined;\n",
       "    this.message = undefined;\n",
       "    this.canvas = undefined;\n",
       "    this.rubberband_canvas = undefined;\n",
       "    this.rubberband_context = undefined;\n",
       "    this.format_dropdown = undefined;\n",
       "\n",
       "    this.image_mode = 'full';\n",
       "\n",
       "    this.root = $('<div/>');\n",
       "    this._root_extra_style(this.root)\n",
       "    this.root.attr('style', 'display: inline-block');\n",
       "\n",
       "    $(parent_element).append(this.root);\n",
       "\n",
       "    this._init_header(this);\n",
       "    this._init_canvas(this);\n",
       "    this._init_toolbar(this);\n",
       "\n",
       "    var fig = this;\n",
       "\n",
       "    this.waiting = false;\n",
       "\n",
       "    this.ws.onopen =  function () {\n",
       "            fig.send_message(\"supports_binary\", {value: fig.supports_binary});\n",
       "            fig.send_message(\"send_image_mode\", {});\n",
       "            if (mpl.ratio != 1) {\n",
       "                fig.send_message(\"set_dpi_ratio\", {'dpi_ratio': mpl.ratio});\n",
       "            }\n",
       "            fig.send_message(\"refresh\", {});\n",
       "        }\n",
       "\n",
       "    this.imageObj.onload = function() {\n",
       "            if (fig.image_mode == 'full') {\n",
       "                // Full images could contain transparency (where diff images\n",
       "                // almost always do), so we need to clear the canvas so that\n",
       "                // there is no ghosting.\n",
       "                fig.context.clearRect(0, 0, fig.canvas.width, fig.canvas.height);\n",
       "            }\n",
       "            fig.context.drawImage(fig.imageObj, 0, 0);\n",
       "        };\n",
       "\n",
       "    this.imageObj.onunload = function() {\n",
       "        fig.ws.close();\n",
       "    }\n",
       "\n",
       "    this.ws.onmessage = this._make_on_message_function(this);\n",
       "\n",
       "    this.ondownload = ondownload;\n",
       "}\n",
       "\n",
       "mpl.figure.prototype._init_header = function() {\n",
       "    var titlebar = $(\n",
       "        '<div class=\"ui-dialog-titlebar ui-widget-header ui-corner-all ' +\n",
       "        'ui-helper-clearfix\"/>');\n",
       "    var titletext = $(\n",
       "        '<div class=\"ui-dialog-title\" style=\"width: 100%; ' +\n",
       "        'text-align: center; padding: 3px;\"/>');\n",
       "    titlebar.append(titletext)\n",
       "    this.root.append(titlebar);\n",
       "    this.header = titletext[0];\n",
       "}\n",
       "\n",
       "\n",
       "\n",
       "mpl.figure.prototype._canvas_extra_style = function(canvas_div) {\n",
       "\n",
       "}\n",
       "\n",
       "\n",
       "mpl.figure.prototype._root_extra_style = function(canvas_div) {\n",
       "\n",
       "}\n",
       "\n",
       "mpl.figure.prototype._init_canvas = function() {\n",
       "    var fig = this;\n",
       "\n",
       "    var canvas_div = $('<div/>');\n",
       "\n",
       "    canvas_div.attr('style', 'position: relative; clear: both; outline: 0');\n",
       "\n",
       "    function canvas_keyboard_event(event) {\n",
       "        return fig.key_event(event, event['data']);\n",
       "    }\n",
       "\n",
       "    canvas_div.keydown('key_press', canvas_keyboard_event);\n",
       "    canvas_div.keyup('key_release', canvas_keyboard_event);\n",
       "    this.canvas_div = canvas_div\n",
       "    this._canvas_extra_style(canvas_div)\n",
       "    this.root.append(canvas_div);\n",
       "\n",
       "    var canvas = $('<canvas/>');\n",
       "    canvas.addClass('mpl-canvas');\n",
       "    canvas.attr('style', \"left: 0; top: 0; z-index: 0; outline: 0\")\n",
       "\n",
       "    this.canvas = canvas[0];\n",
       "    this.context = canvas[0].getContext(\"2d\");\n",
       "\n",
       "    var backingStore = this.context.backingStorePixelRatio ||\n",
       "\tthis.context.webkitBackingStorePixelRatio ||\n",
       "\tthis.context.mozBackingStorePixelRatio ||\n",
       "\tthis.context.msBackingStorePixelRatio ||\n",
       "\tthis.context.oBackingStorePixelRatio ||\n",
       "\tthis.context.backingStorePixelRatio || 1;\n",
       "\n",
       "    mpl.ratio = (window.devicePixelRatio || 1) / backingStore;\n",
       "\n",
       "    var rubberband = $('<canvas/>');\n",
       "    rubberband.attr('style', \"position: absolute; left: 0; top: 0; z-index: 1;\")\n",
       "\n",
       "    var pass_mouse_events = true;\n",
       "\n",
       "    canvas_div.resizable({\n",
       "        start: function(event, ui) {\n",
       "            pass_mouse_events = false;\n",
       "        },\n",
       "        resize: function(event, ui) {\n",
       "            fig.request_resize(ui.size.width, ui.size.height);\n",
       "        },\n",
       "        stop: function(event, ui) {\n",
       "            pass_mouse_events = true;\n",
       "            fig.request_resize(ui.size.width, ui.size.height);\n",
       "        },\n",
       "    });\n",
       "\n",
       "    function mouse_event_fn(event) {\n",
       "        if (pass_mouse_events)\n",
       "            return fig.mouse_event(event, event['data']);\n",
       "    }\n",
       "\n",
       "    rubberband.mousedown('button_press', mouse_event_fn);\n",
       "    rubberband.mouseup('button_release', mouse_event_fn);\n",
       "    // Throttle sequential mouse events to 1 every 20ms.\n",
       "    rubberband.mousemove('motion_notify', mouse_event_fn);\n",
       "\n",
       "    rubberband.mouseenter('figure_enter', mouse_event_fn);\n",
       "    rubberband.mouseleave('figure_leave', mouse_event_fn);\n",
       "\n",
       "    canvas_div.on(\"wheel\", function (event) {\n",
       "        event = event.originalEvent;\n",
       "        event['data'] = 'scroll'\n",
       "        if (event.deltaY < 0) {\n",
       "            event.step = 1;\n",
       "        } else {\n",
       "            event.step = -1;\n",
       "        }\n",
       "        mouse_event_fn(event);\n",
       "    });\n",
       "\n",
       "    canvas_div.append(canvas);\n",
       "    canvas_div.append(rubberband);\n",
       "\n",
       "    this.rubberband = rubberband;\n",
       "    this.rubberband_canvas = rubberband[0];\n",
       "    this.rubberband_context = rubberband[0].getContext(\"2d\");\n",
       "    this.rubberband_context.strokeStyle = \"#000000\";\n",
       "\n",
       "    this._resize_canvas = function(width, height) {\n",
       "        // Keep the size of the canvas, canvas container, and rubber band\n",
       "        // canvas in synch.\n",
       "        canvas_div.css('width', width)\n",
       "        canvas_div.css('height', height)\n",
       "\n",
       "        canvas.attr('width', width * mpl.ratio);\n",
       "        canvas.attr('height', height * mpl.ratio);\n",
       "        canvas.attr('style', 'width: ' + width + 'px; height: ' + height + 'px;');\n",
       "\n",
       "        rubberband.attr('width', width);\n",
       "        rubberband.attr('height', height);\n",
       "    }\n",
       "\n",
       "    // Set the figure to an initial 600x600px, this will subsequently be updated\n",
       "    // upon first draw.\n",
       "    this._resize_canvas(600, 600);\n",
       "\n",
       "    // Disable right mouse context menu.\n",
       "    $(this.rubberband_canvas).bind(\"contextmenu\",function(e){\n",
       "        return false;\n",
       "    });\n",
       "\n",
       "    function set_focus () {\n",
       "        canvas.focus();\n",
       "        canvas_div.focus();\n",
       "    }\n",
       "\n",
       "    window.setTimeout(set_focus, 100);\n",
       "}\n",
       "\n",
       "mpl.figure.prototype._init_toolbar = function() {\n",
       "    var fig = this;\n",
       "\n",
       "    var nav_element = $('<div/>')\n",
       "    nav_element.attr('style', 'width: 100%');\n",
       "    this.root.append(nav_element);\n",
       "\n",
       "    // Define a callback function for later on.\n",
       "    function toolbar_event(event) {\n",
       "        return fig.toolbar_button_onclick(event['data']);\n",
       "    }\n",
       "    function toolbar_mouse_event(event) {\n",
       "        return fig.toolbar_button_onmouseover(event['data']);\n",
       "    }\n",
       "\n",
       "    for(var toolbar_ind in mpl.toolbar_items) {\n",
       "        var name = mpl.toolbar_items[toolbar_ind][0];\n",
       "        var tooltip = mpl.toolbar_items[toolbar_ind][1];\n",
       "        var image = mpl.toolbar_items[toolbar_ind][2];\n",
       "        var method_name = mpl.toolbar_items[toolbar_ind][3];\n",
       "\n",
       "        if (!name) {\n",
       "            // put a spacer in here.\n",
       "            continue;\n",
       "        }\n",
       "        var button = $('<button/>');\n",
       "        button.addClass('ui-button ui-widget ui-state-default ui-corner-all ' +\n",
       "                        'ui-button-icon-only');\n",
       "        button.attr('role', 'button');\n",
       "        button.attr('aria-disabled', 'false');\n",
       "        button.click(method_name, toolbar_event);\n",
       "        button.mouseover(tooltip, toolbar_mouse_event);\n",
       "\n",
       "        var icon_img = $('<span/>');\n",
       "        icon_img.addClass('ui-button-icon-primary ui-icon');\n",
       "        icon_img.addClass(image);\n",
       "        icon_img.addClass('ui-corner-all');\n",
       "\n",
       "        var tooltip_span = $('<span/>');\n",
       "        tooltip_span.addClass('ui-button-text');\n",
       "        tooltip_span.html(tooltip);\n",
       "\n",
       "        button.append(icon_img);\n",
       "        button.append(tooltip_span);\n",
       "\n",
       "        nav_element.append(button);\n",
       "    }\n",
       "\n",
       "    var fmt_picker_span = $('<span/>');\n",
       "\n",
       "    var fmt_picker = $('<select/>');\n",
       "    fmt_picker.addClass('mpl-toolbar-option ui-widget ui-widget-content');\n",
       "    fmt_picker_span.append(fmt_picker);\n",
       "    nav_element.append(fmt_picker_span);\n",
       "    this.format_dropdown = fmt_picker[0];\n",
       "\n",
       "    for (var ind in mpl.extensions) {\n",
       "        var fmt = mpl.extensions[ind];\n",
       "        var option = $(\n",
       "            '<option/>', {selected: fmt === mpl.default_extension}).html(fmt);\n",
       "        fmt_picker.append(option)\n",
       "    }\n",
       "\n",
       "    // Add hover states to the ui-buttons\n",
       "    $( \".ui-button\" ).hover(\n",
       "        function() { $(this).addClass(\"ui-state-hover\");},\n",
       "        function() { $(this).removeClass(\"ui-state-hover\");}\n",
       "    );\n",
       "\n",
       "    var status_bar = $('<span class=\"mpl-message\"/>');\n",
       "    nav_element.append(status_bar);\n",
       "    this.message = status_bar[0];\n",
       "}\n",
       "\n",
       "mpl.figure.prototype.request_resize = function(x_pixels, y_pixels) {\n",
       "    // Request matplotlib to resize the figure. Matplotlib will then trigger a resize in the client,\n",
       "    // which will in turn request a refresh of the image.\n",
       "    this.send_message('resize', {'width': x_pixels, 'height': y_pixels});\n",
       "}\n",
       "\n",
       "mpl.figure.prototype.send_message = function(type, properties) {\n",
       "    properties['type'] = type;\n",
       "    properties['figure_id'] = this.id;\n",
       "    this.ws.send(JSON.stringify(properties));\n",
       "}\n",
       "\n",
       "mpl.figure.prototype.send_draw_message = function() {\n",
       "    if (!this.waiting) {\n",
       "        this.waiting = true;\n",
       "        this.ws.send(JSON.stringify({type: \"draw\", figure_id: this.id}));\n",
       "    }\n",
       "}\n",
       "\n",
       "\n",
       "mpl.figure.prototype.handle_save = function(fig, msg) {\n",
       "    var format_dropdown = fig.format_dropdown;\n",
       "    var format = format_dropdown.options[format_dropdown.selectedIndex].value;\n",
       "    fig.ondownload(fig, format);\n",
       "}\n",
       "\n",
       "\n",
       "mpl.figure.prototype.handle_resize = function(fig, msg) {\n",
       "    var size = msg['size'];\n",
       "    if (size[0] != fig.canvas.width || size[1] != fig.canvas.height) {\n",
       "        fig._resize_canvas(size[0], size[1]);\n",
       "        fig.send_message(\"refresh\", {});\n",
       "    };\n",
       "}\n",
       "\n",
       "mpl.figure.prototype.handle_rubberband = function(fig, msg) {\n",
       "    var x0 = msg['x0'] / mpl.ratio;\n",
       "    var y0 = (fig.canvas.height - msg['y0']) / mpl.ratio;\n",
       "    var x1 = msg['x1'] / mpl.ratio;\n",
       "    var y1 = (fig.canvas.height - msg['y1']) / mpl.ratio;\n",
       "    x0 = Math.floor(x0) + 0.5;\n",
       "    y0 = Math.floor(y0) + 0.5;\n",
       "    x1 = Math.floor(x1) + 0.5;\n",
       "    y1 = Math.floor(y1) + 0.5;\n",
       "    var min_x = Math.min(x0, x1);\n",
       "    var min_y = Math.min(y0, y1);\n",
       "    var width = Math.abs(x1 - x0);\n",
       "    var height = Math.abs(y1 - y0);\n",
       "\n",
       "    fig.rubberband_context.clearRect(\n",
       "        0, 0, fig.canvas.width, fig.canvas.height);\n",
       "\n",
       "    fig.rubberband_context.strokeRect(min_x, min_y, width, height);\n",
       "}\n",
       "\n",
       "mpl.figure.prototype.handle_figure_label = function(fig, msg) {\n",
       "    // Updates the figure title.\n",
       "    fig.header.textContent = msg['label'];\n",
       "}\n",
       "\n",
       "mpl.figure.prototype.handle_cursor = function(fig, msg) {\n",
       "    var cursor = msg['cursor'];\n",
       "    switch(cursor)\n",
       "    {\n",
       "    case 0:\n",
       "        cursor = 'pointer';\n",
       "        break;\n",
       "    case 1:\n",
       "        cursor = 'default';\n",
       "        break;\n",
       "    case 2:\n",
       "        cursor = 'crosshair';\n",
       "        break;\n",
       "    case 3:\n",
       "        cursor = 'move';\n",
       "        break;\n",
       "    }\n",
       "    fig.rubberband_canvas.style.cursor = cursor;\n",
       "}\n",
       "\n",
       "mpl.figure.prototype.handle_message = function(fig, msg) {\n",
       "    fig.message.textContent = msg['message'];\n",
       "}\n",
       "\n",
       "mpl.figure.prototype.handle_draw = function(fig, msg) {\n",
       "    // Request the server to send over a new figure.\n",
       "    fig.send_draw_message();\n",
       "}\n",
       "\n",
       "mpl.figure.prototype.handle_image_mode = function(fig, msg) {\n",
       "    fig.image_mode = msg['mode'];\n",
       "}\n",
       "\n",
       "mpl.figure.prototype.updated_canvas_event = function() {\n",
       "    // Called whenever the canvas gets updated.\n",
       "    this.send_message(\"ack\", {});\n",
       "}\n",
       "\n",
       "// A function to construct a web socket function for onmessage handling.\n",
       "// Called in the figure constructor.\n",
       "mpl.figure.prototype._make_on_message_function = function(fig) {\n",
       "    return function socket_on_message(evt) {\n",
       "        if (evt.data instanceof Blob) {\n",
       "            /* FIXME: We get \"Resource interpreted as Image but\n",
       "             * transferred with MIME type text/plain:\" errors on\n",
       "             * Chrome.  But how to set the MIME type?  It doesn't seem\n",
       "             * to be part of the websocket stream */\n",
       "            evt.data.type = \"image/png\";\n",
       "\n",
       "            /* Free the memory for the previous frames */\n",
       "            if (fig.imageObj.src) {\n",
       "                (window.URL || window.webkitURL).revokeObjectURL(\n",
       "                    fig.imageObj.src);\n",
       "            }\n",
       "\n",
       "            fig.imageObj.src = (window.URL || window.webkitURL).createObjectURL(\n",
       "                evt.data);\n",
       "            fig.updated_canvas_event();\n",
       "            fig.waiting = false;\n",
       "            return;\n",
       "        }\n",
       "        else if (typeof evt.data === 'string' && evt.data.slice(0, 21) == \"data:image/png;base64\") {\n",
       "            fig.imageObj.src = evt.data;\n",
       "            fig.updated_canvas_event();\n",
       "            fig.waiting = false;\n",
       "            return;\n",
       "        }\n",
       "\n",
       "        var msg = JSON.parse(evt.data);\n",
       "        var msg_type = msg['type'];\n",
       "\n",
       "        // Call the  \"handle_{type}\" callback, which takes\n",
       "        // the figure and JSON message as its only arguments.\n",
       "        try {\n",
       "            var callback = fig[\"handle_\" + msg_type];\n",
       "        } catch (e) {\n",
       "            console.log(\"No handler for the '\" + msg_type + \"' message type: \", msg);\n",
       "            return;\n",
       "        }\n",
       "\n",
       "        if (callback) {\n",
       "            try {\n",
       "                // console.log(\"Handling '\" + msg_type + \"' message: \", msg);\n",
       "                callback(fig, msg);\n",
       "            } catch (e) {\n",
       "                console.log(\"Exception inside the 'handler_\" + msg_type + \"' callback:\", e, e.stack, msg);\n",
       "            }\n",
       "        }\n",
       "    };\n",
       "}\n",
       "\n",
       "// from http://stackoverflow.com/questions/1114465/getting-mouse-location-in-canvas\n",
       "mpl.findpos = function(e) {\n",
       "    //this section is from http://www.quirksmode.org/js/events_properties.html\n",
       "    var targ;\n",
       "    if (!e)\n",
       "        e = window.event;\n",
       "    if (e.target)\n",
       "        targ = e.target;\n",
       "    else if (e.srcElement)\n",
       "        targ = e.srcElement;\n",
       "    if (targ.nodeType == 3) // defeat Safari bug\n",
       "        targ = targ.parentNode;\n",
       "\n",
       "    // jQuery normalizes the pageX and pageY\n",
       "    // pageX,Y are the mouse positions relative to the document\n",
       "    // offset() returns the position of the element relative to the document\n",
       "    var x = e.pageX - $(targ).offset().left;\n",
       "    var y = e.pageY - $(targ).offset().top;\n",
       "\n",
       "    return {\"x\": x, \"y\": y};\n",
       "};\n",
       "\n",
       "/*\n",
       " * return a copy of an object with only non-object keys\n",
       " * we need this to avoid circular references\n",
       " * http://stackoverflow.com/a/24161582/3208463\n",
       " */\n",
       "function simpleKeys (original) {\n",
       "  return Object.keys(original).reduce(function (obj, key) {\n",
       "    if (typeof original[key] !== 'object')\n",
       "        obj[key] = original[key]\n",
       "    return obj;\n",
       "  }, {});\n",
       "}\n",
       "\n",
       "mpl.figure.prototype.mouse_event = function(event, name) {\n",
       "    var canvas_pos = mpl.findpos(event)\n",
       "\n",
       "    if (name === 'button_press')\n",
       "    {\n",
       "        this.canvas.focus();\n",
       "        this.canvas_div.focus();\n",
       "    }\n",
       "\n",
       "    var x = canvas_pos.x * mpl.ratio;\n",
       "    var y = canvas_pos.y * mpl.ratio;\n",
       "\n",
       "    this.send_message(name, {x: x, y: y, button: event.button,\n",
       "                             step: event.step,\n",
       "                             guiEvent: simpleKeys(event)});\n",
       "\n",
       "    /* This prevents the web browser from automatically changing to\n",
       "     * the text insertion cursor when the button is pressed.  We want\n",
       "     * to control all of the cursor setting manually through the\n",
       "     * 'cursor' event from matplotlib */\n",
       "    event.preventDefault();\n",
       "    return false;\n",
       "}\n",
       "\n",
       "mpl.figure.prototype._key_event_extra = function(event, name) {\n",
       "    // Handle any extra behaviour associated with a key event\n",
       "}\n",
       "\n",
       "mpl.figure.prototype.key_event = function(event, name) {\n",
       "\n",
       "    // Prevent repeat events\n",
       "    if (name == 'key_press')\n",
       "    {\n",
       "        if (event.which === this._key)\n",
       "            return;\n",
       "        else\n",
       "            this._key = event.which;\n",
       "    }\n",
       "    if (name == 'key_release')\n",
       "        this._key = null;\n",
       "\n",
       "    var value = '';\n",
       "    if (event.ctrlKey && event.which != 17)\n",
       "        value += \"ctrl+\";\n",
       "    if (event.altKey && event.which != 18)\n",
       "        value += \"alt+\";\n",
       "    if (event.shiftKey && event.which != 16)\n",
       "        value += \"shift+\";\n",
       "\n",
       "    value += 'k';\n",
       "    value += event.which.toString();\n",
       "\n",
       "    this._key_event_extra(event, name);\n",
       "\n",
       "    this.send_message(name, {key: value,\n",
       "                             guiEvent: simpleKeys(event)});\n",
       "    return false;\n",
       "}\n",
       "\n",
       "mpl.figure.prototype.toolbar_button_onclick = function(name) {\n",
       "    if (name == 'download') {\n",
       "        this.handle_save(this, null);\n",
       "    } else {\n",
       "        this.send_message(\"toolbar_button\", {name: name});\n",
       "    }\n",
       "};\n",
       "\n",
       "mpl.figure.prototype.toolbar_button_onmouseover = function(tooltip) {\n",
       "    this.message.textContent = tooltip;\n",
       "};\n",
       "mpl.toolbar_items = [[\"Home\", \"Reset original view\", \"fa fa-home icon-home\", \"home\"], [\"Back\", \"Back to previous view\", \"fa fa-arrow-left icon-arrow-left\", \"back\"], [\"Forward\", \"Forward to next view\", \"fa fa-arrow-right icon-arrow-right\", \"forward\"], [\"\", \"\", \"\", \"\"], [\"Pan\", \"Pan axes with left mouse, zoom with right\", \"fa fa-arrows icon-move\", \"pan\"], [\"Zoom\", \"Zoom to rectangle\", \"fa fa-square-o icon-check-empty\", \"zoom\"], [\"\", \"\", \"\", \"\"], [\"Download\", \"Download plot\", \"fa fa-floppy-o icon-save\", \"download\"]];\n",
       "\n",
       "mpl.extensions = [\"eps\", \"jpeg\", \"pdf\", \"png\", \"ps\", \"raw\", \"svg\", \"tif\"];\n",
       "\n",
       "mpl.default_extension = \"png\";var comm_websocket_adapter = function(comm) {\n",
       "    // Create a \"websocket\"-like object which calls the given IPython comm\n",
       "    // object with the appropriate methods. Currently this is a non binary\n",
       "    // socket, so there is still some room for performance tuning.\n",
       "    var ws = {};\n",
       "\n",
       "    ws.close = function() {\n",
       "        comm.close()\n",
       "    };\n",
       "    ws.send = function(m) {\n",
       "        //console.log('sending', m);\n",
       "        comm.send(m);\n",
       "    };\n",
       "    // Register the callback with on_msg.\n",
       "    comm.on_msg(function(msg) {\n",
       "        //console.log('receiving', msg['content']['data'], msg);\n",
       "        // Pass the mpl event to the overridden (by mpl) onmessage function.\n",
       "        ws.onmessage(msg['content']['data'])\n",
       "    });\n",
       "    return ws;\n",
       "}\n",
       "\n",
       "mpl.mpl_figure_comm = function(comm, msg) {\n",
       "    // This is the function which gets called when the mpl process\n",
       "    // starts-up an IPython Comm through the \"matplotlib\" channel.\n",
       "\n",
       "    var id = msg.content.data.id;\n",
       "    // Get hold of the div created by the display call when the Comm\n",
       "    // socket was opened in Python.\n",
       "    var element = $(\"#\" + id);\n",
       "    var ws_proxy = comm_websocket_adapter(comm)\n",
       "\n",
       "    function ondownload(figure, format) {\n",
       "        window.open(figure.imageObj.src);\n",
       "    }\n",
       "\n",
       "    var fig = new mpl.figure(id, ws_proxy,\n",
       "                           ondownload,\n",
       "                           element.get(0));\n",
       "\n",
       "    // Call onopen now - mpl needs it, as it is assuming we've passed it a real\n",
       "    // web socket which is closed, not our websocket->open comm proxy.\n",
       "    ws_proxy.onopen();\n",
       "\n",
       "    fig.parent_element = element.get(0);\n",
       "    fig.cell_info = mpl.find_output_cell(\"<div id='\" + id + \"'></div>\");\n",
       "    if (!fig.cell_info) {\n",
       "        console.error(\"Failed to find cell for figure\", id, fig);\n",
       "        return;\n",
       "    }\n",
       "\n",
       "    var output_index = fig.cell_info[2]\n",
       "    var cell = fig.cell_info[0];\n",
       "\n",
       "};\n",
       "\n",
       "mpl.figure.prototype.handle_close = function(fig, msg) {\n",
       "    var width = fig.canvas.width/mpl.ratio\n",
       "    fig.root.unbind('remove')\n",
       "\n",
       "    // Update the output cell to use the data from the current canvas.\n",
       "    fig.push_to_output();\n",
       "    var dataURL = fig.canvas.toDataURL();\n",
       "    // Re-enable the keyboard manager in IPython - without this line, in FF,\n",
       "    // the notebook keyboard shortcuts fail.\n",
       "    IPython.keyboard_manager.enable()\n",
       "    $(fig.parent_element).html('<img src=\"' + dataURL + '\" width=\"' + width + '\">');\n",
       "    fig.close_ws(fig, msg);\n",
       "}\n",
       "\n",
       "mpl.figure.prototype.close_ws = function(fig, msg){\n",
       "    fig.send_message('closing', msg);\n",
       "    // fig.ws.close()\n",
       "}\n",
       "\n",
       "mpl.figure.prototype.push_to_output = function(remove_interactive) {\n",
       "    // Turn the data on the canvas into data in the output cell.\n",
       "    var width = this.canvas.width/mpl.ratio\n",
       "    var dataURL = this.canvas.toDataURL();\n",
       "    this.cell_info[1]['text/html'] = '<img src=\"' + dataURL + '\" width=\"' + width + '\">';\n",
       "}\n",
       "\n",
       "mpl.figure.prototype.updated_canvas_event = function() {\n",
       "    // Tell IPython that the notebook contents must change.\n",
       "    IPython.notebook.set_dirty(true);\n",
       "    this.send_message(\"ack\", {});\n",
       "    var fig = this;\n",
       "    // Wait a second, then push the new image to the DOM so\n",
       "    // that it is saved nicely (might be nice to debounce this).\n",
       "    setTimeout(function () { fig.push_to_output() }, 1000);\n",
       "}\n",
       "\n",
       "mpl.figure.prototype._init_toolbar = function() {\n",
       "    var fig = this;\n",
       "\n",
       "    var nav_element = $('<div/>')\n",
       "    nav_element.attr('style', 'width: 100%');\n",
       "    this.root.append(nav_element);\n",
       "\n",
       "    // Define a callback function for later on.\n",
       "    function toolbar_event(event) {\n",
       "        return fig.toolbar_button_onclick(event['data']);\n",
       "    }\n",
       "    function toolbar_mouse_event(event) {\n",
       "        return fig.toolbar_button_onmouseover(event['data']);\n",
       "    }\n",
       "\n",
       "    for(var toolbar_ind in mpl.toolbar_items){\n",
       "        var name = mpl.toolbar_items[toolbar_ind][0];\n",
       "        var tooltip = mpl.toolbar_items[toolbar_ind][1];\n",
       "        var image = mpl.toolbar_items[toolbar_ind][2];\n",
       "        var method_name = mpl.toolbar_items[toolbar_ind][3];\n",
       "\n",
       "        if (!name) { continue; };\n",
       "\n",
       "        var button = $('<button class=\"btn btn-default\" href=\"#\" title=\"' + name + '\"><i class=\"fa ' + image + ' fa-lg\"></i></button>');\n",
       "        button.click(method_name, toolbar_event);\n",
       "        button.mouseover(tooltip, toolbar_mouse_event);\n",
       "        nav_element.append(button);\n",
       "    }\n",
       "\n",
       "    // Add the status bar.\n",
       "    var status_bar = $('<span class=\"mpl-message\" style=\"text-align:right; float: right;\"/>');\n",
       "    nav_element.append(status_bar);\n",
       "    this.message = status_bar[0];\n",
       "\n",
       "    // Add the close button to the window.\n",
       "    var buttongrp = $('<div class=\"btn-group inline pull-right\"></div>');\n",
       "    var button = $('<button class=\"btn btn-mini btn-primary\" href=\"#\" title=\"Stop Interaction\"><i class=\"fa fa-power-off icon-remove icon-large\"></i></button>');\n",
       "    button.click(function (evt) { fig.handle_close(fig, {}); } );\n",
       "    button.mouseover('Stop Interaction', toolbar_mouse_event);\n",
       "    buttongrp.append(button);\n",
       "    var titlebar = this.root.find($('.ui-dialog-titlebar'));\n",
       "    titlebar.prepend(buttongrp);\n",
       "}\n",
       "\n",
       "mpl.figure.prototype._root_extra_style = function(el){\n",
       "    var fig = this\n",
       "    el.on(\"remove\", function(){\n",
       "\tfig.close_ws(fig, {});\n",
       "    });\n",
       "}\n",
       "\n",
       "mpl.figure.prototype._canvas_extra_style = function(el){\n",
       "    // this is important to make the div 'focusable\n",
       "    el.attr('tabindex', 0)\n",
       "    // reach out to IPython and tell the keyboard manager to turn it's self\n",
       "    // off when our div gets focus\n",
       "\n",
       "    // location in version 3\n",
       "    if (IPython.notebook.keyboard_manager) {\n",
       "        IPython.notebook.keyboard_manager.register_events(el);\n",
       "    }\n",
       "    else {\n",
       "        // location in version 2\n",
       "        IPython.keyboard_manager.register_events(el);\n",
       "    }\n",
       "\n",
       "}\n",
       "\n",
       "mpl.figure.prototype._key_event_extra = function(event, name) {\n",
       "    var manager = IPython.notebook.keyboard_manager;\n",
       "    if (!manager)\n",
       "        manager = IPython.keyboard_manager;\n",
       "\n",
       "    // Check for shift+enter\n",
       "    if (event.shiftKey && event.which == 13) {\n",
       "        this.canvas_div.blur();\n",
       "        event.shiftKey = false;\n",
       "        // Send a \"J\" for go to next cell\n",
       "        event.which = 74;\n",
       "        event.keyCode = 74;\n",
       "        manager.command_mode();\n",
       "        manager.handle_keydown(event);\n",
       "    }\n",
       "}\n",
       "\n",
       "mpl.figure.prototype.handle_save = function(fig, msg) {\n",
       "    fig.ondownload(fig, null);\n",
       "}\n",
       "\n",
       "\n",
       "mpl.find_output_cell = function(html_output) {\n",
       "    // Return the cell and output element which can be found *uniquely* in the notebook.\n",
       "    // Note - this is a bit hacky, but it is done because the \"notebook_saving.Notebook\"\n",
       "    // IPython event is triggered only after the cells have been serialised, which for\n",
       "    // our purposes (turning an active figure into a static one), is too late.\n",
       "    var cells = IPython.notebook.get_cells();\n",
       "    var ncells = cells.length;\n",
       "    for (var i=0; i<ncells; i++) {\n",
       "        var cell = cells[i];\n",
       "        if (cell.cell_type === 'code'){\n",
       "            for (var j=0; j<cell.output_area.outputs.length; j++) {\n",
       "                var data = cell.output_area.outputs[j];\n",
       "                if (data.data) {\n",
       "                    // IPython >= 3 moved mimebundle to data attribute of output\n",
       "                    data = data.data;\n",
       "                }\n",
       "                if (data['text/html'] == html_output) {\n",
       "                    return [cell, data, j];\n",
       "                }\n",
       "            }\n",
       "        }\n",
       "    }\n",
       "}\n",
       "\n",
       "// Register the function which deals with the matplotlib target/channel.\n",
       "// The kernel may be null if the page has been refreshed.\n",
       "if (IPython.notebook.kernel != null) {\n",
       "    IPython.notebook.kernel.comm_manager.register_target('matplotlib', mpl.mpl_figure_comm);\n",
       "}\n"
      ],
      "text/plain": [
       "<IPython.core.display.Javascript object>"
      ]
     },
     "metadata": {},
     "output_type": "display_data"
    },
    {
     "data": {
      "text/html": [
       "<img src=\"data:image/png;base64,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\" width=\"640\">"
      ],
      "text/plain": [
       "<IPython.core.display.HTML object>"
      ]
     },
     "metadata": {},
     "output_type": "display_data"
    },
    {
     "data": {
      "text/plain": [
       "<matplotlib.image.AxesImage at 0x7f71bbc49d68>"
      ]
     },
     "execution_count": 15,
     "metadata": {},
     "output_type": "execute_result"
    }
   ],
   "source": [
    "# i += 1\n",
    "i = np.random.randint(len(dataset))\n",
    "print(i)\n",
    "sample = dataset[i]\n",
    "if len(sample) > 1:\n",
    "    x,y = dataset[i]\n",
    "    print(y)\n",
    "else:\n",
    "    x, = dataset[i]\n",
    "plt.imshow(x.permute(1,2,0).numpy())"
   ]
  },
  {
   "cell_type": "code",
   "execution_count": null,
   "metadata": {},
   "outputs": [],
   "source": []
  },
  {
   "cell_type": "code",
   "execution_count": 8,
   "metadata": {},
   "outputs": [],
   "source": [
    "self = dataset"
   ]
  },
  {
   "cell_type": "code",
   "execution_count": 9,
   "metadata": {},
   "outputs": [
    {
     "data": {
      "text/plain": [
       "torch.Size([28809, 3, 64, 64])"
      ]
     },
     "execution_count": 9,
     "metadata": {},
     "output_type": "execute_result"
    }
   ],
   "source": [
    "sel = torch.logical_not(self.labels[:, 2].isclose(torch.tensor(0.))\n",
    "       + self.labels[:, 2].isclose(torch.tensor(0.3))\n",
    "       + self.labels[:, 2].isclose(torch.tensor(0.7))) * self.labels[:, -2].isclose(torch.tensor(2.))\n",
    "\n",
    "rep = (self.labels[:, 2].isclose(torch.tensor(0.))\n",
    "        + self.labels[:, 2].isclose(torch.tensor(0.3))\n",
    "        + self.labels[:, 2].isclose(torch.tensor(0.7))) * self.labels[:, -2].isclose(torch.tensor(2.))\n",
    "\n",
    "replacements = self.images[rep]\n",
    "replacements.shape"
   ]
  },
  {
   "cell_type": "code",
   "execution_count": 31,
   "metadata": {},
   "outputs": [
    {
     "data": {
      "text/plain": [
       "(torch.Size([67201]), torch.Size([28809]))"
      ]
     },
     "execution_count": 31,
     "metadata": {},
     "output_type": "execute_result"
    }
   ],
   "source": [
    "sidx = torch.arange(self.images.shape[0])[sel]\n",
    "ridx = torch.arange(self.images.shape[0])[rep]\n",
    "sidx.shape, ridx.shape"
   ]
  },
  {
   "cell_type": "code",
   "execution_count": 33,
   "metadata": {},
   "outputs": [
    {
     "data": {
      "text/plain": [
       "(67201, 28809)"
      ]
     },
     "execution_count": 33,
     "metadata": {},
     "output_type": "execute_result"
    }
   ],
   "source": [
    "lost = sel.sum().item()\n",
    "swaps = rep.sum().item()\n",
    "lost, swaps"
   ]
  },
  {
   "cell_type": "code",
   "execution_count": 34,
   "metadata": {},
   "outputs": [],
   "source": [
    "copies, extra = lost // swaps, lost % swaps"
   ]
  },
  {
   "cell_type": "code",
   "execution_count": 35,
   "metadata": {},
   "outputs": [
    {
     "data": {
      "text/plain": [
       "torch.Size([9583])"
      ]
     },
     "execution_count": 35,
     "metadata": {},
     "output_type": "execute_result"
    }
   ],
   "source": [
    "extra_idx = torch.randperm(swaps)[:extra]\n",
    "extra_idx.shape"
   ]
  },
  {
   "cell_type": "code",
   "execution_count": 38,
   "metadata": {},
   "outputs": [
    {
     "data": {
      "text/plain": [
       "torch.Size([67201])"
      ]
     },
     "execution_count": 38,
     "metadata": {},
     "output_type": "execute_result"
    }
   ],
   "source": [
    "reps = torch.cat([ridx]*copies + [extra_idx])\n",
    "reps.shape"
   ]
  },
  {
   "cell_type": "code",
   "execution_count": 39,
   "metadata": {},
   "outputs": [],
   "source": [
    "self.images[sidx] = self.images[reps]"
   ]
  },
  {
   "cell_type": "code",
   "execution_count": 10,
   "metadata": {},
   "outputs": [
    {
     "data": {
      "text/plain": [
       "tensor(67201)"
      ]
     },
     "execution_count": 10,
     "metadata": {},
     "output_type": "execute_result"
    }
   ],
   "source": []
  },
  {
   "cell_type": "code",
   "execution_count": 13,
   "metadata": {},
   "outputs": [
    {
     "data": {
      "text/plain": [
       "2.332639105834982"
      ]
     },
     "execution_count": 13,
     "metadata": {},
     "output_type": "execute_result"
    }
   ],
   "source": [
    "67201 / replacements.shape[0]"
   ]
  },
  {
   "cell_type": "code",
   "execution_count": 15,
   "metadata": {},
   "outputs": [
    {
     "data": {
      "text/plain": [
       "9583"
      ]
     },
     "execution_count": 15,
     "metadata": {},
     "output_type": "execute_result"
    }
   ],
   "source": [
    "67201 % replacements.shape[0]"
   ]
  },
  {
   "cell_type": "code",
   "execution_count": null,
   "metadata": {},
   "outputs": [],
   "source": [
    "9583"
   ]
  },
  {
   "cell_type": "code",
   "execution_count": null,
   "metadata": {},
   "outputs": [],
   "source": [
    "torch.randperm()"
   ]
  },
  {
   "cell_type": "code",
   "execution_count": null,
   "metadata": {},
   "outputs": [],
   "source": []
  },
  {
   "cell_type": "code",
   "execution_count": null,
   "metadata": {},
   "outputs": [],
   "source": []
  },
  {
   "cell_type": "code",
   "execution_count": null,
   "metadata": {},
   "outputs": [],
   "source": []
  },
  {
   "cell_type": "code",
   "execution_count": 3,
   "metadata": {},
   "outputs": [
    {
     "ename": "NameError",
     "evalue": "name 'train' is not defined",
     "output_type": "error",
     "traceback": [
      "\u001b[0;31m---------------------------------------------------\u001b[0m",
      "\u001b[0;31mNameError\u001b[0m         Traceback (most recent call last)",
      "\u001b[0;32m<ipython-input-3-8c230e8680e6>\u001b[0m in \u001b[0;36m<module>\u001b[0;34m\u001b[0m\n\u001b[0;32m----> 1\u001b[0;31m \u001b[0mdataset\u001b[0m \u001b[0;34m=\u001b[0m \u001b[0mtrain\u001b[0m\u001b[0;34m.\u001b[0m\u001b[0mget_dataset\u001b[0m\u001b[0;34m(\u001b[0m\u001b[0;34m'3dshapes'\u001b[0m\u001b[0;34m,\u001b[0m \u001b[0mdataroot\u001b[0m\u001b[0;34m=\u001b[0m\u001b[0mos\u001b[0m\u001b[0;34m.\u001b[0m\u001b[0menviron\u001b[0m\u001b[0;34m[\u001b[0m\u001b[0;34m'FOUNDATION_DATA_DIR'\u001b[0m\u001b[0;34m]\u001b[0m\u001b[0;34m,\u001b[0m \u001b[0mlabels\u001b[0m\u001b[0;34m=\u001b[0m\u001b[0;32mTrue\u001b[0m\u001b[0;34m)\u001b[0m\u001b[0;34m\u001b[0m\u001b[0;34m\u001b[0m\u001b[0m\n\u001b[0m\u001b[1;32m      2\u001b[0m \u001b[0mlen\u001b[0m\u001b[0;34m(\u001b[0m\u001b[0mdataset\u001b[0m\u001b[0;34m)\u001b[0m\u001b[0;34m\u001b[0m\u001b[0;34m\u001b[0m\u001b[0m\n",
      "\u001b[0;31mNameError\u001b[0m: name 'train' is not defined"
     ]
    }
   ],
   "source": [
    "dataset = train.get_dataset('z-celeba', dataroot=os.environ['FOUNDATION_DATA_DIR'], label_type='attr')"
   ]
  },
  {
   "cell_type": "code",
   "execution_count": null,
   "metadata": {},
   "outputs": [],
   "source": [
    "i = np.random.randint(len(dataset))"
   ]
  },
  {
   "cell_type": "code",
   "execution_count": null,
   "metadata": {},
   "outputs": [],
   "source": [
    "x, y = dataset[i]\n",
    "x.shape, y.shape"
   ]
  },
  {
   "cell_type": "code",
   "execution_count": null,
   "metadata": {},
   "outputs": [],
   "source": [
    "plt.imshow(x.permute(1,2,0).numpy())"
   ]
  },
  {
   "cell_type": "code",
   "execution_count": null,
   "metadata": {},
   "outputs": [],
   "source": []
  },
  {
   "cell_type": "code",
   "execution_count": 9,
   "metadata": {},
   "outputs": [],
   "source": [
    "import h5py as hf"
   ]
  },
  {
   "cell_type": "code",
   "execution_count": 6,
   "metadata": {},
   "outputs": [],
   "source": [
    "root = os.environ['FOUNDATION_DATA_DIR']\n",
    "dnames = os.listdir(root)\n",
    "dataroot = os.path.join(root, '3dshapes')"
   ]
  },
  {
   "cell_type": "code",
   "execution_count": null,
   "metadata": {},
   "outputs": [],
   "source": [
    "path = dataroot\n",
    "os.listdir(dataroot)"
   ]
  },
  {
   "cell_type": "code",
   "execution_count": 10,
   "metadata": {},
   "outputs": [
    {
     "data": {
      "text/plain": [
       "['images', 'labels']"
      ]
     },
     "execution_count": 10,
     "metadata": {},
     "output_type": "execute_result"
    }
   ],
   "source": [
    "path = os.path.join(dataroot, '3dshapes_train.h5')\n",
    "f = hf.File(path, 'r+')\n",
    "list(f.keys())"
   ]
  },
  {
   "cell_type": "code",
   "execution_count": 12,
   "metadata": {},
   "outputs": [
    {
     "data": {
      "text/plain": [
       "((384000, 6), (384000, 64, 64, 3))"
      ]
     },
     "execution_count": 12,
     "metadata": {},
     "output_type": "execute_result"
    }
   ],
   "source": [
    "f['labels'].shape, f['images'].shape"
   ]
  },
  {
   "cell_type": "code",
   "execution_count": 15,
   "metadata": {},
   "outputs": [
    {
     "data": {
      "text/plain": [
       "<KeysViewHDF5 ['factor_order', 'factor_sizes']>"
      ]
     },
     "execution_count": 15,
     "metadata": {},
     "output_type": "execute_result"
    }
   ],
   "source": [
    "f.attrs.keys()"
   ]
  },
  {
   "cell_type": "code",
   "execution_count": null,
   "metadata": {},
   "outputs": [],
   "source": []
  },
  {
   "cell_type": "code",
   "execution_count": null,
   "metadata": {},
   "outputs": [],
   "source": []
  },
  {
   "cell_type": "code",
   "execution_count": null,
   "metadata": {},
   "outputs": [],
   "source": []
  },
  {
   "cell_type": "code",
   "execution_count": null,
   "metadata": {},
   "outputs": [],
   "source": []
  },
  {
   "cell_type": "code",
   "execution_count": null,
   "metadata": {},
   "outputs": [],
   "source": []
  },
  {
   "cell_type": "code",
   "execution_count": null,
   "metadata": {},
   "outputs": [],
   "source": []
  },
  {
   "cell_type": "code",
   "execution_count": null,
   "metadata": {},
   "outputs": [],
   "source": []
  }
 ],
 "metadata": {
  "kernelspec": {
   "display_name": "Python 3",
   "language": "python",
   "name": "python3"
  },
  "language_info": {
   "codemirror_mode": {
    "name": "ipython",
    "version": 3
   },
   "file_extension": ".py",
   "mimetype": "text/x-python",
   "name": "python",
   "nbconvert_exporter": "python",
   "pygments_lexer": "ipython3",
   "version": "3.7.3"
  }
 },
 "nbformat": 4,
 "nbformat_minor": 2
}
