{
 "cells": [
  {
   "cell_type": "code",
   "execution_count": 1,
   "metadata": {},
   "outputs": [],
   "source": [
    "import sys, os, time\n",
    "# %load_ext autoreload\n",
    "# %autoreload 2\n",
    "os.environ['FOUNDATION_RUN_MODE'] = 'jupyter'\n",
    "os.environ['FOUNDATION_SAVE_DIR'] = '/is/ei/fleeb/workspace/chome/trained_nets'\n",
    "os.environ['FOUNDATION_DATA_DIR'] = '/is/ei/fleeb/workspace/local_data'\n",
    "# from IPython.core.interactiveshell import InteractiveShell\n",
    "# InteractiveShell.ast_node_interactivity = \"all\"\n",
    "from IPython import display\n",
    "import torch\n",
    "import torch.nn as nn\n",
    "import torch.nn.functional as F\n",
    "import torch.distributions as distrib\n",
    "import torch.multiprocessing as mp\n",
    "import torchvision.models\n",
    "import torchvision\n",
    "from torch.utils.data import Dataset, DataLoader, TensorDataset\n",
    "import gym\n",
    "import numpy as np\n",
    "%matplotlib notebook\n",
    "# %matplotlib tk\n",
    "import matplotlib.pyplot as plt\n",
    "import imageio\n",
    "import seaborn as sns\n",
    "#plt.switch_backend('Qt5Agg') #('Qt5Agg')\n",
    "import foundation as fd\n",
    "from foundation import models\n",
    "from foundation import util\n",
    "from foundation import train\n",
    "#from foundation.util import replicate, Cloner\n",
    "\n",
    "from hybrid import get_model, get_data\n",
    "\n",
    "np.set_printoptions(linewidth=120, suppress=True)"
   ]
  },
  {
   "cell_type": "code",
   "execution_count": 2,
   "metadata": {},
   "outputs": [],
   "source": [
    "# dataset = train.get_dataset('cr-3dshapes', dataroot=os.environ['FOUNDATION_DATA_DIR'], train=True)\n",
    "# len(dataset)"
   ]
  },
  {
   "cell_type": "code",
   "execution_count": 3,
   "metadata": {
    "scrolled": true
   },
   "outputs": [
    {
     "data": {
      "text/plain": [
       "384000"
      ]
     },
     "execution_count": 3,
     "metadata": {},
     "output_type": "execute_result"
    }
   ],
   "source": [
    "dataset = train.get_dataset('3dshapes', dataroot=os.environ['FOUNDATION_DATA_DIR'], labels=True)\n",
    "len(dataset)"
   ]
  },
  {
   "cell_type": "code",
   "execution_count": 4,
   "metadata": {},
   "outputs": [],
   "source": [
    "# dataset = train.get_dataset('rgbball-3dshapes', dataroot=os.environ['FOUNDATION_DATA_DIR'], negative=False)\n",
    "# len(dataset)"
   ]
  },
  {
   "cell_type": "code",
   "execution_count": 5,
   "metadata": {},
   "outputs": [
    {
     "data": {
      "text/plain": [
       "['floor_hue', 'wall_hue', 'object_hue', 'scale', 'shape', 'orientation']"
      ]
     },
     "execution_count": 5,
     "metadata": {},
     "output_type": "execute_result"
    }
   ],
   "source": [
    "dataset.factor_order"
   ]
  },
  {
   "cell_type": "code",
   "execution_count": 6,
   "metadata": {},
   "outputs": [],
   "source": [
    "# i = -1"
   ]
  },
  {
   "cell_type": "code",
   "execution_count": 18,
   "metadata": {},
   "outputs": [
    {
     "name": "stdout",
     "output_type": "stream",
     "text": [
      "75000\n",
      "tensor([0.1000, 0.9000, 0.4000, 1.2500, 3.0000, 0.0000])\n"
     ]
    },
    {
     "data": {
      "application/javascript": [
       "/* Put everything inside the global mpl namespace */\n",
       "window.mpl = {};\n",
       "\n",
       "\n",
       "mpl.get_websocket_type = function() {\n",
       "    if (typeof(WebSocket) !== 'undefined') {\n",
       "        return WebSocket;\n",
       "    } else if (typeof(MozWebSocket) !== 'undefined') {\n",
       "        return MozWebSocket;\n",
       "    } else {\n",
       "        alert('Your browser does not have WebSocket support.' +\n",
       "              'Please try Chrome, Safari or Firefox ≥ 6. ' +\n",
       "              'Firefox 4 and 5 are also supported but you ' +\n",
       "              'have to enable WebSockets in about:config.');\n",
       "    };\n",
       "}\n",
       "\n",
       "mpl.figure = function(figure_id, websocket, ondownload, parent_element) {\n",
       "    this.id = figure_id;\n",
       "\n",
       "    this.ws = websocket;\n",
       "\n",
       "    this.supports_binary = (this.ws.binaryType != undefined);\n",
       "\n",
       "    if (!this.supports_binary) {\n",
       "        var warnings = document.getElementById(\"mpl-warnings\");\n",
       "        if (warnings) {\n",
       "            warnings.style.display = 'block';\n",
       "            warnings.textContent = (\n",
       "                \"This browser does not support binary websocket messages. \" +\n",
       "                    \"Performance may be slow.\");\n",
       "        }\n",
       "    }\n",
       "\n",
       "    this.imageObj = new Image();\n",
       "\n",
       "    this.context = undefined;\n",
       "    this.message = undefined;\n",
       "    this.canvas = undefined;\n",
       "    this.rubberband_canvas = undefined;\n",
       "    this.rubberband_context = undefined;\n",
       "    this.format_dropdown = undefined;\n",
       "\n",
       "    this.image_mode = 'full';\n",
       "\n",
       "    this.root = $('<div/>');\n",
       "    this._root_extra_style(this.root)\n",
       "    this.root.attr('style', 'display: inline-block');\n",
       "\n",
       "    $(parent_element).append(this.root);\n",
       "\n",
       "    this._init_header(this);\n",
       "    this._init_canvas(this);\n",
       "    this._init_toolbar(this);\n",
       "\n",
       "    var fig = this;\n",
       "\n",
       "    this.waiting = false;\n",
       "\n",
       "    this.ws.onopen =  function () {\n",
       "            fig.send_message(\"supports_binary\", {value: fig.supports_binary});\n",
       "            fig.send_message(\"send_image_mode\", {});\n",
       "            if (mpl.ratio != 1) {\n",
       "                fig.send_message(\"set_dpi_ratio\", {'dpi_ratio': mpl.ratio});\n",
       "            }\n",
       "            fig.send_message(\"refresh\", {});\n",
       "        }\n",
       "\n",
       "    this.imageObj.onload = function() {\n",
       "            if (fig.image_mode == 'full') {\n",
       "                // Full images could contain transparency (where diff images\n",
       "                // almost always do), so we need to clear the canvas so that\n",
       "                // there is no ghosting.\n",
       "                fig.context.clearRect(0, 0, fig.canvas.width, fig.canvas.height);\n",
       "            }\n",
       "            fig.context.drawImage(fig.imageObj, 0, 0);\n",
       "        };\n",
       "\n",
       "    this.imageObj.onunload = function() {\n",
       "        fig.ws.close();\n",
       "    }\n",
       "\n",
       "    this.ws.onmessage = this._make_on_message_function(this);\n",
       "\n",
       "    this.ondownload = ondownload;\n",
       "}\n",
       "\n",
       "mpl.figure.prototype._init_header = function() {\n",
       "    var titlebar = $(\n",
       "        '<div class=\"ui-dialog-titlebar ui-widget-header ui-corner-all ' +\n",
       "        'ui-helper-clearfix\"/>');\n",
       "    var titletext = $(\n",
       "        '<div class=\"ui-dialog-title\" style=\"width: 100%; ' +\n",
       "        'text-align: center; padding: 3px;\"/>');\n",
       "    titlebar.append(titletext)\n",
       "    this.root.append(titlebar);\n",
       "    this.header = titletext[0];\n",
       "}\n",
       "\n",
       "\n",
       "\n",
       "mpl.figure.prototype._canvas_extra_style = function(canvas_div) {\n",
       "\n",
       "}\n",
       "\n",
       "\n",
       "mpl.figure.prototype._root_extra_style = function(canvas_div) {\n",
       "\n",
       "}\n",
       "\n",
       "mpl.figure.prototype._init_canvas = function() {\n",
       "    var fig = this;\n",
       "\n",
       "    var canvas_div = $('<div/>');\n",
       "\n",
       "    canvas_div.attr('style', 'position: relative; clear: both; outline: 0');\n",
       "\n",
       "    function canvas_keyboard_event(event) {\n",
       "        return fig.key_event(event, event['data']);\n",
       "    }\n",
       "\n",
       "    canvas_div.keydown('key_press', canvas_keyboard_event);\n",
       "    canvas_div.keyup('key_release', canvas_keyboard_event);\n",
       "    this.canvas_div = canvas_div\n",
       "    this._canvas_extra_style(canvas_div)\n",
       "    this.root.append(canvas_div);\n",
       "\n",
       "    var canvas = $('<canvas/>');\n",
       "    canvas.addClass('mpl-canvas');\n",
       "    canvas.attr('style', \"left: 0; top: 0; z-index: 0; outline: 0\")\n",
       "\n",
       "    this.canvas = canvas[0];\n",
       "    this.context = canvas[0].getContext(\"2d\");\n",
       "\n",
       "    var backingStore = this.context.backingStorePixelRatio ||\n",
       "\tthis.context.webkitBackingStorePixelRatio ||\n",
       "\tthis.context.mozBackingStorePixelRatio ||\n",
       "\tthis.context.msBackingStorePixelRatio ||\n",
       "\tthis.context.oBackingStorePixelRatio ||\n",
       "\tthis.context.backingStorePixelRatio || 1;\n",
       "\n",
       "    mpl.ratio = (window.devicePixelRatio || 1) / backingStore;\n",
       "\n",
       "    var rubberband = $('<canvas/>');\n",
       "    rubberband.attr('style', \"position: absolute; left: 0; top: 0; z-index: 1;\")\n",
       "\n",
       "    var pass_mouse_events = true;\n",
       "\n",
       "    canvas_div.resizable({\n",
       "        start: function(event, ui) {\n",
       "            pass_mouse_events = false;\n",
       "        },\n",
       "        resize: function(event, ui) {\n",
       "            fig.request_resize(ui.size.width, ui.size.height);\n",
       "        },\n",
       "        stop: function(event, ui) {\n",
       "            pass_mouse_events = true;\n",
       "            fig.request_resize(ui.size.width, ui.size.height);\n",
       "        },\n",
       "    });\n",
       "\n",
       "    function mouse_event_fn(event) {\n",
       "        if (pass_mouse_events)\n",
       "            return fig.mouse_event(event, event['data']);\n",
       "    }\n",
       "\n",
       "    rubberband.mousedown('button_press', mouse_event_fn);\n",
       "    rubberband.mouseup('button_release', mouse_event_fn);\n",
       "    // Throttle sequential mouse events to 1 every 20ms.\n",
       "    rubberband.mousemove('motion_notify', mouse_event_fn);\n",
       "\n",
       "    rubberband.mouseenter('figure_enter', mouse_event_fn);\n",
       "    rubberband.mouseleave('figure_leave', mouse_event_fn);\n",
       "\n",
       "    canvas_div.on(\"wheel\", function (event) {\n",
       "        event = event.originalEvent;\n",
       "        event['data'] = 'scroll'\n",
       "        if (event.deltaY < 0) {\n",
       "            event.step = 1;\n",
       "        } else {\n",
       "            event.step = -1;\n",
       "        }\n",
       "        mouse_event_fn(event);\n",
       "    });\n",
       "\n",
       "    canvas_div.append(canvas);\n",
       "    canvas_div.append(rubberband);\n",
       "\n",
       "    this.rubberband = rubberband;\n",
       "    this.rubberband_canvas = rubberband[0];\n",
       "    this.rubberband_context = rubberband[0].getContext(\"2d\");\n",
       "    this.rubberband_context.strokeStyle = \"#000000\";\n",
       "\n",
       "    this._resize_canvas = function(width, height) {\n",
       "        // Keep the size of the canvas, canvas container, and rubber band\n",
       "        // canvas in synch.\n",
       "        canvas_div.css('width', width)\n",
       "        canvas_div.css('height', height)\n",
       "\n",
       "        canvas.attr('width', width * mpl.ratio);\n",
       "        canvas.attr('height', height * mpl.ratio);\n",
       "        canvas.attr('style', 'width: ' + width + 'px; height: ' + height + 'px;');\n",
       "\n",
       "        rubberband.attr('width', width);\n",
       "        rubberband.attr('height', height);\n",
       "    }\n",
       "\n",
       "    // Set the figure to an initial 600x600px, this will subsequently be updated\n",
       "    // upon first draw.\n",
       "    this._resize_canvas(600, 600);\n",
       "\n",
       "    // Disable right mouse context menu.\n",
       "    $(this.rubberband_canvas).bind(\"contextmenu\",function(e){\n",
       "        return false;\n",
       "    });\n",
       "\n",
       "    function set_focus () {\n",
       "        canvas.focus();\n",
       "        canvas_div.focus();\n",
       "    }\n",
       "\n",
       "    window.setTimeout(set_focus, 100);\n",
       "}\n",
       "\n",
       "mpl.figure.prototype._init_toolbar = function() {\n",
       "    var fig = this;\n",
       "\n",
       "    var nav_element = $('<div/>')\n",
       "    nav_element.attr('style', 'width: 100%');\n",
       "    this.root.append(nav_element);\n",
       "\n",
       "    // Define a callback function for later on.\n",
       "    function toolbar_event(event) {\n",
       "        return fig.toolbar_button_onclick(event['data']);\n",
       "    }\n",
       "    function toolbar_mouse_event(event) {\n",
       "        return fig.toolbar_button_onmouseover(event['data']);\n",
       "    }\n",
       "\n",
       "    for(var toolbar_ind in mpl.toolbar_items) {\n",
       "        var name = mpl.toolbar_items[toolbar_ind][0];\n",
       "        var tooltip = mpl.toolbar_items[toolbar_ind][1];\n",
       "        var image = mpl.toolbar_items[toolbar_ind][2];\n",
       "        var method_name = mpl.toolbar_items[toolbar_ind][3];\n",
       "\n",
       "        if (!name) {\n",
       "            // put a spacer in here.\n",
       "            continue;\n",
       "        }\n",
       "        var button = $('<button/>');\n",
       "        button.addClass('ui-button ui-widget ui-state-default ui-corner-all ' +\n",
       "                        'ui-button-icon-only');\n",
       "        button.attr('role', 'button');\n",
       "        button.attr('aria-disabled', 'false');\n",
       "        button.click(method_name, toolbar_event);\n",
       "        button.mouseover(tooltip, toolbar_mouse_event);\n",
       "\n",
       "        var icon_img = $('<span/>');\n",
       "        icon_img.addClass('ui-button-icon-primary ui-icon');\n",
       "        icon_img.addClass(image);\n",
       "        icon_img.addClass('ui-corner-all');\n",
       "\n",
       "        var tooltip_span = $('<span/>');\n",
       "        tooltip_span.addClass('ui-button-text');\n",
       "        tooltip_span.html(tooltip);\n",
       "\n",
       "        button.append(icon_img);\n",
       "        button.append(tooltip_span);\n",
       "\n",
       "        nav_element.append(button);\n",
       "    }\n",
       "\n",
       "    var fmt_picker_span = $('<span/>');\n",
       "\n",
       "    var fmt_picker = $('<select/>');\n",
       "    fmt_picker.addClass('mpl-toolbar-option ui-widget ui-widget-content');\n",
       "    fmt_picker_span.append(fmt_picker);\n",
       "    nav_element.append(fmt_picker_span);\n",
       "    this.format_dropdown = fmt_picker[0];\n",
       "\n",
       "    for (var ind in mpl.extensions) {\n",
       "        var fmt = mpl.extensions[ind];\n",
       "        var option = $(\n",
       "            '<option/>', {selected: fmt === mpl.default_extension}).html(fmt);\n",
       "        fmt_picker.append(option)\n",
       "    }\n",
       "\n",
       "    // Add hover states to the ui-buttons\n",
       "    $( \".ui-button\" ).hover(\n",
       "        function() { $(this).addClass(\"ui-state-hover\");},\n",
       "        function() { $(this).removeClass(\"ui-state-hover\");}\n",
       "    );\n",
       "\n",
       "    var status_bar = $('<span class=\"mpl-message\"/>');\n",
       "    nav_element.append(status_bar);\n",
       "    this.message = status_bar[0];\n",
       "}\n",
       "\n",
       "mpl.figure.prototype.request_resize = function(x_pixels, y_pixels) {\n",
       "    // Request matplotlib to resize the figure. Matplotlib will then trigger a resize in the client,\n",
       "    // which will in turn request a refresh of the image.\n",
       "    this.send_message('resize', {'width': x_pixels, 'height': y_pixels});\n",
       "}\n",
       "\n",
       "mpl.figure.prototype.send_message = function(type, properties) {\n",
       "    properties['type'] = type;\n",
       "    properties['figure_id'] = this.id;\n",
       "    this.ws.send(JSON.stringify(properties));\n",
       "}\n",
       "\n",
       "mpl.figure.prototype.send_draw_message = function() {\n",
       "    if (!this.waiting) {\n",
       "        this.waiting = true;\n",
       "        this.ws.send(JSON.stringify({type: \"draw\", figure_id: this.id}));\n",
       "    }\n",
       "}\n",
       "\n",
       "\n",
       "mpl.figure.prototype.handle_save = function(fig, msg) {\n",
       "    var format_dropdown = fig.format_dropdown;\n",
       "    var format = format_dropdown.options[format_dropdown.selectedIndex].value;\n",
       "    fig.ondownload(fig, format);\n",
       "}\n",
       "\n",
       "\n",
       "mpl.figure.prototype.handle_resize = function(fig, msg) {\n",
       "    var size = msg['size'];\n",
       "    if (size[0] != fig.canvas.width || size[1] != fig.canvas.height) {\n",
       "        fig._resize_canvas(size[0], size[1]);\n",
       "        fig.send_message(\"refresh\", {});\n",
       "    };\n",
       "}\n",
       "\n",
       "mpl.figure.prototype.handle_rubberband = function(fig, msg) {\n",
       "    var x0 = msg['x0'] / mpl.ratio;\n",
       "    var y0 = (fig.canvas.height - msg['y0']) / mpl.ratio;\n",
       "    var x1 = msg['x1'] / mpl.ratio;\n",
       "    var y1 = (fig.canvas.height - msg['y1']) / mpl.ratio;\n",
       "    x0 = Math.floor(x0) + 0.5;\n",
       "    y0 = Math.floor(y0) + 0.5;\n",
       "    x1 = Math.floor(x1) + 0.5;\n",
       "    y1 = Math.floor(y1) + 0.5;\n",
       "    var min_x = Math.min(x0, x1);\n",
       "    var min_y = Math.min(y0, y1);\n",
       "    var width = Math.abs(x1 - x0);\n",
       "    var height = Math.abs(y1 - y0);\n",
       "\n",
       "    fig.rubberband_context.clearRect(\n",
       "        0, 0, fig.canvas.width, fig.canvas.height);\n",
       "\n",
       "    fig.rubberband_context.strokeRect(min_x, min_y, width, height);\n",
       "}\n",
       "\n",
       "mpl.figure.prototype.handle_figure_label = function(fig, msg) {\n",
       "    // Updates the figure title.\n",
       "    fig.header.textContent = msg['label'];\n",
       "}\n",
       "\n",
       "mpl.figure.prototype.handle_cursor = function(fig, msg) {\n",
       "    var cursor = msg['cursor'];\n",
       "    switch(cursor)\n",
       "    {\n",
       "    case 0:\n",
       "        cursor = 'pointer';\n",
       "        break;\n",
       "    case 1:\n",
       "        cursor = 'default';\n",
       "        break;\n",
       "    case 2:\n",
       "        cursor = 'crosshair';\n",
       "        break;\n",
       "    case 3:\n",
       "        cursor = 'move';\n",
       "        break;\n",
       "    }\n",
       "    fig.rubberband_canvas.style.cursor = cursor;\n",
       "}\n",
       "\n",
       "mpl.figure.prototype.handle_message = function(fig, msg) {\n",
       "    fig.message.textContent = msg['message'];\n",
       "}\n",
       "\n",
       "mpl.figure.prototype.handle_draw = function(fig, msg) {\n",
       "    // Request the server to send over a new figure.\n",
       "    fig.send_draw_message();\n",
       "}\n",
       "\n",
       "mpl.figure.prototype.handle_image_mode = function(fig, msg) {\n",
       "    fig.image_mode = msg['mode'];\n",
       "}\n",
       "\n",
       "mpl.figure.prototype.updated_canvas_event = function() {\n",
       "    // Called whenever the canvas gets updated.\n",
       "    this.send_message(\"ack\", {});\n",
       "}\n",
       "\n",
       "// A function to construct a web socket function for onmessage handling.\n",
       "// Called in the figure constructor.\n",
       "mpl.figure.prototype._make_on_message_function = function(fig) {\n",
       "    return function socket_on_message(evt) {\n",
       "        if (evt.data instanceof Blob) {\n",
       "            /* FIXME: We get \"Resource interpreted as Image but\n",
       "             * transferred with MIME type text/plain:\" errors on\n",
       "             * Chrome.  But how to set the MIME type?  It doesn't seem\n",
       "             * to be part of the websocket stream */\n",
       "            evt.data.type = \"image/png\";\n",
       "\n",
       "            /* Free the memory for the previous frames */\n",
       "            if (fig.imageObj.src) {\n",
       "                (window.URL || window.webkitURL).revokeObjectURL(\n",
       "                    fig.imageObj.src);\n",
       "            }\n",
       "\n",
       "            fig.imageObj.src = (window.URL || window.webkitURL).createObjectURL(\n",
       "                evt.data);\n",
       "            fig.updated_canvas_event();\n",
       "            fig.waiting = false;\n",
       "            return;\n",
       "        }\n",
       "        else if (typeof evt.data === 'string' && evt.data.slice(0, 21) == \"data:image/png;base64\") {\n",
       "            fig.imageObj.src = evt.data;\n",
       "            fig.updated_canvas_event();\n",
       "            fig.waiting = false;\n",
       "            return;\n",
       "        }\n",
       "\n",
       "        var msg = JSON.parse(evt.data);\n",
       "        var msg_type = msg['type'];\n",
       "\n",
       "        // Call the  \"handle_{type}\" callback, which takes\n",
       "        // the figure and JSON message as its only arguments.\n",
       "        try {\n",
       "            var callback = fig[\"handle_\" + msg_type];\n",
       "        } catch (e) {\n",
       "            console.log(\"No handler for the '\" + msg_type + \"' message type: \", msg);\n",
       "            return;\n",
       "        }\n",
       "\n",
       "        if (callback) {\n",
       "            try {\n",
       "                // console.log(\"Handling '\" + msg_type + \"' message: \", msg);\n",
       "                callback(fig, msg);\n",
       "            } catch (e) {\n",
       "                console.log(\"Exception inside the 'handler_\" + msg_type + \"' callback:\", e, e.stack, msg);\n",
       "            }\n",
       "        }\n",
       "    };\n",
       "}\n",
       "\n",
       "// from http://stackoverflow.com/questions/1114465/getting-mouse-location-in-canvas\n",
       "mpl.findpos = function(e) {\n",
       "    //this section is from http://www.quirksmode.org/js/events_properties.html\n",
       "    var targ;\n",
       "    if (!e)\n",
       "        e = window.event;\n",
       "    if (e.target)\n",
       "        targ = e.target;\n",
       "    else if (e.srcElement)\n",
       "        targ = e.srcElement;\n",
       "    if (targ.nodeType == 3) // defeat Safari bug\n",
       "        targ = targ.parentNode;\n",
       "\n",
       "    // jQuery normalizes the pageX and pageY\n",
       "    // pageX,Y are the mouse positions relative to the document\n",
       "    // offset() returns the position of the element relative to the document\n",
       "    var x = e.pageX - $(targ).offset().left;\n",
       "    var y = e.pageY - $(targ).offset().top;\n",
       "\n",
       "    return {\"x\": x, \"y\": y};\n",
       "};\n",
       "\n",
       "/*\n",
       " * return a copy of an object with only non-object keys\n",
       " * we need this to avoid circular references\n",
       " * http://stackoverflow.com/a/24161582/3208463\n",
       " */\n",
       "function simpleKeys (original) {\n",
       "  return Object.keys(original).reduce(function (obj, key) {\n",
       "    if (typeof original[key] !== 'object')\n",
       "        obj[key] = original[key]\n",
       "    return obj;\n",
       "  }, {});\n",
       "}\n",
       "\n",
       "mpl.figure.prototype.mouse_event = function(event, name) {\n",
       "    var canvas_pos = mpl.findpos(event)\n",
       "\n",
       "    if (name === 'button_press')\n",
       "    {\n",
       "        this.canvas.focus();\n",
       "        this.canvas_div.focus();\n",
       "    }\n",
       "\n",
       "    var x = canvas_pos.x * mpl.ratio;\n",
       "    var y = canvas_pos.y * mpl.ratio;\n",
       "\n",
       "    this.send_message(name, {x: x, y: y, button: event.button,\n",
       "                             step: event.step,\n",
       "                             guiEvent: simpleKeys(event)});\n",
       "\n",
       "    /* This prevents the web browser from automatically changing to\n",
       "     * the text insertion cursor when the button is pressed.  We want\n",
       "     * to control all of the cursor setting manually through the\n",
       "     * 'cursor' event from matplotlib */\n",
       "    event.preventDefault();\n",
       "    return false;\n",
       "}\n",
       "\n",
       "mpl.figure.prototype._key_event_extra = function(event, name) {\n",
       "    // Handle any extra behaviour associated with a key event\n",
       "}\n",
       "\n",
       "mpl.figure.prototype.key_event = function(event, name) {\n",
       "\n",
       "    // Prevent repeat events\n",
       "    if (name == 'key_press')\n",
       "    {\n",
       "        if (event.which === this._key)\n",
       "            return;\n",
       "        else\n",
       "            this._key = event.which;\n",
       "    }\n",
       "    if (name == 'key_release')\n",
       "        this._key = null;\n",
       "\n",
       "    var value = '';\n",
       "    if (event.ctrlKey && event.which != 17)\n",
       "        value += \"ctrl+\";\n",
       "    if (event.altKey && event.which != 18)\n",
       "        value += \"alt+\";\n",
       "    if (event.shiftKey && event.which != 16)\n",
       "        value += \"shift+\";\n",
       "\n",
       "    value += 'k';\n",
       "    value += event.which.toString();\n",
       "\n",
       "    this._key_event_extra(event, name);\n",
       "\n",
       "    this.send_message(name, {key: value,\n",
       "                             guiEvent: simpleKeys(event)});\n",
       "    return false;\n",
       "}\n",
       "\n",
       "mpl.figure.prototype.toolbar_button_onclick = function(name) {\n",
       "    if (name == 'download') {\n",
       "        this.handle_save(this, null);\n",
       "    } else {\n",
       "        this.send_message(\"toolbar_button\", {name: name});\n",
       "    }\n",
       "};\n",
       "\n",
       "mpl.figure.prototype.toolbar_button_onmouseover = function(tooltip) {\n",
       "    this.message.textContent = tooltip;\n",
       "};\n",
       "mpl.toolbar_items = [[\"Home\", \"Reset original view\", \"fa fa-home icon-home\", \"home\"], [\"Back\", \"Back to previous view\", \"fa fa-arrow-left icon-arrow-left\", \"back\"], [\"Forward\", \"Forward to next view\", \"fa fa-arrow-right icon-arrow-right\", \"forward\"], [\"\", \"\", \"\", \"\"], [\"Pan\", \"Pan axes with left mouse, zoom with right\", \"fa fa-arrows icon-move\", \"pan\"], [\"Zoom\", \"Zoom to rectangle\", \"fa fa-square-o icon-check-empty\", \"zoom\"], [\"\", \"\", \"\", \"\"], [\"Download\", \"Download plot\", \"fa fa-floppy-o icon-save\", \"download\"]];\n",
       "\n",
       "mpl.extensions = [\"eps\", \"jpeg\", \"pdf\", \"png\", \"ps\", \"raw\", \"svg\", \"tif\"];\n",
       "\n",
       "mpl.default_extension = \"png\";var comm_websocket_adapter = function(comm) {\n",
       "    // Create a \"websocket\"-like object which calls the given IPython comm\n",
       "    // object with the appropriate methods. Currently this is a non binary\n",
       "    // socket, so there is still some room for performance tuning.\n",
       "    var ws = {};\n",
       "\n",
       "    ws.close = function() {\n",
       "        comm.close()\n",
       "    };\n",
       "    ws.send = function(m) {\n",
       "        //console.log('sending', m);\n",
       "        comm.send(m);\n",
       "    };\n",
       "    // Register the callback with on_msg.\n",
       "    comm.on_msg(function(msg) {\n",
       "        //console.log('receiving', msg['content']['data'], msg);\n",
       "        // Pass the mpl event to the overridden (by mpl) onmessage function.\n",
       "        ws.onmessage(msg['content']['data'])\n",
       "    });\n",
       "    return ws;\n",
       "}\n",
       "\n",
       "mpl.mpl_figure_comm = function(comm, msg) {\n",
       "    // This is the function which gets called when the mpl process\n",
       "    // starts-up an IPython Comm through the \"matplotlib\" channel.\n",
       "\n",
       "    var id = msg.content.data.id;\n",
       "    // Get hold of the div created by the display call when the Comm\n",
       "    // socket was opened in Python.\n",
       "    var element = $(\"#\" + id);\n",
       "    var ws_proxy = comm_websocket_adapter(comm)\n",
       "\n",
       "    function ondownload(figure, format) {\n",
       "        window.open(figure.imageObj.src);\n",
       "    }\n",
       "\n",
       "    var fig = new mpl.figure(id, ws_proxy,\n",
       "                           ondownload,\n",
       "                           element.get(0));\n",
       "\n",
       "    // Call onopen now - mpl needs it, as it is assuming we've passed it a real\n",
       "    // web socket which is closed, not our websocket->open comm proxy.\n",
       "    ws_proxy.onopen();\n",
       "\n",
       "    fig.parent_element = element.get(0);\n",
       "    fig.cell_info = mpl.find_output_cell(\"<div id='\" + id + \"'></div>\");\n",
       "    if (!fig.cell_info) {\n",
       "        console.error(\"Failed to find cell for figure\", id, fig);\n",
       "        return;\n",
       "    }\n",
       "\n",
       "    var output_index = fig.cell_info[2]\n",
       "    var cell = fig.cell_info[0];\n",
       "\n",
       "};\n",
       "\n",
       "mpl.figure.prototype.handle_close = function(fig, msg) {\n",
       "    var width = fig.canvas.width/mpl.ratio\n",
       "    fig.root.unbind('remove')\n",
       "\n",
       "    // Update the output cell to use the data from the current canvas.\n",
       "    fig.push_to_output();\n",
       "    var dataURL = fig.canvas.toDataURL();\n",
       "    // Re-enable the keyboard manager in IPython - without this line, in FF,\n",
       "    // the notebook keyboard shortcuts fail.\n",
       "    IPython.keyboard_manager.enable()\n",
       "    $(fig.parent_element).html('<img src=\"' + dataURL + '\" width=\"' + width + '\">');\n",
       "    fig.close_ws(fig, msg);\n",
       "}\n",
       "\n",
       "mpl.figure.prototype.close_ws = function(fig, msg){\n",
       "    fig.send_message('closing', msg);\n",
       "    // fig.ws.close()\n",
       "}\n",
       "\n",
       "mpl.figure.prototype.push_to_output = function(remove_interactive) {\n",
       "    // Turn the data on the canvas into data in the output cell.\n",
       "    var width = this.canvas.width/mpl.ratio\n",
       "    var dataURL = this.canvas.toDataURL();\n",
       "    this.cell_info[1]['text/html'] = '<img src=\"' + dataURL + '\" width=\"' + width + '\">';\n",
       "}\n",
       "\n",
       "mpl.figure.prototype.updated_canvas_event = function() {\n",
       "    // Tell IPython that the notebook contents must change.\n",
       "    IPython.notebook.set_dirty(true);\n",
       "    this.send_message(\"ack\", {});\n",
       "    var fig = this;\n",
       "    // Wait a second, then push the new image to the DOM so\n",
       "    // that it is saved nicely (might be nice to debounce this).\n",
       "    setTimeout(function () { fig.push_to_output() }, 1000);\n",
       "}\n",
       "\n",
       "mpl.figure.prototype._init_toolbar = function() {\n",
       "    var fig = this;\n",
       "\n",
       "    var nav_element = $('<div/>')\n",
       "    nav_element.attr('style', 'width: 100%');\n",
       "    this.root.append(nav_element);\n",
       "\n",
       "    // Define a callback function for later on.\n",
       "    function toolbar_event(event) {\n",
       "        return fig.toolbar_button_onclick(event['data']);\n",
       "    }\n",
       "    function toolbar_mouse_event(event) {\n",
       "        return fig.toolbar_button_onmouseover(event['data']);\n",
       "    }\n",
       "\n",
       "    for(var toolbar_ind in mpl.toolbar_items){\n",
       "        var name = mpl.toolbar_items[toolbar_ind][0];\n",
       "        var tooltip = mpl.toolbar_items[toolbar_ind][1];\n",
       "        var image = mpl.toolbar_items[toolbar_ind][2];\n",
       "        var method_name = mpl.toolbar_items[toolbar_ind][3];\n",
       "\n",
       "        if (!name) { continue; };\n",
       "\n",
       "        var button = $('<button class=\"btn btn-default\" href=\"#\" title=\"' + name + '\"><i class=\"fa ' + image + ' fa-lg\"></i></button>');\n",
       "        button.click(method_name, toolbar_event);\n",
       "        button.mouseover(tooltip, toolbar_mouse_event);\n",
       "        nav_element.append(button);\n",
       "    }\n",
       "\n",
       "    // Add the status bar.\n",
       "    var status_bar = $('<span class=\"mpl-message\" style=\"text-align:right; float: right;\"/>');\n",
       "    nav_element.append(status_bar);\n",
       "    this.message = status_bar[0];\n",
       "\n",
       "    // Add the close button to the window.\n",
       "    var buttongrp = $('<div class=\"btn-group inline pull-right\"></div>');\n",
       "    var button = $('<button class=\"btn btn-mini btn-primary\" href=\"#\" title=\"Stop Interaction\"><i class=\"fa fa-power-off icon-remove icon-large\"></i></button>');\n",
       "    button.click(function (evt) { fig.handle_close(fig, {}); } );\n",
       "    button.mouseover('Stop Interaction', toolbar_mouse_event);\n",
       "    buttongrp.append(button);\n",
       "    var titlebar = this.root.find($('.ui-dialog-titlebar'));\n",
       "    titlebar.prepend(buttongrp);\n",
       "}\n",
       "\n",
       "mpl.figure.prototype._root_extra_style = function(el){\n",
       "    var fig = this\n",
       "    el.on(\"remove\", function(){\n",
       "\tfig.close_ws(fig, {});\n",
       "    });\n",
       "}\n",
       "\n",
       "mpl.figure.prototype._canvas_extra_style = function(el){\n",
       "    // this is important to make the div 'focusable\n",
       "    el.attr('tabindex', 0)\n",
       "    // reach out to IPython and tell the keyboard manager to turn it's self\n",
       "    // off when our div gets focus\n",
       "\n",
       "    // location in version 3\n",
       "    if (IPython.notebook.keyboard_manager) {\n",
       "        IPython.notebook.keyboard_manager.register_events(el);\n",
       "    }\n",
       "    else {\n",
       "        // location in version 2\n",
       "        IPython.keyboard_manager.register_events(el);\n",
       "    }\n",
       "\n",
       "}\n",
       "\n",
       "mpl.figure.prototype._key_event_extra = function(event, name) {\n",
       "    var manager = IPython.notebook.keyboard_manager;\n",
       "    if (!manager)\n",
       "        manager = IPython.keyboard_manager;\n",
       "\n",
       "    // Check for shift+enter\n",
       "    if (event.shiftKey && event.which == 13) {\n",
       "        this.canvas_div.blur();\n",
       "        event.shiftKey = false;\n",
       "        // Send a \"J\" for go to next cell\n",
       "        event.which = 74;\n",
       "        event.keyCode = 74;\n",
       "        manager.command_mode();\n",
       "        manager.handle_keydown(event);\n",
       "    }\n",
       "}\n",
       "\n",
       "mpl.figure.prototype.handle_save = function(fig, msg) {\n",
       "    fig.ondownload(fig, null);\n",
       "}\n",
       "\n",
       "\n",
       "mpl.find_output_cell = function(html_output) {\n",
       "    // Return the cell and output element which can be found *uniquely* in the notebook.\n",
       "    // Note - this is a bit hacky, but it is done because the \"notebook_saving.Notebook\"\n",
       "    // IPython event is triggered only after the cells have been serialised, which for\n",
       "    // our purposes (turning an active figure into a static one), is too late.\n",
       "    var cells = IPython.notebook.get_cells();\n",
       "    var ncells = cells.length;\n",
       "    for (var i=0; i<ncells; i++) {\n",
       "        var cell = cells[i];\n",
       "        if (cell.cell_type === 'code'){\n",
       "            for (var j=0; j<cell.output_area.outputs.length; j++) {\n",
       "                var data = cell.output_area.outputs[j];\n",
       "                if (data.data) {\n",
       "                    // IPython >= 3 moved mimebundle to data attribute of output\n",
       "                    data = data.data;\n",
       "                }\n",
       "                if (data['text/html'] == html_output) {\n",
       "                    return [cell, data, j];\n",
       "                }\n",
       "            }\n",
       "        }\n",
       "    }\n",
       "}\n",
       "\n",
       "// Register the function which deals with the matplotlib target/channel.\n",
       "// The kernel may be null if the page has been refreshed.\n",
       "if (IPython.notebook.kernel != null) {\n",
       "    IPython.notebook.kernel.comm_manager.register_target('matplotlib', mpl.mpl_figure_comm);\n",
       "}\n"
      ],
      "text/plain": [
       "<IPython.core.display.Javascript object>"
      ]
     },
     "metadata": {},
     "output_type": "display_data"
    },
    {
     "data": {
      "text/html": [
       "<img src=\"data:image/png;base64,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\" width=\"640\">"
      ],
      "text/plain": [
       "<IPython.core.display.HTML object>"
      ]
     },
     "metadata": {},
     "output_type": "display_data"
    },
    {
     "data": {
      "text/plain": [
       "<matplotlib.image.AxesImage at 0x7f6085dc4588>"
      ]
     },
     "execution_count": 18,
     "metadata": {},
     "output_type": "execute_result"
    }
   ],
   "source": [
    "# i += 1\n",
    "i = np.random.randint(len(dataset))\n",
    "print(i)\n",
    "sample = dataset[i]\n",
    "if len(sample) > 1:\n",
    "    x,y = dataset[i]\n",
    "    print(y)\n",
    "else:\n",
    "    x, = dataset[i]\n",
    "plt.imshow(x.permute(1,2,0).numpy())"
   ]
  },
  {
   "cell_type": "code",
   "execution_count": null,
   "metadata": {},
   "outputs": [],
   "source": []
  },
  {
   "cell_type": "code",
   "execution_count": 8,
   "metadata": {},
   "outputs": [],
   "source": [
    "self = dataset"
   ]
  },
  {
   "cell_type": "code",
   "execution_count": 9,
   "metadata": {},
   "outputs": [
    {
     "data": {
      "text/plain": [
       "torch.Size([28809, 3, 64, 64])"
      ]
     },
     "execution_count": 9,
     "metadata": {},
     "output_type": "execute_result"
    }
   ],
   "source": [
    "sel = torch.logical_not(self.labels[:, 2].isclose(torch.tensor(0.))\n",
    "       + self.labels[:, 2].isclose(torch.tensor(0.3))\n",
    "       + self.labels[:, 2].isclose(torch.tensor(0.7))) * self.labels[:, -2].isclose(torch.tensor(2.))\n",
    "\n",
    "rep = (self.labels[:, 2].isclose(torch.tensor(0.))\n",
    "        + self.labels[:, 2].isclose(torch.tensor(0.3))\n",
    "        + self.labels[:, 2].isclose(torch.tensor(0.7))) * self.labels[:, -2].isclose(torch.tensor(2.))\n",
    "\n",
    "replacements = self.images[rep]\n",
    "replacements.shape"
   ]
  },
  {
   "cell_type": "code",
   "execution_count": 31,
   "metadata": {},
   "outputs": [
    {
     "data": {
      "text/plain": [
       "(torch.Size([67201]), torch.Size([28809]))"
      ]
     },
     "execution_count": 31,
     "metadata": {},
     "output_type": "execute_result"
    }
   ],
   "source": [
    "sidx = torch.arange(self.images.shape[0])[sel]\n",
    "ridx = torch.arange(self.images.shape[0])[rep]\n",
    "sidx.shape, ridx.shape"
   ]
  },
  {
   "cell_type": "code",
   "execution_count": 33,
   "metadata": {},
   "outputs": [
    {
     "data": {
      "text/plain": [
       "(67201, 28809)"
      ]
     },
     "execution_count": 33,
     "metadata": {},
     "output_type": "execute_result"
    }
   ],
   "source": [
    "lost = sel.sum().item()\n",
    "swaps = rep.sum().item()\n",
    "lost, swaps"
   ]
  },
  {
   "cell_type": "code",
   "execution_count": 34,
   "metadata": {},
   "outputs": [],
   "source": [
    "copies, extra = lost // swaps, lost % swaps"
   ]
  },
  {
   "cell_type": "code",
   "execution_count": 35,
   "metadata": {},
   "outputs": [
    {
     "data": {
      "text/plain": [
       "torch.Size([9583])"
      ]
     },
     "execution_count": 35,
     "metadata": {},
     "output_type": "execute_result"
    }
   ],
   "source": [
    "extra_idx = torch.randperm(swaps)[:extra]\n",
    "extra_idx.shape"
   ]
  },
  {
   "cell_type": "code",
   "execution_count": 38,
   "metadata": {},
   "outputs": [
    {
     "data": {
      "text/plain": [
       "torch.Size([67201])"
      ]
     },
     "execution_count": 38,
     "metadata": {},
     "output_type": "execute_result"
    }
   ],
   "source": [
    "reps = torch.cat([ridx]*copies + [extra_idx])\n",
    "reps.shape"
   ]
  },
  {
   "cell_type": "code",
   "execution_count": 39,
   "metadata": {},
   "outputs": [],
   "source": [
    "self.images[sidx] = self.images[reps]"
   ]
  },
  {
   "cell_type": "code",
   "execution_count": 10,
   "metadata": {},
   "outputs": [
    {
     "data": {
      "text/plain": [
       "tensor(67201)"
      ]
     },
     "execution_count": 10,
     "metadata": {},
     "output_type": "execute_result"
    }
   ],
   "source": []
  },
  {
   "cell_type": "code",
   "execution_count": 13,
   "metadata": {},
   "outputs": [
    {
     "data": {
      "text/plain": [
       "2.332639105834982"
      ]
     },
     "execution_count": 13,
     "metadata": {},
     "output_type": "execute_result"
    }
   ],
   "source": [
    "67201 / replacements.shape[0]"
   ]
  },
  {
   "cell_type": "code",
   "execution_count": 15,
   "metadata": {},
   "outputs": [
    {
     "data": {
      "text/plain": [
       "9583"
      ]
     },
     "execution_count": 15,
     "metadata": {},
     "output_type": "execute_result"
    }
   ],
   "source": [
    "67201 % replacements.shape[0]"
   ]
  },
  {
   "cell_type": "code",
   "execution_count": null,
   "metadata": {},
   "outputs": [],
   "source": [
    "9583"
   ]
  },
  {
   "cell_type": "code",
   "execution_count": null,
   "metadata": {},
   "outputs": [],
   "source": [
    "torch.randperm()"
   ]
  },
  {
   "cell_type": "code",
   "execution_count": null,
   "metadata": {},
   "outputs": [],
   "source": []
  },
  {
   "cell_type": "code",
   "execution_count": null,
   "metadata": {},
   "outputs": [],
   "source": []
  },
  {
   "cell_type": "code",
   "execution_count": null,
   "metadata": {},
   "outputs": [],
   "source": []
  },
  {
   "cell_type": "code",
   "execution_count": 3,
   "metadata": {},
   "outputs": [
    {
     "ename": "NameError",
     "evalue": "name 'train' is not defined",
     "output_type": "error",
     "traceback": [
      "\u001b[0;31m---------------------------------------------------\u001b[0m",
      "\u001b[0;31mNameError\u001b[0m         Traceback (most recent call last)",
      "\u001b[0;32m<ipython-input-3-8c230e8680e6>\u001b[0m in \u001b[0;36m<module>\u001b[0;34m\u001b[0m\n\u001b[0;32m----> 1\u001b[0;31m \u001b[0mdataset\u001b[0m \u001b[0;34m=\u001b[0m \u001b[0mtrain\u001b[0m\u001b[0;34m.\u001b[0m\u001b[0mget_dataset\u001b[0m\u001b[0;34m(\u001b[0m\u001b[0;34m'3dshapes'\u001b[0m\u001b[0;34m,\u001b[0m \u001b[0mdataroot\u001b[0m\u001b[0;34m=\u001b[0m\u001b[0mos\u001b[0m\u001b[0;34m.\u001b[0m\u001b[0menviron\u001b[0m\u001b[0;34m[\u001b[0m\u001b[0;34m'FOUNDATION_DATA_DIR'\u001b[0m\u001b[0;34m]\u001b[0m\u001b[0;34m,\u001b[0m \u001b[0mlabels\u001b[0m\u001b[0;34m=\u001b[0m\u001b[0;32mTrue\u001b[0m\u001b[0;34m)\u001b[0m\u001b[0;34m\u001b[0m\u001b[0;34m\u001b[0m\u001b[0m\n\u001b[0m\u001b[1;32m      2\u001b[0m \u001b[0mlen\u001b[0m\u001b[0;34m(\u001b[0m\u001b[0mdataset\u001b[0m\u001b[0;34m)\u001b[0m\u001b[0;34m\u001b[0m\u001b[0;34m\u001b[0m\u001b[0m\n",
      "\u001b[0;31mNameError\u001b[0m: name 'train' is not defined"
     ]
    }
   ],
   "source": [
    "dataset = train.get_dataset('z-celeba', dataroot=os.environ['FOUNDATION_DATA_DIR'], label_type='attr')"
   ]
  },
  {
   "cell_type": "code",
   "execution_count": null,
   "metadata": {},
   "outputs": [],
   "source": [
    "i = np.random.randint(len(dataset))"
   ]
  },
  {
   "cell_type": "code",
   "execution_count": null,
   "metadata": {},
   "outputs": [],
   "source": [
    "x, y = dataset[i]\n",
    "x.shape, y.shape"
   ]
  },
  {
   "cell_type": "code",
   "execution_count": null,
   "metadata": {},
   "outputs": [],
   "source": [
    "plt.imshow(x.permute(1,2,0).numpy())"
   ]
  },
  {
   "cell_type": "code",
   "execution_count": null,
   "metadata": {},
   "outputs": [],
   "source": []
  },
  {
   "cell_type": "code",
   "execution_count": 9,
   "metadata": {},
   "outputs": [],
   "source": [
    "import h5py as hf"
   ]
  },
  {
   "cell_type": "code",
   "execution_count": 6,
   "metadata": {},
   "outputs": [],
   "source": [
    "root = os.environ['FOUNDATION_DATA_DIR']\n",
    "dnames = os.listdir(root)\n",
    "dataroot = os.path.join(root, '3dshapes')"
   ]
  },
  {
   "cell_type": "code",
   "execution_count": null,
   "metadata": {},
   "outputs": [],
   "source": [
    "path = dataroot\n",
    "os.listdir(dataroot)"
   ]
  },
  {
   "cell_type": "code",
   "execution_count": 10,
   "metadata": {},
   "outputs": [
    {
     "data": {
      "text/plain": [
       "['images', 'labels']"
      ]
     },
     "execution_count": 10,
     "metadata": {},
     "output_type": "execute_result"
    }
   ],
   "source": [
    "path = os.path.join(dataroot, '3dshapes_train.h5')\n",
    "f = hf.File(path, 'r+')\n",
    "list(f.keys())"
   ]
  },
  {
   "cell_type": "code",
   "execution_count": 12,
   "metadata": {},
   "outputs": [
    {
     "data": {
      "text/plain": [
       "((384000, 6), (384000, 64, 64, 3))"
      ]
     },
     "execution_count": 12,
     "metadata": {},
     "output_type": "execute_result"
    }
   ],
   "source": [
    "f['labels'].shape, f['images'].shape"
   ]
  },
  {
   "cell_type": "code",
   "execution_count": 15,
   "metadata": {},
   "outputs": [
    {
     "data": {
      "text/plain": [
       "<KeysViewHDF5 ['factor_order', 'factor_sizes']>"
      ]
     },
     "execution_count": 15,
     "metadata": {},
     "output_type": "execute_result"
    }
   ],
   "source": [
    "f.attrs.keys()"
   ]
  },
  {
   "cell_type": "code",
   "execution_count": null,
   "metadata": {},
   "outputs": [],
   "source": []
  },
  {
   "cell_type": "code",
   "execution_count": null,
   "metadata": {},
   "outputs": [],
   "source": []
  },
  {
   "cell_type": "code",
   "execution_count": null,
   "metadata": {},
   "outputs": [],
   "source": []
  },
  {
   "cell_type": "code",
   "execution_count": null,
   "metadata": {},
   "outputs": [],
   "source": []
  },
  {
   "cell_type": "code",
   "execution_count": null,
   "metadata": {},
   "outputs": [],
   "source": []
  },
  {
   "cell_type": "code",
   "execution_count": null,
   "metadata": {},
   "outputs": [],
   "source": []
  },
  {
   "cell_type": "code",
   "execution_count": null,
   "metadata": {},
   "outputs": [],
   "source": []
  }
 ],
 "metadata": {
  "kernelspec": {
   "display_name": "Python 3",
   "language": "python",
   "name": "python3"
  },
  "language_info": {
   "codemirror_mode": {
    "name": "ipython",
    "version": 3
   },
   "file_extension": ".py",
   "mimetype": "text/x-python",
   "name": "python",
   "nbconvert_exporter": "python",
   "pygments_lexer": "ipython3",
   "version": "3.7.3"
  }
 },
 "nbformat": 4,
 "nbformat_minor": 2
}
