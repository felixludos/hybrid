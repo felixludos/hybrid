{
 "cells": [
  {
   "cell_type": "code",
   "execution_count": 1,
   "metadata": {},
   "outputs": [
    {
     "name": "stdout",
     "output_type": "stream",
     "text": [
      "WARNING: Failed to import visualization utilities - possibly due to matplotlib issues\n"
     ]
    }
   ],
   "source": [
    "import sys, os, time\n",
    "# %load_ext autoreload\n",
    "# %autoreload 2\n",
    "os.environ['FOUNDATION_RUN_MODE'] = 'jupyter'\n",
    "os.environ['FOUNDATION_SAVE_DIR'] = '/is/ei/fleeb/workspace/chome/trained_nets'\n",
    "os.environ['FOUNDATION_DATA_DIR'] = '/is/ei/fleeb/workspace/local_data'\n",
    "# from IPython.core.interactiveshell import InteractiveShell\n",
    "# InteractiveShell.ast_node_interactivity = \"all\"\n",
    "from IPython import display\n",
    "import torch\n",
    "import torch.nn as nn\n",
    "import torch.nn.functional as F\n",
    "import torch.distributions as distrib\n",
    "import torch.multiprocessing as mp\n",
    "import torchvision.models\n",
    "import torchvision\n",
    "from torch.utils.data import Dataset, DataLoader, TensorDataset\n",
    "import gym\n",
    "import numpy as np\n",
    "%matplotlib notebook\n",
    "# %matplotlib tk\n",
    "import matplotlib.pyplot as plt\n",
    "import imageio\n",
    "import seaborn as sns\n",
    "#plt.switch_backend('Qt5Agg') #('Qt5Agg')\n",
    "import foundation as fd\n",
    "from foundation import models\n",
    "from foundation import util\n",
    "from foundation import train\n",
    "#from foundation.util import replicate, Cloner\n",
    "\n",
    "from hybrid import get_model, get_data\n",
    "\n",
    "np.set_printoptions(linewidth=120, suppress=True)"
   ]
  },
  {
   "cell_type": "code",
   "execution_count": 2,
   "metadata": {},
   "outputs": [],
   "source": [
    "# dataset = train.get_dataset('cr-3dshapes', dataroot=os.environ['FOUNDATION_DATA_DIR'], train=True)\n",
    "# len(dataset)"
   ]
  },
  {
   "cell_type": "code",
   "execution_count": 3,
   "metadata": {
    "scrolled": true
   },
   "outputs": [],
   "source": [
    "# dataset = train.get_dataset('3dshapes', dataroot=os.environ['FOUNDATION_DATA_DIR'], labels=True)\n",
    "# len(dataset)"
   ]
  },
  {
   "cell_type": "code",
   "execution_count": 4,
   "metadata": {},
   "outputs": [
    {
     "name": "stdout",
     "output_type": "stream",
     "text": [
      "Filtering out 95875/384000 samples\n",
      "Negating selection\n"
     ]
    },
    {
     "data": {
      "text/plain": [
       "95875"
      ]
     },
     "execution_count": 4,
     "metadata": {},
     "output_type": "execute_result"
    }
   ],
   "source": [
    "dataset = train.get_dataset('nocap-3dshapes', dataroot=os.environ['FOUNDATION_DATA_DIR'], negative=True)\n",
    "len(dataset)"
   ]
  },
  {
   "cell_type": "code",
   "execution_count": 5,
   "metadata": {},
   "outputs": [
    {
     "data": {
      "text/plain": [
       "['floor_hue', 'wall_hue', 'object_hue', 'scale', 'shape', 'orientation']"
      ]
     },
     "execution_count": 5,
     "metadata": {},
     "output_type": "execute_result"
    }
   ],
   "source": [
    "dataset.factor_order"
   ]
  },
  {
   "cell_type": "code",
   "execution_count": 6,
   "metadata": {},
   "outputs": [],
   "source": [
    "# i = -1"
   ]
  },
  {
   "cell_type": "code",
   "execution_count": 7,
   "metadata": {},
   "outputs": [
    {
     "name": "stdout",
     "output_type": "stream",
     "text": [
      "37651\n",
      "tensor([  0.3000,   0.9000,   0.2000,   0.8929,   3.0000, -21.4286])\n"
     ]
    },
    {
     "data": {
      "application/javascript": [
       "/* Put everything inside the global mpl namespace */\n",
       "window.mpl = {};\n",
       "\n",
       "\n",
       "mpl.get_websocket_type = function() {\n",
       "    if (typeof(WebSocket) !== 'undefined') {\n",
       "        return WebSocket;\n",
       "    } else if (typeof(MozWebSocket) !== 'undefined') {\n",
       "        return MozWebSocket;\n",
       "    } else {\n",
       "        alert('Your browser does not have WebSocket support.' +\n",
       "              'Please try Chrome, Safari or Firefox ≥ 6. ' +\n",
       "              'Firefox 4 and 5 are also supported but you ' +\n",
       "              'have to enable WebSockets in about:config.');\n",
       "    };\n",
       "}\n",
       "\n",
       "mpl.figure = function(figure_id, websocket, ondownload, parent_element) {\n",
       "    this.id = figure_id;\n",
       "\n",
       "    this.ws = websocket;\n",
       "\n",
       "    this.supports_binary = (this.ws.binaryType != undefined);\n",
       "\n",
       "    if (!this.supports_binary) {\n",
       "        var warnings = document.getElementById(\"mpl-warnings\");\n",
       "        if (warnings) {\n",
       "            warnings.style.display = 'block';\n",
       "            warnings.textContent = (\n",
       "                \"This browser does not support binary websocket messages. \" +\n",
       "                    \"Performance may be slow.\");\n",
       "        }\n",
       "    }\n",
       "\n",
       "    this.imageObj = new Image();\n",
       "\n",
       "    this.context = undefined;\n",
       "    this.message = undefined;\n",
       "    this.canvas = undefined;\n",
       "    this.rubberband_canvas = undefined;\n",
       "    this.rubberband_context = undefined;\n",
       "    this.format_dropdown = undefined;\n",
       "\n",
       "    this.image_mode = 'full';\n",
       "\n",
       "    this.root = $('<div/>');\n",
       "    this._root_extra_style(this.root)\n",
       "    this.root.attr('style', 'display: inline-block');\n",
       "\n",
       "    $(parent_element).append(this.root);\n",
       "\n",
       "    this._init_header(this);\n",
       "    this._init_canvas(this);\n",
       "    this._init_toolbar(this);\n",
       "\n",
       "    var fig = this;\n",
       "\n",
       "    this.waiting = false;\n",
       "\n",
       "    this.ws.onopen =  function () {\n",
       "            fig.send_message(\"supports_binary\", {value: fig.supports_binary});\n",
       "            fig.send_message(\"send_image_mode\", {});\n",
       "            if (mpl.ratio != 1) {\n",
       "                fig.send_message(\"set_dpi_ratio\", {'dpi_ratio': mpl.ratio});\n",
       "            }\n",
       "            fig.send_message(\"refresh\", {});\n",
       "        }\n",
       "\n",
       "    this.imageObj.onload = function() {\n",
       "            if (fig.image_mode == 'full') {\n",
       "                // Full images could contain transparency (where diff images\n",
       "                // almost always do), so we need to clear the canvas so that\n",
       "                // there is no ghosting.\n",
       "                fig.context.clearRect(0, 0, fig.canvas.width, fig.canvas.height);\n",
       "            }\n",
       "            fig.context.drawImage(fig.imageObj, 0, 0);\n",
       "        };\n",
       "\n",
       "    this.imageObj.onunload = function() {\n",
       "        fig.ws.close();\n",
       "    }\n",
       "\n",
       "    this.ws.onmessage = this._make_on_message_function(this);\n",
       "\n",
       "    this.ondownload = ondownload;\n",
       "}\n",
       "\n",
       "mpl.figure.prototype._init_header = function() {\n",
       "    var titlebar = $(\n",
       "        '<div class=\"ui-dialog-titlebar ui-widget-header ui-corner-all ' +\n",
       "        'ui-helper-clearfix\"/>');\n",
       "    var titletext = $(\n",
       "        '<div class=\"ui-dialog-title\" style=\"width: 100%; ' +\n",
       "        'text-align: center; padding: 3px;\"/>');\n",
       "    titlebar.append(titletext)\n",
       "    this.root.append(titlebar);\n",
       "    this.header = titletext[0];\n",
       "}\n",
       "\n",
       "\n",
       "\n",
       "mpl.figure.prototype._canvas_extra_style = function(canvas_div) {\n",
       "\n",
       "}\n",
       "\n",
       "\n",
       "mpl.figure.prototype._root_extra_style = function(canvas_div) {\n",
       "\n",
       "}\n",
       "\n",
       "mpl.figure.prototype._init_canvas = function() {\n",
       "    var fig = this;\n",
       "\n",
       "    var canvas_div = $('<div/>');\n",
       "\n",
       "    canvas_div.attr('style', 'position: relative; clear: both; outline: 0');\n",
       "\n",
       "    function canvas_keyboard_event(event) {\n",
       "        return fig.key_event(event, event['data']);\n",
       "    }\n",
       "\n",
       "    canvas_div.keydown('key_press', canvas_keyboard_event);\n",
       "    canvas_div.keyup('key_release', canvas_keyboard_event);\n",
       "    this.canvas_div = canvas_div\n",
       "    this._canvas_extra_style(canvas_div)\n",
       "    this.root.append(canvas_div);\n",
       "\n",
       "    var canvas = $('<canvas/>');\n",
       "    canvas.addClass('mpl-canvas');\n",
       "    canvas.attr('style', \"left: 0; top: 0; z-index: 0; outline: 0\")\n",
       "\n",
       "    this.canvas = canvas[0];\n",
       "    this.context = canvas[0].getContext(\"2d\");\n",
       "\n",
       "    var backingStore = this.context.backingStorePixelRatio ||\n",
       "\tthis.context.webkitBackingStorePixelRatio ||\n",
       "\tthis.context.mozBackingStorePixelRatio ||\n",
       "\tthis.context.msBackingStorePixelRatio ||\n",
       "\tthis.context.oBackingStorePixelRatio ||\n",
       "\tthis.context.backingStorePixelRatio || 1;\n",
       "\n",
       "    mpl.ratio = (window.devicePixelRatio || 1) / backingStore;\n",
       "\n",
       "    var rubberband = $('<canvas/>');\n",
       "    rubberband.attr('style', \"position: absolute; left: 0; top: 0; z-index: 1;\")\n",
       "\n",
       "    var pass_mouse_events = true;\n",
       "\n",
       "    canvas_div.resizable({\n",
       "        start: function(event, ui) {\n",
       "            pass_mouse_events = false;\n",
       "        },\n",
       "        resize: function(event, ui) {\n",
       "            fig.request_resize(ui.size.width, ui.size.height);\n",
       "        },\n",
       "        stop: function(event, ui) {\n",
       "            pass_mouse_events = true;\n",
       "            fig.request_resize(ui.size.width, ui.size.height);\n",
       "        },\n",
       "    });\n",
       "\n",
       "    function mouse_event_fn(event) {\n",
       "        if (pass_mouse_events)\n",
       "            return fig.mouse_event(event, event['data']);\n",
       "    }\n",
       "\n",
       "    rubberband.mousedown('button_press', mouse_event_fn);\n",
       "    rubberband.mouseup('button_release', mouse_event_fn);\n",
       "    // Throttle sequential mouse events to 1 every 20ms.\n",
       "    rubberband.mousemove('motion_notify', mouse_event_fn);\n",
       "\n",
       "    rubberband.mouseenter('figure_enter', mouse_event_fn);\n",
       "    rubberband.mouseleave('figure_leave', mouse_event_fn);\n",
       "\n",
       "    canvas_div.on(\"wheel\", function (event) {\n",
       "        event = event.originalEvent;\n",
       "        event['data'] = 'scroll'\n",
       "        if (event.deltaY < 0) {\n",
       "            event.step = 1;\n",
       "        } else {\n",
       "            event.step = -1;\n",
       "        }\n",
       "        mouse_event_fn(event);\n",
       "    });\n",
       "\n",
       "    canvas_div.append(canvas);\n",
       "    canvas_div.append(rubberband);\n",
       "\n",
       "    this.rubberband = rubberband;\n",
       "    this.rubberband_canvas = rubberband[0];\n",
       "    this.rubberband_context = rubberband[0].getContext(\"2d\");\n",
       "    this.rubberband_context.strokeStyle = \"#000000\";\n",
       "\n",
       "    this._resize_canvas = function(width, height) {\n",
       "        // Keep the size of the canvas, canvas container, and rubber band\n",
       "        // canvas in synch.\n",
       "        canvas_div.css('width', width)\n",
       "        canvas_div.css('height', height)\n",
       "\n",
       "        canvas.attr('width', width * mpl.ratio);\n",
       "        canvas.attr('height', height * mpl.ratio);\n",
       "        canvas.attr('style', 'width: ' + width + 'px; height: ' + height + 'px;');\n",
       "\n",
       "        rubberband.attr('width', width);\n",
       "        rubberband.attr('height', height);\n",
       "    }\n",
       "\n",
       "    // Set the figure to an initial 600x600px, this will subsequently be updated\n",
       "    // upon first draw.\n",
       "    this._resize_canvas(600, 600);\n",
       "\n",
       "    // Disable right mouse context menu.\n",
       "    $(this.rubberband_canvas).bind(\"contextmenu\",function(e){\n",
       "        return false;\n",
       "    });\n",
       "\n",
       "    function set_focus () {\n",
       "        canvas.focus();\n",
       "        canvas_div.focus();\n",
       "    }\n",
       "\n",
       "    window.setTimeout(set_focus, 100);\n",
       "}\n",
       "\n",
       "mpl.figure.prototype._init_toolbar = function() {\n",
       "    var fig = this;\n",
       "\n",
       "    var nav_element = $('<div/>')\n",
       "    nav_element.attr('style', 'width: 100%');\n",
       "    this.root.append(nav_element);\n",
       "\n",
       "    // Define a callback function for later on.\n",
       "    function toolbar_event(event) {\n",
       "        return fig.toolbar_button_onclick(event['data']);\n",
       "    }\n",
       "    function toolbar_mouse_event(event) {\n",
       "        return fig.toolbar_button_onmouseover(event['data']);\n",
       "    }\n",
       "\n",
       "    for(var toolbar_ind in mpl.toolbar_items) {\n",
       "        var name = mpl.toolbar_items[toolbar_ind][0];\n",
       "        var tooltip = mpl.toolbar_items[toolbar_ind][1];\n",
       "        var image = mpl.toolbar_items[toolbar_ind][2];\n",
       "        var method_name = mpl.toolbar_items[toolbar_ind][3];\n",
       "\n",
       "        if (!name) {\n",
       "            // put a spacer in here.\n",
       "            continue;\n",
       "        }\n",
       "        var button = $('<button/>');\n",
       "        button.addClass('ui-button ui-widget ui-state-default ui-corner-all ' +\n",
       "                        'ui-button-icon-only');\n",
       "        button.attr('role', 'button');\n",
       "        button.attr('aria-disabled', 'false');\n",
       "        button.click(method_name, toolbar_event);\n",
       "        button.mouseover(tooltip, toolbar_mouse_event);\n",
       "\n",
       "        var icon_img = $('<span/>');\n",
       "        icon_img.addClass('ui-button-icon-primary ui-icon');\n",
       "        icon_img.addClass(image);\n",
       "        icon_img.addClass('ui-corner-all');\n",
       "\n",
       "        var tooltip_span = $('<span/>');\n",
       "        tooltip_span.addClass('ui-button-text');\n",
       "        tooltip_span.html(tooltip);\n",
       "\n",
       "        button.append(icon_img);\n",
       "        button.append(tooltip_span);\n",
       "\n",
       "        nav_element.append(button);\n",
       "    }\n",
       "\n",
       "    var fmt_picker_span = $('<span/>');\n",
       "\n",
       "    var fmt_picker = $('<select/>');\n",
       "    fmt_picker.addClass('mpl-toolbar-option ui-widget ui-widget-content');\n",
       "    fmt_picker_span.append(fmt_picker);\n",
       "    nav_element.append(fmt_picker_span);\n",
       "    this.format_dropdown = fmt_picker[0];\n",
       "\n",
       "    for (var ind in mpl.extensions) {\n",
       "        var fmt = mpl.extensions[ind];\n",
       "        var option = $(\n",
       "            '<option/>', {selected: fmt === mpl.default_extension}).html(fmt);\n",
       "        fmt_picker.append(option)\n",
       "    }\n",
       "\n",
       "    // Add hover states to the ui-buttons\n",
       "    $( \".ui-button\" ).hover(\n",
       "        function() { $(this).addClass(\"ui-state-hover\");},\n",
       "        function() { $(this).removeClass(\"ui-state-hover\");}\n",
       "    );\n",
       "\n",
       "    var status_bar = $('<span class=\"mpl-message\"/>');\n",
       "    nav_element.append(status_bar);\n",
       "    this.message = status_bar[0];\n",
       "}\n",
       "\n",
       "mpl.figure.prototype.request_resize = function(x_pixels, y_pixels) {\n",
       "    // Request matplotlib to resize the figure. Matplotlib will then trigger a resize in the client,\n",
       "    // which will in turn request a refresh of the image.\n",
       "    this.send_message('resize', {'width': x_pixels, 'height': y_pixels});\n",
       "}\n",
       "\n",
       "mpl.figure.prototype.send_message = function(type, properties) {\n",
       "    properties['type'] = type;\n",
       "    properties['figure_id'] = this.id;\n",
       "    this.ws.send(JSON.stringify(properties));\n",
       "}\n",
       "\n",
       "mpl.figure.prototype.send_draw_message = function() {\n",
       "    if (!this.waiting) {\n",
       "        this.waiting = true;\n",
       "        this.ws.send(JSON.stringify({type: \"draw\", figure_id: this.id}));\n",
       "    }\n",
       "}\n",
       "\n",
       "\n",
       "mpl.figure.prototype.handle_save = function(fig, msg) {\n",
       "    var format_dropdown = fig.format_dropdown;\n",
       "    var format = format_dropdown.options[format_dropdown.selectedIndex].value;\n",
       "    fig.ondownload(fig, format);\n",
       "}\n",
       "\n",
       "\n",
       "mpl.figure.prototype.handle_resize = function(fig, msg) {\n",
       "    var size = msg['size'];\n",
       "    if (size[0] != fig.canvas.width || size[1] != fig.canvas.height) {\n",
       "        fig._resize_canvas(size[0], size[1]);\n",
       "        fig.send_message(\"refresh\", {});\n",
       "    };\n",
       "}\n",
       "\n",
       "mpl.figure.prototype.handle_rubberband = function(fig, msg) {\n",
       "    var x0 = msg['x0'] / mpl.ratio;\n",
       "    var y0 = (fig.canvas.height - msg['y0']) / mpl.ratio;\n",
       "    var x1 = msg['x1'] / mpl.ratio;\n",
       "    var y1 = (fig.canvas.height - msg['y1']) / mpl.ratio;\n",
       "    x0 = Math.floor(x0) + 0.5;\n",
       "    y0 = Math.floor(y0) + 0.5;\n",
       "    x1 = Math.floor(x1) + 0.5;\n",
       "    y1 = Math.floor(y1) + 0.5;\n",
       "    var min_x = Math.min(x0, x1);\n",
       "    var min_y = Math.min(y0, y1);\n",
       "    var width = Math.abs(x1 - x0);\n",
       "    var height = Math.abs(y1 - y0);\n",
       "\n",
       "    fig.rubberband_context.clearRect(\n",
       "        0, 0, fig.canvas.width, fig.canvas.height);\n",
       "\n",
       "    fig.rubberband_context.strokeRect(min_x, min_y, width, height);\n",
       "}\n",
       "\n",
       "mpl.figure.prototype.handle_figure_label = function(fig, msg) {\n",
       "    // Updates the figure title.\n",
       "    fig.header.textContent = msg['label'];\n",
       "}\n",
       "\n",
       "mpl.figure.prototype.handle_cursor = function(fig, msg) {\n",
       "    var cursor = msg['cursor'];\n",
       "    switch(cursor)\n",
       "    {\n",
       "    case 0:\n",
       "        cursor = 'pointer';\n",
       "        break;\n",
       "    case 1:\n",
       "        cursor = 'default';\n",
       "        break;\n",
       "    case 2:\n",
       "        cursor = 'crosshair';\n",
       "        break;\n",
       "    case 3:\n",
       "        cursor = 'move';\n",
       "        break;\n",
       "    }\n",
       "    fig.rubberband_canvas.style.cursor = cursor;\n",
       "}\n",
       "\n",
       "mpl.figure.prototype.handle_message = function(fig, msg) {\n",
       "    fig.message.textContent = msg['message'];\n",
       "}\n",
       "\n",
       "mpl.figure.prototype.handle_draw = function(fig, msg) {\n",
       "    // Request the server to send over a new figure.\n",
       "    fig.send_draw_message();\n",
       "}\n",
       "\n",
       "mpl.figure.prototype.handle_image_mode = function(fig, msg) {\n",
       "    fig.image_mode = msg['mode'];\n",
       "}\n",
       "\n",
       "mpl.figure.prototype.updated_canvas_event = function() {\n",
       "    // Called whenever the canvas gets updated.\n",
       "    this.send_message(\"ack\", {});\n",
       "}\n",
       "\n",
       "// A function to construct a web socket function for onmessage handling.\n",
       "// Called in the figure constructor.\n",
       "mpl.figure.prototype._make_on_message_function = function(fig) {\n",
       "    return function socket_on_message(evt) {\n",
       "        if (evt.data instanceof Blob) {\n",
       "            /* FIXME: We get \"Resource interpreted as Image but\n",
       "             * transferred with MIME type text/plain:\" errors on\n",
       "             * Chrome.  But how to set the MIME type?  It doesn't seem\n",
       "             * to be part of the websocket stream */\n",
       "            evt.data.type = \"image/png\";\n",
       "\n",
       "            /* Free the memory for the previous frames */\n",
       "            if (fig.imageObj.src) {\n",
       "                (window.URL || window.webkitURL).revokeObjectURL(\n",
       "                    fig.imageObj.src);\n",
       "            }\n",
       "\n",
       "            fig.imageObj.src = (window.URL || window.webkitURL).createObjectURL(\n",
       "                evt.data);\n",
       "            fig.updated_canvas_event();\n",
       "            fig.waiting = false;\n",
       "            return;\n",
       "        }\n",
       "        else if (typeof evt.data === 'string' && evt.data.slice(0, 21) == \"data:image/png;base64\") {\n",
       "            fig.imageObj.src = evt.data;\n",
       "            fig.updated_canvas_event();\n",
       "            fig.waiting = false;\n",
       "            return;\n",
       "        }\n",
       "\n",
       "        var msg = JSON.parse(evt.data);\n",
       "        var msg_type = msg['type'];\n",
       "\n",
       "        // Call the  \"handle_{type}\" callback, which takes\n",
       "        // the figure and JSON message as its only arguments.\n",
       "        try {\n",
       "            var callback = fig[\"handle_\" + msg_type];\n",
       "        } catch (e) {\n",
       "            console.log(\"No handler for the '\" + msg_type + \"' message type: \", msg);\n",
       "            return;\n",
       "        }\n",
       "\n",
       "        if (callback) {\n",
       "            try {\n",
       "                // console.log(\"Handling '\" + msg_type + \"' message: \", msg);\n",
       "                callback(fig, msg);\n",
       "            } catch (e) {\n",
       "                console.log(\"Exception inside the 'handler_\" + msg_type + \"' callback:\", e, e.stack, msg);\n",
       "            }\n",
       "        }\n",
       "    };\n",
       "}\n",
       "\n",
       "// from http://stackoverflow.com/questions/1114465/getting-mouse-location-in-canvas\n",
       "mpl.findpos = function(e) {\n",
       "    //this section is from http://www.quirksmode.org/js/events_properties.html\n",
       "    var targ;\n",
       "    if (!e)\n",
       "        e = window.event;\n",
       "    if (e.target)\n",
       "        targ = e.target;\n",
       "    else if (e.srcElement)\n",
       "        targ = e.srcElement;\n",
       "    if (targ.nodeType == 3) // defeat Safari bug\n",
       "        targ = targ.parentNode;\n",
       "\n",
       "    // jQuery normalizes the pageX and pageY\n",
       "    // pageX,Y are the mouse positions relative to the document\n",
       "    // offset() returns the position of the element relative to the document\n",
       "    var x = e.pageX - $(targ).offset().left;\n",
       "    var y = e.pageY - $(targ).offset().top;\n",
       "\n",
       "    return {\"x\": x, \"y\": y};\n",
       "};\n",
       "\n",
       "/*\n",
       " * return a copy of an object with only non-object keys\n",
       " * we need this to avoid circular references\n",
       " * http://stackoverflow.com/a/24161582/3208463\n",
       " */\n",
       "function simpleKeys (original) {\n",
       "  return Object.keys(original).reduce(function (obj, key) {\n",
       "    if (typeof original[key] !== 'object')\n",
       "        obj[key] = original[key]\n",
       "    return obj;\n",
       "  }, {});\n",
       "}\n",
       "\n",
       "mpl.figure.prototype.mouse_event = function(event, name) {\n",
       "    var canvas_pos = mpl.findpos(event)\n",
       "\n",
       "    if (name === 'button_press')\n",
       "    {\n",
       "        this.canvas.focus();\n",
       "        this.canvas_div.focus();\n",
       "    }\n",
       "\n",
       "    var x = canvas_pos.x * mpl.ratio;\n",
       "    var y = canvas_pos.y * mpl.ratio;\n",
       "\n",
       "    this.send_message(name, {x: x, y: y, button: event.button,\n",
       "                             step: event.step,\n",
       "                             guiEvent: simpleKeys(event)});\n",
       "\n",
       "    /* This prevents the web browser from automatically changing to\n",
       "     * the text insertion cursor when the button is pressed.  We want\n",
       "     * to control all of the cursor setting manually through the\n",
       "     * 'cursor' event from matplotlib */\n",
       "    event.preventDefault();\n",
       "    return false;\n",
       "}\n",
       "\n",
       "mpl.figure.prototype._key_event_extra = function(event, name) {\n",
       "    // Handle any extra behaviour associated with a key event\n",
       "}\n",
       "\n",
       "mpl.figure.prototype.key_event = function(event, name) {\n",
       "\n",
       "    // Prevent repeat events\n",
       "    if (name == 'key_press')\n",
       "    {\n",
       "        if (event.which === this._key)\n",
       "            return;\n",
       "        else\n",
       "            this._key = event.which;\n",
       "    }\n",
       "    if (name == 'key_release')\n",
       "        this._key = null;\n",
       "\n",
       "    var value = '';\n",
       "    if (event.ctrlKey && event.which != 17)\n",
       "        value += \"ctrl+\";\n",
       "    if (event.altKey && event.which != 18)\n",
       "        value += \"alt+\";\n",
       "    if (event.shiftKey && event.which != 16)\n",
       "        value += \"shift+\";\n",
       "\n",
       "    value += 'k';\n",
       "    value += event.which.toString();\n",
       "\n",
       "    this._key_event_extra(event, name);\n",
       "\n",
       "    this.send_message(name, {key: value,\n",
       "                             guiEvent: simpleKeys(event)});\n",
       "    return false;\n",
       "}\n",
       "\n",
       "mpl.figure.prototype.toolbar_button_onclick = function(name) {\n",
       "    if (name == 'download') {\n",
       "        this.handle_save(this, null);\n",
       "    } else {\n",
       "        this.send_message(\"toolbar_button\", {name: name});\n",
       "    }\n",
       "};\n",
       "\n",
       "mpl.figure.prototype.toolbar_button_onmouseover = function(tooltip) {\n",
       "    this.message.textContent = tooltip;\n",
       "};\n",
       "mpl.toolbar_items = [[\"Home\", \"Reset original view\", \"fa fa-home icon-home\", \"home\"], [\"Back\", \"Back to previous view\", \"fa fa-arrow-left icon-arrow-left\", \"back\"], [\"Forward\", \"Forward to next view\", \"fa fa-arrow-right icon-arrow-right\", \"forward\"], [\"\", \"\", \"\", \"\"], [\"Pan\", \"Pan axes with left mouse, zoom with right\", \"fa fa-arrows icon-move\", \"pan\"], [\"Zoom\", \"Zoom to rectangle\", \"fa fa-square-o icon-check-empty\", \"zoom\"], [\"\", \"\", \"\", \"\"], [\"Download\", \"Download plot\", \"fa fa-floppy-o icon-save\", \"download\"]];\n",
       "\n",
       "mpl.extensions = [\"eps\", \"jpeg\", \"pdf\", \"png\", \"ps\", \"raw\", \"svg\", \"tif\"];\n",
       "\n",
       "mpl.default_extension = \"png\";var comm_websocket_adapter = function(comm) {\n",
       "    // Create a \"websocket\"-like object which calls the given IPython comm\n",
       "    // object with the appropriate methods. Currently this is a non binary\n",
       "    // socket, so there is still some room for performance tuning.\n",
       "    var ws = {};\n",
       "\n",
       "    ws.close = function() {\n",
       "        comm.close()\n",
       "    };\n",
       "    ws.send = function(m) {\n",
       "        //console.log('sending', m);\n",
       "        comm.send(m);\n",
       "    };\n",
       "    // Register the callback with on_msg.\n",
       "    comm.on_msg(function(msg) {\n",
       "        //console.log('receiving', msg['content']['data'], msg);\n",
       "        // Pass the mpl event to the overridden (by mpl) onmessage function.\n",
       "        ws.onmessage(msg['content']['data'])\n",
       "    });\n",
       "    return ws;\n",
       "}\n",
       "\n",
       "mpl.mpl_figure_comm = function(comm, msg) {\n",
       "    // This is the function which gets called when the mpl process\n",
       "    // starts-up an IPython Comm through the \"matplotlib\" channel.\n",
       "\n",
       "    var id = msg.content.data.id;\n",
       "    // Get hold of the div created by the display call when the Comm\n",
       "    // socket was opened in Python.\n",
       "    var element = $(\"#\" + id);\n",
       "    var ws_proxy = comm_websocket_adapter(comm)\n",
       "\n",
       "    function ondownload(figure, format) {\n",
       "        window.open(figure.imageObj.src);\n",
       "    }\n",
       "\n",
       "    var fig = new mpl.figure(id, ws_proxy,\n",
       "                           ondownload,\n",
       "                           element.get(0));\n",
       "\n",
       "    // Call onopen now - mpl needs it, as it is assuming we've passed it a real\n",
       "    // web socket which is closed, not our websocket->open comm proxy.\n",
       "    ws_proxy.onopen();\n",
       "\n",
       "    fig.parent_element = element.get(0);\n",
       "    fig.cell_info = mpl.find_output_cell(\"<div id='\" + id + \"'></div>\");\n",
       "    if (!fig.cell_info) {\n",
       "        console.error(\"Failed to find cell for figure\", id, fig);\n",
       "        return;\n",
       "    }\n",
       "\n",
       "    var output_index = fig.cell_info[2]\n",
       "    var cell = fig.cell_info[0];\n",
       "\n",
       "};\n",
       "\n",
       "mpl.figure.prototype.handle_close = function(fig, msg) {\n",
       "    var width = fig.canvas.width/mpl.ratio\n",
       "    fig.root.unbind('remove')\n",
       "\n",
       "    // Update the output cell to use the data from the current canvas.\n",
       "    fig.push_to_output();\n",
       "    var dataURL = fig.canvas.toDataURL();\n",
       "    // Re-enable the keyboard manager in IPython - without this line, in FF,\n",
       "    // the notebook keyboard shortcuts fail.\n",
       "    IPython.keyboard_manager.enable()\n",
       "    $(fig.parent_element).html('<img src=\"' + dataURL + '\" width=\"' + width + '\">');\n",
       "    fig.close_ws(fig, msg);\n",
       "}\n",
       "\n",
       "mpl.figure.prototype.close_ws = function(fig, msg){\n",
       "    fig.send_message('closing', msg);\n",
       "    // fig.ws.close()\n",
       "}\n",
       "\n",
       "mpl.figure.prototype.push_to_output = function(remove_interactive) {\n",
       "    // Turn the data on the canvas into data in the output cell.\n",
       "    var width = this.canvas.width/mpl.ratio\n",
       "    var dataURL = this.canvas.toDataURL();\n",
       "    this.cell_info[1]['text/html'] = '<img src=\"' + dataURL + '\" width=\"' + width + '\">';\n",
       "}\n",
       "\n",
       "mpl.figure.prototype.updated_canvas_event = function() {\n",
       "    // Tell IPython that the notebook contents must change.\n",
       "    IPython.notebook.set_dirty(true);\n",
       "    this.send_message(\"ack\", {});\n",
       "    var fig = this;\n",
       "    // Wait a second, then push the new image to the DOM so\n",
       "    // that it is saved nicely (might be nice to debounce this).\n",
       "    setTimeout(function () { fig.push_to_output() }, 1000);\n",
       "}\n",
       "\n",
       "mpl.figure.prototype._init_toolbar = function() {\n",
       "    var fig = this;\n",
       "\n",
       "    var nav_element = $('<div/>')\n",
       "    nav_element.attr('style', 'width: 100%');\n",
       "    this.root.append(nav_element);\n",
       "\n",
       "    // Define a callback function for later on.\n",
       "    function toolbar_event(event) {\n",
       "        return fig.toolbar_button_onclick(event['data']);\n",
       "    }\n",
       "    function toolbar_mouse_event(event) {\n",
       "        return fig.toolbar_button_onmouseover(event['data']);\n",
       "    }\n",
       "\n",
       "    for(var toolbar_ind in mpl.toolbar_items){\n",
       "        var name = mpl.toolbar_items[toolbar_ind][0];\n",
       "        var tooltip = mpl.toolbar_items[toolbar_ind][1];\n",
       "        var image = mpl.toolbar_items[toolbar_ind][2];\n",
       "        var method_name = mpl.toolbar_items[toolbar_ind][3];\n",
       "\n",
       "        if (!name) { continue; };\n",
       "\n",
       "        var button = $('<button class=\"btn btn-default\" href=\"#\" title=\"' + name + '\"><i class=\"fa ' + image + ' fa-lg\"></i></button>');\n",
       "        button.click(method_name, toolbar_event);\n",
       "        button.mouseover(tooltip, toolbar_mouse_event);\n",
       "        nav_element.append(button);\n",
       "    }\n",
       "\n",
       "    // Add the status bar.\n",
       "    var status_bar = $('<span class=\"mpl-message\" style=\"text-align:right; float: right;\"/>');\n",
       "    nav_element.append(status_bar);\n",
       "    this.message = status_bar[0];\n",
       "\n",
       "    // Add the close button to the window.\n",
       "    var buttongrp = $('<div class=\"btn-group inline pull-right\"></div>');\n",
       "    var button = $('<button class=\"btn btn-mini btn-primary\" href=\"#\" title=\"Stop Interaction\"><i class=\"fa fa-power-off icon-remove icon-large\"></i></button>');\n",
       "    button.click(function (evt) { fig.handle_close(fig, {}); } );\n",
       "    button.mouseover('Stop Interaction', toolbar_mouse_event);\n",
       "    buttongrp.append(button);\n",
       "    var titlebar = this.root.find($('.ui-dialog-titlebar'));\n",
       "    titlebar.prepend(buttongrp);\n",
       "}\n",
       "\n",
       "mpl.figure.prototype._root_extra_style = function(el){\n",
       "    var fig = this\n",
       "    el.on(\"remove\", function(){\n",
       "\tfig.close_ws(fig, {});\n",
       "    });\n",
       "}\n",
       "\n",
       "mpl.figure.prototype._canvas_extra_style = function(el){\n",
       "    // this is important to make the div 'focusable\n",
       "    el.attr('tabindex', 0)\n",
       "    // reach out to IPython and tell the keyboard manager to turn it's self\n",
       "    // off when our div gets focus\n",
       "\n",
       "    // location in version 3\n",
       "    if (IPython.notebook.keyboard_manager) {\n",
       "        IPython.notebook.keyboard_manager.register_events(el);\n",
       "    }\n",
       "    else {\n",
       "        // location in version 2\n",
       "        IPython.keyboard_manager.register_events(el);\n",
       "    }\n",
       "\n",
       "}\n",
       "\n",
       "mpl.figure.prototype._key_event_extra = function(event, name) {\n",
       "    var manager = IPython.notebook.keyboard_manager;\n",
       "    if (!manager)\n",
       "        manager = IPython.keyboard_manager;\n",
       "\n",
       "    // Check for shift+enter\n",
       "    if (event.shiftKey && event.which == 13) {\n",
       "        this.canvas_div.blur();\n",
       "        event.shiftKey = false;\n",
       "        // Send a \"J\" for go to next cell\n",
       "        event.which = 74;\n",
       "        event.keyCode = 74;\n",
       "        manager.command_mode();\n",
       "        manager.handle_keydown(event);\n",
       "    }\n",
       "}\n",
       "\n",
       "mpl.figure.prototype.handle_save = function(fig, msg) {\n",
       "    fig.ondownload(fig, null);\n",
       "}\n",
       "\n",
       "\n",
       "mpl.find_output_cell = function(html_output) {\n",
       "    // Return the cell and output element which can be found *uniquely* in the notebook.\n",
       "    // Note - this is a bit hacky, but it is done because the \"notebook_saving.Notebook\"\n",
       "    // IPython event is triggered only after the cells have been serialised, which for\n",
       "    // our purposes (turning an active figure into a static one), is too late.\n",
       "    var cells = IPython.notebook.get_cells();\n",
       "    var ncells = cells.length;\n",
       "    for (var i=0; i<ncells; i++) {\n",
       "        var cell = cells[i];\n",
       "        if (cell.cell_type === 'code'){\n",
       "            for (var j=0; j<cell.output_area.outputs.length; j++) {\n",
       "                var data = cell.output_area.outputs[j];\n",
       "                if (data.data) {\n",
       "                    // IPython >= 3 moved mimebundle to data attribute of output\n",
       "                    data = data.data;\n",
       "                }\n",
       "                if (data['text/html'] == html_output) {\n",
       "                    return [cell, data, j];\n",
       "                }\n",
       "            }\n",
       "        }\n",
       "    }\n",
       "}\n",
       "\n",
       "// Register the function which deals with the matplotlib target/channel.\n",
       "// The kernel may be null if the page has been refreshed.\n",
       "if (IPython.notebook.kernel != null) {\n",
       "    IPython.notebook.kernel.comm_manager.register_target('matplotlib', mpl.mpl_figure_comm);\n",
       "}\n"
      ],
      "text/plain": [
       "<IPython.core.display.Javascript object>"
      ]
     },
     "metadata": {},
     "output_type": "display_data"
    },
    {
     "data": {
      "text/html": [
       "<img src=\"data:image/png;base64,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\" width=\"640\">"
      ],
      "text/plain": [
       "<IPython.core.display.HTML object>"
      ]
     },
     "metadata": {},
     "output_type": "display_data"
    },
    {
     "data": {
      "text/plain": [
       "<matplotlib.image.AxesImage at 0x7ffa37c83f28>"
      ]
     },
     "execution_count": 7,
     "metadata": {},
     "output_type": "execute_result"
    }
   ],
   "source": [
    "# i += 1\n",
    "i = np.random.randint(len(dataset))\n",
    "print(i)\n",
    "sample = dataset[i]\n",
    "if len(sample) > 1:\n",
    "    x,y = dataset[i]\n",
    "    print(y)\n",
    "else:\n",
    "    x, = dataset[i]\n",
    "plt.imshow(x.permute(1,2,0).numpy())"
   ]
  },
  {
   "cell_type": "code",
   "execution_count": null,
   "metadata": {},
   "outputs": [],
   "source": []
  },
  {
   "cell_type": "code",
   "execution_count": 8,
   "metadata": {},
   "outputs": [],
   "source": [
    "self = dataset"
   ]
  },
  {
   "cell_type": "code",
   "execution_count": 9,
   "metadata": {},
   "outputs": [
    {
     "data": {
      "text/plain": [
       "torch.Size([28809, 3, 64, 64])"
      ]
     },
     "execution_count": 9,
     "metadata": {},
     "output_type": "execute_result"
    }
   ],
   "source": [
    "sel = torch.logical_not(self.labels[:, 2].isclose(torch.tensor(0.))\n",
    "       + self.labels[:, 2].isclose(torch.tensor(0.3))\n",
    "       + self.labels[:, 2].isclose(torch.tensor(0.7))) * self.labels[:, -2].isclose(torch.tensor(2.))\n",
    "\n",
    "rep = (self.labels[:, 2].isclose(torch.tensor(0.))\n",
    "        + self.labels[:, 2].isclose(torch.tensor(0.3))\n",
    "        + self.labels[:, 2].isclose(torch.tensor(0.7))) * self.labels[:, -2].isclose(torch.tensor(2.))\n",
    "\n",
    "replacements = self.images[rep]\n",
    "replacements.shape"
   ]
  },
  {
   "cell_type": "code",
   "execution_count": 31,
   "metadata": {},
   "outputs": [
    {
     "data": {
      "text/plain": [
       "(torch.Size([67201]), torch.Size([28809]))"
      ]
     },
     "execution_count": 31,
     "metadata": {},
     "output_type": "execute_result"
    }
   ],
   "source": [
    "sidx = torch.arange(self.images.shape[0])[sel]\n",
    "ridx = torch.arange(self.images.shape[0])[rep]\n",
    "sidx.shape, ridx.shape"
   ]
  },
  {
   "cell_type": "code",
   "execution_count": 33,
   "metadata": {},
   "outputs": [
    {
     "data": {
      "text/plain": [
       "(67201, 28809)"
      ]
     },
     "execution_count": 33,
     "metadata": {},
     "output_type": "execute_result"
    }
   ],
   "source": [
    "lost = sel.sum().item()\n",
    "swaps = rep.sum().item()\n",
    "lost, swaps"
   ]
  },
  {
   "cell_type": "code",
   "execution_count": 34,
   "metadata": {},
   "outputs": [],
   "source": [
    "copies, extra = lost // swaps, lost % swaps"
   ]
  },
  {
   "cell_type": "code",
   "execution_count": 35,
   "metadata": {},
   "outputs": [
    {
     "data": {
      "text/plain": [
       "torch.Size([9583])"
      ]
     },
     "execution_count": 35,
     "metadata": {},
     "output_type": "execute_result"
    }
   ],
   "source": [
    "extra_idx = torch.randperm(swaps)[:extra]\n",
    "extra_idx.shape"
   ]
  },
  {
   "cell_type": "code",
   "execution_count": 38,
   "metadata": {},
   "outputs": [
    {
     "data": {
      "text/plain": [
       "torch.Size([67201])"
      ]
     },
     "execution_count": 38,
     "metadata": {},
     "output_type": "execute_result"
    }
   ],
   "source": [
    "reps = torch.cat([ridx]*copies + [extra_idx])\n",
    "reps.shape"
   ]
  },
  {
   "cell_type": "code",
   "execution_count": 39,
   "metadata": {},
   "outputs": [],
   "source": [
    "self.images[sidx] = self.images[reps]"
   ]
  },
  {
   "cell_type": "code",
   "execution_count": 10,
   "metadata": {},
   "outputs": [
    {
     "data": {
      "text/plain": [
       "tensor(67201)"
      ]
     },
     "execution_count": 10,
     "metadata": {},
     "output_type": "execute_result"
    }
   ],
   "source": []
  },
  {
   "cell_type": "code",
   "execution_count": 13,
   "metadata": {},
   "outputs": [
    {
     "data": {
      "text/plain": [
       "2.332639105834982"
      ]
     },
     "execution_count": 13,
     "metadata": {},
     "output_type": "execute_result"
    }
   ],
   "source": [
    "67201 / replacements.shape[0]"
   ]
  },
  {
   "cell_type": "code",
   "execution_count": 15,
   "metadata": {},
   "outputs": [
    {
     "data": {
      "text/plain": [
       "9583"
      ]
     },
     "execution_count": 15,
     "metadata": {},
     "output_type": "execute_result"
    }
   ],
   "source": [
    "67201 % replacements.shape[0]"
   ]
  },
  {
   "cell_type": "code",
   "execution_count": null,
   "metadata": {},
   "outputs": [],
   "source": [
    "9583"
   ]
  },
  {
   "cell_type": "code",
   "execution_count": null,
   "metadata": {},
   "outputs": [],
   "source": [
    "torch.randperm()"
   ]
  },
  {
   "cell_type": "code",
   "execution_count": null,
   "metadata": {},
   "outputs": [],
   "source": []
  },
  {
   "cell_type": "code",
   "execution_count": null,
   "metadata": {},
   "outputs": [],
   "source": []
  },
  {
   "cell_type": "code",
   "execution_count": null,
   "metadata": {},
   "outputs": [],
   "source": []
  },
  {
   "cell_type": "code",
   "execution_count": 3,
   "metadata": {},
   "outputs": [
    {
     "ename": "NameError",
     "evalue": "name 'train' is not defined",
     "output_type": "error",
     "traceback": [
      "\u001b[0;31m---------------------------------------------------\u001b[0m",
      "\u001b[0;31mNameError\u001b[0m         Traceback (most recent call last)",
      "\u001b[0;32m<ipython-input-3-8c230e8680e6>\u001b[0m in \u001b[0;36m<module>\u001b[0;34m\u001b[0m\n\u001b[0;32m----> 1\u001b[0;31m \u001b[0mdataset\u001b[0m \u001b[0;34m=\u001b[0m \u001b[0mtrain\u001b[0m\u001b[0;34m.\u001b[0m\u001b[0mget_dataset\u001b[0m\u001b[0;34m(\u001b[0m\u001b[0;34m'3dshapes'\u001b[0m\u001b[0;34m,\u001b[0m \u001b[0mdataroot\u001b[0m\u001b[0;34m=\u001b[0m\u001b[0mos\u001b[0m\u001b[0;34m.\u001b[0m\u001b[0menviron\u001b[0m\u001b[0;34m[\u001b[0m\u001b[0;34m'FOUNDATION_DATA_DIR'\u001b[0m\u001b[0;34m]\u001b[0m\u001b[0;34m,\u001b[0m \u001b[0mlabels\u001b[0m\u001b[0;34m=\u001b[0m\u001b[0;32mTrue\u001b[0m\u001b[0;34m)\u001b[0m\u001b[0;34m\u001b[0m\u001b[0;34m\u001b[0m\u001b[0m\n\u001b[0m\u001b[1;32m      2\u001b[0m \u001b[0mlen\u001b[0m\u001b[0;34m(\u001b[0m\u001b[0mdataset\u001b[0m\u001b[0;34m)\u001b[0m\u001b[0;34m\u001b[0m\u001b[0;34m\u001b[0m\u001b[0m\n",
      "\u001b[0;31mNameError\u001b[0m: name 'train' is not defined"
     ]
    }
   ],
   "source": [
    "dataset = train.get_dataset('z-celeba', dataroot=os.environ['FOUNDATION_DATA_DIR'], label_type='attr')"
   ]
  },
  {
   "cell_type": "code",
   "execution_count": null,
   "metadata": {},
   "outputs": [],
   "source": [
    "i = np.random.randint(len(dataset))"
   ]
  },
  {
   "cell_type": "code",
   "execution_count": null,
   "metadata": {},
   "outputs": [],
   "source": [
    "x, y = dataset[i]\n",
    "x.shape, y.shape"
   ]
  },
  {
   "cell_type": "code",
   "execution_count": null,
   "metadata": {},
   "outputs": [],
   "source": [
    "plt.imshow(x.permute(1,2,0).numpy())"
   ]
  },
  {
   "cell_type": "code",
   "execution_count": null,
   "metadata": {},
   "outputs": [],
   "source": []
  },
  {
   "cell_type": "code",
   "execution_count": 9,
   "metadata": {},
   "outputs": [],
   "source": [
    "import h5py as hf"
   ]
  },
  {
   "cell_type": "code",
   "execution_count": 6,
   "metadata": {},
   "outputs": [],
   "source": [
    "root = os.environ['FOUNDATION_DATA_DIR']\n",
    "dnames = os.listdir(root)\n",
    "dataroot = os.path.join(root, '3dshapes')"
   ]
  },
  {
   "cell_type": "code",
   "execution_count": null,
   "metadata": {},
   "outputs": [],
   "source": [
    "path = dataroot\n",
    "os.listdir(dataroot)"
   ]
  },
  {
   "cell_type": "code",
   "execution_count": 10,
   "metadata": {},
   "outputs": [
    {
     "data": {
      "text/plain": [
       "['images', 'labels']"
      ]
     },
     "execution_count": 10,
     "metadata": {},
     "output_type": "execute_result"
    }
   ],
   "source": [
    "path = os.path.join(dataroot, '3dshapes_train.h5')\n",
    "f = hf.File(path, 'r+')\n",
    "list(f.keys())"
   ]
  },
  {
   "cell_type": "code",
   "execution_count": 12,
   "metadata": {},
   "outputs": [
    {
     "data": {
      "text/plain": [
       "((384000, 6), (384000, 64, 64, 3))"
      ]
     },
     "execution_count": 12,
     "metadata": {},
     "output_type": "execute_result"
    }
   ],
   "source": [
    "f['labels'].shape, f['images'].shape"
   ]
  },
  {
   "cell_type": "code",
   "execution_count": 15,
   "metadata": {},
   "outputs": [
    {
     "data": {
      "text/plain": [
       "<KeysViewHDF5 ['factor_order', 'factor_sizes']>"
      ]
     },
     "execution_count": 15,
     "metadata": {},
     "output_type": "execute_result"
    }
   ],
   "source": [
    "f.attrs.keys()"
   ]
  },
  {
   "cell_type": "code",
   "execution_count": null,
   "metadata": {},
   "outputs": [],
   "source": []
  },
  {
   "cell_type": "code",
   "execution_count": null,
   "metadata": {},
   "outputs": [],
   "source": []
  },
  {
   "cell_type": "code",
   "execution_count": null,
   "metadata": {},
   "outputs": [],
   "source": []
  },
  {
   "cell_type": "code",
   "execution_count": null,
   "metadata": {},
   "outputs": [],
   "source": []
  },
  {
   "cell_type": "code",
   "execution_count": null,
   "metadata": {},
   "outputs": [],
   "source": []
  },
  {
   "cell_type": "code",
   "execution_count": null,
   "metadata": {},
   "outputs": [],
   "source": []
  },
  {
   "cell_type": "code",
   "execution_count": null,
   "metadata": {},
   "outputs": [],
   "source": []
  }
 ],
 "metadata": {
  "kernelspec": {
   "display_name": "Python 3",
   "language": "python",
   "name": "python3"
  },
  "language_info": {
   "codemirror_mode": {
    "name": "ipython",
    "version": 3
   },
   "file_extension": ".py",
   "mimetype": "text/x-python",
   "name": "python",
   "nbconvert_exporter": "python",
   "pygments_lexer": "ipython3",
   "version": "3.7.3"
  }
 },
 "nbformat": 4,
 "nbformat_minor": 2
}
