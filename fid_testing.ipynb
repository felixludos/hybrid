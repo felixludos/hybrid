{
 "cells": [
  {
   "cell_type": "code",
   "execution_count": 1,
   "metadata": {},
   "outputs": [],
   "source": [
    "import sys, os, time\n",
    "import shutil\n",
    "# %load_ext autoreload\n",
    "# %autoreload 2\n",
    "os.environ['FOUNDATION_RUN_MODE'] = 'jupyter'\n",
    "os.environ['FOUNDATION_SAVE_DIR'] = '/is/ei/fleeb/workspace/chome/trained_nets'\n",
    "os.environ['FOUNDATION_DATA_DIR'] = '/is/ei/fleeb/workspace/local_data'\n",
    "# from IPython.core.interactiveshell import InteractiveShell\n",
    "# InteractiveShell.ast_node_interactivity = \"all\"\n",
    "from IPython import display\n",
    "import torch\n",
    "import torch.nn as nn\n",
    "import torch.nn.functional as F\n",
    "import torch.distributions as distrib\n",
    "import torch.multiprocessing as mp\n",
    "import torchvision.models\n",
    "import torchvision\n",
    "\n",
    "from torch.utils.data import Dataset, DataLoader, TensorDataset\n",
    "import gym\n",
    "import numpy as np\n",
    "%matplotlib notebook\n",
    "# %matplotlib tk\n",
    "import matplotlib.pyplot as plt\n",
    "import imageio\n",
    "import seaborn as sns\n",
    "# plt.switch_backend('Agg') #('Qt5Agg')\n",
    "import foundation as fd\n",
    "from foundation import models\n",
    "from foundation import util\n",
    "from foundation import train\n",
    "\n",
    "import pandas as pd\n",
    "import numpy as np\n",
    "import matplotlib.pyplot as plt\n",
    "from matplotlib import style\n",
    "import seaborn as sns\n",
    "from bisect import bisect_left\n",
    "\n",
    "# from IPython.display import HTML, Image\n",
    "\n",
    "#from foundation.util import replicate, Cloner\n",
    "\n",
    "from hybrid import get_model, get_data\n",
    "from analyze import *\n",
    "\n",
    "from tqdm import tqdm_notebook as tqdm\n",
    "\n",
    "plt.ioff()\n",
    "\n",
    "np.set_printoptions(linewidth=120, suppress=True)"
   ]
  },
  {
   "cell_type": "code",
   "execution_count": 2,
   "metadata": {},
   "outputs": [],
   "source": [
    "from run_fid import *"
   ]
  },
  {
   "cell_type": "code",
   "execution_count": 5,
   "metadata": {},
   "outputs": [
    {
     "data": {
      "text/plain": [
       "Namespace(batch_size=50, model='3dshapes-dvae_0100-5966131-07_200109-133026/', n_samples=50000, save_path=None, save_stat=False, seed=10, split='all')"
      ]
     },
     "execution_count": 5,
     "metadata": {},
     "output_type": "execute_result"
    }
   ],
   "source": [
    "args = parse_args(['--split','all','--model','3dshapes-dvae_0100-5966131-07_200109-133026/'])\n",
    "args"
   ]
  },
  {
   "cell_type": "code",
   "execution_count": null,
   "metadata": {},
   "outputs": [],
   "source": [
    "batch_size = args.batch_size\n",
    "block_idx = utils.InceptionV3.BLOCK_INDEX_BY_DIM[2048]\n",
    "n_samples = args.n_samples"
   ]
  },
  {
   "cell_type": "code",
   "execution_count": 6,
   "metadata": {},
   "outputs": [
    {
     "name": "stdout",
     "output_type": "stream",
     "text": [
      "/is/ei/fleeb/workspace/chome/trained_nets/3dshapes-dvae_0100-5966131-07_200109-133026/best.pth.tar\n",
      "True\n",
      "load successful\n",
      "Loaded /is/ei/fleeb/workspace/chome/trained_nets/3dshapes-dvae_0100-5966131-07_200109-133026/best.pth.tar\n",
      "Set dataroot to: /is/ei/fleeb/workspace/local_data\n",
      "Model-type: dvae\n",
      "prob: 1\n",
      "prob_max: None (by default)\n",
      "encoder (type=double-enc): \n",
      "  latent_dim: 8\n",
      "  min_log_std: None (by default)\n",
      "  in_shape --> din: [3, 64, 64] (by parent)\n",
      "  channels: [64, 64, 64, 128, 128] (by parent)\n",
      "  factors: 2 (by parent)\n",
      "  internal_channels: [None, None, None, None, None] (by default)\n",
      "  squeeze: [False, False, False, False, False] (by default)\n",
      "  output_nonlin: None (by default)\n",
      "  latent_dim: 16\n",
      "  tail (type=nn): \n",
      "    input_dim --> din: (128, 2, 2)\n",
      "    output_dim --> dout: 16\n",
      "    hidden_dims: [256, 128]\n",
      "    nonlin: elu (by parent)\n",
      "    output_nonlin: None (by default)\n",
      "  nonlin: elu (by parent)\n",
      "  output_nonlin: None (by default)\n",
      "  output_norm_type: None (by default)\n",
      "  down_type: max (by parent)\n",
      "  norm_type: instance (by parent)\n",
      "  residual: False (by default)\n",
      "  optim_type: adam (by parent)\n",
      "  lr: 0.001 (by parent)\n",
      "  weight_decay: 0 (by parent)\n",
      "  momentum: 0 (by parent)\n",
      "  beta1: 0.9 (by parent)\n",
      "  beta2: 0.999 (by parent)\n",
      "  scheduler_type: plateau (by parent)\n",
      "  scheduler_decay: 0.2 (by parent)\n",
      "  scheduler_min_lr: 1e-06 (by parent)\n",
      "  scheduler_patience: 5 (by parent)\n",
      "  scheduler_cooldown: 0 (by default)\n",
      "generator (type=adain-double-dec): \n",
      "  adain_latent_dim: 8\n",
      "  latent_dim: 8\n",
      "  out_shape --> dout: [3, 64, 64] (by parent)\n",
      "  channels: [128, 128, 64, 64, 64]\n",
      "  factors: 2\n",
      "  internal_channels: [None, None, None, None, None] (by default)\n",
      "  squeeze: [False, False, False, False, False] (by default)\n",
      "  nonlin: elu (by parent)\n",
      "  latent_dim: 1\n",
      "  head (type=nn): \n",
      "    input_dim --> din: 1\n",
      "    output_dim --> dout: (128, 2, 2)\n",
      "    hidden_dims: [128, 128, 128, 256]\n",
      "    nonlin: elu (by parent)\n",
      "    output_nonlin: elu\n",
      "  adains: [True, True, True, True] (by default)\n",
      "  splits: 2\n",
      "  full_latent_dim: 8\n",
      "  nonlin: elu (by parent)\n",
      "  output_nonlin: sigmoid\n",
      "  output_norm_type: None (by default)\n",
      "  up_type: nearest (by parent)\n",
      "  norm_type: instance (by parent)\n",
      "  residual: False (by default)\n",
      "  adain (type=norm-ada-in): \n",
      "    ada_noise: 2\n",
      "    features: 128\n",
      "    pixelwise: False (by default)\n",
      "    net (type=nn): \n",
      "      latent_dim --> dout: 128\n",
      "      min_log_std: None (by default)\n",
      "      input_dim --> din: 2\n",
      "      output_dim --> dout: 256\n",
      "      hidden_dims: [64]\n",
      "      nonlin: elu (by parent)\n",
      "      output_nonlin: None\n",
      "  adain (type=norm-ada-in): \n",
      "    ada_noise: 2\n",
      "    features: 64\n",
      "    pixelwise: False (by default)\n",
      "    net (type=nn): \n",
      "      latent_dim --> dout: 64\n",
      "      min_log_std: None (by default)\n",
      "      input_dim --> din: 2\n",
      "      output_dim --> dout: 128\n",
      "      hidden_dims: [64]\n",
      "      nonlin: elu (by parent)\n",
      "      output_nonlin: None\n",
      "  adain (type=norm-ada-in): \n",
      "    ada_noise: 2\n",
      "    features: 64\n",
      "    pixelwise: False (by default)\n",
      "    net (type=nn): \n",
      "      latent_dim --> dout: 64\n",
      "      min_log_std: None (by default)\n",
      "      input_dim --> din: 2\n",
      "      output_dim --> dout: 128\n",
      "      hidden_dims: [64]\n",
      "      nonlin: elu (by parent)\n",
      "      output_nonlin: None\n",
      "  adain (type=norm-ada-in): \n",
      "    ada_noise: 2\n",
      "    features: 64\n",
      "    pixelwise: False (by default)\n",
      "    net (type=nn): \n",
      "      latent_dim --> dout: 64\n",
      "      min_log_std: None (by default)\n",
      "      input_dim --> din: 2\n",
      "      output_dim --> dout: 128\n",
      "      hidden_dims: [64]\n",
      "      nonlin: elu (by parent)\n",
      "      output_nonlin: None\n",
      "  optim_type: adam (by parent)\n",
      "  lr: 0.001 (by parent)\n",
      "  weight_decay: 0 (by parent)\n",
      "  momentum: 0 (by parent)\n",
      "  beta1: 0.9 (by parent)\n",
      "  beta2: 0.999 (by parent)\n",
      "  scheduler_type: plateau (by parent)\n",
      "  scheduler_decay: 0.2 (by parent)\n",
      "  scheduler_min_lr: 1e-06 (by parent)\n",
      "  scheduler_patience: 5 (by parent)\n",
      "  scheduler_cooldown: 0 (by default)\n",
      "discriminator (type=double-enc): \n",
      "  in_shape --> din: [3, 64, 64] (by parent)\n",
      "  channels: [64, 64, 64, 128, 128] (by parent)\n",
      "  factors: 2 (by parent)\n",
      "  internal_channels: [None, None, None, None, None] (by default)\n",
      "  squeeze: [False, False, False, False, False] (by default)\n",
      "  output_nonlin: None (by default)\n",
      "  latent_dim: 1\n",
      "  tail (type=nn): \n",
      "    input_dim --> din: (128, 2, 2)\n",
      "    output_dim --> dout: 1\n",
      "    hidden_dims: [256, 128, 64]\n",
      "    nonlin: elu (by parent)\n",
      "    output_nonlin: None (by default)\n",
      "  nonlin: elu (by parent)\n",
      "  output_nonlin: None (by default)\n",
      "  output_norm_type: None (by default)\n",
      "  down_type: max (by parent)\n",
      "  norm_type: instance (by parent)\n",
      "  residual: False (by default)\n",
      "  optim_type: adam (by parent)\n",
      "  lr: 0.001 (by parent)\n",
      "  weight_decay: 0 (by parent)\n",
      "  momentum: 0 (by parent)\n",
      "  beta1: 0.5\n",
      "  beta2: 0.9\n",
      "  scheduler_type: plateau (by parent)\n",
      "  scheduler_decay: 0.2 (by parent)\n",
      "  scheduler_min_lr: 1e-06 (by parent)\n",
      "  scheduler_patience: 5 (by parent)\n",
      "  scheduler_cooldown: 0 (by default)\n",
      "gan_wt: 0.0001\n",
      "force_disc: False (by default)\n",
      "disc_steps: 5\n",
      "enc_gan: False (by default)\n",
      "criterion: {{'name':'bce', 'reduction':'sum'}}\n",
      "latent_reg_wt: 1\n",
      "gan_reg_wt: 10\n",
      "gen_types: ['hybrid']\n",
      "viz_force_gen: True\n",
      "rec_noise: None (by default)\n",
      "gan_warm_start: None (by default)\n",
      "Will track disentanglement score throughout training\n"
     ]
    },
    {
     "name": "stderr",
     "output_type": "stream",
     "text": [
      "/is/ei/fleeb/workspace/foundation/foundation/train/config.py:66: YAMLLoadWarning: calling yaml.load() without Loader=... is deprecated, as the default Loader is unsafe. Please read https://msg.pyyaml.org/load for full details.\n",
      "  data = yaml.load(f)\n"
     ]
    },
    {
     "name": "stdout",
     "output_type": "stream",
     "text": [
      "Moving model to cuda\n",
      "Model on cuda\n",
      "Loaded model_state from checkpoint\n"
     ]
    }
   ],
   "source": [
    "path = args.model\n",
    "_args, model = train.load(path=path, A=None, get_model=get_model, get_data = None, return_args = True)\n",
    "dataset = _args.dataset.name\n",
    "model.eval().to(_args.device)"
   ]
  },
  {
   "cell_type": "code",
   "execution_count": null,
   "metadata": {},
   "outputs": [],
   "source": [
    "model_inception = utils.InceptionV3([block_idx]).to(_args.device).eval()"
   ]
  },
  {
   "cell_type": "code",
   "execution_count": 10,
   "metadata": {},
   "outputs": [],
   "source": [
    "filename = '3dshapes_stats_fid_train.pkl'\n",
    "dataroot = os.path.join(os.environ['FOUNDATION_DATA_DIR'], '3dshapes')"
   ]
  },
  {
   "cell_type": "code",
   "execution_count": 12,
   "metadata": {},
   "outputs": [
    {
     "data": {
      "text/plain": [
       "(True,\n",
       " '/is/ei/fleeb/workspace/local_data/3dshapes/3dshapes_stats_fid_train.pkl')"
      ]
     },
     "execution_count": 12,
     "metadata": {},
     "output_type": "execute_result"
    }
   ],
   "source": [
    "path = os.path.join(dataroot, filename)\n",
    "os.path.isfile(path), path"
   ]
  },
  {
   "cell_type": "code",
   "execution_count": 14,
   "metadata": {},
   "outputs": [
    {
     "data": {
      "text/plain": [
       "21785568"
      ]
     },
     "execution_count": 14,
     "metadata": {},
     "output_type": "execute_result"
    }
   ],
   "source": [
    "util.count_parameters(model_inception)"
   ]
  },
  {
   "cell_type": "code",
   "execution_count": null,
   "metadata": {},
   "outputs": [],
   "source": []
  },
  {
   "cell_type": "code",
   "execution_count": null,
   "metadata": {},
   "outputs": [],
   "source": [
    "pred_arr = np.empty((n_samples, 2048))\n",
    "out = {}\n",
    "if stat_ref:\n",
    "    if dataset == '3dshapes':\n",
    "        data = datasets.Shapes3D(dataroot = os.environ['FOUNDATION_DATA_DIR'], train = mode, labels = True)\n",
    "    else:\n",
    "        raise NotImplementedError\n",
    "    assert len(data) >= n_samples, 'Number of samples should be less than dataset size'\n",
    "    indices = np.random.randint(0, len(data), n_samples)\n",
    "\n",
    "j = 0\n",
    "print('Computing Inception Features')\n",
    "while j < n_samples:\n",
    "    if j% (batch_size*100) == 0:\n",
    "        print('Done', j , 'Samples')\n",
    "    curr_batch_size = min(batch_size, n_samples - j)\n",
    "    with torch.no_grad():\n",
    "        if stat_ref:\n",
    "            generated, _ = data[indices[j:j+curr_batch_size]]\n",
    "            generated = generated.to(model.device)\n",
    "        else:\n",
    "            if hybrid:\n",
    "                q = model.sample_prior(curr_batch_size)\n",
    "                generated = model.decode(util.shuffle_dim(q))\n",
    "            else:\n",
    "                generated = model.generate(curr_batch_size)\n",
    "\n",
    "        pred = model_inception(generated)[0]\n",
    "        if pred.shape[2] != 1 or pred.shape[3] != 1:\n",
    "            pred = adaptive_avg_pool2d(pred, output_size=(1, 1))\n",
    "\n",
    "        pred_arr[j:j+curr_batch_size] = pred.cpu().data.numpy().reshape(curr_batch_size, -1)\n",
    "\n",
    "    j += curr_batch_size\n",
    "m = np.mean(pred_arr, axis=0)\n",
    "s = np.cov(pred_arr, rowvar=False)\n",
    "if save_stats is not None:\n",
    "    out['indices'] = indices\n",
    "    out['m'] = m\n",
    "    out['sigma'] = s\n",
    "    with open(save_stats,'wb') as b:\n",
    "        pkl.dump(out, b)"
   ]
  },
  {
   "cell_type": "code",
   "execution_count": null,
   "metadata": {},
   "outputs": [],
   "source": []
  },
  {
   "cell_type": "code",
   "execution_count": null,
   "metadata": {},
   "outputs": [],
   "source": []
  },
  {
   "cell_type": "code",
   "execution_count": null,
   "metadata": {},
   "outputs": [],
   "source": []
  },
  {
   "cell_type": "code",
   "execution_count": null,
   "metadata": {},
   "outputs": [],
   "source": []
  },
  {
   "cell_type": "code",
   "execution_count": null,
   "metadata": {},
   "outputs": [],
   "source": []
  }
 ],
 "metadata": {
  "kernelspec": {
   "display_name": "Python 3",
   "language": "python",
   "name": "python3"
  },
  "language_info": {
   "codemirror_mode": {
    "name": "ipython",
    "version": 3
   },
   "file_extension": ".py",
   "mimetype": "text/x-python",
   "name": "python",
   "nbconvert_exporter": "python",
   "pygments_lexer": "ipython3",
   "version": "3.7.3"
  }
 },
 "nbformat": 4,
 "nbformat_minor": 2
}
