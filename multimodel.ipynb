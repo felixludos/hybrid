{
 "cells": [
  {
   "cell_type": "code",
   "execution_count": 1,
   "metadata": {},
   "outputs": [
    {
     "name": "stdout",
     "output_type": "stream",
     "text": [
      "Automatic pdb calling has been turned ON\n"
     ]
    }
   ],
   "source": [
    "import sys, os, time\n",
    "import shutil\n",
    "%pdb\n",
    "# %load_ext autoreload\n",
    "# %autoreload 2\n",
    "os.environ['FOUNDATION_RUN_MODE'] = 'jupyter'\n",
    "os.environ['FOUNDATION_SAVE_DIR'] = '/is/ei/fleeb/workspace/chome/trained_nets'\n",
    "os.environ['FOUNDATION_DATA_DIR'] = '/is/ei/fleeb/workspace/local_data'\n",
    "# from IPython.core.interactiveshell import InteractiveShell\n",
    "# InteractiveShell.ast_node_interactivity = \"all\"\n",
    "from IPython import display\n",
    "import torch\n",
    "import torch.nn as nn\n",
    "import torch.nn.functional as F\n",
    "import torch.distributions as distrib\n",
    "import torch.multiprocessing as mp\n",
    "import torchvision.models\n",
    "import torchvision\n",
    "\n",
    "from torch.utils.data import Dataset, DataLoader, TensorDataset\n",
    "import gym\n",
    "import numpy as np\n",
    "# %matplotlib notebook\n",
    "%matplotlib tk\n",
    "import matplotlib.pyplot as plt\n",
    "from collections import Counter, defaultdict\n",
    "import imageio\n",
    "import seaborn as sns\n",
    "# plt.switch_backend('Agg') #('Qt5Agg')\n",
    "import foundation as fd\n",
    "from foundation import models\n",
    "from foundation import util\n",
    "from foundation import train\n",
    "\n",
    "import pandas as pd\n",
    "import numpy as np\n",
    "import matplotlib.pyplot as plt\n",
    "from matplotlib import style\n",
    "import seaborn as sns\n",
    "from bisect import bisect_left\n",
    "\n",
    "# from IPython.display import HTML, Image\n",
    "\n",
    "#from foundation.util import replicate, Cloner\n",
    "\n",
    "from hybrid import get_model, get_data\n",
    "from analyze import *\n",
    "\n",
    "from tqdm import tqdm_notebook as tqdm\n",
    "\n",
    "# plt.ioff()\n",
    "\n",
    "np.set_printoptions(linewidth=120, suppress=True)"
   ]
  },
  {
   "cell_type": "code",
   "execution_count": 2,
   "metadata": {},
   "outputs": [],
   "source": [
    "media_dir = '/is/ei/fleeb/workspace/media/hybrid/results'"
   ]
  },
  {
   "cell_type": "code",
   "execution_count": 39,
   "metadata": {},
   "outputs": [
    {
     "name": "stdout",
     "output_type": "stream",
     "text": [
      "Found 95 runs\n"
     ]
    }
   ],
   "source": [
    "M = Hybrid_Controller(media_dir).sort_by('date')"
   ]
  },
  {
   "cell_type": "code",
   "execution_count": 40,
   "metadata": {},
   "outputs": [],
   "source": [
    "M.clear_filters()\n",
    "pass"
   ]
  },
  {
   "cell_type": "code",
   "execution_count": 41,
   "metadata": {},
   "outputs": [
    {
     "name": "stdout",
     "output_type": "stream",
     "text": [
      "Selecting checkpoint: last\n",
      "Loaded configs\n"
     ]
    }
   ],
   "source": [
    "M.prep_info(name='model.pth.tar')\n",
    "\n",
    "M.load_into('eval.pth.tar')"
   ]
  },
  {
   "cell_type": "code",
   "execution_count": 51,
   "metadata": {
    "scrolled": true
   },
   "outputs": [],
   "source": [
    "def _get_stats(run):\n",
    "    if 'eval' in run:\n",
    "        run.stats = {\n",
    "            'FID-prior': run.eval['FID-prior'],\n",
    "            \n",
    "            \n",
    "#             'DCI-inf': run.eval['DCI']['informativeness_test'],\n",
    "#             'DCI-cmp': run.eval['DCI']['completeness'],\n",
    "        }\n",
    "        \n",
    "        if 'FID-hyb' in run.eval and run.eval['FID-hyb'] is not None:\n",
    "            run.stats.update({\n",
    "                'FID-hyb': run.eval['FID-hyb'],\n",
    "                'FID-rec': run.eval['FID-rec'],\n",
    "            })\n",
    "        \n",
    "        if 'IRS' in run.eval and run.eval['IRS'] is not None:\n",
    "            run.stats.update({\n",
    "                \n",
    "                'IRS': run.eval['IRS']['IRS'],\n",
    "                'DCI-dis': run.eval['DCI']['disentanglement'],\n",
    "            })\n",
    "M.map(_get_stats, safe=True)\n",
    "\n",
    "# M.filter(lambda r: 'stats' in r and len(r.stats) and 'FID-prior' in r.stats)\n",
    "M.filter(lambda r: 'stats' in r and len(r.stats) and 'IRS' in r.stats)\n",
    "pass\n",
    "\n",
    "M.store_selection('done')\n"
   ]
  },
  {
   "cell_type": "code",
   "execution_count": 52,
   "metadata": {},
   "outputs": [],
   "source": [
    "# '3dshapes-fvae_0009-6027505-03_200129-125156'"
   ]
  },
  {
   "cell_type": "code",
   "execution_count": 66,
   "metadata": {
    "scrolled": true
   },
   "outputs": [],
   "source": [
    "# M.show('all')"
   ]
  },
  {
   "cell_type": "code",
   "execution_count": 54,
   "metadata": {},
   "outputs": [
    {
     "data": {
      "text/plain": [
       "89"
      ]
     },
     "execution_count": 54,
     "metadata": {},
     "output_type": "execute_result"
    }
   ],
   "source": [
    "M.switch_selection('done')\n",
    "len(M)"
   ]
  },
  {
   "cell_type": "code",
   "execution_count": 55,
   "metadata": {},
   "outputs": [],
   "source": [
    "# M.invert()\n",
    "# len(M)\n",
    "# M.show()\n",
    "# ' '.join(['_'.join(run.name.split('_')[:-1]) for run in M])"
   ]
  },
  {
   "cell_type": "code",
   "execution_count": 56,
   "metadata": {},
   "outputs": [],
   "source": [
    "plt.close('all')\n",
    "figaxs = {}"
   ]
  },
  {
   "cell_type": "code",
   "execution_count": 67,
   "metadata": {},
   "outputs": [
    {
     "data": {
      "text/plain": [
       "Counter({'2': 15, '3': 2, '18': 3})"
      ]
     },
     "execution_count": 67,
     "metadata": {},
     "output_type": "execute_result"
    }
   ],
   "source": [
    "M.map(lambda r: r.meta.job[0], reduce=Counter)"
   ]
  },
  {
   "cell_type": "code",
   "execution_count": 68,
   "metadata": {
    "scrolled": true
   },
   "outputs": [],
   "source": [
    "M.switch_selection('done')\n",
    "\n",
    "# M.filter(lambda r: 'arch' in r.meta and r.meta.arch != 'double')\n",
    "\n",
    "# M.filter_sel(slice(-10,None,None))\n",
    "M.filter_min(ckpt=25)\n",
    "\n",
    "M.filter_models('fwae', 'fvae', 'vae', 'wae')\n",
    "# M.filter_models('dae', 'wae', 'vae', 'ae')\n",
    "# M.filter_models('fdwae', 'fdvae', 'dvae', 'dwae', 'dae')\n",
    "# M.filter_models('wgan')\n",
    "# M.filter_jobs(94, 122)\n",
    "# M.show('checkpoint', 'unique', )\n",
    "# M.filter(lambda r: r.stats['DCI-dis'] > 0.75)\n",
    "\n",
    "# M.sort_by(lambda runs: util.sort_by(runs, [run.stats['FID-rec'] for run in runs]))\n",
    "# M.sort_by(lambda runs: util.sort_by(runs, [run.stats['FID-hyb'] for run in runs]))\n",
    "# M.sort_by(lambda runs: util.sort_by(runs, [run.stats['DCI-dis'] for run in runs]))\n",
    "\n",
    "# M.sort_by(lambda runs: util.sort_by(runs, [run.stats['IRS'] for run in runs]))\n",
    "M.sort_by(lambda runs: util.sort_by(runs, [run.stats['DCI-dis'] for run in runs]))\n",
    "pass"
   ]
  },
  {
   "cell_type": "code",
   "execution_count": 69,
   "metadata": {
    "scrolled": false
   },
   "outputs": [
    {
     "name": "stdout",
     "output_type": "stream",
     "text": [
      "  0) 3dshapes-wae_0002-6026518-02_200129-001602_ckpt50\n",
      "\tCheckpoint: 50 (approx 150000 steps)\n",
      "\t FID-prior : 28.49\n",
      "\t   FID-hyb : 28.67\n",
      "\t   FID-rec : 23.99\n",
      "\t       IRS : 0.58\n",
      "\t   DCI-dis : 0.29\n",
      "\toutput.save_freq - 3000 (5000)\n",
      "\ttraining.val_freq - 3000 (5000)\n",
      "\tmodel.latent_reg_wt - 10000 (100)\n",
      "\tGenerator: double-dec\n",
      "\n",
      "  1) 3dshapes-wae_0003-6026539-01_200129-002624_ckpt33\n",
      "\tCheckpoint: 33 (approx 99000 steps)\n",
      "\t FID-prior : 38.61\n",
      "\t   FID-hyb : 38.76\n",
      "\t   FID-rec : 27.24\n",
      "\t       IRS : 0.58\n",
      "\t   DCI-dis : 0.31\n",
      "\toutput.save_freq - 3000 (5000)\n",
      "\ttraining.val_freq - 3000 (5000)\n",
      "\tGenerator: double-dec\n",
      "\n",
      "  2) 3dshapes-wae_0002-6026518-02_200129-001602_ckpt32\n",
      "\tCheckpoint: 32 (approx 96000 steps)\n",
      "\t FID-prior : 30.75\n",
      "\t   FID-hyb : 30.44\n",
      "\t   FID-rec : 26.25\n",
      "\t       IRS : 0.59\n",
      "\t   DCI-dis : 0.31\n",
      "\toutput.save_freq - 3000 (5000)\n",
      "\ttraining.val_freq - 3000 (5000)\n",
      "\tmodel.latent_reg_wt - 10000 (100)\n",
      "\tGenerator: double-dec\n",
      "\n",
      "  3) 3dshapes-wae_0003-6026539-01_200129-002624_ckpt50\n",
      "\tCheckpoint: 50 (approx 150000 steps)\n",
      "\t FID-prior : 35.57\n",
      "\t   FID-hyb : 36.13\n",
      "\t   FID-rec : 24.89\n",
      "\t       IRS : 0.57\n",
      "\t   DCI-dis : 0.39\n",
      "\toutput.save_freq - 3000 (5000)\n",
      "\ttraining.val_freq - 3000 (5000)\n",
      "\tGenerator: double-dec\n",
      "\n",
      "  4) 3dshapes-wae_0002-6026518-01_200129-001522_ckpt32\n",
      "\tCheckpoint: 32 (approx 96000 steps)\n",
      "\t FID-prior : 39.26\n",
      "\t   FID-hyb : 39.53\n",
      "\t   FID-rec : 26.09\n",
      "\t       IRS : 0.63\n",
      "\t   DCI-dis : 0.46\n",
      "\toutput.save_freq - 3000 (5000)\n",
      "\ttraining.val_freq - 3000 (5000)\n",
      "\tGenerator: double-dec\n",
      "\n",
      "  5) 3dshapes-fwae_0018-6035186-00_200129-231846_ckpt30\n",
      "\tCheckpoint: 30 (approx 150000 steps)\n",
      "\t FID-prior : 32.81\n",
      "\t   FID-hyb : 30.13\n",
      "\t   FID-rec : 19.93\n",
      "\t       IRS : 0.64\n",
      "\t   DCI-dis : 0.48\n",
      "\tmodel.norm_type - batch (instance)\n",
      "\tmodel.latent_reg_wt - 1000 (100)\n",
      "\tmodel.reg_prior - 0.1 (0.5)\n",
      "\tGenerator: double-dec\n",
      "\n",
      "  6) 3dshapes-fwae_0018-6035186-02_200129-232237_ckpt30\n",
      "\tCheckpoint: 30 (approx 150000 steps)\n",
      "\t FID-prior : 30.57\n",
      "\t   FID-hyb : 27.39\n",
      "\t   FID-rec : 18.70\n",
      "\t       IRS : 0.68\n",
      "\t   DCI-dis : 0.50\n",
      "\tmodel.norm_type - group (instance)\n",
      "\tmodel.latent_reg_wt - 1000 (100)\n",
      "\tmodel.reg_prior - 0.1 (0.5)\n",
      "\tGenerator: double-dec\n",
      "\n",
      "  7) 3dshapes-vae_0002-6026518-04_200129-001602_ckpt39\n",
      "\tCheckpoint: 39 (approx 117000 steps)\n",
      "\t FID-prior : 44.67\n",
      "\t   FID-hyb : 39.27\n",
      "\t   FID-rec : 32.97\n",
      "\t       IRS : 0.64\n",
      "\t   DCI-dis : 0.52\n",
      "\toutput.save_freq - 3000 (5000)\n",
      "\ttraining.val_freq - 3000 (5000)\n",
      "\tGenerator: double-dec\n",
      "\n",
      "  8) 3dshapes-wae_0002-6026518-01_200129-001522_ckpt50\n",
      "\tCheckpoint: 50 (approx 150000 steps)\n",
      "\t FID-prior : 36.21\n",
      "\t   FID-hyb : 36.63\n",
      "\t   FID-rec : 23.33\n",
      "\t       IRS : 0.65\n",
      "\t   DCI-dis : 0.54\n",
      "\toutput.save_freq - 3000 (5000)\n",
      "\ttraining.val_freq - 3000 (5000)\n",
      "\tGenerator: double-dec\n",
      "\n",
      "  9) 3dshapes-fvae_0002-6026518-08_200129-001754_ckpt33\n",
      "\tCheckpoint: 33 (approx 99000 steps)\n",
      "\t FID-prior : 41.46\n",
      "\t   FID-hyb : 38.59\n",
      "\t   FID-rec : 32.32\n",
      "\t       IRS : 0.65\n",
      "\t   DCI-dis : 0.54\n",
      "\toutput.save_freq - 3000 (5000)\n",
      "\ttraining.val_freq - 3000 (5000)\n",
      "\tmodel.latent_reg_wt - 2 (1)\n",
      "\tGenerator: double-dec\n",
      "\n",
      " 10) 3dshapes-fvae_0002-6026518-09_200129-001837_ckpt35\n",
      "\tCheckpoint: 35 (approx 105000 steps)\n",
      "\t FID-prior : 41.01\n",
      "\t   FID-hyb : 42.26\n",
      "\t   FID-rec : 33.12\n",
      "\t       IRS : 0.66\n",
      "\t   DCI-dis : 0.57\n",
      "\toutput.save_freq - 3000 (5000)\n",
      "\ttraining.val_freq - 3000 (5000)\n",
      "\tmodel.latent_reg_wt - 5 (1)\n",
      "\tmodel.reg_prior - 0.2 (0.5)\n",
      "\tGenerator: double-dec\n",
      "\n",
      " 11) 3dshapes-vae_0002-6026518-04_200129-001602_ckpt50\n",
      "\tCheckpoint: 50 (approx 150000 steps)\n",
      "\t FID-prior : 43.34\n",
      "\t   FID-hyb : 37.12\n",
      "\t   FID-rec : 31.16\n",
      "\t       IRS : 0.71\n",
      "\t   DCI-dis : 0.61\n",
      "\toutput.save_freq - 3000 (5000)\n",
      "\ttraining.val_freq - 3000 (5000)\n",
      "\tGenerator: double-dec\n",
      "\n",
      " 12) 3dshapes-fwae_0002-6026518-06_200129-001738_ckpt32\n",
      "\tCheckpoint: 32 (approx 96000 steps)\n",
      "\t FID-prior : 53.64\n",
      "\t   FID-hyb : 51.66\n",
      "\t   FID-rec : 44.23\n",
      "\t       IRS : 0.68\n",
      "\t   DCI-dis : 0.61\n",
      "\toutput.save_freq - 3000 (5000)\n",
      "\ttraining.val_freq - 3000 (5000)\n",
      "\tmodel.latent_reg_wt - 1000 (100)\n",
      "\tmodel.reg_prior - 0.1 (0.5)\n",
      "\tGenerator: double-dec\n",
      "\n",
      " 13) 3dshapes-fvae_0002-6026518-08_200129-001754_ckpt50\n",
      "\tCheckpoint: 50 (approx 150000 steps)\n",
      "\t FID-prior : 35.54\n",
      "\t   FID-hyb : 34.34\n",
      "\t   FID-rec : 29.35\n",
      "\t       IRS : 0.67\n",
      "\t   DCI-dis : 0.63\n",
      "\toutput.save_freq - 3000 (5000)\n",
      "\ttraining.val_freq - 3000 (5000)\n",
      "\tmodel.latent_reg_wt - 2 (1)\n",
      "\tGenerator: double-dec\n",
      "\n",
      " 14) 3dshapes-vae_0002-6026518-05_200129-001620_ckpt30\n",
      "\tCheckpoint: 30 (approx 90000 steps)\n",
      "\t FID-prior : 44.51\n",
      "\t   FID-hyb : 41.71\n",
      "\t   FID-rec : 35.04\n",
      "\t       IRS : 0.74\n",
      "\t   DCI-dis : 0.68\n",
      "\toutput.save_freq - 3000 (5000)\n",
      "\ttraining.val_freq - 3000 (5000)\n",
      "\tmodel.latent_reg_wt - 4 (1)\n",
      "\tGenerator: double-dec\n",
      "\n",
      " 15) 3dshapes-fvae_0002-6026518-09_200129-001837_ckpt50\n",
      "\tCheckpoint: 50 (approx 150000 steps)\n",
      "\t FID-prior : 34.90\n",
      "\t   FID-hyb : 34.17\n",
      "\t   FID-rec : 30.42\n",
      "\t       IRS : 0.72\n",
      "\t   DCI-dis : 0.69\n",
      "\toutput.save_freq - 3000 (5000)\n",
      "\ttraining.val_freq - 3000 (5000)\n",
      "\tmodel.latent_reg_wt - 5 (1)\n",
      "\tmodel.reg_prior - 0.2 (0.5)\n",
      "\tGenerator: double-dec\n",
      "\n",
      " 16) 3dshapes-fwae_0002-6026518-07_200129-001835_ckpt50\n",
      "\tCheckpoint: 50 (approx 150000 steps)\n",
      "\t FID-prior : 101.43\n",
      "\t   FID-hyb : 32.53\n",
      "\t   FID-rec : 26.81\n",
      "\t       IRS : 0.81\n",
      "\t   DCI-dis : 0.75\n",
      "\toutput.save_freq - 3000 (5000)\n",
      "\ttraining.val_freq - 3000 (5000)\n",
      "\tmodel.latent_reg_wt - 10000 (100)\n",
      "\tmodel.reg_prior - 0.01 (0.5)\n",
      "\tGenerator: double-dec\n",
      "\n",
      " 17) 3dshapes-fwae_0002-6026518-06_200129-001738_ckpt50\n",
      "\tCheckpoint: 50 (approx 150000 steps)\n",
      "\t FID-prior : 33.51\n",
      "\t   FID-hyb : 28.37\n",
      "\t   FID-rec : 23.69\n",
      "\t       IRS : 0.76\n",
      "\t   DCI-dis : 0.77\n",
      "\toutput.save_freq - 3000 (5000)\n",
      "\ttraining.val_freq - 3000 (5000)\n",
      "\tmodel.latent_reg_wt - 1000 (100)\n",
      "\tmodel.reg_prior - 0.1 (0.5)\n",
      "\tGenerator: double-dec\n",
      "\n",
      " 18) 3dshapes-vae_0002-6026518-05_200129-001620_ckpt50\n",
      "\tCheckpoint: 50 (approx 150000 steps)\n",
      "\t FID-prior : 38.07\n",
      "\t   FID-hyb : 33.69\n",
      "\t   FID-rec : 30.37\n",
      "\t       IRS : 0.74\n",
      "\t   DCI-dis : 0.79\n",
      "\toutput.save_freq - 3000 (5000)\n",
      "\ttraining.val_freq - 3000 (5000)\n",
      "\tmodel.latent_reg_wt - 4 (1)\n",
      "\tGenerator: double-dec\n",
      "\n",
      " 19) 3dshapes-fwae_0018-6035186-04_200129-232402_ckpt30\n",
      "\tCheckpoint: 30 (approx 150000 steps)\n",
      "\t FID-prior : 35.97\n",
      "\t   FID-hyb : 33.52\n",
      "\t   FID-rec : 29.54\n",
      "\t       IRS : 0.87\n",
      "\t   DCI-dis : 0.98\n",
      "\tmodel.latent_reg_wt - 1000 (100)\n",
      "\tmodel.up_type - bilinear (nearest)\n",
      "\tmodel.reg_prior - 0.1 (0.5)\n",
      "\tGenerator: double-dec\n",
      "\n"
     ]
    }
   ],
   "source": [
    "# plt.close('all')\n",
    "# figaxs = {}\n",
    "fig_stats = {\n",
    "    'dis':['DCI-dis', 'IRS'], \n",
    "#     'fid2': ['FID-rec', 'FID-hyb'],\n",
    "#     'fid': ['FID-prior', ],\n",
    "    'fid': [ 'FID-rec', 'FID-hyb', 'FID-prior',],\n",
    "#              'fid':['FID-rec', ],\n",
    "            }\n",
    "for i, (name,stats,) in enumerate(fig_stats.items()):\n",
    "    if name not in figaxs:\n",
    "        figaxs[name] = plt.subplots(figsize=(12,5))\n",
    "    figaxs[name][1].cla()\n",
    "    figaxs[name] = M.plot_stats(*stats, figax=figaxs.get(name,None))#, color='C{}'.format(i))\n",
    "    plt.tight_layout()\n",
    "# M.show('checkpoint', 'unique', manuals=[lambda r: 'Generator: {}'.format(r.config.model.generator._type)])\n",
    "M.show('all', manuals=[lambda r: 'Generator: {}'.format(r.config.model.generator._type)])"
   ]
  },
  {
   "cell_type": "code",
   "execution_count": 28,
   "metadata": {},
   "outputs": [],
   "source": [
    "run = M[0]"
   ]
  },
  {
   "cell_type": "code",
   "execution_count": 15,
   "metadata": {},
   "outputs": [],
   "source": [
    "# run.config.model.generator._type"
   ]
  },
  {
   "cell_type": "code",
   "execution_count": 16,
   "metadata": {},
   "outputs": [],
   "source": [
    "# run.stats"
   ]
  },
  {
   "cell_type": "code",
   "execution_count": 17,
   "metadata": {},
   "outputs": [],
   "source": [
    "# run.meta.arch"
   ]
  },
  {
   "cell_type": "code",
   "execution_count": null,
   "metadata": {},
   "outputs": [],
   "source": []
  },
  {
   "cell_type": "code",
   "execution_count": null,
   "metadata": {},
   "outputs": [],
   "source": []
  }
 ],
 "metadata": {
  "kernelspec": {
   "display_name": "Python 3",
   "language": "python",
   "name": "python3"
  },
  "language_info": {
   "codemirror_mode": {
    "name": "ipython",
    "version": 3
   },
   "file_extension": ".py",
   "mimetype": "text/x-python",
   "name": "python",
   "nbconvert_exporter": "python",
   "pygments_lexer": "ipython3",
   "version": "3.7.3"
  }
 },
 "nbformat": 4,
 "nbformat_minor": 2
}
