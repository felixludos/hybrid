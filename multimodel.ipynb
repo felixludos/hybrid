{
 "cells": [
  {
   "cell_type": "code",
   "execution_count": 1,
   "metadata": {},
   "outputs": [
    {
     "name": "stdout",
     "output_type": "stream",
     "text": [
      "Automatic pdb calling has been turned ON\n"
     ]
    }
   ],
   "source": [
    "import sys, os, time\n",
    "import shutil\n",
    "%pdb\n",
    "# %load_ext autoreload\n",
    "# %autoreload 2\n",
    "os.environ['FOUNDATION_RUN_MODE'] = 'jupyter'\n",
    "os.environ['FOUNDATION_SAVE_DIR'] = '/is/ei/fleeb/workspace/chome/trained_nets'\n",
    "os.environ['FOUNDATION_DATA_DIR'] = '/is/ei/fleeb/workspace/local_data'\n",
    "# from IPython.core.interactiveshell import InteractiveShell\n",
    "# InteractiveShell.ast_node_interactivity = \"all\"\n",
    "from IPython import display\n",
    "import torch\n",
    "import torch.nn as nn\n",
    "import torch.nn.functional as F\n",
    "import torch.distributions as distrib\n",
    "import torch.multiprocessing as mp\n",
    "import torchvision.models\n",
    "import torchvision\n",
    "\n",
    "from torch.utils.data import Dataset, DataLoader, TensorDataset\n",
    "import gym\n",
    "import numpy as np\n",
    "# %matplotlib notebook\n",
    "%matplotlib tk\n",
    "import matplotlib.pyplot as plt\n",
    "from collections import Counter, defaultdict\n",
    "import imageio\n",
    "import seaborn as sns\n",
    "# plt.switch_backend('Agg') #('Qt5Agg')\n",
    "import foundation as fd\n",
    "from foundation import models\n",
    "from foundation import util\n",
    "from foundation import train\n",
    "\n",
    "import pandas as pd\n",
    "import numpy as np\n",
    "import matplotlib.pyplot as plt\n",
    "from matplotlib import style\n",
    "import seaborn as sns\n",
    "from bisect import bisect_left\n",
    "\n",
    "# from IPython.display import HTML, Image\n",
    "\n",
    "#from foundation.util import replicate, Cloner\n",
    "\n",
    "from hybrid import get_model, get_data\n",
    "from analyze import *\n",
    "\n",
    "from tqdm import tqdm_notebook as tqdm\n",
    "\n",
    "# plt.ioff()\n",
    "\n",
    "np.set_printoptions(linewidth=120, suppress=True)"
   ]
  },
  {
   "cell_type": "code",
   "execution_count": 2,
   "metadata": {},
   "outputs": [],
   "source": [
    "media_dir = '/is/ei/fleeb/workspace/media/hybrid/results'"
   ]
  },
  {
   "cell_type": "code",
   "execution_count": 3,
   "metadata": {},
   "outputs": [
    {
     "name": "stdout",
     "output_type": "stream",
     "text": [
      "Found 123 runs\n"
     ]
    }
   ],
   "source": [
    "M = Hybrid_Controller(media_dir).sort_by('date')"
   ]
  },
  {
   "cell_type": "code",
   "execution_count": 4,
   "metadata": {},
   "outputs": [],
   "source": [
    "M.clear_filters()\n",
    "pass"
   ]
  },
  {
   "cell_type": "code",
   "execution_count": 5,
   "metadata": {},
   "outputs": [
    {
     "name": "stdout",
     "output_type": "stream",
     "text": [
      "Selecting checkpoint: last\n"
     ]
    },
    {
     "name": "stderr",
     "output_type": "stream",
     "text": [
      "/is/ei/fleeb/workspace/foundation/foundation/train/config.py:42: YAMLLoadWarning: calling yaml.load() without Loader=... is deprecated, as the default Loader is unsafe. Please read https://msg.pyyaml.org/load for full details.\n",
      "  data = yaml.load(f)\n"
     ]
    },
    {
     "name": "stdout",
     "output_type": "stream",
     "text": [
      "Loaded configs\n"
     ]
    }
   ],
   "source": [
    "M.prep_info(name='model.pth.tar')\n",
    "\n",
    "M.load_into('eval.pth.tar')"
   ]
  },
  {
   "cell_type": "code",
   "execution_count": 15,
   "metadata": {
    "scrolled": true
   },
   "outputs": [],
   "source": [
    "def _get_stats(run):\n",
    "    if 'eval' in run:\n",
    "        run.stats = {\n",
    "            'FID-prior': run.eval['FID-prior'],\n",
    "            \n",
    "            \n",
    "#             'DCI-inf': run.eval['DCI']['informativeness_test'],\n",
    "#             'DCI-cmp': run.eval['DCI']['completeness'],\n",
    "        }\n",
    "        \n",
    "        if 'FID-hyb' in run.eval and run.eval['FID-hyb'] is not None:\n",
    "            run.stats.update({\n",
    "                'FID-hyb': run.eval['FID-hyb'],\n",
    "                'FID-rec': run.eval['FID-rec'],\n",
    "            })\n",
    "        \n",
    "        if 'IRS' in run.eval and run.eval['IRS'] is not None:\n",
    "            run.stats.update({\n",
    "                \n",
    "                'IRS': run.eval['IRS']['IRS'],\n",
    "                'DCI-dis': run.eval['DCI']['disentanglement'],\n",
    "            })\n",
    "M.map(_get_stats, safe=True)\n",
    "\n",
    "M.filter(lambda r: 'stats' in r and len(r.stats) and 'FID-hyb' in r.stats)\n",
    "pass\n",
    "\n",
    "M.store_selection('done')\n"
   ]
  },
  {
   "cell_type": "code",
   "execution_count": null,
   "metadata": {},
   "outputs": [],
   "source": []
  },
  {
   "cell_type": "code",
   "execution_count": 16,
   "metadata": {
    "scrolled": true
   },
   "outputs": [
    {
     "name": "stdout",
     "output_type": "stream",
     "text": [
      "  0) 3dshapes-dvae_0122-5969012-01_200110-140610_ckpt100\n",
      "\tCheckpoint: 100\n",
      "\t FID-prior : 59.65\n",
      "\t   FID-hyb : 58.57\n",
      "\t   FID-rec : 42.62\n",
      "\t       IRS : 0.54\n",
      "\t   DCI-dis : 0.22\n",
      "\tmodel.generator.head._type - nn (mlp)\n",
      "\tmodel.discriminator.tail._type - nn (mlp)\n",
      "\tmodel.encoder.tail._type - nn (mlp)\n",
      "\tmodel.prob - 1 (0.5)\n",
      "\n",
      "  1) 3dshapes-dvae_0122-5969012-02_200110-140616_ckpt100\n",
      "\tCheckpoint: 100\n",
      "\t FID-prior : 60.49\n",
      "\t   FID-hyb : 53.13\n",
      "\t   FID-rec : 42.52\n",
      "\t       IRS : 0.57\n",
      "\t   DCI-dis : 0.39\n",
      "\tmodel.generator.head._type - nn (mlp)\n",
      "\tmodel.discriminator.tail._type - nn (mlp)\n",
      "\tmodel.encoder.tail._type - nn (mlp)\n",
      "\n",
      "  2) 3dshapes-dwae_0094-5966044-04_200108-175514_ckpt100\n",
      "\tCheckpoint: 100\n",
      "\t FID-prior : 37.17\n",
      "\t   FID-hyb : 37.06\n",
      "\t   FID-rec : 24.45\n",
      "\t       IRS : 0.57\n",
      "\t   DCI-dis : 0.26\n",
      "\tmodel.generator.head._type - nn (mlp)\n",
      "\tmodel.discriminator.tail._type - nn (mlp)\n",
      "\tmodel.encoder.tail._type - nn (mlp)\n",
      "\tmodel.prob - 1 (0.5)\n",
      "\n",
      "  3) 3dshapes-dwae_0122-5969012-00_200110-140613_ckpt100\n",
      "\tCheckpoint: 100\n",
      "\t FID-prior : 31.65\n",
      "\t   FID-hyb : 31.54\n",
      "\t   FID-rec : 25.86\n",
      "\t       IRS : 0.52\n",
      "\t   DCI-dis : 0.34\n",
      "\tmodel.generator.head._type - nn (mlp)\n",
      "\tmodel.discriminator.tail._type - nn (mlp)\n",
      "\tmodel.encoder.tail._type - nn (mlp)\n",
      "\n",
      "  4) 3dshapes-fdwae_0094-5966044-05_200108-175529_ckpt100\n",
      "\tCheckpoint: 100\n",
      "\t FID-prior : 35.67\n",
      "\t   FID-hyb : 36.40\n",
      "\t   FID-rec : 25.84\n",
      "\t       IRS : 0.54\n",
      "\t   DCI-dis : 0.34\n",
      "\tmodel.generator.head._type - nn (mlp)\n",
      "\tmodel.discriminator.tail._type - nn (mlp)\n",
      "\tmodel.encoder.tail._type - nn (mlp)\n",
      "\tmodel.prob - 1 (0.5)\n",
      "\n",
      "  5) 3dshapes-fdwae_0122-5969012-03_200110-140612_ckpt100\n",
      "\tCheckpoint: 100\n",
      "\t FID-prior : 32.82\n",
      "\t   FID-hyb : 31.80\n",
      "\t   FID-rec : 25.04\n",
      "\t       IRS : 0.56\n",
      "\t   DCI-dis : 0.45\n",
      "\tmodel.generator.head._type - nn (mlp)\n",
      "\tmodel.discriminator.tail._type - nn (mlp)\n",
      "\tmodel.encoder.tail._type - nn (mlp)\n",
      "\n",
      "  6) 3dshapes-fwae_0094-5966044-01_200108-175506_ckpt100\n",
      "\tCheckpoint: 100\n",
      "\t FID-prior : 28.39\n",
      "\t   FID-hyb : 28.01\n",
      "\t   FID-rec : 18.75\n",
      "\t       IRS : 0.56\n",
      "\t   DCI-dis : 0.46\n",
      "\tmodel.generator.head._type - nn (mlp)\n",
      "\tmodel.discriminator.tail._type - nn (mlp)\n",
      "\tmodel.encoder.tail._type - nn (mlp)\n",
      "\n",
      "  7) 3dshapes-vae_0094-5966044-00_200108-175528_ckpt100\n",
      "\tCheckpoint: 100\n",
      "\t FID-prior : 45.15\n",
      "\t   FID-hyb : 34.33\n",
      "\t   FID-rec : 27.67\n",
      "\t       IRS : 0.68\n",
      "\t   DCI-dis : 0.76\n",
      "\tmodel.generator.head._type - nn (mlp)\n",
      "\tmodel.discriminator.tail._type - nn (mlp)\n",
      "\tmodel.encoder.tail._type - nn (mlp)\n",
      "\n",
      "  8) 3dshapes-wpp_0094-5966044-03_200108-175513_ckpt100\n",
      "\tCheckpoint: 100\n",
      "\t FID-prior : 41.20\n",
      "\t   FID-hyb : 40.33\n",
      "\t   FID-rec : 26.90\n",
      "\t       IRS : 0.55\n",
      "\t   DCI-dis : 0.25\n",
      "\tmodel.generator.head._type - nn (mlp)\n",
      "\tmodel.discriminator.tail._type - nn (mlp)\n",
      "\tmodel.encoder.tail._type - nn (mlp)\n",
      "\n"
     ]
    }
   ],
   "source": [
    "M.show('all')"
   ]
  },
  {
   "cell_type": "code",
   "execution_count": 17,
   "metadata": {},
   "outputs": [
    {
     "data": {
      "text/plain": [
       "9"
      ]
     },
     "execution_count": 17,
     "metadata": {},
     "output_type": "execute_result"
    }
   ],
   "source": [
    "M.switch_selection('done')\n",
    "len(M)"
   ]
  },
  {
   "cell_type": "code",
   "execution_count": 18,
   "metadata": {},
   "outputs": [],
   "source": [
    "# M.invert()\n",
    "# len(M)\n",
    "# M.show()\n",
    "# ' '.join(['_'.join(run.name.split('_')[:-1]) for run in M])"
   ]
  },
  {
   "cell_type": "code",
   "execution_count": 19,
   "metadata": {},
   "outputs": [],
   "source": [
    "plt.close('all')\n",
    "figaxs = {}"
   ]
  },
  {
   "cell_type": "code",
   "execution_count": 20,
   "metadata": {},
   "outputs": [
    {
     "data": {
      "text/plain": [
       "Counter({'122': 4, '94': 5})"
      ]
     },
     "execution_count": 20,
     "metadata": {},
     "output_type": "execute_result"
    }
   ],
   "source": [
    "M.map(lambda r: r.meta.job[0], reduce=Counter)"
   ]
  },
  {
   "cell_type": "code",
   "execution_count": 23,
   "metadata": {
    "scrolled": true
   },
   "outputs": [],
   "source": [
    "M.switch_selection('done')\n",
    "\n",
    "# M.filter(lambda r: 'IRS' in r.stats)\n",
    "\n",
    "M.sort_by(lambda runs: util.sort_by(runs, [run.stats['IRS'] for run in runs]))\n",
    "# M.filter_sel(slice(-10,None,None))\n",
    "\n",
    "\n",
    "# M.filter_models('fdwae')\n",
    "M.filter_jobs(94, 122)\n",
    "# M.show('checkpoint', 'unique', )\n",
    "# M.filter(lambda r: r.stats['DCI-dis'] > 0.75)\n",
    "\n",
    "pass"
   ]
  },
  {
   "cell_type": "code",
   "execution_count": 24,
   "metadata": {
    "scrolled": false
   },
   "outputs": [
    {
     "name": "stdout",
     "output_type": "stream",
     "text": [
      "  0) 3dshapes-dwae_0122-5969012-00_200110-140613_ckpt100\n",
      "\tCheckpoint: 100\n",
      "\t FID-prior : 31.65\n",
      "\t   FID-hyb : 31.54\n",
      "\t   FID-rec : 25.86\n",
      "\t       IRS : 0.52\n",
      "\t   DCI-dis : 0.34\n",
      "\tmodel.generator.head._type - nn (mlp)\n",
      "\tmodel.discriminator.tail._type - nn (mlp)\n",
      "\tmodel.encoder.tail._type - nn (mlp)\n",
      "\tGenerator: double-dec\n",
      "\n",
      "  1) 3dshapes-dvae_0122-5969012-01_200110-140610_ckpt100\n",
      "\tCheckpoint: 100\n",
      "\t FID-prior : 59.65\n",
      "\t   FID-hyb : 58.57\n",
      "\t   FID-rec : 42.62\n",
      "\t       IRS : 0.54\n",
      "\t   DCI-dis : 0.22\n",
      "\tmodel.generator.head._type - nn (mlp)\n",
      "\tmodel.discriminator.tail._type - nn (mlp)\n",
      "\tmodel.encoder.tail._type - nn (mlp)\n",
      "\tmodel.prob - 1 (0.5)\n",
      "\tGenerator: double-dec\n",
      "\n",
      "  2) 3dshapes-fdwae_0094-5966044-05_200108-175529_ckpt100\n",
      "\tCheckpoint: 100\n",
      "\t FID-prior : 35.67\n",
      "\t   FID-hyb : 36.40\n",
      "\t   FID-rec : 25.84\n",
      "\t       IRS : 0.54\n",
      "\t   DCI-dis : 0.34\n",
      "\tmodel.generator.head._type - nn (mlp)\n",
      "\tmodel.discriminator.tail._type - nn (mlp)\n",
      "\tmodel.encoder.tail._type - nn (mlp)\n",
      "\tmodel.prob - 1 (0.5)\n",
      "\tGenerator: double-dec\n",
      "\n",
      "  3) 3dshapes-wpp_0094-5966044-03_200108-175513_ckpt100\n",
      "\tCheckpoint: 100\n",
      "\t FID-prior : 41.20\n",
      "\t   FID-hyb : 40.33\n",
      "\t   FID-rec : 26.90\n",
      "\t       IRS : 0.55\n",
      "\t   DCI-dis : 0.25\n",
      "\tmodel.generator.head._type - nn (mlp)\n",
      "\tmodel.discriminator.tail._type - nn (mlp)\n",
      "\tmodel.encoder.tail._type - nn (mlp)\n",
      "\tGenerator: double-dec\n",
      "\n",
      "  4) 3dshapes-fdwae_0122-5969012-03_200110-140612_ckpt100\n",
      "\tCheckpoint: 100\n",
      "\t FID-prior : 32.82\n",
      "\t   FID-hyb : 31.80\n",
      "\t   FID-rec : 25.04\n",
      "\t       IRS : 0.56\n",
      "\t   DCI-dis : 0.45\n",
      "\tmodel.generator.head._type - nn (mlp)\n",
      "\tmodel.discriminator.tail._type - nn (mlp)\n",
      "\tmodel.encoder.tail._type - nn (mlp)\n",
      "\tGenerator: double-dec\n",
      "\n",
      "  5) 3dshapes-fwae_0094-5966044-01_200108-175506_ckpt100\n",
      "\tCheckpoint: 100\n",
      "\t FID-prior : 28.39\n",
      "\t   FID-hyb : 28.01\n",
      "\t   FID-rec : 18.75\n",
      "\t       IRS : 0.56\n",
      "\t   DCI-dis : 0.46\n",
      "\tmodel.generator.head._type - nn (mlp)\n",
      "\tmodel.discriminator.tail._type - nn (mlp)\n",
      "\tmodel.encoder.tail._type - nn (mlp)\n",
      "\tGenerator: double-dec\n",
      "\n",
      "  6) 3dshapes-dwae_0094-5966044-04_200108-175514_ckpt100\n",
      "\tCheckpoint: 100\n",
      "\t FID-prior : 37.17\n",
      "\t   FID-hyb : 37.06\n",
      "\t   FID-rec : 24.45\n",
      "\t       IRS : 0.57\n",
      "\t   DCI-dis : 0.26\n",
      "\tmodel.generator.head._type - nn (mlp)\n",
      "\tmodel.discriminator.tail._type - nn (mlp)\n",
      "\tmodel.encoder.tail._type - nn (mlp)\n",
      "\tmodel.prob - 1 (0.5)\n",
      "\tGenerator: double-dec\n",
      "\n",
      "  7) 3dshapes-dvae_0122-5969012-02_200110-140616_ckpt100\n",
      "\tCheckpoint: 100\n",
      "\t FID-prior : 60.49\n",
      "\t   FID-hyb : 53.13\n",
      "\t   FID-rec : 42.52\n",
      "\t       IRS : 0.57\n",
      "\t   DCI-dis : 0.39\n",
      "\tmodel.generator.head._type - nn (mlp)\n",
      "\tmodel.discriminator.tail._type - nn (mlp)\n",
      "\tmodel.encoder.tail._type - nn (mlp)\n",
      "\tGenerator: double-dec\n",
      "\n",
      "  8) 3dshapes-vae_0094-5966044-00_200108-175528_ckpt100\n",
      "\tCheckpoint: 100\n",
      "\t FID-prior : 45.15\n",
      "\t   FID-hyb : 34.33\n",
      "\t   FID-rec : 27.67\n",
      "\t       IRS : 0.68\n",
      "\t   DCI-dis : 0.76\n",
      "\tmodel.generator.head._type - nn (mlp)\n",
      "\tmodel.discriminator.tail._type - nn (mlp)\n",
      "\tmodel.encoder.tail._type - nn (mlp)\n",
      "\tGenerator: double-dec\n",
      "\n"
     ]
    }
   ],
   "source": [
    "fig_stats = {\n",
    "    'dis':['DCI-dis', 'IRS'], \n",
    "    'fid2': ['FID-rec', 'FID-hyb'],\n",
    "    'fid': ['FID-prior', ],\n",
    "#              'fid':['FID-rec', ],\n",
    "            }\n",
    "for i, (name,stats,) in enumerate(fig_stats.items()):\n",
    "    if name not in figaxs:\n",
    "        figaxs[name] = plt.subplots(figsize=(12,5))\n",
    "    figaxs[name][1].cla()\n",
    "    figaxs[name] = M.plot_stats(*stats, figax=figaxs.get(name,None))#, color='C{}'.format(i))\n",
    "    plt.tight_layout()\n",
    "# M.show('checkpoint', 'unique', manuals=[lambda r: 'Generator: {}'.format(r.config.model.generator._type)])\n",
    "M.show('all', manuals=[lambda r: 'Generator: {}'.format(r.config.model.generator._type)])"
   ]
  },
  {
   "cell_type": "code",
   "execution_count": 32,
   "metadata": {},
   "outputs": [],
   "source": [
    "run = M[0]"
   ]
  },
  {
   "cell_type": "code",
   "execution_count": null,
   "metadata": {},
   "outputs": [],
   "source": [
    "run.config.model.generator._type"
   ]
  },
  {
   "cell_type": "code",
   "execution_count": 33,
   "metadata": {},
   "outputs": [
    {
     "data": {
      "text/plain": [
       "{'FID-prior': 37.1679128982002,\n",
       " 'FID-hyb': 37.057571602768604,\n",
       " 'FID-rec': 24.448076694844502,\n",
       " 'IRS': 0.5678702950047886,\n",
       " 'DCI-dis': 0.26163522403866735}"
      ]
     },
     "execution_count": 33,
     "metadata": {},
     "output_type": "execute_result"
    }
   ],
   "source": [
    "run.stats"
   ]
  },
  {
   "cell_type": "code",
   "execution_count": null,
   "metadata": {},
   "outputs": [],
   "source": []
  }
 ],
 "metadata": {
  "kernelspec": {
   "display_name": "Python 3",
   "language": "python",
   "name": "python3"
  },
  "language_info": {
   "codemirror_mode": {
    "name": "ipython",
    "version": 3
   },
   "file_extension": ".py",
   "mimetype": "text/x-python",
   "name": "python",
   "nbconvert_exporter": "python",
   "pygments_lexer": "ipython3",
   "version": "3.7.3"
  }
 },
 "nbformat": 4,
 "nbformat_minor": 2
}
