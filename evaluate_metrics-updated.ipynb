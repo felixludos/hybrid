{
 "cells": [
  {
   "cell_type": "code",
   "execution_count": 1,
   "metadata": {},
   "outputs": [],
   "source": [
    "import sys, os, time\n",
    "# %load_ext autoreload\n",
    "# %autoreload 2\n",
    "os.environ['FOUNDATION_RUN_MODE'] = 'jupyter'\n",
    "os.environ['FOUNDATION_SAVE_DIR'] = '/is/ei/fleeb/workspace/chome/trained_nets'\n",
    "os.environ['FOUNDATION_DATA_DIR'] = '/is/ei/fleeb/workspace/local_data'\n",
    "# from IPython.core.interactiveshell import InteractiveShell\n",
    "# InteractiveShell.ast_node_interactivity = \"all\"\n",
    "from IPython import display\n",
    "import torch\n",
    "import torch.nn as nn\n",
    "import torch.nn.functional as F\n",
    "import torch.distributions as distrib\n",
    "import torch.multiprocessing as mp\n",
    "import torchvision.models\n",
    "import torchvision\n",
    "from torch.utils.data import Dataset, DataLoader, TensorDataset\n",
    "import gym\n",
    "import numpy as np\n",
    "%matplotlib notebook\n",
    "# %matplotlib tk\n",
    "import matplotlib.pyplot as plt\n",
    "import imageio\n",
    "import seaborn as sns\n",
    "#plt.switch_backend('Qt5Agg') #('Qt5Agg')\n",
    "import foundation as fd\n",
    "from foundation import models\n",
    "from foundation import util\n",
    "from foundation import train\n",
    "#from foundation.util import replicate, Cloner\n",
    "\n",
    "from hybrid import get_model, get_data\n",
    "\n",
    "np.set_printoptions(linewidth=120, suppress=True)"
   ]
  },
  {
   "cell_type": "code",
   "execution_count": 2,
   "metadata": {},
   "outputs": [
    {
     "name": "stdout",
     "output_type": "stream",
     "text": [
      "0 fdwae1e-3_191204-214746\n",
      "1 fdvae1e-4-warm4_191204-214746\n",
      "2 fdvae1e-4-warm10_191204-214751\n",
      "3 fdwae1e-4-probp2_191205-145835\n",
      "4 fdwae1e-4-plat-probp5_191205-145827\n",
      "5 fdwae1e-4-probp5_191204-214751\n",
      "6 fdwae1e-4-priorp2-warm10_191204-214852\n",
      "7 fdwae1e-4-probp5_191205-145821\n",
      "8 fdwae1e-4-probp5-priorp2_191205-145821\n",
      "9 fdwae1e-3-probp5_191205-145824\n",
      "10 fdvae1e-4-priorp2-warm4_191204-214756\n",
      "11 fdvae1e-4-probp8_191205-145829\n",
      "12 fdvae1e-4_191204-214750\n",
      "13 fdwae1e-5-priorp2_191204-214850\n",
      "14 fdwae1e-4-warm4_191204-214754\n",
      "15 fdvae1e-4-probp5_191205-145826\n",
      "16 fdwae1e-5-probp5_191205-145824\n",
      "17 fdwae1e-3-priorp2_191204-214750\n",
      "18 fdwae1e-4-warm10_191204-215122\n",
      "19 fdwae1e-4-probp8_191205-145827\n",
      "20 fdwae1e-5_191204-214744\n",
      "21 fdwae1e-4-priorp2_191204-214754\n",
      "22 fdvae1e-4-priorp2-warm10_191204-214746\n",
      "23 fdwae1e-4-priorp2-warm4_191204-214744\n",
      "24 fdwae1e-4_191204-214841\n",
      "25 fdwae1e-4-probp5-priorp2_191204-214751\n",
      "26 fdvae1e-4-probp2_191205-145831\n",
      "27 fdvae1e-4-priorp2_191204-214749\n"
     ]
    }
   ],
   "source": [
    "media_root = '/is/ei/fleeb/workspace/media/hybrid/new/3dshapes'\n",
    "# util.create_dir(media_root)\n",
    "root = os.environ['FOUNDATION_SAVE_DIR']\n",
    "names = [n for n in os.listdir(root) if 'fd' in n and not 'test' in n]\n",
    "for i, name in enumerate(names):\n",
    "    print(i,name)"
   ]
  },
  {
   "cell_type": "code",
   "execution_count": 3,
   "metadata": {},
   "outputs": [
    {
     "name": "stdout",
     "output_type": "stream",
     "text": [
      "Using: fdwae1e-5-probp5_191205-145824\n"
     ]
    }
   ],
   "source": [
    "idx = 16\n",
    "\n",
    "# idx = None\n",
    "\n",
    "if idx is not None: # load existing model args\n",
    "    name = names[idx]\n",
    "    path = os.path.join(root, name)\n",
    "    A = None\n",
    "    print('Using: {}'.format(name))\n",
    "else: # create new model args\n",
    "    path = None\n",
    "    A = train.get_config('model')\n",
    "    print('Using: blank')"
   ]
  },
  {
   "cell_type": "code",
   "execution_count": 4,
   "metadata": {},
   "outputs": [
    {
     "name": "stderr",
     "output_type": "stream",
     "text": [
      "/is/ei/fleeb/workspace/foundation/foundation/train/config.py:58: YAMLLoadWarning: calling yaml.load() without Loader=... is deprecated, as the default Loader is unsafe. Please read https://msg.pyyaml.org/load for full details.\n",
      "  data = yaml.load(f)\n"
     ]
    },
    {
     "name": "stdout",
     "output_type": "stream",
     "text": [
      "Loaded /is/ei/fleeb/workspace/chome/trained_nets/fdwae1e-5-probp5_191205-145824/best.pth.tar\n",
      "Set dataroot to: /is/ei/fleeb/workspace/local_data\n",
      "Dataset 3dshapes moved to cuda\n",
      "Dataset din=(3, 64, 64), dout=(3, 64, 64)\n",
      "Model-type: factor-dropin\n",
      "prob: 0.5\n",
      "prob_max: None\n",
      "prob_max default: None\n",
      "latent_disc: None\n",
      "latent_disc default: None\n",
      "reg_prior: 0.5\n",
      "ldisc_steps: 1\n",
      "ldisc_steps default: 1\n",
      "ldisc_gp: 10.0\n",
      "ldisc_gp default: 10.0\n",
      "Creating sub-component: encoder (type=conv)\n",
      "din: (3, 64, 64)\n",
      "in_shape is an alias for din\n",
      "in_shape default: (3, 64, 64)\n",
      "channels: [32, 32, 64, 64, 128]\n",
      "latent_dim: 16\n",
      "feature_dim: None\n",
      "feature_dim default: None\n",
      "nonlin: prelu\n",
      "output_nonlin: None\n",
      "output_nonlin default: None\n",
      "downsampling: max\n",
      "norm_type: instance\n",
      "output_norm_type: None\n",
      "output_norm_type default: None\n",
      "fc: [256, 128]\n",
      "hidden_fc is an alias for fc\n",
      "hidden_fc default: [256, 128]\n",
      "kernels: 3\n",
      "strides: 2\n",
      "factors: 1\n",
      "optim_type: adam\n",
      "lr: 0.001\n",
      "weight_decay: 0\n",
      "momentum: 0\n",
      "beta1: 0.9\n",
      "beta2: 0.999\n",
      "Creating sub-component: generator (type=deconv)\n",
      "dout: (3, 64, 64)\n",
      "out_shape is an alias for dout\n",
      "out_shape default: (3, 64, 64)\n",
      "channels: [128, 64, 64, 32, 32]\n",
      "latent_dim: 16\n",
      "nonlin: prelu\n",
      "output_nonlin: sigmoid\n",
      "upsampling: bilinear\n",
      "norm_type: instance\n",
      "output_norm_type: None\n",
      "output_norm_type default: None\n",
      "fc: [128, 128, 128, 256]\n",
      "hidden_fc is an alias for fc\n",
      "hidden_fc default: [128, 128, 128, 256]\n",
      "kernels: 3\n",
      "factors: 2\n",
      "strides: 1\n",
      "optim_type: adam\n",
      "lr: 0.001\n",
      "weight_decay: 0\n",
      "momentum: 0\n",
      "beta1: 0.9\n",
      "beta2: 0.999\n",
      "Creating sub-component: discriminator (type=conv)\n",
      "din: (3, 64, 64)\n",
      "in_shape is an alias for din\n",
      "in_shape default: (3, 64, 64)\n",
      "channels: [32, 32, 64, 64, 128]\n",
      "latent_dim: 1\n",
      "feature_dim: None\n",
      "feature_dim default: None\n",
      "nonlin: prelu\n",
      "output_nonlin: None\n",
      "output_nonlin default: None\n",
      "downsampling: max\n",
      "norm_type: instance\n",
      "output_norm_type: None\n",
      "output_norm_type default: None\n",
      "fc: [256, 128, 64]\n",
      "hidden_fc is an alias for fc\n",
      "hidden_fc default: [256, 128, 64]\n",
      "kernels: 3\n",
      "strides: 2\n",
      "factors: 1\n",
      "optim_type: adam\n",
      "lr: 0.005\n",
      "weight_decay: 0\n",
      "momentum: 0\n",
      "beta1: 0.5\n",
      "beta2: 0.9\n",
      "gan_wt: 1e-05\n",
      "force_disc: False\n",
      "force_disc default: False\n",
      "disc_steps: 1\n",
      "enc_gan: False\n",
      "enc_gan default: False\n",
      "criterion: tdict(name, reduction)\n",
      "latent_reg_wt: 100\n",
      "gan_reg_wt: 10\n",
      "gen_types: ['hybrid']\n",
      "viz_force_gen: True\n",
      "rec_noise: None\n",
      "rec_noise default: None\n",
      "gan_warm_start: None\n",
      "gan_warm_start default: None\n",
      "scheduler_type: step\n",
      "scheduler_decay: 0.2\n",
      "scheduler_min_lr: 1e-06\n",
      "scheduler_step: 40\n",
      "Loaded model_state from checkpoint\n",
      "Dropin_FWAE(\n",
      "  (enc): Trainable_Conv(\n",
      "    (conv): Sequential(\n",
      "      (0): ConvLayer(\n",
      "        (conv): Conv2d(3, 32, kernel_size=(3, 3), stride=(2, 2), padding=(1, 1))\n",
      "        (norm): InstanceNorm2d(32, eps=1e-05, momentum=0.1, affine=False, track_running_stats=False)\n",
      "        (nonlin): PReLU(num_parameters=1)\n",
      "      )\n",
      "      (1): ConvLayer(\n",
      "        (conv): Conv2d(32, 32, kernel_size=(3, 3), stride=(2, 2), padding=(1, 1))\n",
      "        (norm): InstanceNorm2d(32, eps=1e-05, momentum=0.1, affine=False, track_running_stats=False)\n",
      "        (nonlin): PReLU(num_parameters=1)\n",
      "      )\n",
      "      (2): ConvLayer(\n",
      "        (conv): Conv2d(32, 64, kernel_size=(3, 3), stride=(2, 2), padding=(1, 1))\n",
      "        (norm): InstanceNorm2d(64, eps=1e-05, momentum=0.1, affine=False, track_running_stats=False)\n",
      "        (nonlin): PReLU(num_parameters=1)\n",
      "      )\n",
      "      (3): ConvLayer(\n",
      "        (conv): Conv2d(64, 64, kernel_size=(3, 3), stride=(2, 2), padding=(1, 1))\n",
      "        (norm): InstanceNorm2d(64, eps=1e-05, momentum=0.1, affine=False, track_running_stats=False)\n",
      "        (nonlin): PReLU(num_parameters=1)\n",
      "      )\n",
      "      (4): ConvLayer(\n",
      "        (conv): Conv2d(64, 128, kernel_size=(3, 3), stride=(2, 2), padding=(1, 1))\n",
      "        (norm): InstanceNorm2d(128, eps=1e-05, momentum=0.1, affine=False, track_running_stats=False)\n",
      "        (nonlin): PReLU(num_parameters=1)\n",
      "      )\n",
      "    )\n",
      "    (fc): Sequential(\n",
      "      (0): Linear(in_features=512, out_features=256, bias=True)\n",
      "      (1): PReLU(num_parameters=1)\n",
      "      (2): Linear(in_features=256, out_features=128, bias=True)\n",
      "      (3): PReLU(num_parameters=1)\n",
      "      (4): Linear(in_features=128, out_features=16, bias=True)\n",
      "    )\n",
      "  )\n",
      "  (gen): Trainable_Deconv(\n",
      "    (fc): Sequential(\n",
      "      (0): Linear(in_features=16, out_features=128, bias=True)\n",
      "      (1): PReLU(num_parameters=1)\n",
      "      (2): Linear(in_features=128, out_features=128, bias=True)\n",
      "      (3): PReLU(num_parameters=1)\n",
      "      (4): Linear(in_features=128, out_features=128, bias=True)\n",
      "      (5): PReLU(num_parameters=1)\n",
      "      (6): Linear(in_features=128, out_features=256, bias=True)\n",
      "      (7): PReLU(num_parameters=1)\n",
      "      (8): Linear(in_features=256, out_features=512, bias=True)\n",
      "      (9): PReLU(num_parameters=1)\n",
      "    )\n",
      "    (deconv): Sequential(\n",
      "      (0): DeconvLayer(\n",
      "        (deconv): Sequential(\n",
      "          (0): Upsample(size=(4, 4), mode=bilinear)\n",
      "          (1): Conv2d(128, 64, kernel_size=(3, 3), stride=(1, 1), padding=(1, 1))\n",
      "        )\n",
      "        (norm): InstanceNorm2d(64, eps=1e-05, momentum=0.1, affine=False, track_running_stats=False)\n",
      "        (nonlin): PReLU(num_parameters=1)\n",
      "      )\n",
      "      (1): DeconvLayer(\n",
      "        (deconv): Sequential(\n",
      "          (0): Upsample(size=(8, 8), mode=bilinear)\n",
      "          (1): Conv2d(64, 64, kernel_size=(3, 3), stride=(1, 1), padding=(1, 1))\n",
      "        )\n",
      "        (norm): InstanceNorm2d(64, eps=1e-05, momentum=0.1, affine=False, track_running_stats=False)\n",
      "        (nonlin): PReLU(num_parameters=1)\n",
      "      )\n",
      "      (2): DeconvLayer(\n",
      "        (deconv): Sequential(\n",
      "          (0): Upsample(size=(16, 16), mode=bilinear)\n",
      "          (1): Conv2d(64, 32, kernel_size=(3, 3), stride=(1, 1), padding=(1, 1))\n",
      "        )\n",
      "        (norm): InstanceNorm2d(32, eps=1e-05, momentum=0.1, affine=False, track_running_stats=False)\n",
      "        (nonlin): PReLU(num_parameters=1)\n",
      "      )\n",
      "      (3): DeconvLayer(\n",
      "        (deconv): Sequential(\n",
      "          (0): Upsample(size=(32, 32), mode=bilinear)\n",
      "          (1): Conv2d(32, 32, kernel_size=(3, 3), stride=(1, 1), padding=(1, 1))\n",
      "        )\n",
      "        (norm): InstanceNorm2d(32, eps=1e-05, momentum=0.1, affine=False, track_running_stats=False)\n",
      "        (nonlin): PReLU(num_parameters=1)\n",
      "      )\n",
      "      (4): DeconvLayer(\n",
      "        (deconv): Sequential(\n",
      "          (0): Upsample(size=(64, 64), mode=bilinear)\n",
      "          (1): Conv2d(32, 3, kernel_size=(3, 3), stride=(1, 1), padding=(1, 1))\n",
      "        )\n",
      "        (nonlin): Sigmoid()\n",
      "      )\n",
      "    )\n",
      "  )\n",
      "  (disc): Trainable_Conv(\n",
      "    (conv): Sequential(\n",
      "      (0): ConvLayer(\n",
      "        (conv): Conv2d(3, 32, kernel_size=(3, 3), stride=(2, 2), padding=(1, 1))\n",
      "        (norm): InstanceNorm2d(32, eps=1e-05, momentum=0.1, affine=False, track_running_stats=False)\n",
      "        (nonlin): PReLU(num_parameters=1)\n",
      "      )\n",
      "      (1): ConvLayer(\n",
      "        (conv): Conv2d(32, 32, kernel_size=(3, 3), stride=(2, 2), padding=(1, 1))\n",
      "        (norm): InstanceNorm2d(32, eps=1e-05, momentum=0.1, affine=False, track_running_stats=False)\n",
      "        (nonlin): PReLU(num_parameters=1)\n",
      "      )\n",
      "      (2): ConvLayer(\n",
      "        (conv): Conv2d(32, 64, kernel_size=(3, 3), stride=(2, 2), padding=(1, 1))\n",
      "        (norm): InstanceNorm2d(64, eps=1e-05, momentum=0.1, affine=False, track_running_stats=False)\n",
      "        (nonlin): PReLU(num_parameters=1)\n",
      "      )\n",
      "      (3): ConvLayer(\n",
      "        (conv): Conv2d(64, 64, kernel_size=(3, 3), stride=(2, 2), padding=(1, 1))\n",
      "        (norm): InstanceNorm2d(64, eps=1e-05, momentum=0.1, affine=False, track_running_stats=False)\n",
      "        (nonlin): PReLU(num_parameters=1)\n",
      "      )\n",
      "      (4): ConvLayer(\n",
      "        (conv): Conv2d(64, 128, kernel_size=(3, 3), stride=(2, 2), padding=(1, 1))\n",
      "        (norm): InstanceNorm2d(128, eps=1e-05, momentum=0.1, affine=False, track_running_stats=False)\n",
      "        (nonlin): PReLU(num_parameters=1)\n",
      "      )\n",
      "    )\n",
      "    (fc): Sequential(\n",
      "      (0): Linear(in_features=512, out_features=256, bias=True)\n",
      "      (1): PReLU(num_parameters=1)\n",
      "      (2): Linear(in_features=256, out_features=128, bias=True)\n",
      "      (3): PReLU(num_parameters=1)\n",
      "      (4): Linear(in_features=128, out_features=64, bias=True)\n",
      "      (5): PReLU(num_parameters=1)\n",
      "      (6): Linear(in_features=64, out_features=1, bias=True)\n",
      "    )\n",
      "  )\n",
      "  (criterion): BCELoss()\n",
      ")\n",
      "Complex-Optimizer(\n",
      "  enc: Adam (\n",
      "    Parameter Group 0\n",
      "        amsgrad: False\n",
      "        betas: (0.9, 0.999)\n",
      "        eps: 1e-08\n",
      "        initial_lr: 0.001\n",
      "        lr: 0.001\n",
      "        weight_decay: 0\n",
      "    )\n",
      "  gen: Adam (\n",
      "    Parameter Group 0\n",
      "        amsgrad: False\n",
      "        betas: (0.9, 0.999)\n",
      "        eps: 1e-08\n",
      "        initial_lr: 0.001\n",
      "        lr: 0.001\n",
      "        weight_decay: 0\n",
      "    )\n",
      "  disc: Adam (\n",
      "    Parameter Group 0\n",
      "        amsgrad: False\n",
      "        betas: (0.5, 0.9)\n",
      "        eps: 1e-08\n",
      "        initial_lr: 0.005\n",
      "        lr: 0.005\n",
      "        weight_decay: 0\n",
      "    )\n",
      ")\n",
      "StepLR(step=40, gamma=0.2)\n"
     ]
    }
   ],
   "source": [
    "A, (dataset, *other), model, ckpt = train.load(path=path, A=A, get_model=get_model, get_data=get_data, return_ckpt=True)\n",
    "print(model)\n",
    "print(model.optim)\n",
    "print(model.scheduler)"
   ]
  },
  {
   "cell_type": "code",
   "execution_count": 5,
   "metadata": {
    "scrolled": true
   },
   "outputs": [
    {
     "data": {
      "text/plain": [
       "'Trained on 2.16 M samples'"
      ]
     },
     "execution_count": 5,
     "metadata": {},
     "output_type": "execute_result"
    }
   ],
   "source": [
    "records = ckpt['records']\n",
    "'Trained on {:2.2f} M samples'.format(records['total_samples']['train']/1e6)"
   ]
  },
  {
   "cell_type": "code",
   "execution_count": 7,
   "metadata": {},
   "outputs": [],
   "source": [
    "inp = None\n",
    "def _representation_function(x):\n",
    "    global inp\n",
    "    inp = x\n",
    "    assert False\n",
    "#     x = np.transpose(x, (0,3,2,1))\n",
    "#     \"\"\"Computes representation vector for input images.\"\"\"\n",
    "#     output = model.encode(torch.Tensor(x))\n",
    "#     output = output.narrow(-1, 0, 16)\n",
    "#     return output.detach().numpy()\n"
   ]
  },
  {
   "cell_type": "code",
   "execution_count": 8,
   "metadata": {},
   "outputs": [
    {
     "name": "stderr",
     "output_type": "stream",
     "text": [
      "WARNING: Logging before flag parsing goes to stderr.\n",
      "E1205 15:44:40.374961 140716939147072 ultratb.py:155] Internal Python error in the inspect module.\n",
      "Below is the traceback from this internal error.\n",
      "\n"
     ]
    },
    {
     "name": "stdout",
     "output_type": "stream",
     "text": [
      "Traceback (most recent call last):\n",
      "  File \"/is/ei/fleeb/anaconda3/lib/python3.7/site-packages/IPython/core/interactiveshell.py\", line 3325, in run_code\n",
      "    exec(code_obj, self.user_global_ns, self.user_ns)\n",
      "  File \"<ipython-input-8-9bcbb0273751>\", line 5, in <module>\n",
      "    dataset = dsprites.DSprites()\n",
      "  File \"/is/ei/fleeb/workspace/gh-projects/hybrid/ground_truth/dsprites.py\", line 51, in __init__\n",
      "    data = np.load(data_file, encoding=\"latin1\", allow_pickle=True)\n",
      "  File \"/is/ei/fleeb/anaconda3/lib/python3.7/site-packages/numpy/lib/npyio.py\", line 422, in load\n",
      "    fid = open(os_fspath(file), \"rb\")\n",
      "FileNotFoundError: [Errno 2] No such file or directory: 'data/dsprites_ndarray_co1sh3sc6or40x32y32_64x64.npz'\n",
      "\n",
      "During handling of the above exception, another exception occurred:\n",
      "\n",
      "Traceback (most recent call last):\n",
      "  File \"/is/ei/fleeb/anaconda3/lib/python3.7/site-packages/IPython/core/interactiveshell.py\", line 2039, in showtraceback\n",
      "    stb = value._render_traceback_()\n",
      "AttributeError: 'FileNotFoundError' object has no attribute '_render_traceback_'\n",
      "\n",
      "During handling of the above exception, another exception occurred:\n",
      "\n",
      "Traceback (most recent call last):\n",
      "  File \"/is/ei/fleeb/anaconda3/lib/python3.7/site-packages/IPython/core/ultratb.py\", line 1101, in get_records\n",
      "    return _fixed_getinnerframes(etb, number_of_lines_of_context, tb_offset)\n",
      "  File \"/is/ei/fleeb/anaconda3/lib/python3.7/site-packages/IPython/core/ultratb.py\", line 319, in wrapped\n",
      "    return f(*args, **kwargs)\n",
      "  File \"/is/ei/fleeb/anaconda3/lib/python3.7/site-packages/IPython/core/ultratb.py\", line 353, in _fixed_getinnerframes\n",
      "    records = fix_frame_records_filenames(inspect.getinnerframes(etb, context))\n",
      "  File \"/is/ei/fleeb/anaconda3/lib/python3.7/inspect.py\", line 1502, in getinnerframes\n",
      "    frameinfo = (tb.tb_frame,) + getframeinfo(tb, context)\n",
      "  File \"/is/ei/fleeb/anaconda3/lib/python3.7/inspect.py\", line 1460, in getframeinfo\n",
      "    filename = getsourcefile(frame) or getfile(frame)\n",
      "  File \"/is/ei/fleeb/anaconda3/lib/python3.7/inspect.py\", line 696, in getsourcefile\n",
      "    if getattr(getmodule(object, filename), '__loader__', None) is not None:\n",
      "  File \"/is/ei/fleeb/anaconda3/lib/python3.7/inspect.py\", line 733, in getmodule\n",
      "    if ismodule(module) and hasattr(module, '__file__'):\n",
      "  File \"/is/ei/fleeb/anaconda3/lib/python3.7/site-packages/tensorflow/__init__.py\", line 50, in __getattr__\n",
      "    module = self._load()\n",
      "  File \"/is/ei/fleeb/anaconda3/lib/python3.7/site-packages/tensorflow/__init__.py\", line 44, in _load\n",
      "    module = _importlib.import_module(self.__name__)\n",
      "  File \"/is/ei/fleeb/anaconda3/lib/python3.7/importlib/__init__.py\", line 127, in import_module\n",
      "    return _bootstrap._gcd_import(name[level:], package, level)\n",
      "  File \"<frozen importlib._bootstrap>\", line 1006, in _gcd_import\n",
      "  File \"<frozen importlib._bootstrap>\", line 983, in _find_and_load\n",
      "  File \"<frozen importlib._bootstrap>\", line 967, in _find_and_load_unlocked\n",
      "  File \"<frozen importlib._bootstrap>\", line 677, in _load_unlocked\n",
      "  File \"<frozen importlib._bootstrap_external>\", line 728, in exec_module\n",
      "  File \"<frozen importlib._bootstrap>\", line 219, in _call_with_frames_removed\n",
      "  File \"/is/ei/fleeb/anaconda3/lib/python3.7/site-packages/tensorflow_core/contrib/__init__.py\", line 48, in <module>\n",
      "    from tensorflow.contrib import estimator\n",
      "  File \"/is/ei/fleeb/anaconda3/lib/python3.7/site-packages/tensorflow_core/contrib/estimator/__init__.py\", line 30, in <module>\n",
      "    from tensorflow_estimator.contrib import estimator\n",
      "ModuleNotFoundError: No module named 'tensorflow_estimator.contrib'\n"
     ]
    },
    {
     "ename": "FileNotFoundError",
     "evalue": "[Errno 2] No such file or directory: 'data/dsprites_ndarray_co1sh3sc6or40x32y32_64x64.npz'",
     "output_type": "error",
     "traceback": [
      "\u001b[0;31m---------------------------------------------------------------------\u001b[0m"
     ]
    }
   ],
   "source": [
    "from metrics import mig\n",
    "from metrics import metric_factor_vae\n",
    "from metrics import metric_beta_vae\n",
    "from ground_truth import dsprites\n",
    "dataset = dsprites.DSprites()"
   ]
  },
  {
   "cell_type": "code",
   "execution_count": 162,
   "metadata": {},
   "outputs": [
    {
     "name": "stderr",
     "output_type": "stream",
     "text": [
      "/Users/rookiejackal/miniconda3/lib/python3.7/site-packages/sklearn/linear_model/logistic.py:433: FutureWarning: Default solver will be changed to 'lbfgs' in 0.22. Specify a solver to silence this warning.\n",
      "  FutureWarning)\n",
      "/Users/rookiejackal/miniconda3/lib/python3.7/site-packages/sklearn/linear_model/logistic.py:460: FutureWarning: Default multi_class will be changed to 'auto' in 0.22. Specify the multi_class option to silence this warning.\n",
      "  \"this warning.\", FutureWarning)\n"
     ]
    },
    {
     "data": {
      "text/plain": [
       "{'train_accuracy': 0.52, 'eval_accuracy': 0.33}"
      ]
     },
     "execution_count": 162,
     "metadata": {},
     "output_type": "execute_result"
    }
   ],
   "source": [
    "metric_beta_vae.compute_beta_vae_sklearn(dataset, _representation_function, np.random, 10, 100, 100)"
   ]
  },
  {
   "cell_type": "code",
   "execution_count": 163,
   "metadata": {},
   "outputs": [
    {
     "data": {
      "text/plain": [
       "{'train_accuracy': 0.45,\n",
       " 'eval_accuracy': 0.21666666666666667,\n",
       " 'num_active_dims': 16}"
      ]
     },
     "execution_count": 163,
     "metadata": {},
     "output_type": "execute_result"
    }
   ],
   "source": [
    "metric_factor_vae.compute_factor_vae(dataset, _representation_function, np.random, 16, 60, 60, 60)"
   ]
  },
  {
   "cell_type": "code",
   "execution_count": 164,
   "metadata": {},
   "outputs": [
    {
     "data": {
      "text/plain": [
       "{'discrete_mig': 0.031784915664931856}"
      ]
     },
     "execution_count": 164,
     "metadata": {},
     "output_type": "execute_result"
    }
   ],
   "source": [
    "mig.compute_mig(dataset, _representation_function, np.random, 60)"
   ]
  },
  {
   "cell_type": "code",
   "execution_count": 165,
   "metadata": {
    "scrolled": true
   },
   "outputs": [
    {
     "data": {
      "text/plain": [
       "{'informativeness_train': 1.0,\n",
       " 'informativeness_test': 0.192,\n",
       " 'disentanglement': 0.04413885490516671,\n",
       " 'completeness': 0.034079757368802296}"
      ]
     },
     "execution_count": 165,
     "metadata": {},
     "output_type": "execute_result"
    }
   ],
   "source": [
    "from metrics import dci\n",
    "dci.compute_dci(dataset, _representation_function, np.random, 100, 100)"
   ]
  },
  {
   "cell_type": "code",
   "execution_count": 166,
   "metadata": {},
   "outputs": [
    {
     "data": {
      "text/plain": [
       "{'IRS': 0.752912036879518, 'num_active_dims': 15.372334}"
      ]
     },
     "execution_count": 166,
     "metadata": {},
     "output_type": "execute_result"
    }
   ],
   "source": [
    "from metrics import irs\n",
    "np.random.seed(10)\n",
    "irs.compute_irs(dataset, _representation_function, np.random)"
   ]
  },
  {
   "cell_type": "code",
   "execution_count": 167,
   "metadata": {},
   "outputs": [
    {
     "data": {
      "text/plain": [
       "{'SAP_score': 0.02185649869121685}"
      ]
     },
     "execution_count": 167,
     "metadata": {},
     "output_type": "execute_result"
    }
   ],
   "source": [
    "from metrics import sap\n",
    "np.random.seed(10)\n",
    "sap.compute_sap(dataset, _representation_function, np.random, 100, 100, True)"
   ]
  },
  {
   "cell_type": "code",
   "execution_count": 168,
   "metadata": {
    "scrolled": true
   },
   "outputs": [
    {
     "name": "stdout",
     "output_type": "stream",
     "text": [
      "(5, 100)\n"
     ]
    },
    {
     "name": "stderr",
     "output_type": "stream",
     "text": [
      "/Users/rookiejackal/miniconda3/lib/python3.7/site-packages/sklearn/linear_model/logistic.py:433: FutureWarning: Default solver will be changed to 'lbfgs' in 0.22. Specify a solver to silence this warning.\n",
      "  FutureWarning)\n",
      "/Users/rookiejackal/miniconda3/lib/python3.7/site-packages/sklearn/linear_model/logistic.py:460: FutureWarning: Default multi_class will be changed to 'auto' in 0.22. Specify the multi_class option to silence this warning.\n",
      "  \"this warning.\", FutureWarning)\n",
      "/Users/rookiejackal/miniconda3/lib/python3.7/site-packages/sklearn/linear_model/logistic.py:433: FutureWarning: Default solver will be changed to 'lbfgs' in 0.22. Specify a solver to silence this warning.\n",
      "  FutureWarning)\n",
      "/Users/rookiejackal/miniconda3/lib/python3.7/site-packages/sklearn/linear_model/logistic.py:460: FutureWarning: Default multi_class will be changed to 'auto' in 0.22. Specify the multi_class option to silence this warning.\n",
      "  \"this warning.\", FutureWarning)\n",
      "/Users/rookiejackal/miniconda3/lib/python3.7/site-packages/sklearn/linear_model/logistic.py:433: FutureWarning: Default solver will be changed to 'lbfgs' in 0.22. Specify a solver to silence this warning.\n",
      "  FutureWarning)\n",
      "/Users/rookiejackal/miniconda3/lib/python3.7/site-packages/sklearn/linear_model/logistic.py:460: FutureWarning: Default multi_class will be changed to 'auto' in 0.22. Specify the multi_class option to silence this warning.\n",
      "  \"this warning.\", FutureWarning)\n"
     ]
    },
    {
     "ename": "IndexError",
     "evalue": "index 37 is out of bounds for size 37",
     "output_type": "error",
     "traceback": [
      "\u001b[0;31m---------------------------------------------------------------------------\u001b[0m",
      "\u001b[0;31mIndexError\u001b[0m                                Traceback (most recent call last)",
      "\u001b[0;32m<ipython-input-168-94569646b377>\u001b[0m in \u001b[0;36m<module>\u001b[0;34m\u001b[0m\n\u001b[1;32m      1\u001b[0m \u001b[0;32mfrom\u001b[0m \u001b[0mmetrics\u001b[0m \u001b[0;32mimport\u001b[0m \u001b[0mmodularity_explicitness\u001b[0m\u001b[0;34m\u001b[0m\u001b[0;34m\u001b[0m\u001b[0m\n\u001b[1;32m      2\u001b[0m \u001b[0mnp\u001b[0m\u001b[0;34m.\u001b[0m\u001b[0mrandom\u001b[0m\u001b[0;34m.\u001b[0m\u001b[0mseed\u001b[0m\u001b[0;34m(\u001b[0m\u001b[0;36m10\u001b[0m\u001b[0;34m)\u001b[0m\u001b[0;34m\u001b[0m\u001b[0;34m\u001b[0m\u001b[0m\n\u001b[0;32m----> 3\u001b[0;31m \u001b[0mmodularity_explicitness\u001b[0m\u001b[0;34m.\u001b[0m\u001b[0mcompute_modularity_explicitness\u001b[0m\u001b[0;34m(\u001b[0m\u001b[0mdataset\u001b[0m\u001b[0;34m,\u001b[0m \u001b[0m_representation_function\u001b[0m\u001b[0;34m,\u001b[0m \u001b[0mnp\u001b[0m\u001b[0;34m.\u001b[0m\u001b[0mrandom\u001b[0m\u001b[0;34m,\u001b[0m \u001b[0;36m100\u001b[0m\u001b[0;34m,\u001b[0m \u001b[0;36m100\u001b[0m\u001b[0;34m)\u001b[0m\u001b[0;34m\u001b[0m\u001b[0;34m\u001b[0m\u001b[0m\n\u001b[0m",
      "\u001b[0;32m~/Documents/sem_project_2/foundation/hybrid/metrics/modularity_explicitness.py\u001b[0m in \u001b[0;36mcompute_modularity_explicitness\u001b[0;34m(ground_truth_data, representation_function, random_state, num_train, num_test, batch_size)\u001b[0m\n\u001b[1;32m     70\u001b[0m     \u001b[0mexplicitness_score_train\u001b[0m\u001b[0;34m[\u001b[0m\u001b[0mi\u001b[0m\u001b[0;34m]\u001b[0m\u001b[0;34m,\u001b[0m \u001b[0mexplicitness_score_test\u001b[0m\u001b[0;34m[\u001b[0m\u001b[0mi\u001b[0m\u001b[0;34m]\u001b[0m \u001b[0;34m=\u001b[0m\u001b[0;31m \u001b[0m\u001b[0;31m\\\u001b[0m\u001b[0;34m\u001b[0m\u001b[0;34m\u001b[0m\u001b[0m\n\u001b[1;32m     71\u001b[0m         explicitness_per_factor(mus_train_norm, ys_train[i, :],\n\u001b[0;32m---> 72\u001b[0;31m                                 mus_test_norm, ys_test[i, :])\n\u001b[0m\u001b[1;32m     73\u001b[0m   \u001b[0mscores\u001b[0m\u001b[0;34m[\u001b[0m\u001b[0;34m\"explicitness_score_train\"\u001b[0m\u001b[0;34m]\u001b[0m \u001b[0;34m=\u001b[0m \u001b[0mnp\u001b[0m\u001b[0;34m.\u001b[0m\u001b[0mmean\u001b[0m\u001b[0;34m(\u001b[0m\u001b[0mexplicitness_score_train\u001b[0m\u001b[0;34m)\u001b[0m\u001b[0;34m\u001b[0m\u001b[0;34m\u001b[0m\u001b[0m\n\u001b[1;32m     74\u001b[0m   \u001b[0mscores\u001b[0m\u001b[0;34m[\u001b[0m\u001b[0;34m\"explicitness_score_test\"\u001b[0m\u001b[0;34m]\u001b[0m \u001b[0;34m=\u001b[0m \u001b[0mnp\u001b[0m\u001b[0;34m.\u001b[0m\u001b[0mmean\u001b[0m\u001b[0;34m(\u001b[0m\u001b[0mexplicitness_score_test\u001b[0m\u001b[0;34m)\u001b[0m\u001b[0;34m\u001b[0m\u001b[0;34m\u001b[0m\u001b[0m\n",
      "\u001b[0;32m~/Documents/sem_project_2/foundation/hybrid/metrics/modularity_explicitness.py\u001b[0m in \u001b[0;36mexplicitness_per_factor\u001b[0;34m(mus_train, y_train, mus_test, y_test)\u001b[0m\n\u001b[1;32m     98\u001b[0m                             y_pred_train)\n\u001b[1;32m     99\u001b[0m   roc_test = roc_auc_score(mlb.fit_transform(np.expand_dims(y_test, 1)),\n\u001b[0;32m--> 100\u001b[0;31m                            y_pred_test)\n\u001b[0m\u001b[1;32m    101\u001b[0m   \u001b[0;32mreturn\u001b[0m \u001b[0mroc_train\u001b[0m\u001b[0;34m,\u001b[0m \u001b[0mroc_test\u001b[0m\u001b[0;34m\u001b[0m\u001b[0;34m\u001b[0m\u001b[0m\n\u001b[1;32m    102\u001b[0m \u001b[0;34m\u001b[0m\u001b[0m\n",
      "\u001b[0;32m~/miniconda3/lib/python3.7/site-packages/sklearn/metrics/ranking.py\u001b[0m in \u001b[0;36mroc_auc_score\u001b[0;34m(y_true, y_score, average, sample_weight, max_fpr)\u001b[0m\n\u001b[1;32m    354\u001b[0m     return _average_binary_score(\n\u001b[1;32m    355\u001b[0m         \u001b[0m_binary_roc_auc_score\u001b[0m\u001b[0;34m,\u001b[0m \u001b[0my_true\u001b[0m\u001b[0;34m,\u001b[0m \u001b[0my_score\u001b[0m\u001b[0;34m,\u001b[0m \u001b[0maverage\u001b[0m\u001b[0;34m,\u001b[0m\u001b[0;34m\u001b[0m\u001b[0;34m\u001b[0m\u001b[0m\n\u001b[0;32m--> 356\u001b[0;31m         sample_weight=sample_weight)\n\u001b[0m\u001b[1;32m    357\u001b[0m \u001b[0;34m\u001b[0m\u001b[0m\n\u001b[1;32m    358\u001b[0m \u001b[0;34m\u001b[0m\u001b[0m\n",
      "\u001b[0;32m~/miniconda3/lib/python3.7/site-packages/sklearn/metrics/base.py\u001b[0m in \u001b[0;36m_average_binary_score\u001b[0;34m(binary_metric, y_true, y_score, average, sample_weight)\u001b[0m\n\u001b[1;32m    115\u001b[0m     \u001b[0mscore\u001b[0m \u001b[0;34m=\u001b[0m \u001b[0mnp\u001b[0m\u001b[0;34m.\u001b[0m\u001b[0mzeros\u001b[0m\u001b[0;34m(\u001b[0m\u001b[0;34m(\u001b[0m\u001b[0mn_classes\u001b[0m\u001b[0;34m,\u001b[0m\u001b[0;34m)\u001b[0m\u001b[0;34m)\u001b[0m\u001b[0;34m\u001b[0m\u001b[0;34m\u001b[0m\u001b[0m\n\u001b[1;32m    116\u001b[0m     \u001b[0;32mfor\u001b[0m \u001b[0mc\u001b[0m \u001b[0;32min\u001b[0m \u001b[0mrange\u001b[0m\u001b[0;34m(\u001b[0m\u001b[0mn_classes\u001b[0m\u001b[0;34m)\u001b[0m\u001b[0;34m:\u001b[0m\u001b[0;34m\u001b[0m\u001b[0;34m\u001b[0m\u001b[0m\n\u001b[0;32m--> 117\u001b[0;31m         \u001b[0my_true_c\u001b[0m \u001b[0;34m=\u001b[0m \u001b[0my_true\u001b[0m\u001b[0;34m.\u001b[0m\u001b[0mtake\u001b[0m\u001b[0;34m(\u001b[0m\u001b[0;34m[\u001b[0m\u001b[0mc\u001b[0m\u001b[0;34m]\u001b[0m\u001b[0;34m,\u001b[0m \u001b[0maxis\u001b[0m\u001b[0;34m=\u001b[0m\u001b[0mnot_average_axis\u001b[0m\u001b[0;34m)\u001b[0m\u001b[0;34m.\u001b[0m\u001b[0mravel\u001b[0m\u001b[0;34m(\u001b[0m\u001b[0;34m)\u001b[0m\u001b[0;34m\u001b[0m\u001b[0;34m\u001b[0m\u001b[0m\n\u001b[0m\u001b[1;32m    118\u001b[0m         \u001b[0my_score_c\u001b[0m \u001b[0;34m=\u001b[0m \u001b[0my_score\u001b[0m\u001b[0;34m.\u001b[0m\u001b[0mtake\u001b[0m\u001b[0;34m(\u001b[0m\u001b[0;34m[\u001b[0m\u001b[0mc\u001b[0m\u001b[0;34m]\u001b[0m\u001b[0;34m,\u001b[0m \u001b[0maxis\u001b[0m\u001b[0;34m=\u001b[0m\u001b[0mnot_average_axis\u001b[0m\u001b[0;34m)\u001b[0m\u001b[0;34m.\u001b[0m\u001b[0mravel\u001b[0m\u001b[0;34m(\u001b[0m\u001b[0;34m)\u001b[0m\u001b[0;34m\u001b[0m\u001b[0;34m\u001b[0m\u001b[0m\n\u001b[1;32m    119\u001b[0m         score[c] = binary_metric(y_true_c, y_score_c,\n",
      "\u001b[0;31mIndexError\u001b[0m: index 37 is out of bounds for size 37"
     ]
    }
   ],
   "source": [
    "from metrics import modularity_explicitness\n",
    "np.random.seed(10)\n",
    "modularity_explicitness.compute_modularity_explicitness(dataset, _representation_function, np.random, 100, 100)"
   ]
  },
  {
   "cell_type": "code",
   "execution_count": 149,
   "metadata": {},
   "outputs": [
    {
     "data": {
      "text/plain": [
       "{'gaussian_total_correlation': 0.9373908293496492,\n",
       " 'gaussian_wasserstein_correlation': 0.9773025975951697,\n",
       " 'gaussian_wasserstein_correlation_norm': 0.05868561022677615,\n",
       " 'mutual_info_score': 1.000965264923025}"
      ]
     },
     "execution_count": 149,
     "metadata": {},
     "output_type": "execute_result"
    }
   ],
   "source": [
    "from metrics import unsupervised_metrics\n",
    "unsupervised_metrics.unsupervised_metrics(dataset, _representation_function, np.random, 100)"
   ]
  },
  {
   "cell_type": "code",
   "execution_count": null,
   "metadata": {},
   "outputs": [],
   "source": []
  }
 ],
 "metadata": {
  "kernelspec": {
   "display_name": "Python 3",
   "language": "python",
   "name": "python3"
  },
  "language_info": {
   "codemirror_mode": {
    "name": "ipython",
    "version": 3
   },
   "file_extension": ".py",
   "mimetype": "text/x-python",
   "name": "python",
   "nbconvert_exporter": "python",
   "pygments_lexer": "ipython3",
   "version": "3.7.3"
  }
 },
 "nbformat": 4,
 "nbformat_minor": 2
}
