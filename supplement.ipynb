{
 "cells": [
  {
   "cell_type": "code",
   "execution_count": null,
   "metadata": {},
   "outputs": [],
   "source": [
    "import sys, os, time\n",
    "# %pdb\n",
    "os.environ[\"CUDA_VISIBLE_DEVICES\"]=\"0\"\n",
    "os.environ['FOUNDATION_RUN_MODE'] = 'jupyter'\n",
    "os.environ['FOUNDATION_SAVE_DIR'] = '/is/ei/fleeb/workspace/chome/trained_nets'\n",
    "os.environ['FOUNDATION_DATA_DIR'] = '/is/ei/fleeb/workspace/local_data'\n",
    "# %load_ext autoreload\n",
    "# %autoreload 2\n",
    "import torch\n",
    "import torch.nn as nn\n",
    "import torch.nn.functional as F\n",
    "from torch import optim as O\n",
    "import torch.distributions as distrib\n",
    "import torch.multiprocessing as mp\n",
    "import torchvision.models\n",
    "import torchvision\n",
    "from torch.utils.data import Dataset, DataLoader\n",
    "from tqdm import tqdm_notebook as tqdm\n",
    "import gym\n",
    "import json\n",
    "import inspect\n",
    "import numpy as np\n",
    "import h5py as hf\n",
    "%matplotlib notebook\n",
    "# %matplotlib tk\n",
    "import matplotlib.pyplot as plt\n",
    "import seaborn as sns\n",
    "#plt.switch_backend('Qt5Agg') #('Qt5Agg')\n",
    "import foundation as fd\n",
    "from foundation import models\n",
    "from foundation import util\n",
    "from foundation import train as trn\n",
    "import shutil\n",
    "# from foundation import sim as SIM\n",
    "#from foundation.util import replicate, Cloner\n",
    "from scipy import stats\n",
    "np.set_printoptions(linewidth=120)"
   ]
  },
  {
   "cell_type": "code",
   "execution_count": null,
   "metadata": {},
   "outputs": [],
   "source": [
    "root = '/is/ei/fleeb/workspace/media/hybrid/supplement'\n",
    "savedir = '/is/ei/fleeb/workspace/media/hybrid/supplement_imgs'\n",
    "util.create_dir(savedir)\n",
    "# os.listdir(root)"
   ]
  },
  {
   "cell_type": "code",
   "execution_count": null,
   "metadata": {},
   "outputs": [],
   "source": [
    "imgs = ['gen.png', 'hybrids.png', 'originals.png', 'recs.png', 'interventions.png', 'latent.png']\n",
    "im_names = ['gen', 'hyb', 'orig', 'rec']\n",
    "traversals = []"
   ]
  },
  {
   "cell_type": "code",
   "execution_count": null,
   "metadata": {},
   "outputs": [],
   "source": [
    "combos = []"
   ]
  },
  {
   "cell_type": "code",
   "execution_count": null,
   "metadata": {},
   "outputs": [],
   "source": [
    "for d in os.listdir(root):\n",
    "    droot = os.path.join(root, d)\n",
    "    for m in os.listdir(droot):\n",
    "        path = os.path.join(droot, m)\n",
    "#         util.create_dir(dest)\n",
    "        combos.append((d,m))\n",
    "        for im in imgs:\n",
    "            shutil.copy(os.path.join(path, 'viz', im), os.path.join(savedir, '{}_{}_{}'.format(d,m,im)))"
   ]
  },
  {
   "cell_type": "code",
   "execution_count": null,
   "metadata": {},
   "outputs": [],
   "source": [
    "combos"
   ]
  },
  {
   "cell_type": "code",
   "execution_count": null,
   "metadata": {},
   "outputs": [],
   "source": [
    "model_titles = {\n",
    "    'fwae': 'FWAE', 'fvae':'FVAE', 'vae':'VAE', '4vae':'4-VAE', '16vae':'16-VAE', 'bvae':'4-VAE',\n",
    "    's3-d0': 'AE (0,3)', 's1-d8':'AE (8,1)', 's1-d0':'AE (0,1)', 's1-d2': 'AE (2,1)',\n",
    "}\n",
    "data_titles = {\n",
    "    'celeba': 'CelebA',\n",
    "    'mpi3d-toy': 'MPI-3D Toy',\n",
    "    'mpi3d-real': 'MPI-3D Real',\n",
    "    '3dshapes': 'Shapes-3D',\n",
    "    'arch': 'Shapes-3D',\n",
    "    'celeba-adain': 'CelebA',\n",
    "    '3dshapes-adain': 'Shapes-3D',\n",
    "    'pacman': 'Pacman',\n",
    "    'spaceinv': 'SpaceInvaders',\n",
    "}"
   ]
  },
  {
   "cell_type": "code",
   "execution_count": null,
   "metadata": {},
   "outputs": [],
   "source": [
    "tmpl = f'''\n",
    "\\begin{{figure}}\n",
    "    \\centering\n",
    "    \\subfigure[]{{\\includegraphics[width=0.24\\textwidth]{{figures/{:orig}}}}} \n",
    "    \\subfigure[]{{\\includegraphics[width=0.24\\textwidth]{{figures/{:rec}}}}} \n",
    "    \\subfigure[]{{\\includegraphics[width=0.24\\textwidth]{{figures/{:hyb}}}}}\n",
    "    \\subfigure[]{{\\includegraphics[width=0.24\\textwidth]{{figures/{:gen}}}}}\n",
    "    \\caption{{{:dataset} {:model} (a) Original (b) Reconstructions (c) Hybrid (d) Prior}}\n",
    "    \\label{{{fig}}}\n",
    "\\end{{figure}}\n",
    "'''"
   ]
  },
  {
   "cell_type": "code",
   "execution_count": null,
   "metadata": {},
   "outputs": [],
   "source": [
    "counter = 0\n",
    "for d, m in combos:\n",
    "    \n",
    "    model = m.upper()\n",
    "    if m in model_titles:\n",
    "        model = model_titles[m]\n",
    "        \n",
    "    if 'adain' in d:\n",
    "        model += ' (4,2)'\n",
    "    \n",
    "    data = data_titles[d]\n",
    "    \n",
    "#     print(tmpl.format(dataset=data, model=model, **fnames))\n",
    "    \n",
    "    lat = '{}_{}_{}'.format(d,m,'latent.png')\n",
    "    inv = '{}_{}_{}'.format(d,m,'interventions.png')\n",
    "    \n",
    "    fig = f'{d}_{m}_latent'\n",
    "    \n",
    "    \n",
    "    tmpl = f'''\n",
    "\\\\begin{{figure}}\n",
    "    \\\\centering\n",
    "    \\\\subfigure[]{{\\\\includegraphics[width=0.49\\\\textwidth]{{figures/{lat}}}}} \n",
    "    \\\\subfigure[]{{\\\\includegraphics[width=0.49\\\\textwidth]{{figures/{inv}}}}} \n",
    "    \\\\caption{{{data} {model} (a) Latent Distributions (b) Image Effects}}\n",
    "    \\\\label{{fig:{fig}}}\n",
    "\\\\end{{figure}}\n",
    "'''\n",
    "    print(tmpl) \n",
    "#     counter += 1\n",
    "#     print('{}/{}'.format(counter,len(combos)))\n",
    "    \n",
    "#     break"
   ]
  },
  {
   "cell_type": "code",
   "execution_count": null,
   "metadata": {},
   "outputs": [],
   "source": [
    "counter = 0\n",
    "for d, m in combos:\n",
    "    \n",
    "    model = m.upper()\n",
    "    if m in model_titles:\n",
    "        model = model_titles[m]\n",
    "        \n",
    "    if 'adain' in d:\n",
    "        model += ' (4,2)'\n",
    "    \n",
    "    data = data_titles[d]\n",
    "    \n",
    "    fnames = { k: '{}_{}_{}'.format(d,m,im) for k,im in zip(im_names, imgs) }\n",
    "    \n",
    "#     print(tmpl.format(dataset=data, model=model, **fnames))\n",
    "    \n",
    "    orig = fnames['orig']\n",
    "    rec = fnames['rec']\n",
    "    hyb = fnames['hyb']\n",
    "    gen = fnames['gen']\n",
    "    \n",
    "    fig = f'{d}_{m}'\n",
    "    \n",
    "    \n",
    "    tmpl = f'''\n",
    "\\\\begin{{figure}}\n",
    "    \\\\centering\n",
    "    \\\\subfigure[]{{\\\\includegraphics[width=0.24\\\\textwidth]{{figures/{orig}}}}} \n",
    "    \\\\subfigure[]{{\\\\includegraphics[width=0.24\\\\textwidth]{{figures/{rec}}}}} \n",
    "    \\\\subfigure[]{{\\\\includegraphics[width=0.24\\\\textwidth]{{figures/{hyb}}}}}\n",
    "    \\\\subfigure[]{{\\\\includegraphics[width=0.24\\\\textwidth]{{figures/{gen}}}}}\n",
    "    \\\\caption{{{data} {model} (a) Original (b) Reconstructions (c) Hybrid (d) Prior}}\n",
    "    \\\\label{{fig:{fig}}}\n",
    "\\\\end{{figure}}\n",
    "'''\n",
    "    print(tmpl) \n",
    "#     counter += 1\n",
    "#     print('{}/{}'.format(counter,len(combos)))\n",
    "    \n",
    "#     break"
   ]
  },
  {
   "cell_type": "code",
   "execution_count": null,
   "metadata": {},
   "outputs": [],
   "source": []
  },
  {
   "cell_type": "code",
   "execution_count": null,
   "metadata": {},
   "outputs": [],
   "source": [
    "savedir = '/is/ei/fleeb/workspace/media/hybrid/supplement_vids'\n",
    "name = 'traversals/walk{}.mp4'\n",
    "util.create_dir(savedir)"
   ]
  },
  {
   "cell_type": "code",
   "execution_count": null,
   "metadata": {},
   "outputs": [],
   "source": [
    "for d in os.listdir(root):\n",
    "    droot = os.path.join(root, d)\n",
    "    for m in os.listdir(droot):\n",
    "        path = os.path.join(droot, m)\n",
    "#         util.create_dir(dest)\n",
    "#         combos.append((d,m))\n",
    "        idx = 1\n",
    "    \n",
    "        model = m.upper()\n",
    "        if m in model_titles:\n",
    "            model = model_titles[m]\n",
    "\n",
    "        if 'adain' in d:\n",
    "            model += ' (4,2)'\n",
    "\n",
    "        data = data_titles[d]\n",
    "    \n",
    "        try:\n",
    "            shutil.copy(os.path.join(path, 'viz', name.format(idx)), \n",
    "                        os.path.join(savedir, '{}_{}_trav{}.mp4'.format(data.replace(' ','-'),\n",
    "                                                                        model.replace(' ','-'),idx)))\n",
    "        except:\n",
    "            print(d,m,'failed')\n",
    "#             shutil.copy(os.path.join(path, 'viz', name.format(0)), \n",
    "#                         os.path.join(savedir, '{}_{}_trav{}.mp4'.format(data.replace(' ','-'),model.replace(' ','-'),idx)))\n",
    "            "
   ]
  },
  {
   "cell_type": "code",
   "execution_count": null,
   "metadata": {},
   "outputs": [],
   "source": []
  },
  {
   "cell_type": "code",
   "execution_count": null,
   "metadata": {},
   "outputs": [],
   "source": []
  },
  {
   "cell_type": "code",
   "execution_count": null,
   "metadata": {},
   "outputs": [],
   "source": []
  }
 ],
 "metadata": {
  "kernelspec": {
   "display_name": "Python 3",
   "language": "python",
   "name": "python3"
  },
  "language_info": {
   "codemirror_mode": {
    "name": "ipython",
    "version": 3
   },
   "file_extension": ".py",
   "mimetype": "text/x-python",
   "name": "python",
   "nbconvert_exporter": "python",
   "pygments_lexer": "ipython3",
   "version": "3.7.3"
  }
 },
 "nbformat": 4,
 "nbformat_minor": 2
}
